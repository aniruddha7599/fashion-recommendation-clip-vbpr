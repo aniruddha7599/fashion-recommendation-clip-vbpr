{
 "cells": [
  {
   "cell_type": "code",
   "execution_count": 1,
   "metadata": {
    "collapsed": true,
    "execution": {
     "iopub.execute_input": "2025-04-27T06:34:50.614643Z",
     "iopub.status.busy": "2025-04-27T06:34:50.614358Z",
     "iopub.status.idle": "2025-04-27T06:36:08.285976Z",
     "shell.execute_reply": "2025-04-27T06:36:08.285261Z",
     "shell.execute_reply.started": "2025-04-27T06:34:50.614618Z"
    },
    "jupyter": {
     "outputs_hidden": true,
     "source_hidden": true
    },
    "trusted": true
   },
   "outputs": [
    {
     "name": "stdout",
     "output_type": "stream",
     "text": [
      "Collecting ftfy\n",
      "  Downloading ftfy-6.3.1-py3-none-any.whl.metadata (7.3 kB)\n",
      "Requirement already satisfied: regex in /usr/local/lib/python3.11/dist-packages (2024.11.6)\n",
      "Requirement already satisfied: tqdm in /usr/local/lib/python3.11/dist-packages (4.67.1)\n",
      "Requirement already satisfied: wcwidth in /usr/local/lib/python3.11/dist-packages (from ftfy) (0.2.13)\n",
      "Downloading ftfy-6.3.1-py3-none-any.whl (44 kB)\n",
      "\u001b[2K   \u001b[90m━━━━━━━━━━━━━━━━━━━━━━━━━━━━━━━━━━━━━━━━\u001b[0m \u001b[32m44.8/44.8 kB\u001b[0m \u001b[31m1.8 MB/s\u001b[0m eta \u001b[36m0:00:00\u001b[0m\n",
      "\u001b[?25hInstalling collected packages: ftfy\n",
      "Successfully installed ftfy-6.3.1\n",
      "Collecting git+https://github.com/openai/CLIP.git\n",
      "  Cloning https://github.com/openai/CLIP.git to /tmp/pip-req-build-thb4ty_p\n",
      "  Running command git clone --filter=blob:none --quiet https://github.com/openai/CLIP.git /tmp/pip-req-build-thb4ty_p\n",
      "  Resolved https://github.com/openai/CLIP.git to commit dcba3cb2e2827b402d2701e7e1c7d9fed8a20ef1\n",
      "  Preparing metadata (setup.py) ... \u001b[?25l\u001b[?25hdone\n",
      "Requirement already satisfied: ftfy in /usr/local/lib/python3.11/dist-packages (from clip==1.0) (6.3.1)\n",
      "Requirement already satisfied: packaging in /usr/local/lib/python3.11/dist-packages (from clip==1.0) (24.2)\n",
      "Requirement already satisfied: regex in /usr/local/lib/python3.11/dist-packages (from clip==1.0) (2024.11.6)\n",
      "Requirement already satisfied: tqdm in /usr/local/lib/python3.11/dist-packages (from clip==1.0) (4.67.1)\n",
      "Requirement already satisfied: torch in /usr/local/lib/python3.11/dist-packages (from clip==1.0) (2.5.1+cu124)\n",
      "Requirement already satisfied: torchvision in /usr/local/lib/python3.11/dist-packages (from clip==1.0) (0.20.1+cu124)\n",
      "Requirement already satisfied: wcwidth in /usr/local/lib/python3.11/dist-packages (from ftfy->clip==1.0) (0.2.13)\n",
      "Requirement already satisfied: filelock in /usr/local/lib/python3.11/dist-packages (from torch->clip==1.0) (3.18.0)\n",
      "Requirement already satisfied: typing-extensions>=4.8.0 in /usr/local/lib/python3.11/dist-packages (from torch->clip==1.0) (4.13.1)\n",
      "Requirement already satisfied: networkx in /usr/local/lib/python3.11/dist-packages (from torch->clip==1.0) (3.4.2)\n",
      "Requirement already satisfied: jinja2 in /usr/local/lib/python3.11/dist-packages (from torch->clip==1.0) (3.1.6)\n",
      "Requirement already satisfied: fsspec in /usr/local/lib/python3.11/dist-packages (from torch->clip==1.0) (2025.3.2)\n",
      "Requirement already satisfied: nvidia-cuda-nvrtc-cu12==12.4.127 in /usr/local/lib/python3.11/dist-packages (from torch->clip==1.0) (12.4.127)\n",
      "Requirement already satisfied: nvidia-cuda-runtime-cu12==12.4.127 in /usr/local/lib/python3.11/dist-packages (from torch->clip==1.0) (12.4.127)\n",
      "Requirement already satisfied: nvidia-cuda-cupti-cu12==12.4.127 in /usr/local/lib/python3.11/dist-packages (from torch->clip==1.0) (12.4.127)\n",
      "Collecting nvidia-cudnn-cu12==9.1.0.70 (from torch->clip==1.0)\n",
      "  Downloading nvidia_cudnn_cu12-9.1.0.70-py3-none-manylinux2014_x86_64.whl.metadata (1.6 kB)\n",
      "Collecting nvidia-cublas-cu12==12.4.5.8 (from torch->clip==1.0)\n",
      "  Downloading nvidia_cublas_cu12-12.4.5.8-py3-none-manylinux2014_x86_64.whl.metadata (1.5 kB)\n",
      "Collecting nvidia-cufft-cu12==11.2.1.3 (from torch->clip==1.0)\n",
      "  Downloading nvidia_cufft_cu12-11.2.1.3-py3-none-manylinux2014_x86_64.whl.metadata (1.5 kB)\n",
      "Collecting nvidia-curand-cu12==10.3.5.147 (from torch->clip==1.0)\n",
      "  Downloading nvidia_curand_cu12-10.3.5.147-py3-none-manylinux2014_x86_64.whl.metadata (1.5 kB)\n",
      "Collecting nvidia-cusolver-cu12==11.6.1.9 (from torch->clip==1.0)\n",
      "  Downloading nvidia_cusolver_cu12-11.6.1.9-py3-none-manylinux2014_x86_64.whl.metadata (1.6 kB)\n",
      "Collecting nvidia-cusparse-cu12==12.3.1.170 (from torch->clip==1.0)\n",
      "  Downloading nvidia_cusparse_cu12-12.3.1.170-py3-none-manylinux2014_x86_64.whl.metadata (1.6 kB)\n",
      "Requirement already satisfied: nvidia-nccl-cu12==2.21.5 in /usr/local/lib/python3.11/dist-packages (from torch->clip==1.0) (2.21.5)\n",
      "Requirement already satisfied: nvidia-nvtx-cu12==12.4.127 in /usr/local/lib/python3.11/dist-packages (from torch->clip==1.0) (12.4.127)\n",
      "Collecting nvidia-nvjitlink-cu12==12.4.127 (from torch->clip==1.0)\n",
      "  Downloading nvidia_nvjitlink_cu12-12.4.127-py3-none-manylinux2014_x86_64.whl.metadata (1.5 kB)\n",
      "Requirement already satisfied: triton==3.1.0 in /usr/local/lib/python3.11/dist-packages (from torch->clip==1.0) (3.1.0)\n",
      "Requirement already satisfied: sympy==1.13.1 in /usr/local/lib/python3.11/dist-packages (from torch->clip==1.0) (1.13.1)\n",
      "Requirement already satisfied: mpmath<1.4,>=1.1.0 in /usr/local/lib/python3.11/dist-packages (from sympy==1.13.1->torch->clip==1.0) (1.3.0)\n",
      "Requirement already satisfied: numpy in /usr/local/lib/python3.11/dist-packages (from torchvision->clip==1.0) (1.26.4)\n",
      "Requirement already satisfied: pillow!=8.3.*,>=5.3.0 in /usr/local/lib/python3.11/dist-packages (from torchvision->clip==1.0) (11.1.0)\n",
      "Requirement already satisfied: MarkupSafe>=2.0 in /usr/local/lib/python3.11/dist-packages (from jinja2->torch->clip==1.0) (3.0.2)\n",
      "Requirement already satisfied: mkl_fft in /usr/local/lib/python3.11/dist-packages (from numpy->torchvision->clip==1.0) (1.3.8)\n",
      "Requirement already satisfied: mkl_random in /usr/local/lib/python3.11/dist-packages (from numpy->torchvision->clip==1.0) (1.2.4)\n",
      "Requirement already satisfied: mkl_umath in /usr/local/lib/python3.11/dist-packages (from numpy->torchvision->clip==1.0) (0.1.1)\n",
      "Requirement already satisfied: mkl in /usr/local/lib/python3.11/dist-packages (from numpy->torchvision->clip==1.0) (2025.1.0)\n",
      "Requirement already satisfied: tbb4py in /usr/local/lib/python3.11/dist-packages (from numpy->torchvision->clip==1.0) (2022.1.0)\n",
      "Requirement already satisfied: mkl-service in /usr/local/lib/python3.11/dist-packages (from numpy->torchvision->clip==1.0) (2.4.1)\n",
      "Requirement already satisfied: intel-openmp<2026,>=2024 in /usr/local/lib/python3.11/dist-packages (from mkl->numpy->torchvision->clip==1.0) (2024.2.0)\n",
      "Requirement already satisfied: tbb==2022.* in /usr/local/lib/python3.11/dist-packages (from mkl->numpy->torchvision->clip==1.0) (2022.1.0)\n",
      "Requirement already satisfied: tcmlib==1.* in /usr/local/lib/python3.11/dist-packages (from tbb==2022.*->mkl->numpy->torchvision->clip==1.0) (1.2.0)\n",
      "Requirement already satisfied: intel-cmplr-lib-rt in /usr/local/lib/python3.11/dist-packages (from mkl_umath->numpy->torchvision->clip==1.0) (2024.2.0)\n",
      "Requirement already satisfied: intel-cmplr-lib-ur==2024.2.0 in /usr/local/lib/python3.11/dist-packages (from intel-openmp<2026,>=2024->mkl->numpy->torchvision->clip==1.0) (2024.2.0)\n",
      "Downloading nvidia_cublas_cu12-12.4.5.8-py3-none-manylinux2014_x86_64.whl (363.4 MB)\n",
      "\u001b[2K   \u001b[90m━━━━━━━━━━━━━━━━━━━━━━━━━━━━━━━━━━━━━━━━\u001b[0m \u001b[32m363.4/363.4 MB\u001b[0m \u001b[31m4.7 MB/s\u001b[0m eta \u001b[36m0:00:00\u001b[0m0:00:01\u001b[0m00:01\u001b[0m\n",
      "\u001b[?25hDownloading nvidia_cudnn_cu12-9.1.0.70-py3-none-manylinux2014_x86_64.whl (664.8 MB)\n",
      "\u001b[2K   \u001b[90m━━━━━━━━━━━━━━━━━━━━━━━━━━━━━━━━━━━━━━━━\u001b[0m \u001b[32m664.8/664.8 MB\u001b[0m \u001b[31m2.3 MB/s\u001b[0m eta \u001b[36m0:00:00\u001b[0m0:00:01\u001b[0m00:01\u001b[0m\n",
      "\u001b[?25hDownloading nvidia_cufft_cu12-11.2.1.3-py3-none-manylinux2014_x86_64.whl (211.5 MB)\n",
      "\u001b[2K   \u001b[90m━━━━━━━━━━━━━━━━━━━━━━━━━━━━━━━━━━━━━━━━\u001b[0m \u001b[32m211.5/211.5 MB\u001b[0m \u001b[31m6.6 MB/s\u001b[0m eta \u001b[36m0:00:00\u001b[0m0:00:01\u001b[0m00:01\u001b[0m\n",
      "\u001b[?25hDownloading nvidia_curand_cu12-10.3.5.147-py3-none-manylinux2014_x86_64.whl (56.3 MB)\n",
      "\u001b[2K   \u001b[90m━━━━━━━━━━━━━━━━━━━━━━━━━━━━━━━━━━━━━━━━\u001b[0m \u001b[32m56.3/56.3 MB\u001b[0m \u001b[31m3.1 MB/s\u001b[0m eta \u001b[36m0:00:00\u001b[0m0:00:01\u001b[0m00:01\u001b[0m\n",
      "\u001b[?25hDownloading nvidia_cusolver_cu12-11.6.1.9-py3-none-manylinux2014_x86_64.whl (127.9 MB)\n",
      "\u001b[2K   \u001b[90m━━━━━━━━━━━━━━━━━━━━━━━━━━━━━━━━━━━━━━━━\u001b[0m \u001b[32m127.9/127.9 MB\u001b[0m \u001b[31m8.7 MB/s\u001b[0m eta \u001b[36m0:00:00\u001b[0m0:00:01\u001b[0m00:01\u001b[0m\n",
      "\u001b[?25hDownloading nvidia_cusparse_cu12-12.3.1.170-py3-none-manylinux2014_x86_64.whl (207.5 MB)\n",
      "\u001b[2K   \u001b[90m━━━━━━━━━━━━━━━━━━━━━━━━━━━━━━━━━━━━━━━━\u001b[0m \u001b[32m207.5/207.5 MB\u001b[0m \u001b[31m8.9 MB/s\u001b[0m eta \u001b[36m0:00:00\u001b[0m0:00:01\u001b[0m00:01\u001b[0m\n",
      "\u001b[?25hDownloading nvidia_nvjitlink_cu12-12.4.127-py3-none-manylinux2014_x86_64.whl (21.1 MB)\n",
      "\u001b[2K   \u001b[90m━━━━━━━━━━━━━━━━━━━━━━━━━━━━━━━━━━━━━━━━\u001b[0m \u001b[32m21.1/21.1 MB\u001b[0m \u001b[31m70.8 MB/s\u001b[0m eta \u001b[36m0:00:00\u001b[0m:00:01\u001b[0m00:01\u001b[0m\n",
      "\u001b[?25hBuilding wheels for collected packages: clip\n",
      "  Building wheel for clip (setup.py) ... \u001b[?25l\u001b[?25hdone\n",
      "  Created wheel for clip: filename=clip-1.0-py3-none-any.whl size=1369489 sha256=4b819a125defeee73b1efe6888dac19d476539065d500770181d3aa0a9c19a86\n",
      "  Stored in directory: /tmp/pip-ephem-wheel-cache-jhuecodt/wheels/3f/7c/a4/9b490845988bf7a4db33674d52f709f088f64392063872eb9a\n",
      "Successfully built clip\n",
      "Installing collected packages: nvidia-nvjitlink-cu12, nvidia-curand-cu12, nvidia-cufft-cu12, nvidia-cublas-cu12, nvidia-cusparse-cu12, nvidia-cudnn-cu12, nvidia-cusolver-cu12, clip\n",
      "  Attempting uninstall: nvidia-nvjitlink-cu12\n",
      "    Found existing installation: nvidia-nvjitlink-cu12 12.8.93\n",
      "    Uninstalling nvidia-nvjitlink-cu12-12.8.93:\n",
      "      Successfully uninstalled nvidia-nvjitlink-cu12-12.8.93\n",
      "  Attempting uninstall: nvidia-curand-cu12\n",
      "    Found existing installation: nvidia-curand-cu12 10.3.9.90\n",
      "    Uninstalling nvidia-curand-cu12-10.3.9.90:\n",
      "      Successfully uninstalled nvidia-curand-cu12-10.3.9.90\n",
      "  Attempting uninstall: nvidia-cufft-cu12\n",
      "    Found existing installation: nvidia-cufft-cu12 11.3.3.83\n",
      "    Uninstalling nvidia-cufft-cu12-11.3.3.83:\n",
      "      Successfully uninstalled nvidia-cufft-cu12-11.3.3.83\n",
      "  Attempting uninstall: nvidia-cublas-cu12\n",
      "    Found existing installation: nvidia-cublas-cu12 12.8.4.1\n",
      "    Uninstalling nvidia-cublas-cu12-12.8.4.1:\n",
      "      Successfully uninstalled nvidia-cublas-cu12-12.8.4.1\n",
      "  Attempting uninstall: nvidia-cusparse-cu12\n",
      "    Found existing installation: nvidia-cusparse-cu12 12.5.8.93\n",
      "    Uninstalling nvidia-cusparse-cu12-12.5.8.93:\n",
      "      Successfully uninstalled nvidia-cusparse-cu12-12.5.8.93\n",
      "  Attempting uninstall: nvidia-cudnn-cu12\n",
      "    Found existing installation: nvidia-cudnn-cu12 9.3.0.75\n",
      "    Uninstalling nvidia-cudnn-cu12-9.3.0.75:\n",
      "      Successfully uninstalled nvidia-cudnn-cu12-9.3.0.75\n",
      "  Attempting uninstall: nvidia-cusolver-cu12\n",
      "    Found existing installation: nvidia-cusolver-cu12 11.7.3.90\n",
      "    Uninstalling nvidia-cusolver-cu12-11.7.3.90:\n",
      "      Successfully uninstalled nvidia-cusolver-cu12-11.7.3.90\n",
      "\u001b[31mERROR: pip's dependency resolver does not currently take into account all the packages that are installed. This behaviour is the source of the following dependency conflicts.\n",
      "pylibcugraph-cu12 24.12.0 requires pylibraft-cu12==24.12.*, but you have pylibraft-cu12 25.2.0 which is incompatible.\n",
      "pylibcugraph-cu12 24.12.0 requires rmm-cu12==24.12.*, but you have rmm-cu12 25.2.0 which is incompatible.\u001b[0m\u001b[31m\n",
      "\u001b[0mSuccessfully installed clip-1.0 nvidia-cublas-cu12-12.4.5.8 nvidia-cudnn-cu12-9.1.0.70 nvidia-cufft-cu12-11.2.1.3 nvidia-curand-cu12-10.3.5.147 nvidia-cusolver-cu12-11.6.1.9 nvidia-cusparse-cu12-12.3.1.170 nvidia-nvjitlink-cu12-12.4.127\n"
     ]
    }
   ],
   "source": [
    "# Install CLIP library\n",
    "!pip install ftfy regex tqdm\n",
    "!pip install git+https://github.com/openai/CLIP.git"
   ]
  },
  {
   "cell_type": "code",
   "execution_count": 3,
   "metadata": {
    "execution": {
     "iopub.execute_input": "2025-05-02T16:06:51.793328Z",
     "iopub.status.busy": "2025-05-02T16:06:51.793059Z",
     "iopub.status.idle": "2025-05-02T17:01:44.184026Z",
     "shell.execute_reply": "2025-05-02T17:01:44.182584Z",
     "shell.execute_reply.started": "2025-05-02T16:06:51.793310Z"
    },
    "trusted": true
   },
   "outputs": [
    {
     "name": "stdout",
     "output_type": "stream",
     "text": [
      "Loading metadata...\n"
     ]
    },
    {
     "name": "stderr",
     "output_type": "stream",
     "text": [
      "Reading metadata: 2685059it [02:24, 18547.69it/s]\n"
     ]
    },
    {
     "name": "stdout",
     "output_type": "stream",
     "text": [
      "Found 1998477 items with textual features and image URLs\n",
      "Memory usage after metadata loading: 4200.05 MB\n",
      "Loading reviews...\n"
     ]
    },
    {
     "name": "stderr",
     "output_type": "stream",
     "text": [
      "Reading reviews: 71806it [00:02, 22307.27it/s] "
     ]
    },
    {
     "name": "stdout",
     "output_type": "stream",
     "text": [
      "Memory usage after processing review chunk: 4203.12 MB\n"
     ]
    },
    {
     "name": "stderr",
     "output_type": "stream",
     "text": [
      "Reading reviews: 118768it [00:04, 20734.07it/s]"
     ]
    },
    {
     "name": "stdout",
     "output_type": "stream",
     "text": [
      "Memory usage after processing review chunk: 4203.16 MB\n"
     ]
    },
    {
     "name": "stderr",
     "output_type": "stream",
     "text": [
      "Reading reviews: 170560it [00:06, 21448.18it/s]"
     ]
    },
    {
     "name": "stdout",
     "output_type": "stream",
     "text": [
      "Memory usage after processing review chunk: 4204.16 MB\n"
     ]
    },
    {
     "name": "stderr",
     "output_type": "stream",
     "text": [
      "Reading reviews: 229350it [00:09, 21075.65it/s]"
     ]
    },
    {
     "name": "stdout",
     "output_type": "stream",
     "text": [
      "Memory usage after processing review chunk: 4204.41 MB\n"
     ]
    },
    {
     "name": "stderr",
     "output_type": "stream",
     "text": [
      "Reading reviews: 276732it [00:11, 20282.06it/s]"
     ]
    },
    {
     "name": "stdout",
     "output_type": "stream",
     "text": [
      "Memory usage after processing review chunk: 4204.41 MB\n"
     ]
    },
    {
     "name": "stderr",
     "output_type": "stream",
     "text": [
      "Reading reviews: 326640it [00:13, 20941.87it/s]"
     ]
    },
    {
     "name": "stdout",
     "output_type": "stream",
     "text": [
      "Memory usage after processing review chunk: 4204.41 MB\n"
     ]
    },
    {
     "name": "stderr",
     "output_type": "stream",
     "text": [
      "Reading reviews: 381301it [00:15, 20562.83it/s]"
     ]
    },
    {
     "name": "stdout",
     "output_type": "stream",
     "text": [
      "Memory usage after processing review chunk: 4204.41 MB\n"
     ]
    },
    {
     "name": "stderr",
     "output_type": "stream",
     "text": [
      "Reading reviews: 430670it [00:17, 21032.47it/s]"
     ]
    },
    {
     "name": "stdout",
     "output_type": "stream",
     "text": [
      "Memory usage after processing review chunk: 4204.41 MB\n"
     ]
    },
    {
     "name": "stderr",
     "output_type": "stream",
     "text": [
      "Reading reviews: 489515it [00:20, 21521.41it/s]"
     ]
    },
    {
     "name": "stdout",
     "output_type": "stream",
     "text": [
      "Memory usage after processing review chunk: 4204.41 MB\n"
     ]
    },
    {
     "name": "stderr",
     "output_type": "stream",
     "text": [
      "Reading reviews: 544493it [00:22, 25498.33it/s]"
     ]
    },
    {
     "name": "stdout",
     "output_type": "stream",
     "text": [
      "Memory usage after processing review chunk: 4204.41 MB\n"
     ]
    },
    {
     "name": "stderr",
     "output_type": "stream",
     "text": [
      "Reading reviews: 585375it [00:24, 18711.39it/s]"
     ]
    },
    {
     "name": "stdout",
     "output_type": "stream",
     "text": [
      "Memory usage after processing review chunk: 4204.41 MB\n"
     ]
    },
    {
     "name": "stderr",
     "output_type": "stream",
     "text": [
      "Reading reviews: 647155it [00:26, 19392.05it/s]"
     ]
    },
    {
     "name": "stdout",
     "output_type": "stream",
     "text": [
      "Memory usage after processing review chunk: 4204.41 MB\n"
     ]
    },
    {
     "name": "stderr",
     "output_type": "stream",
     "text": [
      "Reading reviews: 701248it [00:29, 19366.59it/s]"
     ]
    },
    {
     "name": "stdout",
     "output_type": "stream",
     "text": [
      "Memory usage after processing review chunk: 4204.41 MB\n"
     ]
    },
    {
     "name": "stderr",
     "output_type": "stream",
     "text": [
      "Reading reviews: 745396it [00:31, 18835.91it/s]"
     ]
    },
    {
     "name": "stdout",
     "output_type": "stream",
     "text": [
      "Memory usage after processing review chunk: 4204.41 MB\n"
     ]
    },
    {
     "name": "stderr",
     "output_type": "stream",
     "text": [
      "Reading reviews: 801206it [00:33, 20310.27it/s]"
     ]
    },
    {
     "name": "stdout",
     "output_type": "stream",
     "text": [
      "Memory usage after processing review chunk: 4204.41 MB\n"
     ]
    },
    {
     "name": "stderr",
     "output_type": "stream",
     "text": [
      "Reading reviews: 858752it [00:35, 21511.76it/s]"
     ]
    },
    {
     "name": "stdout",
     "output_type": "stream",
     "text": [
      "Memory usage after processing review chunk: 4204.41 MB\n"
     ]
    },
    {
     "name": "stderr",
     "output_type": "stream",
     "text": [
      "Reading reviews: 915288it [00:38, 21218.44it/s]"
     ]
    },
    {
     "name": "stdout",
     "output_type": "stream",
     "text": [
      "Memory usage after processing review chunk: 4204.41 MB\n"
     ]
    },
    {
     "name": "stderr",
     "output_type": "stream",
     "text": [
      "Reading reviews: 965304it [00:40, 21096.83it/s]"
     ]
    },
    {
     "name": "stdout",
     "output_type": "stream",
     "text": [
      "Memory usage after processing review chunk: 4204.41 MB\n"
     ]
    },
    {
     "name": "stderr",
     "output_type": "stream",
     "text": [
      "Reading reviews: 1017374it [00:42, 19235.34it/s]"
     ]
    },
    {
     "name": "stdout",
     "output_type": "stream",
     "text": [
      "Memory usage after processing review chunk: 4204.41 MB\n"
     ]
    },
    {
     "name": "stderr",
     "output_type": "stream",
     "text": [
      "Reading reviews: 1069800it [00:44, 19242.02it/s]"
     ]
    },
    {
     "name": "stdout",
     "output_type": "stream",
     "text": [
      "Memory usage after processing review chunk: 4204.41 MB\n"
     ]
    },
    {
     "name": "stderr",
     "output_type": "stream",
     "text": [
      "Reading reviews: 1137807it [00:47, 27357.46it/s]"
     ]
    },
    {
     "name": "stdout",
     "output_type": "stream",
     "text": [
      "Memory usage after processing review chunk: 4204.41 MB\n"
     ]
    },
    {
     "name": "stderr",
     "output_type": "stream",
     "text": [
      "Reading reviews: 1185722it [00:49, 21544.08it/s]"
     ]
    },
    {
     "name": "stdout",
     "output_type": "stream",
     "text": [
      "Memory usage after processing review chunk: 4204.41 MB\n"
     ]
    },
    {
     "name": "stderr",
     "output_type": "stream",
     "text": [
      "Reading reviews: 1245091it [00:51, 27108.94it/s]"
     ]
    },
    {
     "name": "stdout",
     "output_type": "stream",
     "text": [
      "Memory usage after processing review chunk: 4204.41 MB\n"
     ]
    },
    {
     "name": "stderr",
     "output_type": "stream",
     "text": [
      "Reading reviews: 1291124it [00:54, 21073.08it/s]"
     ]
    },
    {
     "name": "stdout",
     "output_type": "stream",
     "text": [
      "Memory usage after processing review chunk: 4204.41 MB\n"
     ]
    },
    {
     "name": "stderr",
     "output_type": "stream",
     "text": [
      "Reading reviews: 1350841it [00:56, 27230.45it/s]"
     ]
    },
    {
     "name": "stdout",
     "output_type": "stream",
     "text": [
      "Memory usage after processing review chunk: 4204.41 MB\n"
     ]
    },
    {
     "name": "stderr",
     "output_type": "stream",
     "text": [
      "Reading reviews: 1396304it [00:58, 20554.01it/s]"
     ]
    },
    {
     "name": "stdout",
     "output_type": "stream",
     "text": [
      "Memory usage after processing review chunk: 4204.54 MB\n"
     ]
    },
    {
     "name": "stderr",
     "output_type": "stream",
     "text": [
      "Reading reviews: 1452525it [01:00, 19658.49it/s]"
     ]
    },
    {
     "name": "stdout",
     "output_type": "stream",
     "text": [
      "Memory usage after processing review chunk: 4204.54 MB\n"
     ]
    },
    {
     "name": "stderr",
     "output_type": "stream",
     "text": [
      "Reading reviews: 1512176it [01:03, 18510.56it/s]"
     ]
    },
    {
     "name": "stdout",
     "output_type": "stream",
     "text": [
      "Memory usage after processing review chunk: 4204.54 MB\n"
     ]
    },
    {
     "name": "stderr",
     "output_type": "stream",
     "text": [
      "Reading reviews: 1563633it [01:05, 18591.49it/s]"
     ]
    },
    {
     "name": "stdout",
     "output_type": "stream",
     "text": [
      "Memory usage after processing review chunk: 4204.54 MB\n"
     ]
    },
    {
     "name": "stderr",
     "output_type": "stream",
     "text": [
      "Reading reviews: 1617174it [01:07, 19381.90it/s]"
     ]
    },
    {
     "name": "stdout",
     "output_type": "stream",
     "text": [
      "Memory usage after processing review chunk: 4204.54 MB\n"
     ]
    },
    {
     "name": "stderr",
     "output_type": "stream",
     "text": [
      "Reading reviews: 1676232it [01:10, 18077.61it/s]"
     ]
    },
    {
     "name": "stdout",
     "output_type": "stream",
     "text": [
      "Memory usage after processing review chunk: 4204.54 MB\n"
     ]
    },
    {
     "name": "stderr",
     "output_type": "stream",
     "text": [
      "Reading reviews: 1728860it [01:12, 19287.85it/s]"
     ]
    },
    {
     "name": "stdout",
     "output_type": "stream",
     "text": [
      "Memory usage after processing review chunk: 4204.54 MB\n"
     ]
    },
    {
     "name": "stderr",
     "output_type": "stream",
     "text": [
      "Reading reviews: 1784730it [01:14, 20357.21it/s]"
     ]
    },
    {
     "name": "stdout",
     "output_type": "stream",
     "text": [
      "Memory usage after processing review chunk: 4204.54 MB\n"
     ]
    },
    {
     "name": "stderr",
     "output_type": "stream",
     "text": [
      "Reading reviews: 1837991it [01:17, 19504.67it/s]"
     ]
    },
    {
     "name": "stdout",
     "output_type": "stream",
     "text": [
      "Memory usage after processing review chunk: 4204.66 MB\n"
     ]
    },
    {
     "name": "stderr",
     "output_type": "stream",
     "text": [
      "Reading reviews: 1891605it [01:19, 18799.96it/s]"
     ]
    },
    {
     "name": "stdout",
     "output_type": "stream",
     "text": [
      "Memory usage after processing review chunk: 4204.66 MB\n"
     ]
    },
    {
     "name": "stderr",
     "output_type": "stream",
     "text": [
      "Reading reviews: 1941613it [01:21, 18625.83it/s]"
     ]
    },
    {
     "name": "stdout",
     "output_type": "stream",
     "text": [
      "Memory usage after processing review chunk: 4204.66 MB\n"
     ]
    },
    {
     "name": "stderr",
     "output_type": "stream",
     "text": [
      "Reading reviews: 2004383it [01:24, 25572.17it/s]"
     ]
    },
    {
     "name": "stdout",
     "output_type": "stream",
     "text": [
      "Memory usage after processing review chunk: 4204.66 MB\n"
     ]
    },
    {
     "name": "stderr",
     "output_type": "stream",
     "text": [
      "Reading reviews: 2050907it [01:26, 20617.28it/s]"
     ]
    },
    {
     "name": "stdout",
     "output_type": "stream",
     "text": [
      "Memory usage after processing review chunk: 4204.66 MB\n"
     ]
    },
    {
     "name": "stderr",
     "output_type": "stream",
     "text": [
      "Reading reviews: 2108211it [01:28, 20362.74it/s]"
     ]
    },
    {
     "name": "stdout",
     "output_type": "stream",
     "text": [
      "Memory usage after processing review chunk: 4204.66 MB\n"
     ]
    },
    {
     "name": "stderr",
     "output_type": "stream",
     "text": [
      "Reading reviews: 2163784it [01:30, 20333.47it/s]"
     ]
    },
    {
     "name": "stdout",
     "output_type": "stream",
     "text": [
      "Memory usage after processing review chunk: 4204.66 MB\n"
     ]
    },
    {
     "name": "stderr",
     "output_type": "stream",
     "text": [
      "Reading reviews: 2220941it [01:33, 20424.23it/s]"
     ]
    },
    {
     "name": "stdout",
     "output_type": "stream",
     "text": [
      "Memory usage after processing review chunk: 4204.66 MB\n"
     ]
    },
    {
     "name": "stderr",
     "output_type": "stream",
     "text": [
      "Reading reviews: 2274522it [01:35, 20011.13it/s]"
     ]
    },
    {
     "name": "stdout",
     "output_type": "stream",
     "text": [
      "Memory usage after processing review chunk: 4204.66 MB\n"
     ]
    },
    {
     "name": "stderr",
     "output_type": "stream",
     "text": [
      "Reading reviews: 2325375it [01:37, 18049.70it/s]"
     ]
    },
    {
     "name": "stdout",
     "output_type": "stream",
     "text": [
      "Memory usage after processing review chunk: 4204.66 MB\n"
     ]
    },
    {
     "name": "stderr",
     "output_type": "stream",
     "text": [
      "Reading reviews: 2376491it [01:40, 18730.57it/s]"
     ]
    },
    {
     "name": "stdout",
     "output_type": "stream",
     "text": [
      "Memory usage after processing review chunk: 4204.66 MB\n"
     ]
    },
    {
     "name": "stderr",
     "output_type": "stream",
     "text": [
      "Reading reviews: 2429247it [01:42, 19550.08it/s]"
     ]
    },
    {
     "name": "stdout",
     "output_type": "stream",
     "text": [
      "Memory usage after processing review chunk: 4204.66 MB\n"
     ]
    },
    {
     "name": "stderr",
     "output_type": "stream",
     "text": [
      "Reading reviews: 2487314it [01:44, 20267.86it/s]"
     ]
    },
    {
     "name": "stdout",
     "output_type": "stream",
     "text": [
      "Memory usage after processing review chunk: 4204.66 MB\n"
     ]
    },
    {
     "name": "stderr",
     "output_type": "stream",
     "text": [
      "Reading reviews: 2540743it [01:46, 20015.15it/s]"
     ]
    },
    {
     "name": "stdout",
     "output_type": "stream",
     "text": [
      "Memory usage after processing review chunk: 4204.66 MB\n"
     ]
    },
    {
     "name": "stderr",
     "output_type": "stream",
     "text": [
      "Reading reviews: 2597831it [01:49, 20764.88it/s]"
     ]
    },
    {
     "name": "stdout",
     "output_type": "stream",
     "text": [
      "Memory usage after processing review chunk: 4204.66 MB\n"
     ]
    },
    {
     "name": "stderr",
     "output_type": "stream",
     "text": [
      "Reading reviews: 2650522it [01:51, 19237.11it/s]"
     ]
    },
    {
     "name": "stdout",
     "output_type": "stream",
     "text": [
      "Memory usage after processing review chunk: 4204.66 MB\n"
     ]
    },
    {
     "name": "stderr",
     "output_type": "stream",
     "text": [
      "Reading reviews: 2704543it [01:53, 19473.53it/s]"
     ]
    },
    {
     "name": "stdout",
     "output_type": "stream",
     "text": [
      "Memory usage after processing review chunk: 4204.66 MB\n"
     ]
    },
    {
     "name": "stderr",
     "output_type": "stream",
     "text": [
      "Reading reviews: 2752038it [01:56, 19771.80it/s]"
     ]
    },
    {
     "name": "stdout",
     "output_type": "stream",
     "text": [
      "Memory usage after processing review chunk: 4204.66 MB\n"
     ]
    },
    {
     "name": "stderr",
     "output_type": "stream",
     "text": [
      "Reading reviews: 2803934it [01:58, 18838.18it/s]"
     ]
    },
    {
     "name": "stdout",
     "output_type": "stream",
     "text": [
      "Memory usage after processing review chunk: 4204.66 MB\n"
     ]
    },
    {
     "name": "stderr",
     "output_type": "stream",
     "text": [
      "Reading reviews: 2854527it [02:00, 18643.39it/s]"
     ]
    },
    {
     "name": "stdout",
     "output_type": "stream",
     "text": [
      "Memory usage after processing review chunk: 4204.66 MB\n"
     ]
    },
    {
     "name": "stderr",
     "output_type": "stream",
     "text": [
      "Reading reviews: 2911112it [02:02, 20347.37it/s]"
     ]
    },
    {
     "name": "stdout",
     "output_type": "stream",
     "text": [
      "Memory usage after processing review chunk: 4204.66 MB\n"
     ]
    },
    {
     "name": "stderr",
     "output_type": "stream",
     "text": [
      "Reading reviews: 2970379it [02:05, 20806.17it/s]"
     ]
    },
    {
     "name": "stdout",
     "output_type": "stream",
     "text": [
      "Memory usage after processing review chunk: 4204.66 MB\n"
     ]
    },
    {
     "name": "stderr",
     "output_type": "stream",
     "text": [
      "Reading reviews: 3029629it [02:07, 26457.01it/s]"
     ]
    },
    {
     "name": "stdout",
     "output_type": "stream",
     "text": [
      "Memory usage after processing review chunk: 4204.79 MB\n"
     ]
    },
    {
     "name": "stderr",
     "output_type": "stream",
     "text": [
      "Reading reviews: 3077324it [02:09, 21320.21it/s]"
     ]
    },
    {
     "name": "stdout",
     "output_type": "stream",
     "text": [
      "Memory usage after processing review chunk: 4204.79 MB\n"
     ]
    },
    {
     "name": "stderr",
     "output_type": "stream",
     "text": [
      "Reading reviews: 3139313it [02:11, 22322.23it/s]"
     ]
    },
    {
     "name": "stdout",
     "output_type": "stream",
     "text": [
      "Memory usage after processing review chunk: 4204.79 MB\n"
     ]
    },
    {
     "name": "stderr",
     "output_type": "stream",
     "text": [
      "Reading reviews: 3184759it [02:14, 19301.91it/s]"
     ]
    },
    {
     "name": "stdout",
     "output_type": "stream",
     "text": [
      "Memory usage after processing review chunk: 4204.79 MB\n"
     ]
    },
    {
     "name": "stderr",
     "output_type": "stream",
     "text": [
      "Reading reviews: 3237010it [02:16, 19242.68it/s]"
     ]
    },
    {
     "name": "stdout",
     "output_type": "stream",
     "text": [
      "Memory usage after processing review chunk: 4204.79 MB\n"
     ]
    },
    {
     "name": "stderr",
     "output_type": "stream",
     "text": [
      "Reading reviews: 3297849it [02:18, 21972.38it/s]"
     ]
    },
    {
     "name": "stdout",
     "output_type": "stream",
     "text": [
      "Memory usage after processing review chunk: 4204.79 MB\n"
     ]
    },
    {
     "name": "stderr",
     "output_type": "stream",
     "text": [
      "Reading reviews: 3347059it [02:20, 20522.31it/s]"
     ]
    },
    {
     "name": "stdout",
     "output_type": "stream",
     "text": [
      "Memory usage after processing review chunk: 4204.79 MB\n"
     ]
    },
    {
     "name": "stderr",
     "output_type": "stream",
     "text": [
      "Reading reviews: 3392006it [02:23, 14217.12it/s]"
     ]
    },
    {
     "name": "stdout",
     "output_type": "stream",
     "text": [
      "Memory usage after processing review chunk: 4204.79 MB\n"
     ]
    },
    {
     "name": "stderr",
     "output_type": "stream",
     "text": [
      "Reading reviews: 3445305it [02:25, 16268.61it/s]"
     ]
    },
    {
     "name": "stdout",
     "output_type": "stream",
     "text": [
      "Memory usage after processing review chunk: 4204.79 MB\n"
     ]
    },
    {
     "name": "stderr",
     "output_type": "stream",
     "text": [
      "Reading reviews: 3499977it [02:27, 15920.53it/s]"
     ]
    },
    {
     "name": "stdout",
     "output_type": "stream",
     "text": [
      "Memory usage after processing review chunk: 4205.16 MB\n"
     ]
    },
    {
     "name": "stderr",
     "output_type": "stream",
     "text": [
      "Reading reviews: 3545387it [02:30, 9127.73it/s] "
     ]
    },
    {
     "name": "stdout",
     "output_type": "stream",
     "text": [
      "Memory usage after processing review chunk: 4205.29 MB\n"
     ]
    },
    {
     "name": "stderr",
     "output_type": "stream",
     "text": [
      "Reading reviews: 3602929it [02:33, 9273.55it/s] "
     ]
    },
    {
     "name": "stdout",
     "output_type": "stream",
     "text": [
      "Memory usage after processing review chunk: 4205.29 MB\n"
     ]
    },
    {
     "name": "stderr",
     "output_type": "stream",
     "text": [
      "Reading reviews: 3658666it [02:36, 10711.88it/s]"
     ]
    },
    {
     "name": "stdout",
     "output_type": "stream",
     "text": [
      "Memory usage after processing review chunk: 4205.29 MB\n"
     ]
    },
    {
     "name": "stderr",
     "output_type": "stream",
     "text": [
      "Reading reviews: 3714411it [02:39, 6769.48it/s] "
     ]
    },
    {
     "name": "stdout",
     "output_type": "stream",
     "text": [
      "Memory usage after processing review chunk: 4205.29 MB\n"
     ]
    },
    {
     "name": "stderr",
     "output_type": "stream",
     "text": [
      "Reading reviews: 3763361it [02:40, 55137.25it/s]"
     ]
    },
    {
     "name": "stdout",
     "output_type": "stream",
     "text": [
      "Memory usage after processing review chunk: 4205.29 MB\n"
     ]
    },
    {
     "name": "stderr",
     "output_type": "stream",
     "text": [
      "Reading reviews: 3822706it [02:45, 12268.97it/s]"
     ]
    },
    {
     "name": "stdout",
     "output_type": "stream",
     "text": [
      "Memory usage after processing review chunk: 4205.29 MB\n"
     ]
    },
    {
     "name": "stderr",
     "output_type": "stream",
     "text": [
      "Reading reviews: 3889394it [02:47, 20050.27it/s]"
     ]
    },
    {
     "name": "stdout",
     "output_type": "stream",
     "text": [
      "Memory usage after processing review chunk: 4205.29 MB\n"
     ]
    },
    {
     "name": "stderr",
     "output_type": "stream",
     "text": [
      "Reading reviews: 3938641it [02:50, 11371.16it/s]"
     ]
    },
    {
     "name": "stdout",
     "output_type": "stream",
     "text": [
      "Memory usage after processing review chunk: 4205.29 MB\n"
     ]
    },
    {
     "name": "stderr",
     "output_type": "stream",
     "text": [
      "Reading reviews: 4000237it [02:53, 14667.16it/s]"
     ]
    },
    {
     "name": "stdout",
     "output_type": "stream",
     "text": [
      "Memory usage after processing review chunk: 4205.29 MB\n"
     ]
    },
    {
     "name": "stderr",
     "output_type": "stream",
     "text": [
      "Reading reviews: 4042162it [02:53, 49355.21it/s]"
     ]
    },
    {
     "name": "stdout",
     "output_type": "stream",
     "text": [
      "Memory usage after processing review chunk: 4205.29 MB\n"
     ]
    },
    {
     "name": "stderr",
     "output_type": "stream",
     "text": [
      "Reading reviews: 4123514it [02:59, 23088.17it/s]"
     ]
    },
    {
     "name": "stdout",
     "output_type": "stream",
     "text": [
      "Memory usage after processing review chunk: 4205.29 MB\n"
     ]
    },
    {
     "name": "stderr",
     "output_type": "stream",
     "text": [
      "Reading reviews: 4167430it [03:01, 19132.99it/s]"
     ]
    },
    {
     "name": "stdout",
     "output_type": "stream",
     "text": [
      "Memory usage after processing review chunk: 4205.29 MB\n"
     ]
    },
    {
     "name": "stderr",
     "output_type": "stream",
     "text": [
      "Reading reviews: 4219897it [03:03, 18860.74it/s]"
     ]
    },
    {
     "name": "stdout",
     "output_type": "stream",
     "text": [
      "Memory usage after processing review chunk: 4205.29 MB\n"
     ]
    },
    {
     "name": "stderr",
     "output_type": "stream",
     "text": [
      "Reading reviews: 4281840it [03:06, 20184.13it/s]"
     ]
    },
    {
     "name": "stdout",
     "output_type": "stream",
     "text": [
      "Memory usage after processing review chunk: 4205.29 MB\n"
     ]
    },
    {
     "name": "stderr",
     "output_type": "stream",
     "text": [
      "Reading reviews: 4337074it [03:08, 19466.88it/s]"
     ]
    },
    {
     "name": "stdout",
     "output_type": "stream",
     "text": [
      "Memory usage after processing review chunk: 4205.29 MB\n"
     ]
    },
    {
     "name": "stderr",
     "output_type": "stream",
     "text": [
      "Reading reviews: 4385802it [03:10, 18250.86it/s]"
     ]
    },
    {
     "name": "stdout",
     "output_type": "stream",
     "text": [
      "Memory usage after processing review chunk: 4205.29 MB\n"
     ]
    },
    {
     "name": "stderr",
     "output_type": "stream",
     "text": [
      "Reading reviews: 4440852it [03:12, 19094.30it/s]"
     ]
    },
    {
     "name": "stdout",
     "output_type": "stream",
     "text": [
      "Memory usage after processing review chunk: 4205.29 MB\n"
     ]
    },
    {
     "name": "stderr",
     "output_type": "stream",
     "text": [
      "Reading reviews: 4495642it [03:15, 19286.55it/s]"
     ]
    },
    {
     "name": "stdout",
     "output_type": "stream",
     "text": [
      "Memory usage after processing review chunk: 4205.41 MB\n"
     ]
    },
    {
     "name": "stderr",
     "output_type": "stream",
     "text": [
      "Reading reviews: 4554887it [03:17, 21176.53it/s]"
     ]
    },
    {
     "name": "stdout",
     "output_type": "stream",
     "text": [
      "Memory usage after processing review chunk: 4205.41 MB\n"
     ]
    },
    {
     "name": "stderr",
     "output_type": "stream",
     "text": [
      "Reading reviews: 4615283it [03:19, 21712.58it/s]"
     ]
    },
    {
     "name": "stdout",
     "output_type": "stream",
     "text": [
      "Memory usage after processing review chunk: 4205.41 MB\n"
     ]
    },
    {
     "name": "stderr",
     "output_type": "stream",
     "text": [
      "Reading reviews: 4664094it [03:22, 20854.90it/s]"
     ]
    },
    {
     "name": "stdout",
     "output_type": "stream",
     "text": [
      "Memory usage after processing review chunk: 4205.41 MB\n"
     ]
    },
    {
     "name": "stderr",
     "output_type": "stream",
     "text": [
      "Reading reviews: 4713208it [03:24, 17494.52it/s]"
     ]
    },
    {
     "name": "stdout",
     "output_type": "stream",
     "text": [
      "Memory usage after processing review chunk: 4205.41 MB\n"
     ]
    },
    {
     "name": "stderr",
     "output_type": "stream",
     "text": [
      "Reading reviews: 4771524it [03:27, 18886.07it/s]"
     ]
    },
    {
     "name": "stdout",
     "output_type": "stream",
     "text": [
      "Memory usage after processing review chunk: 4205.41 MB\n"
     ]
    },
    {
     "name": "stderr",
     "output_type": "stream",
     "text": [
      "Reading reviews: 4825776it [03:29, 19715.22it/s]"
     ]
    },
    {
     "name": "stdout",
     "output_type": "stream",
     "text": [
      "Memory usage after processing review chunk: 4205.41 MB\n"
     ]
    },
    {
     "name": "stderr",
     "output_type": "stream",
     "text": [
      "Reading reviews: 4872001it [03:31, 12624.28it/s]"
     ]
    },
    {
     "name": "stdout",
     "output_type": "stream",
     "text": [
      "Memory usage after processing review chunk: 4205.41 MB\n"
     ]
    },
    {
     "name": "stderr",
     "output_type": "stream",
     "text": [
      "Reading reviews: 4933723it [03:34, 18231.37it/s]"
     ]
    },
    {
     "name": "stdout",
     "output_type": "stream",
     "text": [
      "Memory usage after processing review chunk: 4205.41 MB\n"
     ]
    },
    {
     "name": "stderr",
     "output_type": "stream",
     "text": [
      "Reading reviews: 4987380it [03:36, 18761.17it/s]"
     ]
    },
    {
     "name": "stdout",
     "output_type": "stream",
     "text": [
      "Memory usage after processing review chunk: 4205.41 MB\n"
     ]
    },
    {
     "name": "stderr",
     "output_type": "stream",
     "text": [
      "Reading reviews: 5054200it [03:39, 24893.83it/s]"
     ]
    },
    {
     "name": "stdout",
     "output_type": "stream",
     "text": [
      "Memory usage after processing review chunk: 4205.41 MB\n"
     ]
    },
    {
     "name": "stderr",
     "output_type": "stream",
     "text": [
      "Reading reviews: 5100104it [03:42, 19084.47it/s]"
     ]
    },
    {
     "name": "stdout",
     "output_type": "stream",
     "text": [
      "Memory usage after processing review chunk: 4205.41 MB\n"
     ]
    },
    {
     "name": "stderr",
     "output_type": "stream",
     "text": [
      "Reading reviews: 5152099it [03:44, 16730.89it/s]"
     ]
    },
    {
     "name": "stdout",
     "output_type": "stream",
     "text": [
      "Memory usage after processing review chunk: 4205.41 MB\n"
     ]
    },
    {
     "name": "stderr",
     "output_type": "stream",
     "text": [
      "Reading reviews: 5199536it [03:47, 13143.46it/s]"
     ]
    },
    {
     "name": "stdout",
     "output_type": "stream",
     "text": [
      "Memory usage after processing review chunk: 4205.41 MB\n"
     ]
    },
    {
     "name": "stderr",
     "output_type": "stream",
     "text": [
      "Reading reviews: 5266315it [03:49, 18339.75it/s]"
     ]
    },
    {
     "name": "stdout",
     "output_type": "stream",
     "text": [
      "Memory usage after processing review chunk: 4205.54 MB\n"
     ]
    },
    {
     "name": "stderr",
     "output_type": "stream",
     "text": [
      "Reading reviews: 5322399it [03:52, 19493.83it/s]"
     ]
    },
    {
     "name": "stdout",
     "output_type": "stream",
     "text": [
      "Memory usage after processing review chunk: 4205.54 MB\n"
     ]
    },
    {
     "name": "stderr",
     "output_type": "stream",
     "text": [
      "Reading reviews: 5380249it [03:54, 22912.70it/s]"
     ]
    },
    {
     "name": "stdout",
     "output_type": "stream",
     "text": [
      "Memory usage after processing review chunk: 4205.54 MB\n"
     ]
    },
    {
     "name": "stderr",
     "output_type": "stream",
     "text": [
      "Reading reviews: 5427617it [03:57, 14978.28it/s]"
     ]
    },
    {
     "name": "stdout",
     "output_type": "stream",
     "text": [
      "Memory usage after processing review chunk: 4205.54 MB\n"
     ]
    },
    {
     "name": "stderr",
     "output_type": "stream",
     "text": [
      "Reading reviews: 5476488it [03:59, 15841.32it/s]"
     ]
    },
    {
     "name": "stdout",
     "output_type": "stream",
     "text": [
      "Memory usage after processing review chunk: 4205.54 MB\n"
     ]
    },
    {
     "name": "stderr",
     "output_type": "stream",
     "text": [
      "Reading reviews: 5522703it [04:02, 10534.76it/s]"
     ]
    },
    {
     "name": "stdout",
     "output_type": "stream",
     "text": [
      "Memory usage after processing review chunk: 4205.54 MB\n"
     ]
    },
    {
     "name": "stderr",
     "output_type": "stream",
     "text": [
      "Reading reviews: 5584886it [04:05, 11918.18it/s]"
     ]
    },
    {
     "name": "stdout",
     "output_type": "stream",
     "text": [
      "Memory usage after processing review chunk: 4205.54 MB\n"
     ]
    },
    {
     "name": "stderr",
     "output_type": "stream",
     "text": [
      "Reading reviews: 5635098it [04:08, 14180.75it/s]"
     ]
    },
    {
     "name": "stdout",
     "output_type": "stream",
     "text": [
      "Memory usage after processing review chunk: 4205.54 MB\n"
     ]
    },
    {
     "name": "stderr",
     "output_type": "stream",
     "text": [
      "Reading reviews: 5699940it [04:10, 19129.21it/s]"
     ]
    },
    {
     "name": "stdout",
     "output_type": "stream",
     "text": [
      "Memory usage after processing review chunk: 4205.54 MB\n"
     ]
    },
    {
     "name": "stderr",
     "output_type": "stream",
     "text": [
      "Reading reviews: 5749136it [04:13, 16906.30it/s]"
     ]
    },
    {
     "name": "stdout",
     "output_type": "stream",
     "text": [
      "Memory usage after processing review chunk: 4205.54 MB\n"
     ]
    },
    {
     "name": "stderr",
     "output_type": "stream",
     "text": [
      "Reading reviews: 5817372it [04:15, 19462.22it/s]"
     ]
    },
    {
     "name": "stdout",
     "output_type": "stream",
     "text": [
      "Memory usage after processing review chunk: 4205.54 MB\n"
     ]
    },
    {
     "name": "stderr",
     "output_type": "stream",
     "text": [
      "Reading reviews: 5860589it [04:18, 13614.44it/s]"
     ]
    },
    {
     "name": "stdout",
     "output_type": "stream",
     "text": [
      "Memory usage after processing review chunk: 4205.54 MB\n"
     ]
    },
    {
     "name": "stderr",
     "output_type": "stream",
     "text": [
      "Reading reviews: 5917032it [04:21, 9201.11it/s] "
     ]
    },
    {
     "name": "stdout",
     "output_type": "stream",
     "text": [
      "Memory usage after processing review chunk: 4205.54 MB\n"
     ]
    },
    {
     "name": "stderr",
     "output_type": "stream",
     "text": [
      "Reading reviews: 5969021it [04:24, 7970.57it/s] "
     ]
    },
    {
     "name": "stdout",
     "output_type": "stream",
     "text": [
      "Memory usage after processing review chunk: 4205.54 MB\n"
     ]
    },
    {
     "name": "stderr",
     "output_type": "stream",
     "text": [
      "Reading reviews: 6026565it [04:27, 9655.06it/s] "
     ]
    },
    {
     "name": "stdout",
     "output_type": "stream",
     "text": [
      "Memory usage after processing review chunk: 4205.54 MB\n"
     ]
    },
    {
     "name": "stderr",
     "output_type": "stream",
     "text": [
      "Reading reviews: 6079840it [04:30, 9771.02it/s] "
     ]
    },
    {
     "name": "stdout",
     "output_type": "stream",
     "text": [
      "Memory usage after processing review chunk: 4205.54 MB\n"
     ]
    },
    {
     "name": "stderr",
     "output_type": "stream",
     "text": [
      "Reading reviews: 6148366it [04:33, 19195.43it/s]"
     ]
    },
    {
     "name": "stdout",
     "output_type": "stream",
     "text": [
      "Memory usage after processing review chunk: 4205.54 MB\n"
     ]
    },
    {
     "name": "stderr",
     "output_type": "stream",
     "text": [
      "Reading reviews: 6203974it [04:35, 19867.25it/s]"
     ]
    },
    {
     "name": "stdout",
     "output_type": "stream",
     "text": [
      "Memory usage after processing review chunk: 4205.54 MB\n"
     ]
    },
    {
     "name": "stderr",
     "output_type": "stream",
     "text": [
      "Reading reviews: 6246375it [04:37, 17983.55it/s]"
     ]
    },
    {
     "name": "stdout",
     "output_type": "stream",
     "text": [
      "Memory usage after processing review chunk: 4205.54 MB\n"
     ]
    },
    {
     "name": "stderr",
     "output_type": "stream",
     "text": [
      "Reading reviews: 6303258it [04:40, 19988.59it/s]"
     ]
    },
    {
     "name": "stdout",
     "output_type": "stream",
     "text": [
      "Memory usage after processing review chunk: 4205.54 MB\n"
     ]
    },
    {
     "name": "stderr",
     "output_type": "stream",
     "text": [
      "Reading reviews: 6357924it [04:42, 20433.32it/s]"
     ]
    },
    {
     "name": "stdout",
     "output_type": "stream",
     "text": [
      "Memory usage after processing review chunk: 4205.54 MB\n"
     ]
    },
    {
     "name": "stderr",
     "output_type": "stream",
     "text": [
      "Reading reviews: 6400970it [04:44, 18005.78it/s]"
     ]
    },
    {
     "name": "stdout",
     "output_type": "stream",
     "text": [
      "Memory usage after processing review chunk: 4205.54 MB\n"
     ]
    },
    {
     "name": "stderr",
     "output_type": "stream",
     "text": [
      "Reading reviews: 6463271it [04:47, 19385.67it/s]"
     ]
    },
    {
     "name": "stdout",
     "output_type": "stream",
     "text": [
      "Memory usage after processing review chunk: 4205.54 MB\n"
     ]
    },
    {
     "name": "stderr",
     "output_type": "stream",
     "text": [
      "Reading reviews: 6519802it [04:49, 19930.38it/s]"
     ]
    },
    {
     "name": "stdout",
     "output_type": "stream",
     "text": [
      "Memory usage after processing review chunk: 4205.54 MB\n"
     ]
    },
    {
     "name": "stderr",
     "output_type": "stream",
     "text": [
      "Reading reviews: 6574770it [04:51, 24547.12it/s]"
     ]
    },
    {
     "name": "stdout",
     "output_type": "stream",
     "text": [
      "Memory usage after processing review chunk: 4205.54 MB\n"
     ]
    },
    {
     "name": "stderr",
     "output_type": "stream",
     "text": [
      "Reading reviews: 6625162it [04:54, 18946.96it/s]"
     ]
    },
    {
     "name": "stdout",
     "output_type": "stream",
     "text": [
      "Memory usage after processing review chunk: 4205.54 MB\n"
     ]
    },
    {
     "name": "stderr",
     "output_type": "stream",
     "text": [
      "Reading reviews: 6679503it [04:56, 19300.89it/s]"
     ]
    },
    {
     "name": "stdout",
     "output_type": "stream",
     "text": [
      "Memory usage after processing review chunk: 4205.54 MB\n"
     ]
    },
    {
     "name": "stderr",
     "output_type": "stream",
     "text": [
      "Reading reviews: 6744169it [04:58, 20052.70it/s]"
     ]
    },
    {
     "name": "stdout",
     "output_type": "stream",
     "text": [
      "Memory usage after processing review chunk: 4205.54 MB\n"
     ]
    },
    {
     "name": "stderr",
     "output_type": "stream",
     "text": [
      "Reading reviews: 6802857it [05:01, 20477.87it/s]"
     ]
    },
    {
     "name": "stdout",
     "output_type": "stream",
     "text": [
      "Memory usage after processing review chunk: 4205.66 MB\n"
     ]
    },
    {
     "name": "stderr",
     "output_type": "stream",
     "text": [
      "Reading reviews: 6847406it [05:03, 18724.05it/s]"
     ]
    },
    {
     "name": "stdout",
     "output_type": "stream",
     "text": [
      "Memory usage after processing review chunk: 4205.66 MB\n"
     ]
    },
    {
     "name": "stderr",
     "output_type": "stream",
     "text": [
      "Reading reviews: 6903667it [05:05, 19855.59it/s]"
     ]
    },
    {
     "name": "stdout",
     "output_type": "stream",
     "text": [
      "Memory usage after processing review chunk: 4205.66 MB\n"
     ]
    },
    {
     "name": "stderr",
     "output_type": "stream",
     "text": [
      "Reading reviews: 6965750it [05:08, 19889.59it/s]"
     ]
    },
    {
     "name": "stdout",
     "output_type": "stream",
     "text": [
      "Memory usage after processing review chunk: 4205.66 MB\n"
     ]
    },
    {
     "name": "stderr",
     "output_type": "stream",
     "text": [
      "Reading reviews: 7023480it [05:10, 20806.17it/s]"
     ]
    },
    {
     "name": "stdout",
     "output_type": "stream",
     "text": [
      "Memory usage after processing review chunk: 4205.66 MB\n"
     ]
    },
    {
     "name": "stderr",
     "output_type": "stream",
     "text": [
      "Reading reviews: 7078128it [05:12, 19863.88it/s]"
     ]
    },
    {
     "name": "stdout",
     "output_type": "stream",
     "text": [
      "Memory usage after processing review chunk: 4205.66 MB\n"
     ]
    },
    {
     "name": "stderr",
     "output_type": "stream",
     "text": [
      "Reading reviews: 7131268it [05:14, 18275.83it/s]"
     ]
    },
    {
     "name": "stdout",
     "output_type": "stream",
     "text": [
      "Memory usage after processing review chunk: 4205.66 MB\n"
     ]
    },
    {
     "name": "stderr",
     "output_type": "stream",
     "text": [
      "Reading reviews: 7189520it [05:17, 19719.46it/s]"
     ]
    },
    {
     "name": "stdout",
     "output_type": "stream",
     "text": [
      "Memory usage after processing review chunk: 4205.66 MB\n"
     ]
    },
    {
     "name": "stderr",
     "output_type": "stream",
     "text": [
      "Reading reviews: 7246969it [05:19, 20703.79it/s]"
     ]
    },
    {
     "name": "stdout",
     "output_type": "stream",
     "text": [
      "Memory usage after processing review chunk: 4205.66 MB\n"
     ]
    },
    {
     "name": "stderr",
     "output_type": "stream",
     "text": [
      "Reading reviews: 7300665it [05:21, 24364.45it/s]"
     ]
    },
    {
     "name": "stdout",
     "output_type": "stream",
     "text": [
      "Memory usage after processing review chunk: 4205.66 MB\n"
     ]
    },
    {
     "name": "stderr",
     "output_type": "stream",
     "text": [
      "Reading reviews: 7348494it [05:24, 20645.22it/s]"
     ]
    },
    {
     "name": "stdout",
     "output_type": "stream",
     "text": [
      "Memory usage after processing review chunk: 4205.66 MB\n"
     ]
    },
    {
     "name": "stderr",
     "output_type": "stream",
     "text": [
      "Reading reviews: 7407922it [05:26, 21171.55it/s]"
     ]
    },
    {
     "name": "stdout",
     "output_type": "stream",
     "text": [
      "Memory usage after processing review chunk: 4205.66 MB\n"
     ]
    },
    {
     "name": "stderr",
     "output_type": "stream",
     "text": [
      "Reading reviews: 7458630it [05:28, 18236.79it/s]"
     ]
    },
    {
     "name": "stdout",
     "output_type": "stream",
     "text": [
      "Memory usage after processing review chunk: 4205.66 MB\n"
     ]
    },
    {
     "name": "stderr",
     "output_type": "stream",
     "text": [
      "Reading reviews: 7514966it [05:31, 20156.71it/s]"
     ]
    },
    {
     "name": "stdout",
     "output_type": "stream",
     "text": [
      "Memory usage after processing review chunk: 4205.66 MB\n"
     ]
    },
    {
     "name": "stderr",
     "output_type": "stream",
     "text": [
      "Reading reviews: 7575396it [05:33, 21241.83it/s]"
     ]
    },
    {
     "name": "stdout",
     "output_type": "stream",
     "text": [
      "Memory usage after processing review chunk: 4205.79 MB\n"
     ]
    },
    {
     "name": "stderr",
     "output_type": "stream",
     "text": [
      "Reading reviews: 7622413it [05:35, 19625.75it/s]"
     ]
    },
    {
     "name": "stdout",
     "output_type": "stream",
     "text": [
      "Memory usage after processing review chunk: 4205.79 MB\n"
     ]
    },
    {
     "name": "stderr",
     "output_type": "stream",
     "text": [
      "Reading reviews: 7679964it [05:37, 20310.97it/s]"
     ]
    },
    {
     "name": "stdout",
     "output_type": "stream",
     "text": [
      "Memory usage after processing review chunk: 4205.79 MB\n"
     ]
    },
    {
     "name": "stderr",
     "output_type": "stream",
     "text": [
      "Reading reviews: 7735095it [05:40, 20018.15it/s]"
     ]
    },
    {
     "name": "stdout",
     "output_type": "stream",
     "text": [
      "Memory usage after processing review chunk: 4205.79 MB\n"
     ]
    },
    {
     "name": "stderr",
     "output_type": "stream",
     "text": [
      "Reading reviews: 7792585it [05:42, 20498.91it/s]"
     ]
    },
    {
     "name": "stdout",
     "output_type": "stream",
     "text": [
      "Memory usage after processing review chunk: 4205.91 MB\n"
     ]
    },
    {
     "name": "stderr",
     "output_type": "stream",
     "text": [
      "Reading reviews: 7848732it [05:44, 19809.12it/s]"
     ]
    },
    {
     "name": "stdout",
     "output_type": "stream",
     "text": [
      "Memory usage after processing review chunk: 4205.91 MB\n"
     ]
    },
    {
     "name": "stderr",
     "output_type": "stream",
     "text": [
      "Reading reviews: 7905034it [05:47, 19287.44it/s]"
     ]
    },
    {
     "name": "stdout",
     "output_type": "stream",
     "text": [
      "Memory usage after processing review chunk: 4205.91 MB\n"
     ]
    },
    {
     "name": "stderr",
     "output_type": "stream",
     "text": [
      "Reading reviews: 7965273it [05:49, 26166.29it/s]"
     ]
    },
    {
     "name": "stdout",
     "output_type": "stream",
     "text": [
      "Memory usage after processing review chunk: 4205.91 MB\n"
     ]
    },
    {
     "name": "stderr",
     "output_type": "stream",
     "text": [
      "Reading reviews: 8010354it [05:51, 20074.09it/s]"
     ]
    },
    {
     "name": "stdout",
     "output_type": "stream",
     "text": [
      "Memory usage after processing review chunk: 4205.91 MB\n"
     ]
    },
    {
     "name": "stderr",
     "output_type": "stream",
     "text": [
      "Reading reviews: 8067097it [05:54, 20240.11it/s]"
     ]
    },
    {
     "name": "stdout",
     "output_type": "stream",
     "text": [
      "Memory usage after processing review chunk: 4205.91 MB\n"
     ]
    },
    {
     "name": "stderr",
     "output_type": "stream",
     "text": [
      "Reading reviews: 8123907it [05:56, 20538.65it/s]"
     ]
    },
    {
     "name": "stdout",
     "output_type": "stream",
     "text": [
      "Memory usage after processing review chunk: 4205.91 MB\n"
     ]
    },
    {
     "name": "stderr",
     "output_type": "stream",
     "text": [
      "Reading reviews: 8175037it [05:58, 18922.69it/s]"
     ]
    },
    {
     "name": "stdout",
     "output_type": "stream",
     "text": [
      "Memory usage after processing review chunk: 4205.91 MB\n"
     ]
    },
    {
     "name": "stderr",
     "output_type": "stream",
     "text": [
      "Reading reviews: 8228576it [06:01, 18942.98it/s]"
     ]
    },
    {
     "name": "stdout",
     "output_type": "stream",
     "text": [
      "Memory usage after processing review chunk: 4205.91 MB\n"
     ]
    },
    {
     "name": "stderr",
     "output_type": "stream",
     "text": [
      "Reading reviews: 8285450it [06:03, 20138.58it/s]"
     ]
    },
    {
     "name": "stdout",
     "output_type": "stream",
     "text": [
      "Memory usage after processing review chunk: 4205.91 MB\n"
     ]
    },
    {
     "name": "stderr",
     "output_type": "stream",
     "text": [
      "Reading reviews: 8339036it [06:05, 18923.24it/s]"
     ]
    },
    {
     "name": "stdout",
     "output_type": "stream",
     "text": [
      "Memory usage after processing review chunk: 4205.91 MB\n"
     ]
    },
    {
     "name": "stderr",
     "output_type": "stream",
     "text": [
      "Reading reviews: 8399006it [06:08, 26161.65it/s]"
     ]
    },
    {
     "name": "stdout",
     "output_type": "stream",
     "text": [
      "Memory usage after processing review chunk: 4205.91 MB\n"
     ]
    },
    {
     "name": "stderr",
     "output_type": "stream",
     "text": [
      "Reading reviews: 8444437it [06:10, 20804.79it/s]"
     ]
    },
    {
     "name": "stdout",
     "output_type": "stream",
     "text": [
      "Memory usage after processing review chunk: 4205.91 MB\n"
     ]
    },
    {
     "name": "stderr",
     "output_type": "stream",
     "text": [
      "Reading reviews: 8502200it [06:12, 20542.63it/s]"
     ]
    },
    {
     "name": "stdout",
     "output_type": "stream",
     "text": [
      "Memory usage after processing review chunk: 4205.91 MB\n"
     ]
    },
    {
     "name": "stderr",
     "output_type": "stream",
     "text": [
      "Reading reviews: 8559903it [06:15, 20857.10it/s]"
     ]
    },
    {
     "name": "stdout",
     "output_type": "stream",
     "text": [
      "Memory usage after processing review chunk: 4205.91 MB\n"
     ]
    },
    {
     "name": "stderr",
     "output_type": "stream",
     "text": [
      "Reading reviews: 8606202it [06:17, 19466.91it/s]"
     ]
    },
    {
     "name": "stdout",
     "output_type": "stream",
     "text": [
      "Memory usage after processing review chunk: 4206.04 MB\n"
     ]
    },
    {
     "name": "stderr",
     "output_type": "stream",
     "text": [
      "Reading reviews: 8666991it [06:19, 21046.57it/s]"
     ]
    },
    {
     "name": "stdout",
     "output_type": "stream",
     "text": [
      "Memory usage after processing review chunk: 4206.04 MB\n"
     ]
    },
    {
     "name": "stderr",
     "output_type": "stream",
     "text": [
      "Reading reviews: 8722818it [06:21, 20180.97it/s]"
     ]
    },
    {
     "name": "stdout",
     "output_type": "stream",
     "text": [
      "Memory usage after processing review chunk: 4206.04 MB\n"
     ]
    },
    {
     "name": "stderr",
     "output_type": "stream",
     "text": [
      "Reading reviews: 8784271it [06:24, 21622.59it/s]"
     ]
    },
    {
     "name": "stdout",
     "output_type": "stream",
     "text": [
      "Memory usage after processing review chunk: 4206.04 MB\n"
     ]
    },
    {
     "name": "stderr",
     "output_type": "stream",
     "text": [
      "Reading reviews: 8832342it [06:26, 20206.41it/s]"
     ]
    },
    {
     "name": "stdout",
     "output_type": "stream",
     "text": [
      "Memory usage after processing review chunk: 4206.04 MB\n"
     ]
    },
    {
     "name": "stderr",
     "output_type": "stream",
     "text": [
      "Reading reviews: 8895140it [06:28, 21844.15it/s]"
     ]
    },
    {
     "name": "stdout",
     "output_type": "stream",
     "text": [
      "Memory usage after processing review chunk: 4206.04 MB\n"
     ]
    },
    {
     "name": "stderr",
     "output_type": "stream",
     "text": [
      "Reading reviews: 8944333it [06:31, 20523.94it/s]"
     ]
    },
    {
     "name": "stdout",
     "output_type": "stream",
     "text": [
      "Memory usage after processing review chunk: 4206.04 MB\n"
     ]
    },
    {
     "name": "stderr",
     "output_type": "stream",
     "text": [
      "Reading reviews: 9005616it [06:33, 21444.42it/s]"
     ]
    },
    {
     "name": "stdout",
     "output_type": "stream",
     "text": [
      "Memory usage after processing review chunk: 4206.04 MB\n"
     ]
    },
    {
     "name": "stderr",
     "output_type": "stream",
     "text": [
      "Reading reviews: 9060202it [06:35, 20222.12it/s]"
     ]
    },
    {
     "name": "stdout",
     "output_type": "stream",
     "text": [
      "Memory usage after processing review chunk: 4206.04 MB\n"
     ]
    },
    {
     "name": "stderr",
     "output_type": "stream",
     "text": [
      "Reading reviews: 9114411it [06:38, 19323.26it/s]"
     ]
    },
    {
     "name": "stdout",
     "output_type": "stream",
     "text": [
      "Memory usage after processing review chunk: 4206.04 MB\n"
     ]
    },
    {
     "name": "stderr",
     "output_type": "stream",
     "text": [
      "Reading reviews: 9167683it [06:40, 19755.24it/s]"
     ]
    },
    {
     "name": "stdout",
     "output_type": "stream",
     "text": [
      "Memory usage after processing review chunk: 4206.04 MB\n"
     ]
    },
    {
     "name": "stderr",
     "output_type": "stream",
     "text": [
      "Reading reviews: 9229596it [06:42, 19679.17it/s]"
     ]
    },
    {
     "name": "stdout",
     "output_type": "stream",
     "text": [
      "Memory usage after processing review chunk: 4206.04 MB\n"
     ]
    },
    {
     "name": "stderr",
     "output_type": "stream",
     "text": [
      "Reading reviews: 9282815it [06:45, 19172.32it/s]"
     ]
    },
    {
     "name": "stdout",
     "output_type": "stream",
     "text": [
      "Memory usage after processing review chunk: 4206.04 MB\n"
     ]
    },
    {
     "name": "stderr",
     "output_type": "stream",
     "text": [
      "Reading reviews: 9339544it [06:47, 24802.05it/s]"
     ]
    },
    {
     "name": "stdout",
     "output_type": "stream",
     "text": [
      "Memory usage after processing review chunk: 4206.04 MB\n"
     ]
    },
    {
     "name": "stderr",
     "output_type": "stream",
     "text": [
      "Reading reviews: 9385758it [06:49, 19958.16it/s]"
     ]
    },
    {
     "name": "stdout",
     "output_type": "stream",
     "text": [
      "Memory usage after processing review chunk: 4206.04 MB\n"
     ]
    },
    {
     "name": "stderr",
     "output_type": "stream",
     "text": [
      "Reading reviews: 9443384it [06:52, 19922.09it/s]"
     ]
    },
    {
     "name": "stdout",
     "output_type": "stream",
     "text": [
      "Memory usage after processing review chunk: 4206.04 MB\n"
     ]
    },
    {
     "name": "stderr",
     "output_type": "stream",
     "text": [
      "Reading reviews: 9498702it [06:54, 19404.02it/s]"
     ]
    },
    {
     "name": "stdout",
     "output_type": "stream",
     "text": [
      "Memory usage after processing review chunk: 4206.04 MB\n"
     ]
    },
    {
     "name": "stderr",
     "output_type": "stream",
     "text": [
      "Reading reviews: 9555381it [06:56, 19907.27it/s]"
     ]
    },
    {
     "name": "stdout",
     "output_type": "stream",
     "text": [
      "Memory usage after processing review chunk: 4206.04 MB\n"
     ]
    },
    {
     "name": "stderr",
     "output_type": "stream",
     "text": [
      "Reading reviews: 9601728it [06:58, 14774.00it/s]"
     ]
    },
    {
     "name": "stdout",
     "output_type": "stream",
     "text": [
      "Memory usage after processing review chunk: 4206.04 MB\n"
     ]
    },
    {
     "name": "stderr",
     "output_type": "stream",
     "text": [
      "Reading reviews: 9661377it [07:01, 15430.20it/s]"
     ]
    },
    {
     "name": "stdout",
     "output_type": "stream",
     "text": [
      "Memory usage after processing review chunk: 4206.04 MB\n"
     ]
    },
    {
     "name": "stderr",
     "output_type": "stream",
     "text": [
      "Reading reviews: 9717187it [07:04, 19513.94it/s]"
     ]
    },
    {
     "name": "stdout",
     "output_type": "stream",
     "text": [
      "Memory usage after processing review chunk: 4206.04 MB\n"
     ]
    },
    {
     "name": "stderr",
     "output_type": "stream",
     "text": [
      "Reading reviews: 9774233it [07:06, 20644.95it/s]"
     ]
    },
    {
     "name": "stdout",
     "output_type": "stream",
     "text": [
      "Memory usage after processing review chunk: 4206.04 MB\n"
     ]
    },
    {
     "name": "stderr",
     "output_type": "stream",
     "text": [
      "Reading reviews: 9821376it [07:08, 19675.96it/s]"
     ]
    },
    {
     "name": "stdout",
     "output_type": "stream",
     "text": [
      "Memory usage after processing review chunk: 4206.04 MB\n"
     ]
    },
    {
     "name": "stderr",
     "output_type": "stream",
     "text": [
      "Reading reviews: 9882581it [07:10, 21384.02it/s]"
     ]
    },
    {
     "name": "stdout",
     "output_type": "stream",
     "text": [
      "Memory usage after processing review chunk: 4206.04 MB\n"
     ]
    },
    {
     "name": "stderr",
     "output_type": "stream",
     "text": [
      "Reading reviews: 9942564it [07:13, 21279.84it/s]"
     ]
    },
    {
     "name": "stdout",
     "output_type": "stream",
     "text": [
      "Memory usage after processing review chunk: 4206.04 MB\n"
     ]
    },
    {
     "name": "stderr",
     "output_type": "stream",
     "text": [
      "Reading reviews: 9990498it [07:15, 13982.25it/s]"
     ]
    },
    {
     "name": "stdout",
     "output_type": "stream",
     "text": [
      "Memory usage after processing review chunk: 4206.04 MB\n"
     ]
    },
    {
     "name": "stderr",
     "output_type": "stream",
     "text": [
      "Reading reviews: 10051984it [07:18, 18952.27it/s]"
     ]
    },
    {
     "name": "stdout",
     "output_type": "stream",
     "text": [
      "Memory usage after processing review chunk: 4206.04 MB\n"
     ]
    },
    {
     "name": "stderr",
     "output_type": "stream",
     "text": [
      "Reading reviews: 10105424it [07:20, 18277.14it/s]"
     ]
    },
    {
     "name": "stdout",
     "output_type": "stream",
     "text": [
      "Memory usage after processing review chunk: 4206.04 MB\n"
     ]
    },
    {
     "name": "stderr",
     "output_type": "stream",
     "text": [
      "Reading reviews: 10164589it [07:22, 20809.09it/s]"
     ]
    },
    {
     "name": "stdout",
     "output_type": "stream",
     "text": [
      "Memory usage after processing review chunk: 4206.04 MB\n"
     ]
    },
    {
     "name": "stderr",
     "output_type": "stream",
     "text": [
      "Reading reviews: 10227438it [07:25, 19545.70it/s]"
     ]
    },
    {
     "name": "stdout",
     "output_type": "stream",
     "text": [
      "Memory usage after processing review chunk: 4206.04 MB\n"
     ]
    },
    {
     "name": "stderr",
     "output_type": "stream",
     "text": [
      "Reading reviews: 10273664it [07:27, 17968.74it/s]"
     ]
    },
    {
     "name": "stdout",
     "output_type": "stream",
     "text": [
      "Memory usage after processing review chunk: 4206.04 MB\n"
     ]
    },
    {
     "name": "stderr",
     "output_type": "stream",
     "text": [
      "Reading reviews: 10332895it [07:30, 20501.43it/s]"
     ]
    },
    {
     "name": "stdout",
     "output_type": "stream",
     "text": [
      "Memory usage after processing review chunk: 4206.04 MB\n"
     ]
    },
    {
     "name": "stderr",
     "output_type": "stream",
     "text": [
      "Reading reviews: 10388020it [07:32, 20201.97it/s]"
     ]
    },
    {
     "name": "stdout",
     "output_type": "stream",
     "text": [
      "Memory usage after processing review chunk: 4206.04 MB\n"
     ]
    },
    {
     "name": "stderr",
     "output_type": "stream",
     "text": [
      "Reading reviews: 10448015it [07:34, 26641.92it/s]"
     ]
    },
    {
     "name": "stdout",
     "output_type": "stream",
     "text": [
      "Memory usage after processing review chunk: 4206.04 MB\n"
     ]
    },
    {
     "name": "stderr",
     "output_type": "stream",
     "text": [
      "Reading reviews: 10494619it [07:36, 20763.96it/s]"
     ]
    },
    {
     "name": "stdout",
     "output_type": "stream",
     "text": [
      "Memory usage after processing review chunk: 4206.04 MB\n"
     ]
    },
    {
     "name": "stderr",
     "output_type": "stream",
     "text": [
      "Reading reviews: 10551059it [07:39, 20083.74it/s]"
     ]
    },
    {
     "name": "stdout",
     "output_type": "stream",
     "text": [
      "Memory usage after processing review chunk: 4206.04 MB\n"
     ]
    },
    {
     "name": "stderr",
     "output_type": "stream",
     "text": [
      "Reading reviews: 10608013it [07:41, 20750.82it/s]"
     ]
    },
    {
     "name": "stdout",
     "output_type": "stream",
     "text": [
      "Memory usage after processing review chunk: 4206.04 MB\n"
     ]
    },
    {
     "name": "stderr",
     "output_type": "stream",
     "text": [
      "Reading reviews: 10652917it [07:43, 19182.68it/s]"
     ]
    },
    {
     "name": "stdout",
     "output_type": "stream",
     "text": [
      "Memory usage after processing review chunk: 4206.16 MB\n"
     ]
    },
    {
     "name": "stderr",
     "output_type": "stream",
     "text": [
      "Reading reviews: 10718830it [07:46, 20848.87it/s]"
     ]
    },
    {
     "name": "stdout",
     "output_type": "stream",
     "text": [
      "Memory usage after processing review chunk: 4206.16 MB\n"
     ]
    },
    {
     "name": "stderr",
     "output_type": "stream",
     "text": [
      "Reading reviews: 10765020it [07:48, 20047.07it/s]"
     ]
    },
    {
     "name": "stdout",
     "output_type": "stream",
     "text": [
      "Memory usage after processing review chunk: 4206.16 MB\n"
     ]
    },
    {
     "name": "stderr",
     "output_type": "stream",
     "text": [
      "Reading reviews: 10824735it [07:50, 21027.36it/s]"
     ]
    },
    {
     "name": "stdout",
     "output_type": "stream",
     "text": [
      "Memory usage after processing review chunk: 4206.16 MB\n"
     ]
    },
    {
     "name": "stderr",
     "output_type": "stream",
     "text": [
      "Reading reviews: 10872191it [07:52, 20058.37it/s]"
     ]
    },
    {
     "name": "stdout",
     "output_type": "stream",
     "text": [
      "Memory usage after processing review chunk: 4206.16 MB\n"
     ]
    },
    {
     "name": "stderr",
     "output_type": "stream",
     "text": [
      "Reading reviews: 10928115it [07:55, 19210.69it/s]"
     ]
    },
    {
     "name": "stdout",
     "output_type": "stream",
     "text": [
      "Memory usage after processing review chunk: 4206.16 MB\n"
     ]
    },
    {
     "name": "stderr",
     "output_type": "stream",
     "text": [
      "Reading reviews: 10983139it [07:57, 19297.20it/s]"
     ]
    },
    {
     "name": "stdout",
     "output_type": "stream",
     "text": [
      "Memory usage after processing review chunk: 4206.16 MB\n"
     ]
    },
    {
     "name": "stderr",
     "output_type": "stream",
     "text": [
      "Reading reviews: 11046147it [07:59, 22448.87it/s]"
     ]
    },
    {
     "name": "stdout",
     "output_type": "stream",
     "text": [
      "Memory usage after processing review chunk: 4206.16 MB\n"
     ]
    },
    {
     "name": "stderr",
     "output_type": "stream",
     "text": [
      "Reading reviews: 11093911it [08:02, 20665.90it/s]"
     ]
    },
    {
     "name": "stdout",
     "output_type": "stream",
     "text": [
      "Memory usage after processing review chunk: 4206.16 MB\n"
     ]
    },
    {
     "name": "stderr",
     "output_type": "stream",
     "text": [
      "Reading reviews: 11144961it [08:04, 20929.77it/s]"
     ]
    },
    {
     "name": "stdout",
     "output_type": "stream",
     "text": [
      "Memory usage after processing review chunk: 4206.16 MB\n"
     ]
    },
    {
     "name": "stderr",
     "output_type": "stream",
     "text": [
      "Reading reviews: 11202612it [08:06, 20919.63it/s]"
     ]
    },
    {
     "name": "stdout",
     "output_type": "stream",
     "text": [
      "Memory usage after processing review chunk: 4206.16 MB\n"
     ]
    },
    {
     "name": "stderr",
     "output_type": "stream",
     "text": [
      "Reading reviews: 11260608it [08:08, 19861.73it/s]"
     ]
    },
    {
     "name": "stdout",
     "output_type": "stream",
     "text": [
      "Memory usage after processing review chunk: 4206.16 MB\n"
     ]
    },
    {
     "name": "stderr",
     "output_type": "stream",
     "text": [
      "Reading reviews: 11308845it [08:11, 19342.35it/s]"
     ]
    },
    {
     "name": "stdout",
     "output_type": "stream",
     "text": [
      "Memory usage after processing review chunk: 4206.16 MB\n"
     ]
    },
    {
     "name": "stderr",
     "output_type": "stream",
     "text": [
      "Reading reviews: 11360593it [08:13, 17322.64it/s]"
     ]
    },
    {
     "name": "stdout",
     "output_type": "stream",
     "text": [
      "Memory usage after processing review chunk: 4206.16 MB\n"
     ]
    },
    {
     "name": "stderr",
     "output_type": "stream",
     "text": [
      "Reading reviews: 11415230it [08:16, 17569.27it/s]"
     ]
    },
    {
     "name": "stdout",
     "output_type": "stream",
     "text": [
      "Memory usage after processing review chunk: 4206.16 MB\n"
     ]
    },
    {
     "name": "stderr",
     "output_type": "stream",
     "text": [
      "Reading reviews: 11473246it [08:18, 19984.52it/s]"
     ]
    },
    {
     "name": "stdout",
     "output_type": "stream",
     "text": [
      "Memory usage after processing review chunk: 4206.16 MB\n"
     ]
    },
    {
     "name": "stderr",
     "output_type": "stream",
     "text": [
      "Reading reviews: 11531418it [08:20, 20212.44it/s]"
     ]
    },
    {
     "name": "stdout",
     "output_type": "stream",
     "text": [
      "Memory usage after processing review chunk: 4206.16 MB\n"
     ]
    },
    {
     "name": "stderr",
     "output_type": "stream",
     "text": [
      "Reading reviews: 11578231it [08:23, 19344.24it/s]"
     ]
    },
    {
     "name": "stdout",
     "output_type": "stream",
     "text": [
      "Memory usage after processing review chunk: 4206.16 MB\n"
     ]
    },
    {
     "name": "stderr",
     "output_type": "stream",
     "text": [
      "Reading reviews: 11635295it [08:25, 19286.07it/s]"
     ]
    },
    {
     "name": "stdout",
     "output_type": "stream",
     "text": [
      "Memory usage after processing review chunk: 4206.16 MB\n"
     ]
    },
    {
     "name": "stderr",
     "output_type": "stream",
     "text": [
      "Reading reviews: 11678312it [08:27, 16617.19it/s]"
     ]
    },
    {
     "name": "stdout",
     "output_type": "stream",
     "text": [
      "Memory usage after processing review chunk: 4206.16 MB\n"
     ]
    },
    {
     "name": "stderr",
     "output_type": "stream",
     "text": [
      "Reading reviews: 11740841it [08:30, 18741.75it/s]"
     ]
    },
    {
     "name": "stdout",
     "output_type": "stream",
     "text": [
      "Memory usage after processing review chunk: 4206.16 MB\n"
     ]
    },
    {
     "name": "stderr",
     "output_type": "stream",
     "text": [
      "Reading reviews: 11799483it [08:32, 20274.03it/s]"
     ]
    },
    {
     "name": "stdout",
     "output_type": "stream",
     "text": [
      "Memory usage after processing review chunk: 4206.16 MB\n"
     ]
    },
    {
     "name": "stderr",
     "output_type": "stream",
     "text": [
      "Reading reviews: 11844459it [08:35, 18243.86it/s]"
     ]
    },
    {
     "name": "stdout",
     "output_type": "stream",
     "text": [
      "Memory usage after processing review chunk: 4206.16 MB\n"
     ]
    },
    {
     "name": "stderr",
     "output_type": "stream",
     "text": [
      "Reading reviews: 11901168it [08:37, 18363.51it/s]"
     ]
    },
    {
     "name": "stdout",
     "output_type": "stream",
     "text": [
      "Memory usage after processing review chunk: 4206.16 MB\n"
     ]
    },
    {
     "name": "stderr",
     "output_type": "stream",
     "text": [
      "Reading reviews: 11956543it [08:39, 19228.65it/s]"
     ]
    },
    {
     "name": "stdout",
     "output_type": "stream",
     "text": [
      "Memory usage after processing review chunk: 4206.16 MB\n"
     ]
    },
    {
     "name": "stderr",
     "output_type": "stream",
     "text": [
      "Reading reviews: 12011280it [08:42, 18744.22it/s]"
     ]
    },
    {
     "name": "stdout",
     "output_type": "stream",
     "text": [
      "Memory usage after processing review chunk: 4206.16 MB\n"
     ]
    },
    {
     "name": "stderr",
     "output_type": "stream",
     "text": [
      "Reading reviews: 12066067it [08:44, 18570.65it/s]"
     ]
    },
    {
     "name": "stdout",
     "output_type": "stream",
     "text": [
      "Memory usage after processing review chunk: 4206.16 MB\n"
     ]
    },
    {
     "name": "stderr",
     "output_type": "stream",
     "text": [
      "Reading reviews: 12122241it [08:47, 19265.05it/s]"
     ]
    },
    {
     "name": "stdout",
     "output_type": "stream",
     "text": [
      "Memory usage after processing review chunk: 4206.16 MB\n"
     ]
    },
    {
     "name": "stderr",
     "output_type": "stream",
     "text": [
      "Reading reviews: 12175869it [08:49, 18905.46it/s]"
     ]
    },
    {
     "name": "stdout",
     "output_type": "stream",
     "text": [
      "Memory usage after processing review chunk: 4206.16 MB\n"
     ]
    },
    {
     "name": "stderr",
     "output_type": "stream",
     "text": [
      "Reading reviews: 12230766it [08:51, 18971.36it/s]"
     ]
    },
    {
     "name": "stdout",
     "output_type": "stream",
     "text": [
      "Memory usage after processing review chunk: 4206.16 MB\n"
     ]
    },
    {
     "name": "stderr",
     "output_type": "stream",
     "text": [
      "Reading reviews: 12281350it [08:54, 18017.19it/s]"
     ]
    },
    {
     "name": "stdout",
     "output_type": "stream",
     "text": [
      "Memory usage after processing review chunk: 4206.16 MB\n"
     ]
    },
    {
     "name": "stderr",
     "output_type": "stream",
     "text": [
      "Reading reviews: 12335368it [08:56, 18745.50it/s]"
     ]
    },
    {
     "name": "stdout",
     "output_type": "stream",
     "text": [
      "Memory usage after processing review chunk: 4206.29 MB\n"
     ]
    },
    {
     "name": "stderr",
     "output_type": "stream",
     "text": [
      "Reading reviews: 12380088it [08:58, 17906.18it/s]"
     ]
    },
    {
     "name": "stdout",
     "output_type": "stream",
     "text": [
      "Memory usage after processing review chunk: 4206.29 MB\n"
     ]
    },
    {
     "name": "stderr",
     "output_type": "stream",
     "text": [
      "Reading reviews: 12440290it [09:01, 17869.53it/s]"
     ]
    },
    {
     "name": "stdout",
     "output_type": "stream",
     "text": [
      "Memory usage after processing review chunk: 4206.29 MB\n"
     ]
    },
    {
     "name": "stderr",
     "output_type": "stream",
     "text": [
      "Reading reviews: 12497134it [09:03, 19963.79it/s]"
     ]
    },
    {
     "name": "stdout",
     "output_type": "stream",
     "text": [
      "Memory usage after processing review chunk: 4206.29 MB\n"
     ]
    },
    {
     "name": "stderr",
     "output_type": "stream",
     "text": [
      "Reading reviews: 12543152it [09:05, 18940.44it/s]"
     ]
    },
    {
     "name": "stdout",
     "output_type": "stream",
     "text": [
      "Memory usage after processing review chunk: 4206.29 MB\n"
     ]
    },
    {
     "name": "stderr",
     "output_type": "stream",
     "text": [
      "Reading reviews: 12599620it [09:08, 19836.99it/s]"
     ]
    },
    {
     "name": "stdout",
     "output_type": "stream",
     "text": [
      "Memory usage after processing review chunk: 4206.29 MB\n"
     ]
    },
    {
     "name": "stderr",
     "output_type": "stream",
     "text": [
      "Reading reviews: 12652238it [09:10, 18739.98it/s]"
     ]
    },
    {
     "name": "stdout",
     "output_type": "stream",
     "text": [
      "Memory usage after processing review chunk: 4206.29 MB\n"
     ]
    },
    {
     "name": "stderr",
     "output_type": "stream",
     "text": [
      "Reading reviews: 12706546it [09:12, 19644.04it/s]"
     ]
    },
    {
     "name": "stdout",
     "output_type": "stream",
     "text": [
      "Memory usage after processing review chunk: 4206.29 MB\n"
     ]
    },
    {
     "name": "stderr",
     "output_type": "stream",
     "text": [
      "Reading reviews: 12762325it [09:15, 19527.03it/s]"
     ]
    },
    {
     "name": "stdout",
     "output_type": "stream",
     "text": [
      "Memory usage after processing review chunk: 4206.29 MB\n"
     ]
    },
    {
     "name": "stderr",
     "output_type": "stream",
     "text": [
      "Reading reviews: 12815605it [09:17, 18212.64it/s]"
     ]
    },
    {
     "name": "stdout",
     "output_type": "stream",
     "text": [
      "Memory usage after processing review chunk: 4206.29 MB\n"
     ]
    },
    {
     "name": "stderr",
     "output_type": "stream",
     "text": [
      "Reading reviews: 12858070it [09:20, 11024.42it/s]"
     ]
    },
    {
     "name": "stdout",
     "output_type": "stream",
     "text": [
      "Memory usage after processing review chunk: 4206.29 MB\n"
     ]
    },
    {
     "name": "stderr",
     "output_type": "stream",
     "text": [
      "Reading reviews: 12917554it [09:25, 6625.12it/s] "
     ]
    },
    {
     "name": "stdout",
     "output_type": "stream",
     "text": [
      "Memory usage after processing review chunk: 4206.29 MB\n"
     ]
    },
    {
     "name": "stderr",
     "output_type": "stream",
     "text": [
      "Reading reviews: 12983454it [09:29, 13270.95it/s]"
     ]
    },
    {
     "name": "stdout",
     "output_type": "stream",
     "text": [
      "Memory usage after processing review chunk: 4206.29 MB\n"
     ]
    },
    {
     "name": "stderr",
     "output_type": "stream",
     "text": [
      "Reading reviews: 13024483it [09:32, 10101.37it/s]"
     ]
    },
    {
     "name": "stdout",
     "output_type": "stream",
     "text": [
      "Memory usage after processing review chunk: 4206.29 MB\n"
     ]
    },
    {
     "name": "stderr",
     "output_type": "stream",
     "text": [
      "Reading reviews: 13077351it [09:35, 10623.13it/s]"
     ]
    },
    {
     "name": "stdout",
     "output_type": "stream",
     "text": [
      "Memory usage after processing review chunk: 4206.16 MB\n"
     ]
    },
    {
     "name": "stderr",
     "output_type": "stream",
     "text": [
      "Reading reviews: 13133678it [09:38, 11931.44it/s]"
     ]
    },
    {
     "name": "stdout",
     "output_type": "stream",
     "text": [
      "Memory usage after processing review chunk: 4206.16 MB\n"
     ]
    },
    {
     "name": "stderr",
     "output_type": "stream",
     "text": [
      "Reading reviews: 13190594it [09:41, 10910.81it/s]"
     ]
    },
    {
     "name": "stdout",
     "output_type": "stream",
     "text": [
      "Memory usage after processing review chunk: 4206.16 MB\n"
     ]
    },
    {
     "name": "stderr",
     "output_type": "stream",
     "text": [
      "Reading reviews: 13244500it [09:44, 9498.14it/s] "
     ]
    },
    {
     "name": "stdout",
     "output_type": "stream",
     "text": [
      "Memory usage after processing review chunk: 4206.16 MB\n"
     ]
    },
    {
     "name": "stderr",
     "output_type": "stream",
     "text": [
      "Reading reviews: 13302125it [09:47, 16945.07it/s]"
     ]
    },
    {
     "name": "stdout",
     "output_type": "stream",
     "text": [
      "Memory usage after processing review chunk: 4206.16 MB\n"
     ]
    },
    {
     "name": "stderr",
     "output_type": "stream",
     "text": [
      "Reading reviews: 13356933it [09:49, 18973.01it/s]"
     ]
    },
    {
     "name": "stdout",
     "output_type": "stream",
     "text": [
      "Memory usage after processing review chunk: 4206.16 MB\n"
     ]
    },
    {
     "name": "stderr",
     "output_type": "stream",
     "text": [
      "Reading reviews: 13412040it [09:51, 19719.63it/s]"
     ]
    },
    {
     "name": "stdout",
     "output_type": "stream",
     "text": [
      "Memory usage after processing review chunk: 4206.16 MB\n"
     ]
    },
    {
     "name": "stderr",
     "output_type": "stream",
     "text": [
      "Reading reviews: 13468725it [09:54, 19210.26it/s]"
     ]
    },
    {
     "name": "stdout",
     "output_type": "stream",
     "text": [
      "Memory usage after processing review chunk: 4206.16 MB\n"
     ]
    },
    {
     "name": "stderr",
     "output_type": "stream",
     "text": [
      "Reading reviews: 13523248it [09:56, 18578.39it/s]"
     ]
    },
    {
     "name": "stdout",
     "output_type": "stream",
     "text": [
      "Memory usage after processing review chunk: 4206.16 MB\n"
     ]
    },
    {
     "name": "stderr",
     "output_type": "stream",
     "text": [
      "Reading reviews: 13576597it [09:59, 18189.70it/s]"
     ]
    },
    {
     "name": "stdout",
     "output_type": "stream",
     "text": [
      "Memory usage after processing review chunk: 4206.16 MB\n"
     ]
    },
    {
     "name": "stderr",
     "output_type": "stream",
     "text": [
      "Reading reviews: 13636727it [10:01, 18704.34it/s]"
     ]
    },
    {
     "name": "stdout",
     "output_type": "stream",
     "text": [
      "Memory usage after processing review chunk: 4206.29 MB\n"
     ]
    },
    {
     "name": "stderr",
     "output_type": "stream",
     "text": [
      "Reading reviews: 13686697it [10:04, 17296.09it/s]"
     ]
    },
    {
     "name": "stdout",
     "output_type": "stream",
     "text": [
      "Memory usage after processing review chunk: 4206.29 MB\n"
     ]
    },
    {
     "name": "stderr",
     "output_type": "stream",
     "text": [
      "Reading reviews: 13735943it [10:06, 17472.10it/s]"
     ]
    },
    {
     "name": "stdout",
     "output_type": "stream",
     "text": [
      "Memory usage after processing review chunk: 4206.29 MB\n"
     ]
    },
    {
     "name": "stderr",
     "output_type": "stream",
     "text": [
      "Reading reviews: 13786637it [10:08, 17372.67it/s]"
     ]
    },
    {
     "name": "stdout",
     "output_type": "stream",
     "text": [
      "Memory usage after processing review chunk: 4206.29 MB\n"
     ]
    },
    {
     "name": "stderr",
     "output_type": "stream",
     "text": [
      "Reading reviews: 13842352it [10:11, 19248.11it/s]"
     ]
    },
    {
     "name": "stdout",
     "output_type": "stream",
     "text": [
      "Memory usage after processing review chunk: 4206.29 MB\n"
     ]
    },
    {
     "name": "stderr",
     "output_type": "stream",
     "text": [
      "Reading reviews: 13895950it [10:13, 18727.64it/s]"
     ]
    },
    {
     "name": "stdout",
     "output_type": "stream",
     "text": [
      "Memory usage after processing review chunk: 4206.29 MB\n"
     ]
    },
    {
     "name": "stderr",
     "output_type": "stream",
     "text": [
      "Reading reviews: 13954478it [10:15, 18427.26it/s]"
     ]
    },
    {
     "name": "stdout",
     "output_type": "stream",
     "text": [
      "Memory usage after processing review chunk: 4206.29 MB\n"
     ]
    },
    {
     "name": "stderr",
     "output_type": "stream",
     "text": [
      "Reading reviews: 14007556it [10:18, 18648.83it/s]"
     ]
    },
    {
     "name": "stdout",
     "output_type": "stream",
     "text": [
      "Memory usage after processing review chunk: 4206.29 MB\n"
     ]
    },
    {
     "name": "stderr",
     "output_type": "stream",
     "text": [
      "Reading reviews: 14057563it [10:20, 17324.83it/s]"
     ]
    },
    {
     "name": "stdout",
     "output_type": "stream",
     "text": [
      "Memory usage after processing review chunk: 4206.29 MB\n"
     ]
    },
    {
     "name": "stderr",
     "output_type": "stream",
     "text": [
      "Reading reviews: 14109489it [10:22, 18453.75it/s]"
     ]
    },
    {
     "name": "stdout",
     "output_type": "stream",
     "text": [
      "Memory usage after processing review chunk: 4206.29 MB\n"
     ]
    },
    {
     "name": "stderr",
     "output_type": "stream",
     "text": [
      "Reading reviews: 14165905it [10:25, 17338.63it/s]"
     ]
    },
    {
     "name": "stdout",
     "output_type": "stream",
     "text": [
      "Memory usage after processing review chunk: 4206.29 MB\n"
     ]
    },
    {
     "name": "stderr",
     "output_type": "stream",
     "text": [
      "Reading reviews: 14209780it [10:27, 15154.81it/s]"
     ]
    },
    {
     "name": "stdout",
     "output_type": "stream",
     "text": [
      "Memory usage after processing review chunk: 4206.29 MB\n"
     ]
    },
    {
     "name": "stderr",
     "output_type": "stream",
     "text": [
      "Reading reviews: 14262174it [10:30, 15385.23it/s]"
     ]
    },
    {
     "name": "stdout",
     "output_type": "stream",
     "text": [
      "Memory usage after processing review chunk: 4206.29 MB\n"
     ]
    },
    {
     "name": "stderr",
     "output_type": "stream",
     "text": [
      "Reading reviews: 14312629it [10:33, 11634.13it/s]"
     ]
    },
    {
     "name": "stdout",
     "output_type": "stream",
     "text": [
      "Memory usage after processing review chunk: 4206.29 MB\n"
     ]
    },
    {
     "name": "stderr",
     "output_type": "stream",
     "text": [
      "Reading reviews: 14375243it [10:35, 13720.70it/s]"
     ]
    },
    {
     "name": "stdout",
     "output_type": "stream",
     "text": [
      "Memory usage after processing review chunk: 4206.29 MB\n"
     ]
    },
    {
     "name": "stderr",
     "output_type": "stream",
     "text": [
      "Reading reviews: 14422135it [10:38, 11926.07it/s]"
     ]
    },
    {
     "name": "stdout",
     "output_type": "stream",
     "text": [
      "Memory usage after processing review chunk: 4206.29 MB\n"
     ]
    },
    {
     "name": "stderr",
     "output_type": "stream",
     "text": [
      "Reading reviews: 14476063it [10:41, 12436.75it/s]"
     ]
    },
    {
     "name": "stdout",
     "output_type": "stream",
     "text": [
      "Memory usage after processing review chunk: 4206.41 MB\n"
     ]
    },
    {
     "name": "stderr",
     "output_type": "stream",
     "text": [
      "Reading reviews: 14534404it [10:44, 13793.22it/s]"
     ]
    },
    {
     "name": "stdout",
     "output_type": "stream",
     "text": [
      "Memory usage after processing review chunk: 4206.41 MB\n"
     ]
    },
    {
     "name": "stderr",
     "output_type": "stream",
     "text": [
      "Reading reviews: 14583984it [10:46, 12320.88it/s]"
     ]
    },
    {
     "name": "stdout",
     "output_type": "stream",
     "text": [
      "Memory usage after processing review chunk: 4206.41 MB\n"
     ]
    },
    {
     "name": "stderr",
     "output_type": "stream",
     "text": [
      "Reading reviews: 14633864it [10:49, 12960.45it/s]"
     ]
    },
    {
     "name": "stdout",
     "output_type": "stream",
     "text": [
      "Memory usage after processing review chunk: 4206.41 MB\n"
     ]
    },
    {
     "name": "stderr",
     "output_type": "stream",
     "text": [
      "Reading reviews: 14694402it [10:52, 13095.68it/s]"
     ]
    },
    {
     "name": "stdout",
     "output_type": "stream",
     "text": [
      "Memory usage after processing review chunk: 4206.41 MB\n"
     ]
    },
    {
     "name": "stderr",
     "output_type": "stream",
     "text": [
      "Reading reviews: 14748182it [10:54, 17622.90it/s]"
     ]
    },
    {
     "name": "stdout",
     "output_type": "stream",
     "text": [
      "Memory usage after processing review chunk: 4206.41 MB\n"
     ]
    },
    {
     "name": "stderr",
     "output_type": "stream",
     "text": [
      "Reading reviews: 14811723it [10:57, 24963.83it/s]"
     ]
    },
    {
     "name": "stdout",
     "output_type": "stream",
     "text": [
      "Memory usage after processing review chunk: 4206.41 MB\n"
     ]
    },
    {
     "name": "stderr",
     "output_type": "stream",
     "text": [
      "Reading reviews: 14861491it [10:59, 18473.67it/s]"
     ]
    },
    {
     "name": "stdout",
     "output_type": "stream",
     "text": [
      "Memory usage after processing review chunk: 4206.41 MB\n"
     ]
    },
    {
     "name": "stderr",
     "output_type": "stream",
     "text": [
      "Reading reviews: 14913222it [11:01, 17841.17it/s]"
     ]
    },
    {
     "name": "stdout",
     "output_type": "stream",
     "text": [
      "Memory usage after processing review chunk: 4206.41 MB\n"
     ]
    },
    {
     "name": "stderr",
     "output_type": "stream",
     "text": [
      "Reading reviews: 14966992it [11:04, 18625.54it/s]"
     ]
    },
    {
     "name": "stdout",
     "output_type": "stream",
     "text": [
      "Memory usage after processing review chunk: 4206.41 MB\n"
     ]
    },
    {
     "name": "stderr",
     "output_type": "stream",
     "text": [
      "Reading reviews: 15020783it [11:06, 18547.27it/s]"
     ]
    },
    {
     "name": "stdout",
     "output_type": "stream",
     "text": [
      "Memory usage after processing review chunk: 4206.41 MB\n"
     ]
    },
    {
     "name": "stderr",
     "output_type": "stream",
     "text": [
      "Reading reviews: 15072152it [11:08, 18113.28it/s]"
     ]
    },
    {
     "name": "stdout",
     "output_type": "stream",
     "text": [
      "Memory usage after processing review chunk: 4206.41 MB\n"
     ]
    },
    {
     "name": "stderr",
     "output_type": "stream",
     "text": [
      "Reading reviews: 15127726it [11:11, 19402.63it/s]"
     ]
    },
    {
     "name": "stdout",
     "output_type": "stream",
     "text": [
      "Memory usage after processing review chunk: 4206.41 MB\n"
     ]
    },
    {
     "name": "stderr",
     "output_type": "stream",
     "text": [
      "Reading reviews: 15182309it [11:13, 19014.68it/s]"
     ]
    },
    {
     "name": "stdout",
     "output_type": "stream",
     "text": [
      "Memory usage after processing review chunk: 4206.41 MB\n"
     ]
    },
    {
     "name": "stderr",
     "output_type": "stream",
     "text": [
      "Reading reviews: 15236825it [11:15, 19183.81it/s]"
     ]
    },
    {
     "name": "stdout",
     "output_type": "stream",
     "text": [
      "Memory usage after processing review chunk: 4206.41 MB\n"
     ]
    },
    {
     "name": "stderr",
     "output_type": "stream",
     "text": [
      "Reading reviews: 15295453it [11:18, 20846.07it/s]"
     ]
    },
    {
     "name": "stdout",
     "output_type": "stream",
     "text": [
      "Memory usage after processing review chunk: 4206.41 MB\n"
     ]
    },
    {
     "name": "stderr",
     "output_type": "stream",
     "text": [
      "Reading reviews: 15353954it [11:20, 20665.44it/s]"
     ]
    },
    {
     "name": "stdout",
     "output_type": "stream",
     "text": [
      "Memory usage after processing review chunk: 4206.41 MB\n"
     ]
    },
    {
     "name": "stderr",
     "output_type": "stream",
     "text": [
      "Reading reviews: 15407736it [11:22, 24413.68it/s]"
     ]
    },
    {
     "name": "stdout",
     "output_type": "stream",
     "text": [
      "Memory usage after processing review chunk: 4206.41 MB\n"
     ]
    },
    {
     "name": "stderr",
     "output_type": "stream",
     "text": [
      "Reading reviews: 15461217it [11:25, 25139.53it/s]"
     ]
    },
    {
     "name": "stdout",
     "output_type": "stream",
     "text": [
      "Memory usage after processing review chunk: 4206.41 MB\n"
     ]
    },
    {
     "name": "stderr",
     "output_type": "stream",
     "text": [
      "Reading reviews: 15503870it [11:27, 19118.91it/s]"
     ]
    },
    {
     "name": "stdout",
     "output_type": "stream",
     "text": [
      "Memory usage after processing review chunk: 4206.41 MB\n"
     ]
    },
    {
     "name": "stderr",
     "output_type": "stream",
     "text": [
      "Reading reviews: 15557529it [11:29, 19491.29it/s]"
     ]
    },
    {
     "name": "stdout",
     "output_type": "stream",
     "text": [
      "Memory usage after processing review chunk: 4206.41 MB\n"
     ]
    },
    {
     "name": "stderr",
     "output_type": "stream",
     "text": [
      "Reading reviews: 15609769it [11:32, 18634.23it/s]"
     ]
    },
    {
     "name": "stdout",
     "output_type": "stream",
     "text": [
      "Memory usage after processing review chunk: 4206.41 MB\n"
     ]
    },
    {
     "name": "stderr",
     "output_type": "stream",
     "text": [
      "Reading reviews: 15664140it [11:34, 19395.36it/s]"
     ]
    },
    {
     "name": "stdout",
     "output_type": "stream",
     "text": [
      "Memory usage after processing review chunk: 4206.41 MB\n"
     ]
    },
    {
     "name": "stderr",
     "output_type": "stream",
     "text": [
      "Reading reviews: 15718612it [11:36, 19497.50it/s]"
     ]
    },
    {
     "name": "stdout",
     "output_type": "stream",
     "text": [
      "Memory usage after processing review chunk: 4206.41 MB\n"
     ]
    },
    {
     "name": "stderr",
     "output_type": "stream",
     "text": [
      "Reading reviews: 15771876it [11:39, 17727.50it/s]"
     ]
    },
    {
     "name": "stdout",
     "output_type": "stream",
     "text": [
      "Memory usage after processing review chunk: 4206.41 MB\n"
     ]
    },
    {
     "name": "stderr",
     "output_type": "stream",
     "text": [
      "Reading reviews: 15824390it [11:41, 18685.51it/s]"
     ]
    },
    {
     "name": "stdout",
     "output_type": "stream",
     "text": [
      "Memory usage after processing review chunk: 4206.54 MB\n"
     ]
    },
    {
     "name": "stderr",
     "output_type": "stream",
     "text": [
      "Reading reviews: 15875937it [11:43, 18228.93it/s]"
     ]
    },
    {
     "name": "stdout",
     "output_type": "stream",
     "text": [
      "Memory usage after processing review chunk: 4206.54 MB\n"
     ]
    },
    {
     "name": "stderr",
     "output_type": "stream",
     "text": [
      "Reading reviews: 15926085it [11:46, 17678.14it/s]"
     ]
    },
    {
     "name": "stdout",
     "output_type": "stream",
     "text": [
      "Memory usage after processing review chunk: 4206.54 MB\n"
     ]
    },
    {
     "name": "stderr",
     "output_type": "stream",
     "text": [
      "Reading reviews: 15979629it [11:48, 18660.83it/s]"
     ]
    },
    {
     "name": "stdout",
     "output_type": "stream",
     "text": [
      "Memory usage after processing review chunk: 4206.54 MB\n"
     ]
    },
    {
     "name": "stderr",
     "output_type": "stream",
     "text": [
      "Reading reviews: 16032387it [11:50, 18234.05it/s]"
     ]
    },
    {
     "name": "stdout",
     "output_type": "stream",
     "text": [
      "Memory usage after processing review chunk: 4206.54 MB\n"
     ]
    },
    {
     "name": "stderr",
     "output_type": "stream",
     "text": [
      "Reading reviews: 16082940it [11:53, 17944.48it/s]"
     ]
    },
    {
     "name": "stdout",
     "output_type": "stream",
     "text": [
      "Memory usage after processing review chunk: 4206.54 MB\n"
     ]
    },
    {
     "name": "stderr",
     "output_type": "stream",
     "text": [
      "Reading reviews: 16136671it [11:55, 18884.05it/s]"
     ]
    },
    {
     "name": "stdout",
     "output_type": "stream",
     "text": [
      "Memory usage after processing review chunk: 4206.54 MB\n"
     ]
    },
    {
     "name": "stderr",
     "output_type": "stream",
     "text": [
      "Reading reviews: 16187067it [11:57, 18555.77it/s]"
     ]
    },
    {
     "name": "stdout",
     "output_type": "stream",
     "text": [
      "Memory usage after processing review chunk: 4206.54 MB\n"
     ]
    },
    {
     "name": "stderr",
     "output_type": "stream",
     "text": [
      "Reading reviews: 16244459it [12:00, 20193.97it/s]"
     ]
    },
    {
     "name": "stdout",
     "output_type": "stream",
     "text": [
      "Memory usage after processing review chunk: 4206.54 MB\n"
     ]
    },
    {
     "name": "stderr",
     "output_type": "stream",
     "text": [
      "Reading reviews: 16301332it [12:02, 20829.30it/s]"
     ]
    },
    {
     "name": "stdout",
     "output_type": "stream",
     "text": [
      "Memory usage after processing review chunk: 4206.54 MB\n"
     ]
    },
    {
     "name": "stderr",
     "output_type": "stream",
     "text": [
      "Reading reviews: 16347880it [12:04, 19469.57it/s]"
     ]
    },
    {
     "name": "stdout",
     "output_type": "stream",
     "text": [
      "Memory usage after processing review chunk: 4206.54 MB\n"
     ]
    },
    {
     "name": "stderr",
     "output_type": "stream",
     "text": [
      "Reading reviews: 16409326it [12:07, 21810.21it/s]"
     ]
    },
    {
     "name": "stdout",
     "output_type": "stream",
     "text": [
      "Memory usage after processing review chunk: 4206.54 MB\n"
     ]
    },
    {
     "name": "stderr",
     "output_type": "stream",
     "text": [
      "Reading reviews: 16454138it [12:09, 18908.14it/s]"
     ]
    },
    {
     "name": "stdout",
     "output_type": "stream",
     "text": [
      "Memory usage after processing review chunk: 4206.79 MB\n"
     ]
    },
    {
     "name": "stderr",
     "output_type": "stream",
     "text": [
      "Reading reviews: 16512332it [12:11, 19897.71it/s]"
     ]
    },
    {
     "name": "stdout",
     "output_type": "stream",
     "text": [
      "Memory usage after processing review chunk: 4206.79 MB\n"
     ]
    },
    {
     "name": "stderr",
     "output_type": "stream",
     "text": [
      "Reading reviews: 16563847it [12:14, 22421.19it/s]"
     ]
    },
    {
     "name": "stdout",
     "output_type": "stream",
     "text": [
      "Memory usage after processing review chunk: 4206.79 MB\n"
     ]
    },
    {
     "name": "stderr",
     "output_type": "stream",
     "text": [
      "Reading reviews: 16615334it [12:16, 18816.09it/s]"
     ]
    },
    {
     "name": "stdout",
     "output_type": "stream",
     "text": [
      "Memory usage after processing review chunk: 4206.79 MB\n"
     ]
    },
    {
     "name": "stderr",
     "output_type": "stream",
     "text": [
      "Reading reviews: 16670077it [12:18, 19409.31it/s]"
     ]
    },
    {
     "name": "stdout",
     "output_type": "stream",
     "text": [
      "Memory usage after processing review chunk: 4206.79 MB\n"
     ]
    },
    {
     "name": "stderr",
     "output_type": "stream",
     "text": [
      "Reading reviews: 16722528it [12:21, 18572.15it/s]"
     ]
    },
    {
     "name": "stdout",
     "output_type": "stream",
     "text": [
      "Memory usage after processing review chunk: 4206.79 MB\n"
     ]
    },
    {
     "name": "stderr",
     "output_type": "stream",
     "text": [
      "Reading reviews: 16774942it [12:23, 19579.31it/s]"
     ]
    },
    {
     "name": "stdout",
     "output_type": "stream",
     "text": [
      "Memory usage after processing review chunk: 4206.79 MB\n"
     ]
    },
    {
     "name": "stderr",
     "output_type": "stream",
     "text": [
      "Reading reviews: 16829947it [12:25, 19746.38it/s]"
     ]
    },
    {
     "name": "stdout",
     "output_type": "stream",
     "text": [
      "Memory usage after processing review chunk: 4206.79 MB\n"
     ]
    },
    {
     "name": "stderr",
     "output_type": "stream",
     "text": [
      "Reading reviews: 16888151it [12:27, 20615.18it/s]"
     ]
    },
    {
     "name": "stdout",
     "output_type": "stream",
     "text": [
      "Memory usage after processing review chunk: 4207.16 MB\n"
     ]
    },
    {
     "name": "stderr",
     "output_type": "stream",
     "text": [
      "Reading reviews: 16934017it [12:30, 19110.42it/s]"
     ]
    },
    {
     "name": "stdout",
     "output_type": "stream",
     "text": [
      "Memory usage after processing review chunk: 4207.16 MB\n"
     ]
    },
    {
     "name": "stderr",
     "output_type": "stream",
     "text": [
      "Reading reviews: 16984788it [12:32, 16937.94it/s]"
     ]
    },
    {
     "name": "stdout",
     "output_type": "stream",
     "text": [
      "Memory usage after processing review chunk: 4207.16 MB\n"
     ]
    },
    {
     "name": "stderr",
     "output_type": "stream",
     "text": [
      "Reading reviews: 17041097it [12:34, 19268.59it/s]"
     ]
    },
    {
     "name": "stdout",
     "output_type": "stream",
     "text": [
      "Memory usage after processing review chunk: 4207.16 MB\n"
     ]
    },
    {
     "name": "stderr",
     "output_type": "stream",
     "text": [
      "Reading reviews: 17092437it [12:37, 17711.24it/s]"
     ]
    },
    {
     "name": "stdout",
     "output_type": "stream",
     "text": [
      "Memory usage after processing review chunk: 4207.16 MB\n"
     ]
    },
    {
     "name": "stderr",
     "output_type": "stream",
     "text": [
      "Reading reviews: 17153189it [12:39, 20435.83it/s]"
     ]
    },
    {
     "name": "stdout",
     "output_type": "stream",
     "text": [
      "Memory usage after processing review chunk: 4207.16 MB\n"
     ]
    },
    {
     "name": "stderr",
     "output_type": "stream",
     "text": [
      "Reading reviews: 17197168it [12:41, 18105.64it/s]"
     ]
    },
    {
     "name": "stdout",
     "output_type": "stream",
     "text": [
      "Memory usage after processing review chunk: 4207.16 MB\n"
     ]
    },
    {
     "name": "stderr",
     "output_type": "stream",
     "text": [
      "Reading reviews: 17261889it [12:44, 19416.14it/s]"
     ]
    },
    {
     "name": "stdout",
     "output_type": "stream",
     "text": [
      "Memory usage after processing review chunk: 4207.16 MB\n"
     ]
    },
    {
     "name": "stderr",
     "output_type": "stream",
     "text": [
      "Reading reviews: 17315093it [12:46, 20123.64it/s]"
     ]
    },
    {
     "name": "stdout",
     "output_type": "stream",
     "text": [
      "Memory usage after processing review chunk: 4207.16 MB\n"
     ]
    },
    {
     "name": "stderr",
     "output_type": "stream",
     "text": [
      "Reading reviews: 17359604it [12:48, 18468.16it/s]"
     ]
    },
    {
     "name": "stdout",
     "output_type": "stream",
     "text": [
      "Memory usage after processing review chunk: 4207.16 MB\n"
     ]
    },
    {
     "name": "stderr",
     "output_type": "stream",
     "text": [
      "Reading reviews: 17418965it [12:51, 20997.94it/s]"
     ]
    },
    {
     "name": "stdout",
     "output_type": "stream",
     "text": [
      "Memory usage after processing review chunk: 4207.16 MB\n"
     ]
    },
    {
     "name": "stderr",
     "output_type": "stream",
     "text": [
      "Reading reviews: 17474073it [12:53, 19977.94it/s]"
     ]
    },
    {
     "name": "stdout",
     "output_type": "stream",
     "text": [
      "Memory usage after processing review chunk: 4207.16 MB\n"
     ]
    },
    {
     "name": "stderr",
     "output_type": "stream",
     "text": [
      "Reading reviews: 17531846it [12:55, 25714.35it/s]"
     ]
    },
    {
     "name": "stdout",
     "output_type": "stream",
     "text": [
      "Memory usage after processing review chunk: 4207.16 MB\n"
     ]
    },
    {
     "name": "stderr",
     "output_type": "stream",
     "text": [
      "Reading reviews: 17575043it [12:57, 19435.13it/s]"
     ]
    },
    {
     "name": "stdout",
     "output_type": "stream",
     "text": [
      "Memory usage after processing review chunk: 4207.16 MB\n"
     ]
    },
    {
     "name": "stderr",
     "output_type": "stream",
     "text": [
      "Reading reviews: 17626694it [13:00, 18958.85it/s]"
     ]
    },
    {
     "name": "stdout",
     "output_type": "stream",
     "text": [
      "Memory usage after processing review chunk: 4207.16 MB\n"
     ]
    },
    {
     "name": "stderr",
     "output_type": "stream",
     "text": [
      "Reading reviews: 17682852it [13:02, 19936.63it/s]"
     ]
    },
    {
     "name": "stdout",
     "output_type": "stream",
     "text": [
      "Memory usage after processing review chunk: 4207.16 MB\n"
     ]
    },
    {
     "name": "stderr",
     "output_type": "stream",
     "text": [
      "Reading reviews: 17741027it [13:04, 20953.59it/s]"
     ]
    },
    {
     "name": "stdout",
     "output_type": "stream",
     "text": [
      "Memory usage after processing review chunk: 4207.16 MB\n"
     ]
    },
    {
     "name": "stderr",
     "output_type": "stream",
     "text": [
      "Reading reviews: 17799977it [13:07, 27154.32it/s]"
     ]
    },
    {
     "name": "stdout",
     "output_type": "stream",
     "text": [
      "Memory usage after processing review chunk: 4207.16 MB\n"
     ]
    },
    {
     "name": "stderr",
     "output_type": "stream",
     "text": [
      "Reading reviews: 17847066it [13:09, 20654.99it/s]"
     ]
    },
    {
     "name": "stdout",
     "output_type": "stream",
     "text": [
      "Memory usage after processing review chunk: 4207.16 MB\n"
     ]
    },
    {
     "name": "stderr",
     "output_type": "stream",
     "text": [
      "Reading reviews: 17891421it [13:11, 18874.94it/s]"
     ]
    },
    {
     "name": "stdout",
     "output_type": "stream",
     "text": [
      "Memory usage after processing review chunk: 4207.16 MB\n"
     ]
    },
    {
     "name": "stderr",
     "output_type": "stream",
     "text": [
      "Reading reviews: 17944753it [13:14, 18155.06it/s]"
     ]
    },
    {
     "name": "stdout",
     "output_type": "stream",
     "text": [
      "Memory usage after processing review chunk: 4207.16 MB\n"
     ]
    },
    {
     "name": "stderr",
     "output_type": "stream",
     "text": [
      "Reading reviews: 17995887it [13:16, 19019.20it/s]"
     ]
    },
    {
     "name": "stdout",
     "output_type": "stream",
     "text": [
      "Memory usage after processing review chunk: 4207.16 MB\n"
     ]
    },
    {
     "name": "stderr",
     "output_type": "stream",
     "text": [
      "Reading reviews: 18050671it [13:18, 19539.47it/s]"
     ]
    },
    {
     "name": "stdout",
     "output_type": "stream",
     "text": [
      "Memory usage after processing review chunk: 4207.16 MB\n"
     ]
    },
    {
     "name": "stderr",
     "output_type": "stream",
     "text": [
      "Reading reviews: 18106896it [13:20, 20383.19it/s]"
     ]
    },
    {
     "name": "stdout",
     "output_type": "stream",
     "text": [
      "Memory usage after processing review chunk: 4207.16 MB\n"
     ]
    },
    {
     "name": "stderr",
     "output_type": "stream",
     "text": [
      "Reading reviews: 18152186it [13:23, 19088.89it/s]"
     ]
    },
    {
     "name": "stdout",
     "output_type": "stream",
     "text": [
      "Memory usage after processing review chunk: 4207.16 MB\n"
     ]
    },
    {
     "name": "stderr",
     "output_type": "stream",
     "text": [
      "Reading reviews: 18210687it [13:25, 26074.95it/s]"
     ]
    },
    {
     "name": "stdout",
     "output_type": "stream",
     "text": [
      "Memory usage after processing review chunk: 4207.16 MB\n"
     ]
    },
    {
     "name": "stderr",
     "output_type": "stream",
     "text": [
      "Reading reviews: 18258053it [13:27, 20752.91it/s]"
     ]
    },
    {
     "name": "stdout",
     "output_type": "stream",
     "text": [
      "Memory usage after processing review chunk: 4207.16 MB\n"
     ]
    },
    {
     "name": "stderr",
     "output_type": "stream",
     "text": [
      "Reading reviews: 18314144it [13:30, 25528.17it/s]"
     ]
    },
    {
     "name": "stdout",
     "output_type": "stream",
     "text": [
      "Memory usage after processing review chunk: 4207.16 MB\n"
     ]
    },
    {
     "name": "stderr",
     "output_type": "stream",
     "text": [
      "Reading reviews: 18360110it [13:32, 20102.94it/s]"
     ]
    },
    {
     "name": "stdout",
     "output_type": "stream",
     "text": [
      "Memory usage after processing review chunk: 4207.16 MB\n"
     ]
    },
    {
     "name": "stderr",
     "output_type": "stream",
     "text": [
      "Reading reviews: 18406223it [13:34, 19175.44it/s]"
     ]
    },
    {
     "name": "stdout",
     "output_type": "stream",
     "text": [
      "Memory usage after processing review chunk: 4207.16 MB\n"
     ]
    },
    {
     "name": "stderr",
     "output_type": "stream",
     "text": [
      "Reading reviews: 18459945it [13:36, 18883.49it/s]"
     ]
    },
    {
     "name": "stdout",
     "output_type": "stream",
     "text": [
      "Memory usage after processing review chunk: 4207.16 MB\n"
     ]
    },
    {
     "name": "stderr",
     "output_type": "stream",
     "text": [
      "Reading reviews: 18510590it [13:39, 17241.86it/s]"
     ]
    },
    {
     "name": "stdout",
     "output_type": "stream",
     "text": [
      "Memory usage after processing review chunk: 4207.16 MB\n"
     ]
    },
    {
     "name": "stderr",
     "output_type": "stream",
     "text": [
      "Reading reviews: 18564117it [13:41, 18358.24it/s]"
     ]
    },
    {
     "name": "stdout",
     "output_type": "stream",
     "text": [
      "Memory usage after processing review chunk: 4207.16 MB\n"
     ]
    },
    {
     "name": "stderr",
     "output_type": "stream",
     "text": [
      "Reading reviews: 18607768it [13:43, 13986.29it/s]"
     ]
    },
    {
     "name": "stdout",
     "output_type": "stream",
     "text": [
      "Memory usage after processing review chunk: 4207.16 MB\n"
     ]
    },
    {
     "name": "stderr",
     "output_type": "stream",
     "text": [
      "Reading reviews: 18670999it [13:46, 18787.05it/s]"
     ]
    },
    {
     "name": "stdout",
     "output_type": "stream",
     "text": [
      "Memory usage after processing review chunk: 4207.16 MB\n"
     ]
    },
    {
     "name": "stderr",
     "output_type": "stream",
     "text": [
      "Reading reviews: 18722067it [13:48, 17821.42it/s]"
     ]
    },
    {
     "name": "stdout",
     "output_type": "stream",
     "text": [
      "Memory usage after processing review chunk: 4207.16 MB\n"
     ]
    },
    {
     "name": "stderr",
     "output_type": "stream",
     "text": [
      "Reading reviews: 18779252it [13:51, 24659.68it/s]"
     ]
    },
    {
     "name": "stdout",
     "output_type": "stream",
     "text": [
      "Memory usage after processing review chunk: 4207.16 MB\n"
     ]
    },
    {
     "name": "stderr",
     "output_type": "stream",
     "text": [
      "Reading reviews: 18822744it [13:53, 19144.84it/s]"
     ]
    },
    {
     "name": "stdout",
     "output_type": "stream",
     "text": [
      "Memory usage after processing review chunk: 4207.16 MB\n"
     ]
    },
    {
     "name": "stderr",
     "output_type": "stream",
     "text": [
      "Reading reviews: 18876276it [13:55, 19428.91it/s]"
     ]
    },
    {
     "name": "stdout",
     "output_type": "stream",
     "text": [
      "Memory usage after processing review chunk: 4207.16 MB\n"
     ]
    },
    {
     "name": "stderr",
     "output_type": "stream",
     "text": [
      "Reading reviews: 18928977it [13:57, 18081.70it/s]"
     ]
    },
    {
     "name": "stdout",
     "output_type": "stream",
     "text": [
      "Memory usage after processing review chunk: 4207.16 MB\n"
     ]
    },
    {
     "name": "stderr",
     "output_type": "stream",
     "text": [
      "Reading reviews: 18983950it [14:00, 19692.25it/s]"
     ]
    },
    {
     "name": "stdout",
     "output_type": "stream",
     "text": [
      "Memory usage after processing review chunk: 4207.29 MB\n"
     ]
    },
    {
     "name": "stderr",
     "output_type": "stream",
     "text": [
      "Reading reviews: 19048433it [14:02, 27296.99it/s]"
     ]
    },
    {
     "name": "stdout",
     "output_type": "stream",
     "text": [
      "Memory usage after processing review chunk: 4207.29 MB\n"
     ]
    },
    {
     "name": "stderr",
     "output_type": "stream",
     "text": [
      "Reading reviews: 19085947it [14:04, 20275.07it/s]"
     ]
    },
    {
     "name": "stdout",
     "output_type": "stream",
     "text": [
      "Memory usage after processing review chunk: 4207.29 MB\n"
     ]
    },
    {
     "name": "stderr",
     "output_type": "stream",
     "text": [
      "Reading reviews: 19142564it [14:07, 19952.71it/s]"
     ]
    },
    {
     "name": "stdout",
     "output_type": "stream",
     "text": [
      "Memory usage after processing review chunk: 4207.29 MB\n"
     ]
    },
    {
     "name": "stderr",
     "output_type": "stream",
     "text": [
      "Reading reviews: 19201110it [14:09, 25525.95it/s]"
     ]
    },
    {
     "name": "stdout",
     "output_type": "stream",
     "text": [
      "Memory usage after processing review chunk: 4207.29 MB\n"
     ]
    },
    {
     "name": "stderr",
     "output_type": "stream",
     "text": [
      "Reading reviews: 19244948it [14:11, 18822.78it/s]"
     ]
    },
    {
     "name": "stdout",
     "output_type": "stream",
     "text": [
      "Memory usage after processing review chunk: 4207.29 MB\n"
     ]
    },
    {
     "name": "stderr",
     "output_type": "stream",
     "text": [
      "Reading reviews: 19306488it [14:14, 26768.71it/s]"
     ]
    },
    {
     "name": "stdout",
     "output_type": "stream",
     "text": [
      "Memory usage after processing review chunk: 4207.29 MB\n"
     ]
    },
    {
     "name": "stderr",
     "output_type": "stream",
     "text": [
      "Reading reviews: 19350596it [14:16, 20019.47it/s]"
     ]
    },
    {
     "name": "stdout",
     "output_type": "stream",
     "text": [
      "Memory usage after processing review chunk: 4207.29 MB\n"
     ]
    },
    {
     "name": "stderr",
     "output_type": "stream",
     "text": [
      "Reading reviews: 19410556it [14:18, 26253.68it/s]"
     ]
    },
    {
     "name": "stdout",
     "output_type": "stream",
     "text": [
      "Memory usage after processing review chunk: 4207.41 MB\n"
     ]
    },
    {
     "name": "stderr",
     "output_type": "stream",
     "text": [
      "Reading reviews: 19458173it [14:20, 20848.21it/s]"
     ]
    },
    {
     "name": "stdout",
     "output_type": "stream",
     "text": [
      "Memory usage after processing review chunk: 4207.41 MB\n"
     ]
    },
    {
     "name": "stderr",
     "output_type": "stream",
     "text": [
      "Reading reviews: 19502236it [14:23, 18087.73it/s]"
     ]
    },
    {
     "name": "stdout",
     "output_type": "stream",
     "text": [
      "Memory usage after processing review chunk: 4207.41 MB\n"
     ]
    },
    {
     "name": "stderr",
     "output_type": "stream",
     "text": [
      "Reading reviews: 19563566it [14:25, 21418.53it/s]"
     ]
    },
    {
     "name": "stdout",
     "output_type": "stream",
     "text": [
      "Memory usage after processing review chunk: 4207.41 MB\n"
     ]
    },
    {
     "name": "stderr",
     "output_type": "stream",
     "text": [
      "Reading reviews: 19609643it [14:27, 19277.18it/s]"
     ]
    },
    {
     "name": "stdout",
     "output_type": "stream",
     "text": [
      "Memory usage after processing review chunk: 4207.41 MB\n"
     ]
    },
    {
     "name": "stderr",
     "output_type": "stream",
     "text": [
      "Reading reviews: 19670880it [14:29, 26890.21it/s]"
     ]
    },
    {
     "name": "stdout",
     "output_type": "stream",
     "text": [
      "Memory usage after processing review chunk: 4207.41 MB\n"
     ]
    },
    {
     "name": "stderr",
     "output_type": "stream",
     "text": [
      "Reading reviews: 19712492it [14:32, 18449.88it/s]"
     ]
    },
    {
     "name": "stdout",
     "output_type": "stream",
     "text": [
      "Memory usage after processing review chunk: 4207.41 MB\n"
     ]
    },
    {
     "name": "stderr",
     "output_type": "stream",
     "text": [
      "Reading reviews: 19766874it [14:34, 20095.00it/s]"
     ]
    },
    {
     "name": "stdout",
     "output_type": "stream",
     "text": [
      "Memory usage after processing review chunk: 4207.41 MB\n"
     ]
    },
    {
     "name": "stderr",
     "output_type": "stream",
     "text": [
      "Reading reviews: 19828034it [14:36, 27749.93it/s]"
     ]
    },
    {
     "name": "stdout",
     "output_type": "stream",
     "text": [
      "Memory usage after processing review chunk: 4207.41 MB\n"
     ]
    },
    {
     "name": "stderr",
     "output_type": "stream",
     "text": [
      "Reading reviews: 19875153it [14:38, 21107.09it/s]"
     ]
    },
    {
     "name": "stdout",
     "output_type": "stream",
     "text": [
      "Memory usage after processing review chunk: 4207.41 MB\n"
     ]
    },
    {
     "name": "stderr",
     "output_type": "stream",
     "text": [
      "Reading reviews: 19924083it [14:41, 20247.94it/s]"
     ]
    },
    {
     "name": "stdout",
     "output_type": "stream",
     "text": [
      "Memory usage after processing review chunk: 4207.41 MB\n"
     ]
    },
    {
     "name": "stderr",
     "output_type": "stream",
     "text": [
      "Reading reviews: 19971245it [14:43, 19027.24it/s]"
     ]
    },
    {
     "name": "stdout",
     "output_type": "stream",
     "text": [
      "Memory usage after processing review chunk: 4207.41 MB\n"
     ]
    },
    {
     "name": "stderr",
     "output_type": "stream",
     "text": [
      "Reading reviews: 20030762it [14:45, 18608.01it/s]"
     ]
    },
    {
     "name": "stdout",
     "output_type": "stream",
     "text": [
      "Memory usage after processing review chunk: 4207.41 MB\n"
     ]
    },
    {
     "name": "stderr",
     "output_type": "stream",
     "text": [
      "Reading reviews: 20085819it [14:48, 24915.63it/s]"
     ]
    },
    {
     "name": "stdout",
     "output_type": "stream",
     "text": [
      "Memory usage after processing review chunk: 4207.41 MB\n"
     ]
    },
    {
     "name": "stderr",
     "output_type": "stream",
     "text": [
      "Reading reviews: 20120549it [14:50, 14166.54it/s]"
     ]
    },
    {
     "name": "stdout",
     "output_type": "stream",
     "text": [
      "Memory usage after processing review chunk: 4207.41 MB\n"
     ]
    },
    {
     "name": "stderr",
     "output_type": "stream",
     "text": [
      "Reading reviews: 20178224it [14:53, 17210.40it/s]"
     ]
    },
    {
     "name": "stdout",
     "output_type": "stream",
     "text": [
      "Memory usage after processing review chunk: 4207.41 MB\n"
     ]
    },
    {
     "name": "stderr",
     "output_type": "stream",
     "text": [
      "Reading reviews: 20232117it [14:55, 17433.36it/s]"
     ]
    },
    {
     "name": "stdout",
     "output_type": "stream",
     "text": [
      "Memory usage after processing review chunk: 4207.41 MB\n"
     ]
    },
    {
     "name": "stderr",
     "output_type": "stream",
     "text": [
      "Reading reviews: 20287981it [14:57, 19600.92it/s]"
     ]
    },
    {
     "name": "stdout",
     "output_type": "stream",
     "text": [
      "Memory usage after processing review chunk: 4207.41 MB\n"
     ]
    },
    {
     "name": "stderr",
     "output_type": "stream",
     "text": [
      "Reading reviews: 20335799it [14:59, 20070.43it/s]"
     ]
    },
    {
     "name": "stdout",
     "output_type": "stream",
     "text": [
      "Memory usage after processing review chunk: 4207.54 MB\n"
     ]
    },
    {
     "name": "stderr",
     "output_type": "stream",
     "text": [
      "Reading reviews: 20394932it [15:02, 20894.39it/s]"
     ]
    },
    {
     "name": "stdout",
     "output_type": "stream",
     "text": [
      "Memory usage after processing review chunk: 4207.54 MB\n"
     ]
    },
    {
     "name": "stderr",
     "output_type": "stream",
     "text": [
      "Reading reviews: 20451146it [15:04, 26259.53it/s]"
     ]
    },
    {
     "name": "stdout",
     "output_type": "stream",
     "text": [
      "Memory usage after processing review chunk: 4207.54 MB\n"
     ]
    },
    {
     "name": "stderr",
     "output_type": "stream",
     "text": [
      "Reading reviews: 20496138it [15:06, 20158.01it/s]"
     ]
    },
    {
     "name": "stdout",
     "output_type": "stream",
     "text": [
      "Memory usage after processing review chunk: 4207.54 MB\n"
     ]
    },
    {
     "name": "stderr",
     "output_type": "stream",
     "text": [
      "Reading reviews: 20544276it [15:09, 20114.73it/s]"
     ]
    },
    {
     "name": "stdout",
     "output_type": "stream",
     "text": [
      "Memory usage after processing review chunk: 4207.54 MB\n"
     ]
    },
    {
     "name": "stderr",
     "output_type": "stream",
     "text": [
      "Reading reviews: 20598922it [15:11, 19886.03it/s]"
     ]
    },
    {
     "name": "stdout",
     "output_type": "stream",
     "text": [
      "Memory usage after processing review chunk: 4207.54 MB\n"
     ]
    },
    {
     "name": "stderr",
     "output_type": "stream",
     "text": [
      "Reading reviews: 20646374it [15:13, 19900.14it/s]"
     ]
    },
    {
     "name": "stdout",
     "output_type": "stream",
     "text": [
      "Memory usage after processing review chunk: 4207.54 MB\n"
     ]
    },
    {
     "name": "stderr",
     "output_type": "stream",
     "text": [
      "Reading reviews: 20698290it [15:15, 19109.36it/s]"
     ]
    },
    {
     "name": "stdout",
     "output_type": "stream",
     "text": [
      "Memory usage after processing review chunk: 4207.54 MB\n"
     ]
    },
    {
     "name": "stderr",
     "output_type": "stream",
     "text": [
      "Reading reviews: 20755095it [15:18, 20642.66it/s]"
     ]
    },
    {
     "name": "stdout",
     "output_type": "stream",
     "text": [
      "Memory usage after processing review chunk: 4207.54 MB\n"
     ]
    },
    {
     "name": "stderr",
     "output_type": "stream",
     "text": [
      "Reading reviews: 20800818it [15:20, 18888.16it/s]"
     ]
    },
    {
     "name": "stdout",
     "output_type": "stream",
     "text": [
      "Memory usage after processing review chunk: 4207.66 MB\n"
     ]
    },
    {
     "name": "stderr",
     "output_type": "stream",
     "text": [
      "Reading reviews: 20854361it [15:22, 19300.96it/s]"
     ]
    },
    {
     "name": "stdout",
     "output_type": "stream",
     "text": [
      "Memory usage after processing review chunk: 4207.66 MB\n"
     ]
    },
    {
     "name": "stderr",
     "output_type": "stream",
     "text": [
      "Reading reviews: 20915285it [15:24, 21553.85it/s]"
     ]
    },
    {
     "name": "stdout",
     "output_type": "stream",
     "text": [
      "Memory usage after processing review chunk: 4207.66 MB\n"
     ]
    },
    {
     "name": "stderr",
     "output_type": "stream",
     "text": [
      "Reading reviews: 20962068it [15:27, 19629.43it/s]"
     ]
    },
    {
     "name": "stdout",
     "output_type": "stream",
     "text": [
      "Memory usage after processing review chunk: 4207.66 MB\n"
     ]
    },
    {
     "name": "stderr",
     "output_type": "stream",
     "text": [
      "Reading reviews: 21008636it [15:29, 19679.00it/s]"
     ]
    },
    {
     "name": "stdout",
     "output_type": "stream",
     "text": [
      "Memory usage after processing review chunk: 4207.66 MB\n"
     ]
    },
    {
     "name": "stderr",
     "output_type": "stream",
     "text": [
      "Reading reviews: 21066261it [15:31, 20125.07it/s]"
     ]
    },
    {
     "name": "stdout",
     "output_type": "stream",
     "text": [
      "Memory usage after processing review chunk: 4207.66 MB\n"
     ]
    },
    {
     "name": "stderr",
     "output_type": "stream",
     "text": [
      "Reading reviews: 21121722it [15:33, 19953.20it/s]"
     ]
    },
    {
     "name": "stdout",
     "output_type": "stream",
     "text": [
      "Memory usage after processing review chunk: 4207.66 MB\n"
     ]
    },
    {
     "name": "stderr",
     "output_type": "stream",
     "text": [
      "Reading reviews: 21168599it [15:36, 19665.45it/s]"
     ]
    },
    {
     "name": "stdout",
     "output_type": "stream",
     "text": [
      "Memory usage after processing review chunk: 4207.66 MB\n"
     ]
    },
    {
     "name": "stderr",
     "output_type": "stream",
     "text": [
      "Reading reviews: 21227137it [15:38, 20895.28it/s]"
     ]
    },
    {
     "name": "stdout",
     "output_type": "stream",
     "text": [
      "Memory usage after processing review chunk: 4207.66 MB\n"
     ]
    },
    {
     "name": "stderr",
     "output_type": "stream",
     "text": [
      "Reading reviews: 21270170it [15:40, 17915.61it/s]"
     ]
    },
    {
     "name": "stdout",
     "output_type": "stream",
     "text": [
      "Memory usage after processing review chunk: 4207.66 MB\n"
     ]
    },
    {
     "name": "stderr",
     "output_type": "stream",
     "text": [
      "Reading reviews: 21328875it [15:43, 20485.24it/s]"
     ]
    },
    {
     "name": "stdout",
     "output_type": "stream",
     "text": [
      "Memory usage after processing review chunk: 4207.66 MB\n"
     ]
    },
    {
     "name": "stderr",
     "output_type": "stream",
     "text": [
      "Reading reviews: 21384624it [15:45, 25163.51it/s]"
     ]
    },
    {
     "name": "stdout",
     "output_type": "stream",
     "text": [
      "Memory usage after processing review chunk: 4207.66 MB\n"
     ]
    },
    {
     "name": "stderr",
     "output_type": "stream",
     "text": [
      "Reading reviews: 21432296it [15:47, 20411.05it/s]"
     ]
    },
    {
     "name": "stdout",
     "output_type": "stream",
     "text": [
      "Memory usage after processing review chunk: 4207.66 MB\n"
     ]
    },
    {
     "name": "stderr",
     "output_type": "stream",
     "text": [
      "Reading reviews: 21489175it [15:49, 25726.78it/s]"
     ]
    },
    {
     "name": "stdout",
     "output_type": "stream",
     "text": [
      "Memory usage after processing review chunk: 4207.66 MB\n"
     ]
    },
    {
     "name": "stderr",
     "output_type": "stream",
     "text": [
      "Reading reviews: 21533356it [15:52, 19452.93it/s]"
     ]
    },
    {
     "name": "stdout",
     "output_type": "stream",
     "text": [
      "Memory usage after processing review chunk: 4207.66 MB\n"
     ]
    },
    {
     "name": "stderr",
     "output_type": "stream",
     "text": [
      "Reading reviews: 21588598it [15:54, 19332.57it/s]"
     ]
    },
    {
     "name": "stdout",
     "output_type": "stream",
     "text": [
      "Memory usage after processing review chunk: 4207.66 MB\n"
     ]
    },
    {
     "name": "stderr",
     "output_type": "stream",
     "text": [
      "Reading reviews: 21634813it [15:56, 19286.00it/s]"
     ]
    },
    {
     "name": "stdout",
     "output_type": "stream",
     "text": [
      "Memory usage after processing review chunk: 4207.66 MB\n"
     ]
    },
    {
     "name": "stderr",
     "output_type": "stream",
     "text": [
      "Reading reviews: 21694221it [15:58, 25857.48it/s]"
     ]
    },
    {
     "name": "stdout",
     "output_type": "stream",
     "text": [
      "Memory usage after processing review chunk: 4207.66 MB\n"
     ]
    },
    {
     "name": "stderr",
     "output_type": "stream",
     "text": [
      "Reading reviews: 21738097it [16:01, 18910.49it/s]"
     ]
    },
    {
     "name": "stdout",
     "output_type": "stream",
     "text": [
      "Memory usage after processing review chunk: 4207.66 MB\n"
     ]
    },
    {
     "name": "stderr",
     "output_type": "stream",
     "text": [
      "Reading reviews: 21794008it [16:03, 20223.35it/s]"
     ]
    },
    {
     "name": "stdout",
     "output_type": "stream",
     "text": [
      "Memory usage after processing review chunk: 4207.66 MB\n"
     ]
    },
    {
     "name": "stderr",
     "output_type": "stream",
     "text": [
      "Reading reviews: 21840763it [16:05, 19538.04it/s]"
     ]
    },
    {
     "name": "stdout",
     "output_type": "stream",
     "text": [
      "Memory usage after processing review chunk: 4207.66 MB\n"
     ]
    },
    {
     "name": "stderr",
     "output_type": "stream",
     "text": [
      "Reading reviews: 21896177it [16:08, 19479.79it/s]"
     ]
    },
    {
     "name": "stdout",
     "output_type": "stream",
     "text": [
      "Memory usage after processing review chunk: 4207.66 MB\n"
     ]
    },
    {
     "name": "stderr",
     "output_type": "stream",
     "text": [
      "Reading reviews: 21943776it [16:10, 19664.79it/s]"
     ]
    },
    {
     "name": "stdout",
     "output_type": "stream",
     "text": [
      "Memory usage after processing review chunk: 4207.66 MB\n"
     ]
    },
    {
     "name": "stderr",
     "output_type": "stream",
     "text": [
      "Reading reviews: 22000121it [16:12, 19780.13it/s]"
     ]
    },
    {
     "name": "stdout",
     "output_type": "stream",
     "text": [
      "Memory usage after processing review chunk: 4207.66 MB\n"
     ]
    },
    {
     "name": "stderr",
     "output_type": "stream",
     "text": [
      "Reading reviews: 22044298it [16:14, 18475.52it/s]"
     ]
    },
    {
     "name": "stdout",
     "output_type": "stream",
     "text": [
      "Memory usage after processing review chunk: 4207.66 MB\n"
     ]
    },
    {
     "name": "stderr",
     "output_type": "stream",
     "text": [
      "Reading reviews: 22102823it [16:17, 20197.04it/s]"
     ]
    },
    {
     "name": "stdout",
     "output_type": "stream",
     "text": [
      "Memory usage after processing review chunk: 4207.66 MB\n"
     ]
    },
    {
     "name": "stderr",
     "output_type": "stream",
     "text": [
      "Reading reviews: 22145253it [16:19, 18561.91it/s]"
     ]
    },
    {
     "name": "stdout",
     "output_type": "stream",
     "text": [
      "Memory usage after processing review chunk: 4207.66 MB\n"
     ]
    },
    {
     "name": "stderr",
     "output_type": "stream",
     "text": [
      "Reading reviews: 22201473it [16:21, 19661.74it/s]"
     ]
    },
    {
     "name": "stdout",
     "output_type": "stream",
     "text": [
      "Memory usage after processing review chunk: 4207.66 MB\n"
     ]
    },
    {
     "name": "stderr",
     "output_type": "stream",
     "text": [
      "Reading reviews: 22246913it [16:23, 18698.38it/s]"
     ]
    },
    {
     "name": "stdout",
     "output_type": "stream",
     "text": [
      "Memory usage after processing review chunk: 4207.66 MB\n"
     ]
    },
    {
     "name": "stderr",
     "output_type": "stream",
     "text": [
      "Reading reviews: 22301520it [16:26, 17000.47it/s]"
     ]
    },
    {
     "name": "stdout",
     "output_type": "stream",
     "text": [
      "Memory usage after processing review chunk: 4207.66 MB\n"
     ]
    },
    {
     "name": "stderr",
     "output_type": "stream",
     "text": [
      "Reading reviews: 22349069it [16:28, 19356.43it/s]"
     ]
    },
    {
     "name": "stdout",
     "output_type": "stream",
     "text": [
      "Memory usage after processing review chunk: 4207.66 MB\n"
     ]
    },
    {
     "name": "stderr",
     "output_type": "stream",
     "text": [
      "Reading reviews: 22411055it [16:30, 21562.25it/s]"
     ]
    },
    {
     "name": "stdout",
     "output_type": "stream",
     "text": [
      "Memory usage after processing review chunk: 4207.66 MB\n"
     ]
    },
    {
     "name": "stderr",
     "output_type": "stream",
     "text": [
      "Reading reviews: 22458617it [16:33, 20321.98it/s]"
     ]
    },
    {
     "name": "stdout",
     "output_type": "stream",
     "text": [
      "Memory usage after processing review chunk: 4207.66 MB\n"
     ]
    },
    {
     "name": "stderr",
     "output_type": "stream",
     "text": [
      "Reading reviews: 22505929it [16:35, 19372.97it/s]"
     ]
    },
    {
     "name": "stdout",
     "output_type": "stream",
     "text": [
      "Memory usage after processing review chunk: 4207.66 MB\n"
     ]
    },
    {
     "name": "stderr",
     "output_type": "stream",
     "text": [
      "Reading reviews: 22565245it [16:37, 21123.32it/s]"
     ]
    },
    {
     "name": "stdout",
     "output_type": "stream",
     "text": [
      "Memory usage after processing review chunk: 4207.66 MB\n"
     ]
    },
    {
     "name": "stderr",
     "output_type": "stream",
     "text": [
      "Reading reviews: 22612020it [16:39, 19462.62it/s]"
     ]
    },
    {
     "name": "stdout",
     "output_type": "stream",
     "text": [
      "Memory usage after processing review chunk: 4207.66 MB\n"
     ]
    },
    {
     "name": "stderr",
     "output_type": "stream",
     "text": [
      "Reading reviews: 22658526it [16:42, 19459.04it/s]"
     ]
    },
    {
     "name": "stdout",
     "output_type": "stream",
     "text": [
      "Memory usage after processing review chunk: 4207.66 MB\n"
     ]
    },
    {
     "name": "stderr",
     "output_type": "stream",
     "text": [
      "Reading reviews: 22707312it [16:44, 20015.49it/s]"
     ]
    },
    {
     "name": "stdout",
     "output_type": "stream",
     "text": [
      "Memory usage after processing review chunk: 4207.66 MB\n"
     ]
    },
    {
     "name": "stderr",
     "output_type": "stream",
     "text": [
      "Reading reviews: 22767166it [16:46, 21350.18it/s]"
     ]
    },
    {
     "name": "stdout",
     "output_type": "stream",
     "text": [
      "Memory usage after processing review chunk: 4207.66 MB\n"
     ]
    },
    {
     "name": "stderr",
     "output_type": "stream",
     "text": [
      "Reading reviews: 22826776it [16:49, 21040.27it/s]"
     ]
    },
    {
     "name": "stdout",
     "output_type": "stream",
     "text": [
      "Memory usage after processing review chunk: 4207.66 MB\n"
     ]
    },
    {
     "name": "stderr",
     "output_type": "stream",
     "text": [
      "Reading reviews: 22903110it [16:51, 19908.34it/s]"
     ]
    },
    {
     "name": "stdout",
     "output_type": "stream",
     "text": [
      "Memory usage after processing review chunk: 4207.66 MB\n"
     ]
    },
    {
     "name": "stderr",
     "output_type": "stream",
     "text": [
      "Reading reviews: 22968129it [16:54, 20068.36it/s]"
     ]
    },
    {
     "name": "stdout",
     "output_type": "stream",
     "text": [
      "Memory usage after processing review chunk: 4207.66 MB\n"
     ]
    },
    {
     "name": "stderr",
     "output_type": "stream",
     "text": [
      "Reading reviews: 23030144it [16:56, 19139.43it/s]"
     ]
    },
    {
     "name": "stdout",
     "output_type": "stream",
     "text": [
      "Memory usage after processing review chunk: 4207.66 MB\n"
     ]
    },
    {
     "name": "stderr",
     "output_type": "stream",
     "text": [
      "Reading reviews: 23094600it [16:58, 20092.80it/s]"
     ]
    },
    {
     "name": "stdout",
     "output_type": "stream",
     "text": [
      "Memory usage after processing review chunk: 4207.79 MB\n"
     ]
    },
    {
     "name": "stderr",
     "output_type": "stream",
     "text": [
      "Reading reviews: 23174096it [17:01, 28368.43it/s]"
     ]
    },
    {
     "name": "stdout",
     "output_type": "stream",
     "text": [
      "Memory usage after processing review chunk: 4207.91 MB\n"
     ]
    },
    {
     "name": "stderr",
     "output_type": "stream",
     "text": [
      "Reading reviews: 23230907it [17:03, 21210.53it/s]"
     ]
    },
    {
     "name": "stdout",
     "output_type": "stream",
     "text": [
      "Memory usage after processing review chunk: 4207.91 MB\n"
     ]
    },
    {
     "name": "stderr",
     "output_type": "stream",
     "text": [
      "Reading reviews: 23307691it [17:06, 21594.07it/s]"
     ]
    },
    {
     "name": "stdout",
     "output_type": "stream",
     "text": [
      "Memory usage after processing review chunk: 4208.04 MB\n"
     ]
    },
    {
     "name": "stderr",
     "output_type": "stream",
     "text": [
      "Reading reviews: 23374930it [17:08, 20961.10it/s]"
     ]
    },
    {
     "name": "stdout",
     "output_type": "stream",
     "text": [
      "Memory usage after processing review chunk: 4208.04 MB\n"
     ]
    },
    {
     "name": "stderr",
     "output_type": "stream",
     "text": [
      "Reading reviews: 23433637it [17:11, 20519.77it/s]"
     ]
    },
    {
     "name": "stdout",
     "output_type": "stream",
     "text": [
      "Memory usage after processing review chunk: 4208.04 MB\n"
     ]
    },
    {
     "name": "stderr",
     "output_type": "stream",
     "text": [
      "Reading reviews: 23504206it [17:13, 22102.66it/s]"
     ]
    },
    {
     "name": "stdout",
     "output_type": "stream",
     "text": [
      "Memory usage after processing review chunk: 4208.04 MB\n"
     ]
    },
    {
     "name": "stderr",
     "output_type": "stream",
     "text": [
      "Reading reviews: 23559515it [17:15, 20471.13it/s]"
     ]
    },
    {
     "name": "stdout",
     "output_type": "stream",
     "text": [
      "Memory usage after processing review chunk: 4208.04 MB\n"
     ]
    },
    {
     "name": "stderr",
     "output_type": "stream",
     "text": [
      "Reading reviews: 23631490it [17:18, 22139.84it/s]"
     ]
    },
    {
     "name": "stdout",
     "output_type": "stream",
     "text": [
      "Memory usage after processing review chunk: 4208.04 MB\n"
     ]
    },
    {
     "name": "stderr",
     "output_type": "stream",
     "text": [
      "Reading reviews: 23679286it [17:20, 15423.65it/s]"
     ]
    },
    {
     "name": "stdout",
     "output_type": "stream",
     "text": [
      "Memory usage after processing review chunk: 4208.16 MB\n"
     ]
    },
    {
     "name": "stderr",
     "output_type": "stream",
     "text": [
      "Reading reviews: 23754311it [17:23, 21127.01it/s]"
     ]
    },
    {
     "name": "stdout",
     "output_type": "stream",
     "text": [
      "Memory usage after processing review chunk: 4208.16 MB\n"
     ]
    },
    {
     "name": "stderr",
     "output_type": "stream",
     "text": [
      "Reading reviews: 23800536it [17:23, 56596.34it/s]"
     ]
    },
    {
     "name": "stdout",
     "output_type": "stream",
     "text": [
      "Memory usage after processing review chunk: 4208.16 MB\n"
     ]
    },
    {
     "name": "stderr",
     "output_type": "stream",
     "text": [
      "Reading reviews: 23885500it [17:28, 20578.87it/s]"
     ]
    },
    {
     "name": "stdout",
     "output_type": "stream",
     "text": [
      "Memory usage after processing review chunk: 4208.16 MB\n"
     ]
    },
    {
     "name": "stderr",
     "output_type": "stream",
     "text": [
      "Reading reviews: 23942463it [17:30, 16987.31it/s]"
     ]
    },
    {
     "name": "stdout",
     "output_type": "stream",
     "text": [
      "Memory usage after processing review chunk: 4208.16 MB\n"
     ]
    },
    {
     "name": "stderr",
     "output_type": "stream",
     "text": [
      "Reading reviews: 24004499it [17:33, 13903.08it/s]"
     ]
    },
    {
     "name": "stdout",
     "output_type": "stream",
     "text": [
      "Memory usage after processing review chunk: 4208.16 MB\n"
     ]
    },
    {
     "name": "stderr",
     "output_type": "stream",
     "text": [
      "Reading reviews: 24065743it [17:36, 19344.76it/s]"
     ]
    },
    {
     "name": "stdout",
     "output_type": "stream",
     "text": [
      "Memory usage after processing review chunk: 4208.16 MB\n"
     ]
    },
    {
     "name": "stderr",
     "output_type": "stream",
     "text": [
      "Reading reviews: 24134216it [17:38, 21708.01it/s]"
     ]
    },
    {
     "name": "stdout",
     "output_type": "stream",
     "text": [
      "Memory usage after processing review chunk: 4208.16 MB\n"
     ]
    },
    {
     "name": "stderr",
     "output_type": "stream",
     "text": [
      "Reading reviews: 24203270it [17:40, 20163.19it/s]"
     ]
    },
    {
     "name": "stdout",
     "output_type": "stream",
     "text": [
      "Memory usage after processing review chunk: 4208.16 MB\n"
     ]
    },
    {
     "name": "stderr",
     "output_type": "stream",
     "text": [
      "Reading reviews: 24262462it [17:43, 20252.10it/s]"
     ]
    },
    {
     "name": "stdout",
     "output_type": "stream",
     "text": [
      "Memory usage after processing review chunk: 4208.16 MB\n"
     ]
    },
    {
     "name": "stderr",
     "output_type": "stream",
     "text": [
      "Reading reviews: 24332196it [17:45, 21415.71it/s]"
     ]
    },
    {
     "name": "stdout",
     "output_type": "stream",
     "text": [
      "Memory usage after processing review chunk: 4208.16 MB\n"
     ]
    },
    {
     "name": "stderr",
     "output_type": "stream",
     "text": [
      "Reading reviews: 24403451it [17:48, 21599.96it/s]"
     ]
    },
    {
     "name": "stdout",
     "output_type": "stream",
     "text": [
      "Memory usage after processing review chunk: 4208.16 MB\n"
     ]
    },
    {
     "name": "stderr",
     "output_type": "stream",
     "text": [
      "Reading reviews: 24468747it [17:50, 25683.23it/s]"
     ]
    },
    {
     "name": "stdout",
     "output_type": "stream",
     "text": [
      "Memory usage after processing review chunk: 4208.16 MB\n"
     ]
    },
    {
     "name": "stderr",
     "output_type": "stream",
     "text": [
      "Reading reviews: 24529544it [17:52, 22134.27it/s]"
     ]
    },
    {
     "name": "stdout",
     "output_type": "stream",
     "text": [
      "Memory usage after processing review chunk: 4208.16 MB\n"
     ]
    },
    {
     "name": "stderr",
     "output_type": "stream",
     "text": [
      "Reading reviews: 24597019it [17:55, 21786.52it/s]"
     ]
    },
    {
     "name": "stdout",
     "output_type": "stream",
     "text": [
      "Memory usage after processing review chunk: 4208.29 MB\n"
     ]
    },
    {
     "name": "stderr",
     "output_type": "stream",
     "text": [
      "Reading reviews: 24648649it [17:57, 15940.03it/s]"
     ]
    },
    {
     "name": "stdout",
     "output_type": "stream",
     "text": [
      "Memory usage after processing review chunk: 4208.29 MB\n"
     ]
    },
    {
     "name": "stderr",
     "output_type": "stream",
     "text": [
      "Reading reviews: 24714153it [18:00, 14991.15it/s]"
     ]
    },
    {
     "name": "stdout",
     "output_type": "stream",
     "text": [
      "Memory usage after processing review chunk: 4208.29 MB\n"
     ]
    },
    {
     "name": "stderr",
     "output_type": "stream",
     "text": [
      "Reading reviews: 24786737it [18:02, 19667.74it/s]"
     ]
    },
    {
     "name": "stdout",
     "output_type": "stream",
     "text": [
      "Memory usage after processing review chunk: 4208.29 MB\n"
     ]
    },
    {
     "name": "stderr",
     "output_type": "stream",
     "text": [
      "Reading reviews: 24839057it [18:05, 10493.51it/s]"
     ]
    },
    {
     "name": "stdout",
     "output_type": "stream",
     "text": [
      "Memory usage after processing review chunk: 4208.29 MB\n"
     ]
    },
    {
     "name": "stderr",
     "output_type": "stream",
     "text": [
      "Reading reviews: 24905415it [18:08, 11393.65it/s]"
     ]
    },
    {
     "name": "stdout",
     "output_type": "stream",
     "text": [
      "Memory usage after processing review chunk: 4208.29 MB\n"
     ]
    },
    {
     "name": "stderr",
     "output_type": "stream",
     "text": [
      "Reading reviews: 24969845it [18:11, 11129.39it/s]"
     ]
    },
    {
     "name": "stdout",
     "output_type": "stream",
     "text": [
      "Memory usage after processing review chunk: 4208.29 MB\n"
     ]
    },
    {
     "name": "stderr",
     "output_type": "stream",
     "text": [
      "Reading reviews: 25038491it [18:14, 15612.14it/s]"
     ]
    },
    {
     "name": "stdout",
     "output_type": "stream",
     "text": [
      "Memory usage after processing review chunk: 4208.29 MB\n"
     ]
    },
    {
     "name": "stderr",
     "output_type": "stream",
     "text": [
      "Reading reviews: 25111400it [18:17, 21873.62it/s]"
     ]
    },
    {
     "name": "stdout",
     "output_type": "stream",
     "text": [
      "Memory usage after processing review chunk: 4208.29 MB\n"
     ]
    },
    {
     "name": "stderr",
     "output_type": "stream",
     "text": [
      "Reading reviews: 25174194it [18:19, 22589.25it/s]"
     ]
    },
    {
     "name": "stdout",
     "output_type": "stream",
     "text": [
      "Memory usage after processing review chunk: 4208.29 MB\n"
     ]
    },
    {
     "name": "stderr",
     "output_type": "stream",
     "text": [
      "Reading reviews: 25235761it [18:21, 21609.26it/s]"
     ]
    },
    {
     "name": "stdout",
     "output_type": "stream",
     "text": [
      "Memory usage after processing review chunk: 4208.29 MB\n"
     ]
    },
    {
     "name": "stderr",
     "output_type": "stream",
     "text": [
      "Reading reviews: 25298760it [18:24, 22588.00it/s]"
     ]
    },
    {
     "name": "stdout",
     "output_type": "stream",
     "text": [
      "Memory usage after processing review chunk: 4208.29 MB\n"
     ]
    },
    {
     "name": "stderr",
     "output_type": "stream",
     "text": [
      "Reading reviews: 25364092it [18:26, 23274.67it/s]"
     ]
    },
    {
     "name": "stdout",
     "output_type": "stream",
     "text": [
      "Memory usage after processing review chunk: 4208.41 MB\n"
     ]
    },
    {
     "name": "stderr",
     "output_type": "stream",
     "text": [
      "Reading reviews: 25428423it [18:28, 22955.87it/s]"
     ]
    },
    {
     "name": "stdout",
     "output_type": "stream",
     "text": [
      "Memory usage after processing review chunk: 4208.41 MB\n"
     ]
    },
    {
     "name": "stderr",
     "output_type": "stream",
     "text": [
      "Reading reviews: 25491893it [18:31, 22422.76it/s]"
     ]
    },
    {
     "name": "stdout",
     "output_type": "stream",
     "text": [
      "Memory usage after processing review chunk: 4208.41 MB\n"
     ]
    },
    {
     "name": "stderr",
     "output_type": "stream",
     "text": [
      "Reading reviews: 25555226it [18:33, 22530.21it/s]"
     ]
    },
    {
     "name": "stdout",
     "output_type": "stream",
     "text": [
      "Memory usage after processing review chunk: 4208.41 MB\n"
     ]
    },
    {
     "name": "stderr",
     "output_type": "stream",
     "text": [
      "Reading reviews: 25616130it [18:35, 21777.20it/s]"
     ]
    },
    {
     "name": "stdout",
     "output_type": "stream",
     "text": [
      "Memory usage after processing review chunk: 4208.41 MB\n"
     ]
    },
    {
     "name": "stderr",
     "output_type": "stream",
     "text": [
      "Reading reviews: 25689923it [18:38, 23005.75it/s]"
     ]
    },
    {
     "name": "stdout",
     "output_type": "stream",
     "text": [
      "Memory usage after processing review chunk: 4208.41 MB\n"
     ]
    },
    {
     "name": "stderr",
     "output_type": "stream",
     "text": [
      "Reading reviews: 25753289it [18:40, 22083.34it/s]"
     ]
    },
    {
     "name": "stdout",
     "output_type": "stream",
     "text": [
      "Memory usage after processing review chunk: 4208.41 MB\n"
     ]
    },
    {
     "name": "stderr",
     "output_type": "stream",
     "text": [
      "Reading reviews: 25826151it [18:42, 22867.38it/s]"
     ]
    },
    {
     "name": "stdout",
     "output_type": "stream",
     "text": [
      "Memory usage after processing review chunk: 4208.41 MB\n"
     ]
    },
    {
     "name": "stderr",
     "output_type": "stream",
     "text": [
      "Reading reviews: 25886272it [18:45, 22163.57it/s]"
     ]
    },
    {
     "name": "stdout",
     "output_type": "stream",
     "text": [
      "Memory usage after processing review chunk: 4208.41 MB\n"
     ]
    },
    {
     "name": "stderr",
     "output_type": "stream",
     "text": [
      "Reading reviews: 25959923it [18:47, 29081.58it/s]"
     ]
    },
    {
     "name": "stdout",
     "output_type": "stream",
     "text": [
      "Memory usage after processing review chunk: 4208.41 MB\n"
     ]
    },
    {
     "name": "stderr",
     "output_type": "stream",
     "text": [
      "Reading reviews: 26023941it [18:50, 23388.71it/s]"
     ]
    },
    {
     "name": "stdout",
     "output_type": "stream",
     "text": [
      "Memory usage after processing review chunk: 4208.41 MB\n"
     ]
    },
    {
     "name": "stderr",
     "output_type": "stream",
     "text": [
      "Reading reviews: 26085250it [18:52, 21736.75it/s]"
     ]
    },
    {
     "name": "stdout",
     "output_type": "stream",
     "text": [
      "Memory usage after processing review chunk: 4208.41 MB\n"
     ]
    },
    {
     "name": "stderr",
     "output_type": "stream",
     "text": [
      "Reading reviews: 26146502it [18:54, 22095.89it/s]"
     ]
    },
    {
     "name": "stdout",
     "output_type": "stream",
     "text": [
      "Memory usage after processing review chunk: 4208.41 MB\n"
     ]
    },
    {
     "name": "stderr",
     "output_type": "stream",
     "text": [
      "Reading reviews: 26209395it [18:57, 22141.35it/s]"
     ]
    },
    {
     "name": "stdout",
     "output_type": "stream",
     "text": [
      "Memory usage after processing review chunk: 4208.41 MB\n"
     ]
    },
    {
     "name": "stderr",
     "output_type": "stream",
     "text": [
      "Reading reviews: 26270304it [18:59, 21765.65it/s]"
     ]
    },
    {
     "name": "stdout",
     "output_type": "stream",
     "text": [
      "Memory usage after processing review chunk: 4208.41 MB\n"
     ]
    },
    {
     "name": "stderr",
     "output_type": "stream",
     "text": [
      "Reading reviews: 26332892it [19:01, 21824.67it/s]"
     ]
    },
    {
     "name": "stdout",
     "output_type": "stream",
     "text": [
      "Memory usage after processing review chunk: 4208.41 MB\n"
     ]
    },
    {
     "name": "stderr",
     "output_type": "stream",
     "text": [
      "Reading reviews: 26392385it [19:04, 21041.83it/s]"
     ]
    },
    {
     "name": "stdout",
     "output_type": "stream",
     "text": [
      "Memory usage after processing review chunk: 4208.54 MB\n"
     ]
    },
    {
     "name": "stderr",
     "output_type": "stream",
     "text": [
      "Reading reviews: 26466594it [19:06, 23773.98it/s]"
     ]
    },
    {
     "name": "stdout",
     "output_type": "stream",
     "text": [
      "Memory usage after processing review chunk: 4208.54 MB\n"
     ]
    },
    {
     "name": "stderr",
     "output_type": "stream",
     "text": [
      "Reading reviews: 26530409it [19:08, 23041.68it/s]"
     ]
    },
    {
     "name": "stdout",
     "output_type": "stream",
     "text": [
      "Memory usage after processing review chunk: 4208.54 MB\n"
     ]
    },
    {
     "name": "stderr",
     "output_type": "stream",
     "text": [
      "Reading reviews: 26595338it [19:11, 28481.64it/s]"
     ]
    },
    {
     "name": "stdout",
     "output_type": "stream",
     "text": [
      "Memory usage after processing review chunk: 4208.54 MB\n"
     ]
    },
    {
     "name": "stderr",
     "output_type": "stream",
     "text": [
      "Reading reviews: 26659813it [19:13, 23478.05it/s]"
     ]
    },
    {
     "name": "stdout",
     "output_type": "stream",
     "text": [
      "Memory usage after processing review chunk: 4208.54 MB\n"
     ]
    },
    {
     "name": "stderr",
     "output_type": "stream",
     "text": [
      "Reading reviews: 26719165it [19:15, 21871.12it/s]"
     ]
    },
    {
     "name": "stdout",
     "output_type": "stream",
     "text": [
      "Memory usage after processing review chunk: 4208.54 MB\n"
     ]
    },
    {
     "name": "stderr",
     "output_type": "stream",
     "text": [
      "Reading reviews: 26781947it [19:17, 22037.05it/s]"
     ]
    },
    {
     "name": "stdout",
     "output_type": "stream",
     "text": [
      "Memory usage after processing review chunk: 4208.54 MB\n"
     ]
    },
    {
     "name": "stderr",
     "output_type": "stream",
     "text": [
      "Reading reviews: 26842087it [19:20, 21845.09it/s]"
     ]
    },
    {
     "name": "stdout",
     "output_type": "stream",
     "text": [
      "Memory usage after processing review chunk: 4208.54 MB\n"
     ]
    },
    {
     "name": "stderr",
     "output_type": "stream",
     "text": [
      "Reading reviews: 26912536it [19:22, 21712.91it/s]"
     ]
    },
    {
     "name": "stdout",
     "output_type": "stream",
     "text": [
      "Memory usage after processing review chunk: 4208.54 MB\n"
     ]
    },
    {
     "name": "stderr",
     "output_type": "stream",
     "text": [
      "Reading reviews: 26976496it [19:25, 22085.22it/s]"
     ]
    },
    {
     "name": "stdout",
     "output_type": "stream",
     "text": [
      "Memory usage after processing review chunk: 4208.54 MB\n"
     ]
    },
    {
     "name": "stderr",
     "output_type": "stream",
     "text": [
      "Reading reviews: 27040306it [19:27, 22918.75it/s]"
     ]
    },
    {
     "name": "stdout",
     "output_type": "stream",
     "text": [
      "Memory usage after processing review chunk: 4208.54 MB\n"
     ]
    },
    {
     "name": "stderr",
     "output_type": "stream",
     "text": [
      "Reading reviews: 27094403it [19:29, 17551.65it/s]"
     ]
    },
    {
     "name": "stdout",
     "output_type": "stream",
     "text": [
      "Memory usage after processing review chunk: 4208.54 MB\n"
     ]
    },
    {
     "name": "stderr",
     "output_type": "stream",
     "text": [
      "Reading reviews: 27167950it [19:31, 22328.31it/s]"
     ]
    },
    {
     "name": "stdout",
     "output_type": "stream",
     "text": [
      "Memory usage after processing review chunk: 4208.54 MB\n"
     ]
    },
    {
     "name": "stderr",
     "output_type": "stream",
     "text": [
      "Reading reviews: 27228817it [19:34, 21048.13it/s]"
     ]
    },
    {
     "name": "stdout",
     "output_type": "stream",
     "text": [
      "Memory usage after processing review chunk: 4208.54 MB\n"
     ]
    },
    {
     "name": "stderr",
     "output_type": "stream",
     "text": [
      "Reading reviews: 27286621it [19:36, 19652.93it/s]"
     ]
    },
    {
     "name": "stdout",
     "output_type": "stream",
     "text": [
      "Memory usage after processing review chunk: 4208.54 MB\n"
     ]
    },
    {
     "name": "stderr",
     "output_type": "stream",
     "text": [
      "Reading reviews: 27347800it [19:39, 16054.30it/s]"
     ]
    },
    {
     "name": "stdout",
     "output_type": "stream",
     "text": [
      "Memory usage after processing review chunk: 4208.54 MB\n"
     ]
    },
    {
     "name": "stderr",
     "output_type": "stream",
     "text": [
      "Reading reviews: 27407836it [19:44, 7626.67it/s] "
     ]
    },
    {
     "name": "stdout",
     "output_type": "stream",
     "text": [
      "Memory usage after processing review chunk: 4208.79 MB\n"
     ]
    },
    {
     "name": "stderr",
     "output_type": "stream",
     "text": [
      "Reading reviews: 27471458it [19:47, 10655.91it/s]"
     ]
    },
    {
     "name": "stdout",
     "output_type": "stream",
     "text": [
      "Memory usage after processing review chunk: 4208.79 MB\n"
     ]
    },
    {
     "name": "stderr",
     "output_type": "stream",
     "text": [
      "Reading reviews: 27527164it [19:48, 54869.33it/s]"
     ]
    },
    {
     "name": "stdout",
     "output_type": "stream",
     "text": [
      "Memory usage after processing review chunk: 4208.79 MB\n"
     ]
    },
    {
     "name": "stderr",
     "output_type": "stream",
     "text": [
      "Reading reviews: 27602222it [19:53, 12726.88it/s]"
     ]
    },
    {
     "name": "stdout",
     "output_type": "stream",
     "text": [
      "Memory usage after processing review chunk: 4208.79 MB\n"
     ]
    },
    {
     "name": "stderr",
     "output_type": "stream",
     "text": [
      "Reading reviews: 27668956it [19:56, 13031.54it/s]"
     ]
    },
    {
     "name": "stdout",
     "output_type": "stream",
     "text": [
      "Memory usage after processing review chunk: 4208.79 MB\n"
     ]
    },
    {
     "name": "stderr",
     "output_type": "stream",
     "text": [
      "Reading reviews: 27732069it [19:58, 11517.25it/s]"
     ]
    },
    {
     "name": "stdout",
     "output_type": "stream",
     "text": [
      "Memory usage after processing review chunk: 4208.79 MB\n"
     ]
    },
    {
     "name": "stderr",
     "output_type": "stream",
     "text": [
      "Reading reviews: 27793415it [20:02, 10070.73it/s]"
     ]
    },
    {
     "name": "stdout",
     "output_type": "stream",
     "text": [
      "Memory usage after processing review chunk: 4208.79 MB\n"
     ]
    },
    {
     "name": "stderr",
     "output_type": "stream",
     "text": [
      "Reading reviews: 27852971it [20:04, 11105.61it/s]"
     ]
    },
    {
     "name": "stdout",
     "output_type": "stream",
     "text": [
      "Memory usage after processing review chunk: 4208.79 MB\n"
     ]
    },
    {
     "name": "stderr",
     "output_type": "stream",
     "text": [
      "Reading reviews: 27917069it [20:07, 12369.75it/s]"
     ]
    },
    {
     "name": "stdout",
     "output_type": "stream",
     "text": [
      "Memory usage after processing review chunk: 4208.79 MB\n"
     ]
    },
    {
     "name": "stderr",
     "output_type": "stream",
     "text": [
      "Reading reviews: 27983380it [20:10, 12776.63it/s]"
     ]
    },
    {
     "name": "stdout",
     "output_type": "stream",
     "text": [
      "Memory usage after processing review chunk: 4208.79 MB\n"
     ]
    },
    {
     "name": "stderr",
     "output_type": "stream",
     "text": [
      "Reading reviews: 28042057it [20:13, 10394.98it/s]"
     ]
    },
    {
     "name": "stdout",
     "output_type": "stream",
     "text": [
      "Memory usage after processing review chunk: 4208.91 MB\n"
     ]
    },
    {
     "name": "stderr",
     "output_type": "stream",
     "text": [
      "Reading reviews: 28104564it [20:16, 10344.88it/s]"
     ]
    },
    {
     "name": "stdout",
     "output_type": "stream",
     "text": [
      "Memory usage after processing review chunk: 4208.91 MB\n"
     ]
    },
    {
     "name": "stderr",
     "output_type": "stream",
     "text": [
      "Reading reviews: 28172253it [20:19, 12620.44it/s]"
     ]
    },
    {
     "name": "stdout",
     "output_type": "stream",
     "text": [
      "Memory usage after processing review chunk: 4208.91 MB\n"
     ]
    },
    {
     "name": "stderr",
     "output_type": "stream",
     "text": [
      "Reading reviews: 28240792it [20:22, 17866.64it/s]"
     ]
    },
    {
     "name": "stdout",
     "output_type": "stream",
     "text": [
      "Memory usage after processing review chunk: 4208.91 MB\n"
     ]
    },
    {
     "name": "stderr",
     "output_type": "stream",
     "text": [
      "Reading reviews: 28302033it [20:24, 21610.17it/s]"
     ]
    },
    {
     "name": "stdout",
     "output_type": "stream",
     "text": [
      "Memory usage after processing review chunk: 4208.91 MB\n"
     ]
    },
    {
     "name": "stderr",
     "output_type": "stream",
     "text": [
      "Reading reviews: 28363794it [20:26, 21894.68it/s]"
     ]
    },
    {
     "name": "stdout",
     "output_type": "stream",
     "text": [
      "Memory usage after processing review chunk: 4208.91 MB\n"
     ]
    },
    {
     "name": "stderr",
     "output_type": "stream",
     "text": [
      "Reading reviews: 28426354it [20:29, 22081.59it/s]"
     ]
    },
    {
     "name": "stdout",
     "output_type": "stream",
     "text": [
      "Memory usage after processing review chunk: 4208.91 MB\n"
     ]
    },
    {
     "name": "stderr",
     "output_type": "stream",
     "text": [
      "Reading reviews: 28498456it [20:31, 21795.93it/s]"
     ]
    },
    {
     "name": "stdout",
     "output_type": "stream",
     "text": [
      "Memory usage after processing review chunk: 4208.91 MB\n"
     ]
    },
    {
     "name": "stderr",
     "output_type": "stream",
     "text": [
      "Reading reviews: 28555020it [20:33, 20605.67it/s]"
     ]
    },
    {
     "name": "stdout",
     "output_type": "stream",
     "text": [
      "Memory usage after processing review chunk: 4208.91 MB\n"
     ]
    },
    {
     "name": "stderr",
     "output_type": "stream",
     "text": [
      "Reading reviews: 28617073it [20:36, 21775.54it/s]"
     ]
    },
    {
     "name": "stdout",
     "output_type": "stream",
     "text": [
      "Memory usage after processing review chunk: 4208.91 MB\n"
     ]
    },
    {
     "name": "stderr",
     "output_type": "stream",
     "text": [
      "Reading reviews: 28679542it [20:38, 21932.22it/s]"
     ]
    },
    {
     "name": "stdout",
     "output_type": "stream",
     "text": [
      "Memory usage after processing review chunk: 4208.91 MB\n"
     ]
    },
    {
     "name": "stderr",
     "output_type": "stream",
     "text": [
      "Reading reviews: 28739307it [20:40, 20961.20it/s]"
     ]
    },
    {
     "name": "stdout",
     "output_type": "stream",
     "text": [
      "Memory usage after processing review chunk: 4208.91 MB\n"
     ]
    },
    {
     "name": "stderr",
     "output_type": "stream",
     "text": [
      "Reading reviews: 28811050it [20:43, 22352.44it/s]"
     ]
    },
    {
     "name": "stdout",
     "output_type": "stream",
     "text": [
      "Memory usage after processing review chunk: 4208.91 MB\n"
     ]
    },
    {
     "name": "stderr",
     "output_type": "stream",
     "text": [
      "Reading reviews: 28864925it [20:45, 19939.14it/s]"
     ]
    },
    {
     "name": "stdout",
     "output_type": "stream",
     "text": [
      "Memory usage after processing review chunk: 4208.91 MB\n"
     ]
    },
    {
     "name": "stderr",
     "output_type": "stream",
     "text": [
      "Reading reviews: 28925713it [20:48, 21456.83it/s]"
     ]
    },
    {
     "name": "stdout",
     "output_type": "stream",
     "text": [
      "Memory usage after processing review chunk: 4208.91 MB\n"
     ]
    },
    {
     "name": "stderr",
     "output_type": "stream",
     "text": [
      "Reading reviews: 28988587it [20:50, 21992.34it/s]"
     ]
    },
    {
     "name": "stdout",
     "output_type": "stream",
     "text": [
      "Memory usage after processing review chunk: 4208.91 MB\n"
     ]
    },
    {
     "name": "stderr",
     "output_type": "stream",
     "text": [
      "Reading reviews: 29047896it [20:52, 21951.63it/s]"
     ]
    },
    {
     "name": "stdout",
     "output_type": "stream",
     "text": [
      "Memory usage after processing review chunk: 4208.91 MB\n"
     ]
    },
    {
     "name": "stderr",
     "output_type": "stream",
     "text": [
      "Reading reviews: 29109881it [20:55, 21699.64it/s]"
     ]
    },
    {
     "name": "stdout",
     "output_type": "stream",
     "text": [
      "Memory usage after processing review chunk: 4208.91 MB\n"
     ]
    },
    {
     "name": "stderr",
     "output_type": "stream",
     "text": [
      "Reading reviews: 29167975it [20:57, 20234.60it/s]"
     ]
    },
    {
     "name": "stdout",
     "output_type": "stream",
     "text": [
      "Memory usage after processing review chunk: 4208.91 MB\n"
     ]
    },
    {
     "name": "stderr",
     "output_type": "stream",
     "text": [
      "Reading reviews: 29238718it [20:59, 21030.13it/s]"
     ]
    },
    {
     "name": "stdout",
     "output_type": "stream",
     "text": [
      "Memory usage after processing review chunk: 4208.91 MB\n"
     ]
    },
    {
     "name": "stderr",
     "output_type": "stream",
     "text": [
      "Reading reviews: 29294620it [21:02, 19635.36it/s]"
     ]
    },
    {
     "name": "stdout",
     "output_type": "stream",
     "text": [
      "Memory usage after processing review chunk: 4208.91 MB\n"
     ]
    },
    {
     "name": "stderr",
     "output_type": "stream",
     "text": [
      "Reading reviews: 29357143it [21:04, 20280.72it/s]"
     ]
    },
    {
     "name": "stdout",
     "output_type": "stream",
     "text": [
      "Memory usage after processing review chunk: 4208.91 MB\n"
     ]
    },
    {
     "name": "stderr",
     "output_type": "stream",
     "text": [
      "Reading reviews: 29417447it [21:06, 21080.28it/s]"
     ]
    },
    {
     "name": "stdout",
     "output_type": "stream",
     "text": [
      "Memory usage after processing review chunk: 4208.91 MB\n"
     ]
    },
    {
     "name": "stderr",
     "output_type": "stream",
     "text": [
      "Reading reviews: 29478389it [21:09, 21669.76it/s]"
     ]
    },
    {
     "name": "stdout",
     "output_type": "stream",
     "text": [
      "Memory usage after processing review chunk: 4209.04 MB\n"
     ]
    },
    {
     "name": "stderr",
     "output_type": "stream",
     "text": [
      "Reading reviews: 29541987it [21:11, 21571.59it/s]"
     ]
    },
    {
     "name": "stdout",
     "output_type": "stream",
     "text": [
      "Memory usage after processing review chunk: 4209.04 MB\n"
     ]
    },
    {
     "name": "stderr",
     "output_type": "stream",
     "text": [
      "Reading reviews: 29600673it [21:13, 20708.24it/s]"
     ]
    },
    {
     "name": "stdout",
     "output_type": "stream",
     "text": [
      "Memory usage after processing review chunk: 4209.04 MB\n"
     ]
    },
    {
     "name": "stderr",
     "output_type": "stream",
     "text": [
      "Reading reviews: 29661102it [21:16, 21442.37it/s]"
     ]
    },
    {
     "name": "stdout",
     "output_type": "stream",
     "text": [
      "Memory usage after processing review chunk: 4209.16 MB\n"
     ]
    },
    {
     "name": "stderr",
     "output_type": "stream",
     "text": [
      "Reading reviews: 29723663it [21:18, 21831.56it/s]"
     ]
    },
    {
     "name": "stdout",
     "output_type": "stream",
     "text": [
      "Memory usage after processing review chunk: 4209.16 MB\n"
     ]
    },
    {
     "name": "stderr",
     "output_type": "stream",
     "text": [
      "Reading reviews: 29786504it [21:20, 22454.59it/s]"
     ]
    },
    {
     "name": "stdout",
     "output_type": "stream",
     "text": [
      "Memory usage after processing review chunk: 4209.16 MB\n"
     ]
    },
    {
     "name": "stderr",
     "output_type": "stream",
     "text": [
      "Reading reviews: 29851533it [21:23, 22416.94it/s]"
     ]
    },
    {
     "name": "stdout",
     "output_type": "stream",
     "text": [
      "Memory usage after processing review chunk: 4209.16 MB\n"
     ]
    },
    {
     "name": "stderr",
     "output_type": "stream",
     "text": [
      "Reading reviews: 29912933it [21:25, 22054.39it/s]"
     ]
    },
    {
     "name": "stdout",
     "output_type": "stream",
     "text": [
      "Memory usage after processing review chunk: 4209.16 MB\n"
     ]
    },
    {
     "name": "stderr",
     "output_type": "stream",
     "text": [
      "Reading reviews: 29972712it [21:27, 21137.16it/s]"
     ]
    },
    {
     "name": "stdout",
     "output_type": "stream",
     "text": [
      "Memory usage after processing review chunk: 4209.16 MB\n"
     ]
    },
    {
     "name": "stderr",
     "output_type": "stream",
     "text": [
      "Reading reviews: 30033449it [21:30, 21258.83it/s]"
     ]
    },
    {
     "name": "stdout",
     "output_type": "stream",
     "text": [
      "Memory usage after processing review chunk: 4209.16 MB\n"
     ]
    },
    {
     "name": "stderr",
     "output_type": "stream",
     "text": [
      "Reading reviews: 30092807it [21:32, 21700.45it/s]"
     ]
    },
    {
     "name": "stdout",
     "output_type": "stream",
     "text": [
      "Memory usage after processing review chunk: 4209.16 MB\n"
     ]
    },
    {
     "name": "stderr",
     "output_type": "stream",
     "text": [
      "Reading reviews: 30152488it [21:34, 21573.96it/s]"
     ]
    },
    {
     "name": "stdout",
     "output_type": "stream",
     "text": [
      "Memory usage after processing review chunk: 4209.29 MB\n"
     ]
    },
    {
     "name": "stderr",
     "output_type": "stream",
     "text": [
      "Reading reviews: 30201581it [21:37, 16011.61it/s]"
     ]
    },
    {
     "name": "stdout",
     "output_type": "stream",
     "text": [
      "Memory usage after processing review chunk: 4209.29 MB\n"
     ]
    },
    {
     "name": "stderr",
     "output_type": "stream",
     "text": [
      "Reading reviews: 30274593it [21:39, 21779.19it/s]"
     ]
    },
    {
     "name": "stdout",
     "output_type": "stream",
     "text": [
      "Memory usage after processing review chunk: 4209.29 MB\n"
     ]
    },
    {
     "name": "stderr",
     "output_type": "stream",
     "text": [
      "Reading reviews: 30336165it [21:42, 21238.48it/s]"
     ]
    },
    {
     "name": "stdout",
     "output_type": "stream",
     "text": [
      "Memory usage after processing review chunk: 4209.29 MB\n"
     ]
    },
    {
     "name": "stderr",
     "output_type": "stream",
     "text": [
      "Reading reviews: 30393549it [21:44, 19822.51it/s]"
     ]
    },
    {
     "name": "stdout",
     "output_type": "stream",
     "text": [
      "Memory usage after processing review chunk: 4209.29 MB\n"
     ]
    },
    {
     "name": "stderr",
     "output_type": "stream",
     "text": [
      "Reading reviews: 30456335it [21:46, 21553.52it/s]"
     ]
    },
    {
     "name": "stdout",
     "output_type": "stream",
     "text": [
      "Memory usage after processing review chunk: 4209.29 MB\n"
     ]
    },
    {
     "name": "stderr",
     "output_type": "stream",
     "text": [
      "Reading reviews: 30506773it [21:49, 20978.82it/s]"
     ]
    },
    {
     "name": "stdout",
     "output_type": "stream",
     "text": [
      "Memory usage after processing review chunk: 4209.54 MB\n"
     ]
    },
    {
     "name": "stderr",
     "output_type": "stream",
     "text": [
      "Reading reviews: 30566295it [21:51, 21101.48it/s]"
     ]
    },
    {
     "name": "stdout",
     "output_type": "stream",
     "text": [
      "Memory usage after processing review chunk: 4209.54 MB\n"
     ]
    },
    {
     "name": "stderr",
     "output_type": "stream",
     "text": [
      "Reading reviews: 30625073it [21:53, 20831.98it/s]"
     ]
    },
    {
     "name": "stdout",
     "output_type": "stream",
     "text": [
      "Memory usage after processing review chunk: 4209.54 MB\n"
     ]
    },
    {
     "name": "stderr",
     "output_type": "stream",
     "text": [
      "Reading reviews: 30686972it [21:56, 21513.15it/s]"
     ]
    },
    {
     "name": "stdout",
     "output_type": "stream",
     "text": [
      "Memory usage after processing review chunk: 4209.54 MB\n"
     ]
    },
    {
     "name": "stderr",
     "output_type": "stream",
     "text": [
      "Reading reviews: 30748255it [21:58, 21891.28it/s]"
     ]
    },
    {
     "name": "stdout",
     "output_type": "stream",
     "text": [
      "Memory usage after processing review chunk: 4209.54 MB\n"
     ]
    },
    {
     "name": "stderr",
     "output_type": "stream",
     "text": [
      "Reading reviews: 30809317it [22:00, 21437.86it/s]"
     ]
    },
    {
     "name": "stdout",
     "output_type": "stream",
     "text": [
      "Memory usage after processing review chunk: 4209.54 MB\n"
     ]
    },
    {
     "name": "stderr",
     "output_type": "stream",
     "text": [
      "Reading reviews: 30870405it [22:03, 21554.75it/s]"
     ]
    },
    {
     "name": "stdout",
     "output_type": "stream",
     "text": [
      "Memory usage after processing review chunk: 4209.54 MB\n"
     ]
    },
    {
     "name": "stderr",
     "output_type": "stream",
     "text": [
      "Reading reviews: 30930863it [22:05, 21696.65it/s]"
     ]
    },
    {
     "name": "stdout",
     "output_type": "stream",
     "text": [
      "Memory usage after processing review chunk: 4209.54 MB\n"
     ]
    },
    {
     "name": "stderr",
     "output_type": "stream",
     "text": [
      "Reading reviews: 30992049it [22:07, 21697.82it/s]"
     ]
    },
    {
     "name": "stdout",
     "output_type": "stream",
     "text": [
      "Memory usage after processing review chunk: 4209.54 MB\n"
     ]
    },
    {
     "name": "stderr",
     "output_type": "stream",
     "text": [
      "Reading reviews: 31048946it [22:09, 20630.83it/s]"
     ]
    },
    {
     "name": "stdout",
     "output_type": "stream",
     "text": [
      "Memory usage after processing review chunk: 4209.54 MB\n"
     ]
    },
    {
     "name": "stderr",
     "output_type": "stream",
     "text": [
      "Reading reviews: 31106726it [22:12, 20081.67it/s]"
     ]
    },
    {
     "name": "stdout",
     "output_type": "stream",
     "text": [
      "Memory usage after processing review chunk: 4209.54 MB\n"
     ]
    },
    {
     "name": "stderr",
     "output_type": "stream",
     "text": [
      "Reading reviews: 31166700it [22:14, 20917.26it/s]"
     ]
    },
    {
     "name": "stdout",
     "output_type": "stream",
     "text": [
      "Memory usage after processing review chunk: 4209.54 MB\n"
     ]
    },
    {
     "name": "stderr",
     "output_type": "stream",
     "text": [
      "Reading reviews: 31218460it [22:17, 19178.06it/s]"
     ]
    },
    {
     "name": "stdout",
     "output_type": "stream",
     "text": [
      "Memory usage after processing review chunk: 4209.54 MB\n"
     ]
    },
    {
     "name": "stderr",
     "output_type": "stream",
     "text": [
      "Reading reviews: 31276456it [22:19, 20229.51it/s]"
     ]
    },
    {
     "name": "stdout",
     "output_type": "stream",
     "text": [
      "Memory usage after processing review chunk: 4209.54 MB\n"
     ]
    },
    {
     "name": "stderr",
     "output_type": "stream",
     "text": [
      "Reading reviews: 31335837it [22:21, 19698.27it/s]"
     ]
    },
    {
     "name": "stdout",
     "output_type": "stream",
     "text": [
      "Memory usage after processing review chunk: 4209.54 MB\n"
     ]
    },
    {
     "name": "stderr",
     "output_type": "stream",
     "text": [
      "Reading reviews: 31398560it [22:24, 21979.91it/s]"
     ]
    },
    {
     "name": "stdout",
     "output_type": "stream",
     "text": [
      "Memory usage after processing review chunk: 4209.54 MB\n"
     ]
    },
    {
     "name": "stderr",
     "output_type": "stream",
     "text": [
      "Reading reviews: 31460781it [22:26, 21541.12it/s]"
     ]
    },
    {
     "name": "stdout",
     "output_type": "stream",
     "text": [
      "Memory usage after processing review chunk: 4209.66 MB\n"
     ]
    },
    {
     "name": "stderr",
     "output_type": "stream",
     "text": [
      "Reading reviews: 31525152it [22:28, 28622.62it/s]"
     ]
    },
    {
     "name": "stdout",
     "output_type": "stream",
     "text": [
      "Memory usage after processing review chunk: 4209.66 MB\n"
     ]
    },
    {
     "name": "stderr",
     "output_type": "stream",
     "text": [
      "Reading reviews: 31574001it [22:30, 21337.77it/s]"
     ]
    },
    {
     "name": "stdout",
     "output_type": "stream",
     "text": [
      "Memory usage after processing review chunk: 4209.79 MB\n"
     ]
    },
    {
     "name": "stderr",
     "output_type": "stream",
     "text": [
      "Reading reviews: 31634678it [22:33, 21105.10it/s]"
     ]
    },
    {
     "name": "stdout",
     "output_type": "stream",
     "text": [
      "Memory usage after processing review chunk: 4209.79 MB\n"
     ]
    },
    {
     "name": "stderr",
     "output_type": "stream",
     "text": [
      "Reading reviews: 31691398it [22:35, 20299.37it/s]"
     ]
    },
    {
     "name": "stdout",
     "output_type": "stream",
     "text": [
      "Memory usage after processing review chunk: 4209.79 MB\n"
     ]
    },
    {
     "name": "stderr",
     "output_type": "stream",
     "text": [
      "Reading reviews: 31746080it [22:38, 19662.38it/s]"
     ]
    },
    {
     "name": "stdout",
     "output_type": "stream",
     "text": [
      "Memory usage after processing review chunk: 4209.79 MB\n"
     ]
    },
    {
     "name": "stderr",
     "output_type": "stream",
     "text": [
      "Reading reviews: 31810278it [22:40, 19238.59it/s]"
     ]
    },
    {
     "name": "stdout",
     "output_type": "stream",
     "text": [
      "Memory usage after processing review chunk: 4209.79 MB\n"
     ]
    },
    {
     "name": "stderr",
     "output_type": "stream",
     "text": [
      "Reading reviews: 31869433it [22:42, 20590.57it/s]"
     ]
    },
    {
     "name": "stdout",
     "output_type": "stream",
     "text": [
      "Memory usage after processing review chunk: 4209.79 MB\n"
     ]
    },
    {
     "name": "stderr",
     "output_type": "stream",
     "text": [
      "Reading reviews: 31925619it [22:45, 20074.68it/s]"
     ]
    },
    {
     "name": "stdout",
     "output_type": "stream",
     "text": [
      "Memory usage after processing review chunk: 4209.79 MB\n"
     ]
    },
    {
     "name": "stderr",
     "output_type": "stream",
     "text": [
      "Reading reviews: 31981230it [22:47, 19047.20it/s]"
     ]
    },
    {
     "name": "stdout",
     "output_type": "stream",
     "text": [
      "Memory usage after processing review chunk: 4209.79 MB\n"
     ]
    },
    {
     "name": "stderr",
     "output_type": "stream",
     "text": [
      "Reading reviews: 32036372it [22:49, 20082.88it/s]"
     ]
    },
    {
     "name": "stdout",
     "output_type": "stream",
     "text": [
      "Memory usage after processing review chunk: 4209.91 MB\n"
     ]
    },
    {
     "name": "stderr",
     "output_type": "stream",
     "text": [
      "Reading reviews: 32094899it [22:52, 20814.56it/s]"
     ]
    },
    {
     "name": "stdout",
     "output_type": "stream",
     "text": [
      "Memory usage after processing review chunk: 4209.91 MB\n"
     ]
    },
    {
     "name": "stderr",
     "output_type": "stream",
     "text": [
      "Reading reviews: 32154311it [22:54, 20916.95it/s]"
     ]
    },
    {
     "name": "stdout",
     "output_type": "stream",
     "text": [
      "Memory usage after processing review chunk: 4209.91 MB\n"
     ]
    },
    {
     "name": "stderr",
     "output_type": "stream",
     "text": [
      "Reading reviews: 32211806it [22:56, 19675.33it/s]"
     ]
    },
    {
     "name": "stdout",
     "output_type": "stream",
     "text": [
      "Memory usage after processing review chunk: 4210.04 MB\n"
     ]
    },
    {
     "name": "stderr",
     "output_type": "stream",
     "text": [
      "Reading reviews: 32264588it [22:59, 18813.57it/s]"
     ]
    },
    {
     "name": "stdout",
     "output_type": "stream",
     "text": [
      "Memory usage after processing review chunk: 4210.04 MB\n"
     ]
    },
    {
     "name": "stderr",
     "output_type": "stream",
     "text": [
      "Reading reviews: 32292099it [22:59, 23408.27it/s]\n"
     ]
    },
    {
     "name": "stdout",
     "output_type": "stream",
     "text": [
      "Memory usage after processing final review chunk: 4210.04 MB\n",
      "Building DataFrame...\n",
      "Memory usage after building DataFrame: 4210.04 MB\n",
      "Downloading one image per item...\n"
     ]
    },
    {
     "name": "stderr",
     "output_type": "stream",
     "text": [
      "Downloading images: 100%|██████████| 7523/7523 [29:05<00:00,  4.31it/s]  \n"
     ]
    },
    {
     "name": "stdout",
     "output_type": "stream",
     "text": [
      "Filtering items without downloadable images...\n",
      "Dataset size after image filtering: 14486 samples\n",
      "Memory usage after image downloading and filtering: 4210.41 MB\n",
      "Verifying image storage...\n",
      "Total images stored: 6306\n",
      "Building user-item interaction dictionary...\n",
      "Memory usage after building interactions: 4210.41 MB\n",
      "Saving processed DataFrame to /kaggle/working/preprocessed_fashion_data.pkl...\n",
      "Memory usage after saving DataFrame: 4210.41 MB\n",
      "Saving user-item interactions to /kaggle/working/user_item_interactions.pkl...\n",
      "Memory usage after saving interactions: 4210.41 MB\n",
      "Creating ZIP file: /kaggle/working/amazon_fashion_data.zip...\n",
      "Added images/B00SQ3J25W.jpg to ZIP\n",
      "Added images/B002WQ5YNS.jpg to ZIP\n",
      "Added images/B000UPTVKA.jpg to ZIP\n",
      "Added images/B006JWRDJ4.jpg to ZIP\n",
      "Added images/B00XHLNA5G.jpg to ZIP\n",
      "Added images/B0085M5K64.jpg to ZIP\n",
      "Added images/B0017NQWF6.jpg to ZIP\n",
      "Added images/B00JGHLG38.jpg to ZIP\n",
      "Added images/B0012DHHJ6.jpg to ZIP\n",
      "Added images/B01DVZZS8Y.jpg to ZIP\n",
      "Added images/B01568ZWAS.jpg to ZIP\n",
      "Added images/B000BM6GPU.jpg to ZIP\n",
      "Added images/B00I5C3FFC.jpg to ZIP\n",
      "Added images/B00IP8R9W6.jpg to ZIP\n",
      "Added images/B00KDDUPCM.jpg to ZIP\n",
      "Added images/B0015KKUIG.jpg to ZIP\n",
      "Added images/B002459SCK.jpg to ZIP\n",
      "Added images/B000N561BE.jpg to ZIP\n",
      "Added images/B0018DL9BC.jpg to ZIP\n",
      "Added images/B00H7XTZGI.jpg to ZIP\n",
      "Added images/B0194I35IM.jpg to ZIP\n",
      "Added images/B00YG44F0C.jpg to ZIP\n",
      "Added images/B00K6KZAYK.jpg to ZIP\n",
      "Added images/B0050H7F6A.jpg to ZIP\n",
      "Added images/B013ST2QX8.jpg to ZIP\n",
      "Added images/B007C3ZJ0E.jpg to ZIP\n",
      "Added images/B01BIMDJDI.jpg to ZIP\n",
      "Added images/B000A38K4A.jpg to ZIP\n",
      "Added images/B00J3Q8EVO.jpg to ZIP\n",
      "Added images/B016R0GFH8.jpg to ZIP\n",
      "Added images/B00AFCIV1S.jpg to ZIP\n",
      "Added images/B01CZYWN6M.jpg to ZIP\n",
      "Added images/B001PUHOAI.jpg to ZIP\n",
      "Added images/B00N5ZG6XW.jpg to ZIP\n",
      "Added images/B01CR9IKGW.jpg to ZIP\n",
      "Added images/B004ARPPEK.jpg to ZIP\n",
      "Added images/B00FRVBXZS.jpg to ZIP\n",
      "Added images/B019F3M29Y.jpg to ZIP\n",
      "Added images/B005S2PAW8.jpg to ZIP\n",
      "Added images/B014FD8DOC.jpg to ZIP\n",
      "Added images/B00SXVUXNM.jpg to ZIP\n",
      "Added images/B00KA3UMUA.jpg to ZIP\n",
      "Added images/B0182CONF0.jpg to ZIP\n",
      "Added images/B001CE25FQ.jpg to ZIP\n",
      "Added images/B016MFF2P4.jpg to ZIP\n",
      "Added images/B0069I9KB2.jpg to ZIP\n",
      "Added images/B0141DXH9W.jpg to ZIP\n",
      "Added images/B00JRHK0KM.jpg to ZIP\n",
      "Added images/B00VRGGG5Y.jpg to ZIP\n",
      "Added images/B00HEXSX6Y.jpg to ZIP\n",
      "Added images/B00GTTFBIC.jpg to ZIP\n",
      "Added images/B003X2805Y.jpg to ZIP\n",
      "Added images/B01A0GGAJS.jpg to ZIP\n",
      "Added images/B003ZYDPWS.jpg to ZIP\n",
      "Added images/B00AYYHA2I.jpg to ZIP\n",
      "Added images/B00GIZ4OGM.jpg to ZIP\n",
      "Added images/B0016OBFMQ.jpg to ZIP\n",
      "Added images/B000ORAO96.jpg to ZIP\n",
      "Added images/B016PZ1RBY.jpg to ZIP\n",
      "Added images/B00SY2W8EC.jpg to ZIP\n",
      "Added images/B015NX7MMC.jpg to ZIP\n",
      "Added images/B00WA36UOA.jpg to ZIP\n",
      "Added images/B007HNGGI8.jpg to ZIP\n",
      "Added images/B000QXTAOI.jpg to ZIP\n",
      "Added images/B00YBEA3BW.jpg to ZIP\n",
      "Added images/B00E0L0QMC.jpg to ZIP\n",
      "Added images/B01D1A7HG0.jpg to ZIP\n",
      "Added images/B00QQQQXYO.jpg to ZIP\n",
      "Added images/B01AKX3VV6.jpg to ZIP\n",
      "Added images/B00YEFS0IG.jpg to ZIP\n",
      "Added images/B00F92CV1U.jpg to ZIP\n",
      "Added images/B01CT0H6XC.jpg to ZIP\n",
      "Added images/B00EVPM6CK.jpg to ZIP\n",
      "Added images/B00IAO6SN6.jpg to ZIP\n",
      "Added images/B0073B5SZ6.jpg to ZIP\n",
      "Added images/B013ST2NWC.jpg to ZIP\n",
      "Added images/B008VPQMO4.jpg to ZIP\n",
      "Added images/B00KCJB6A2.jpg to ZIP\n",
      "Added images/B0037HP3IM.jpg to ZIP\n",
      "Added images/B006L0AM6K.jpg to ZIP\n",
      "Added images/B005GV4M2A.jpg to ZIP\n",
      "Added images/B008VPR1K8.jpg to ZIP\n",
      "Added images/B00OLEBBL8.jpg to ZIP\n",
      "Added images/B00LFHD3E2.jpg to ZIP\n",
      "Added images/B007YZELJA.jpg to ZIP\n",
      "Added images/B000YJMP4G.jpg to ZIP\n",
      "Added images/B00YGGV620.jpg to ZIP\n",
      "Added images/B001HSMPHU.jpg to ZIP\n",
      "Added images/B00MV72NBE.jpg to ZIP\n",
      "Added images/B00BBT9K0U.jpg to ZIP\n",
      "Added images/B00KCXAMSA.jpg to ZIP\n",
      "Added images/B00XPGD52Q.jpg to ZIP\n",
      "Added images/B003LA3TWW.jpg to ZIP\n",
      "Added images/B008GZ0N30.jpg to ZIP\n",
      "Added images/B00P4C103K.jpg to ZIP\n",
      "Added images/B005GVJEX2.jpg to ZIP\n",
      "Added images/B00H8OASFS.jpg to ZIP\n",
      "Added images/B001TE7VDK.jpg to ZIP\n",
      "Added images/B007GGO9VW.jpg to ZIP\n",
      "Added images/B000PQKYGE.jpg to ZIP\n",
      "Added images/B016AMM9KU.jpg to ZIP\n",
      "Added images/B00PXTERX4.jpg to ZIP\n",
      "Added images/B01H44AIQK.jpg to ZIP\n",
      "Added images/B00ZFMS0O6.jpg to ZIP\n",
      "Added images/B009QGP8Q0.jpg to ZIP\n",
      "Added images/B01H2BMH4Q.jpg to ZIP\n",
      "Added images/B015RC32FK.jpg to ZIP\n",
      "Added images/B00M1E0H4W.jpg to ZIP\n",
      "Added images/B009YNB4E0.jpg to ZIP\n",
      "Added images/B00W8IHAVY.jpg to ZIP\n",
      "Added images/B00OTOK51W.jpg to ZIP\n",
      "Added images/B001680JC4.jpg to ZIP\n",
      "Added images/B01AH00QQA.jpg to ZIP\n",
      "Added images/B003QGP082.jpg to ZIP\n",
      "Added images/B00KCXGJ6E.jpg to ZIP\n",
      "Added images/B001MS73YU.jpg to ZIP\n",
      "Added images/B005GV47YS.jpg to ZIP\n",
      "Added images/B01A6L91MK.jpg to ZIP\n",
      "Added images/B00IE3PVRM.jpg to ZIP\n",
      "Added images/B000YI1688.jpg to ZIP\n",
      "Added images/B01BCQMJZO.jpg to ZIP\n",
      "Added images/B005H406VM.jpg to ZIP\n",
      "Added images/B000Z594Q6.jpg to ZIP\n",
      "Added images/B00KRYMUH0.jpg to ZIP\n",
      "Added images/B00EDTKSE2.jpg to ZIP\n",
      "Added images/B004YVSEDG.jpg to ZIP\n",
      "Added images/B00I5F0CZA.jpg to ZIP\n",
      "Added images/B00LDSUIJQ.jpg to ZIP\n",
      "Added images/B0016HGEH4.jpg to ZIP\n",
      "Added images/B00U1TNTJY.jpg to ZIP\n",
      "Added images/B00EVPMBQQ.jpg to ZIP\n",
      "Added images/B00WBHSMOQ.jpg to ZIP\n",
      "Added images/B00DBLGIUQ.jpg to ZIP\n",
      "Added images/B00LE596VO.jpg to ZIP\n",
      "Added images/B019WVMRYY.jpg to ZIP\n",
      "Added images/B01FUUOB7W.jpg to ZIP\n",
      "Added images/B00CFDMP9E.jpg to ZIP\n",
      "Added images/B00TGVBH2O.jpg to ZIP\n",
      "Added images/B01HC92OU0.jpg to ZIP\n",
      "Added images/B01094FYTS.jpg to ZIP\n",
      "Added images/B003YBSFOK.jpg to ZIP\n",
      "Added images/B007HNDRBC.jpg to ZIP\n",
      "Added images/B00ATL61WG.jpg to ZIP\n",
      "Added images/B00LF00M8Y.jpg to ZIP\n",
      "Added images/B00KJ8IJL0.jpg to ZIP\n",
      "Added images/B001CL8JWM.jpg to ZIP\n",
      "Added images/B00EEVWX6K.jpg to ZIP\n",
      "Added images/B00C57YJ58.jpg to ZIP\n",
      "Added images/B00LEBN16Y.jpg to ZIP\n",
      "Added images/B00FQCSN3I.jpg to ZIP\n",
      "Added images/B0094QTLYM.jpg to ZIP\n",
      "Added images/B01EXOGQVA.jpg to ZIP\n",
      "Added images/B00188JOTG.jpg to ZIP\n",
      "Added images/B0027YY0YO.jpg to ZIP\n",
      "Added images/B000P53034.jpg to ZIP\n",
      "Added images/B01183LZQA.jpg to ZIP\n",
      "Added images/B005GMUDTA.jpg to ZIP\n",
      "Added images/B009TB13EI.jpg to ZIP\n",
      "Added images/B001BC2RTI.jpg to ZIP\n",
      "Added images/B00V6S0S48.jpg to ZIP\n",
      "Added images/B016YL49M8.jpg to ZIP\n",
      "Added images/B0181ENRNI.jpg to ZIP\n",
      "Added images/B00186XXEU.jpg to ZIP\n",
      "Added images/B013IXCQVQ.jpg to ZIP\n",
      "Added images/B0002M8QZM.jpg to ZIP\n",
      "Added images/B00OLEBA8C.jpg to ZIP\n",
      "Added images/B002A9IF06.jpg to ZIP\n",
      "Added images/B00M3LPL3U.jpg to ZIP\n",
      "Added images/B002F9MAFW.jpg to ZIP\n",
      "Added images/B002VHF7FI.jpg to ZIP\n",
      "Added images/B000VV7EAW.jpg to ZIP\n",
      "Added images/B01GVGMMB6.jpg to ZIP\n",
      "Added images/B01E5B1ZOE.jpg to ZIP\n",
      "Added images/B00RJUPDGA.jpg to ZIP\n",
      "Added images/B00KB3R748.jpg to ZIP\n",
      "Added images/B004JHQ1V2.jpg to ZIP\n",
      "Added images/B00FMTK400.jpg to ZIP\n",
      "Added images/B000XBNR1K.jpg to ZIP\n",
      "Added images/B00DIT7EZO.jpg to ZIP\n",
      "Added images/B009JZATQM.jpg to ZIP\n",
      "Added images/B00AFCIDW0.jpg to ZIP\n",
      "Added images/B00X14VVMI.jpg to ZIP\n",
      "Added images/B0195YYB42.jpg to ZIP\n",
      "Added images/B0011YZFK4.jpg to ZIP\n",
      "Added images/B00OJDKT6E.jpg to ZIP\n",
      "Added images/B01FEFIJSA.jpg to ZIP\n",
      "Added images/B0002QVA10.jpg to ZIP\n",
      "Added images/B000EQU15O.jpg to ZIP\n",
      "Added images/B003F65D44.jpg to ZIP\n",
      "Added images/B00BJOHUY0.jpg to ZIP\n",
      "Added images/B00KLC6VMS.jpg to ZIP\n",
      "Added images/B013ST2KXY.jpg to ZIP\n",
      "Added images/B0014E7EZK.jpg to ZIP\n",
      "Added images/B00FXWANVQ.jpg to ZIP\n",
      "Added images/B001CE0Y5E.jpg to ZIP\n",
      "Added images/B01FXQ74NQ.jpg to ZIP\n",
      "Added images/B002AVU9JY.jpg to ZIP\n",
      "Added images/B00FYS7WVS.jpg to ZIP\n",
      "Added images/B004DD4WWW.jpg to ZIP\n",
      "Added images/B00NVEV8CG.jpg to ZIP\n",
      "Added images/B00PVUBE0E.jpg to ZIP\n",
      "Added images/B00U7N9IKS.jpg to ZIP\n",
      "Added images/B00PZ8AZZ2.jpg to ZIP\n",
      "Added images/B00DY9SIOY.jpg to ZIP\n",
      "Added images/B004Q8D7R0.jpg to ZIP\n",
      "Added images/B011QUALQA.jpg to ZIP\n",
      "Added images/B00C3EPJWA.jpg to ZIP\n",
      "Added images/B001FARMLO.jpg to ZIP\n",
      "Added images/B001EQO31Q.jpg to ZIP\n",
      "Added images/B017J2Z8AI.jpg to ZIP\n",
      "Added images/B00ITWY2AA.jpg to ZIP\n",
      "Added images/B000X2UIZM.jpg to ZIP\n",
      "Added images/B00Y2ZW29G.jpg to ZIP\n",
      "Added images/B019DXU36U.jpg to ZIP\n",
      "Added images/B00BQJV1LG.jpg to ZIP\n",
      "Added images/B00N9CWQYO.jpg to ZIP\n",
      "Added images/B014FKQK0E.jpg to ZIP\n",
      "Added images/B00MVA7L5O.jpg to ZIP\n",
      "Added images/B016JYJ0TC.jpg to ZIP\n",
      "Added images/B01FTXPQXI.jpg to ZIP\n",
      "Added images/B000HBVRUY.jpg to ZIP\n",
      "Added images/B01E5B39B6.jpg to ZIP\n",
      "Added images/B01EM0P7LU.jpg to ZIP\n",
      "Added images/B00BUWT8VY.jpg to ZIP\n",
      "Added images/B006ZUT04G.jpg to ZIP\n",
      "Added images/B005DM435S.jpg to ZIP\n",
      "Added images/B000J1F9VU.jpg to ZIP\n",
      "Added images/B005OPN35K.jpg to ZIP\n",
      "Added images/B007C2ISVC.jpg to ZIP\n",
      "Added images/B0010TC9E0.jpg to ZIP\n",
      "Added images/B000YZBNXO.jpg to ZIP\n",
      "Added images/B00JFS2KZ6.jpg to ZIP\n",
      "Added images/B005GV6ZAW.jpg to ZIP\n",
      "Added images/B001NOTJH2.jpg to ZIP\n",
      "Added images/B007XWM77W.jpg to ZIP\n",
      "Added images/B00GDSWJWK.jpg to ZIP\n",
      "Added images/B000MUYGEY.jpg to ZIP\n",
      "Added images/B0043QKR0A.jpg to ZIP\n",
      "Added images/B01CZYWIUI.jpg to ZIP\n",
      "Added images/B00ST6BXSK.jpg to ZIP\n",
      "Added images/B00W6AMKNW.jpg to ZIP\n",
      "Added images/B006XGJ6BY.jpg to ZIP\n",
      "Added images/B00J9A7QAY.jpg to ZIP\n",
      "Added images/B00SWDHA6Y.jpg to ZIP\n",
      "Added images/B01DY972D6.jpg to ZIP\n",
      "Added images/B00JGHNDAM.jpg to ZIP\n",
      "Added images/B001MS758Y.jpg to ZIP\n",
      "Added images/B0014E3G3O.jpg to ZIP\n",
      "Added images/B017Q09BP6.jpg to ZIP\n",
      "Added images/B001MU3216.jpg to ZIP\n",
      "Added images/B005OA610E.jpg to ZIP\n",
      "Added images/B0094A42P6.jpg to ZIP\n",
      "Added images/B00371PYW8.jpg to ZIP\n",
      "Added images/B00M1DTXVG.jpg to ZIP\n",
      "Added images/B009YK95G2.jpg to ZIP\n",
      "Added images/B000W4PP9U.jpg to ZIP\n",
      "Added images/B00H9I3XK0.jpg to ZIP\n",
      "Added images/B013JXIVEQ.jpg to ZIP\n",
      "Added images/B00IJMT8QS.jpg to ZIP\n",
      "Added images/B018SPIE0Q.jpg to ZIP\n",
      "Added images/B0074GKXZ0.jpg to ZIP\n",
      "Added images/B00CVRZDWK.jpg to ZIP\n",
      "Added images/B000X2JN2Q.jpg to ZIP\n",
      "Added images/B0016P3H5I.jpg to ZIP\n",
      "Added images/B0014COKSQ.jpg to ZIP\n",
      "Added images/B0012GZDRG.jpg to ZIP\n",
      "Added images/B003JYM3BS.jpg to ZIP\n",
      "Added images/B001JQLQC0.jpg to ZIP\n",
      "Added images/B00MUBK3MM.jpg to ZIP\n",
      "Added images/B005BFLGNY.jpg to ZIP\n",
      "Added images/B00H9I3X1Y.jpg to ZIP\n",
      "Added images/B01F7Q8JHC.jpg to ZIP\n",
      "Added images/B004WDRZ7W.jpg to ZIP\n",
      "Added images/B003U95YHM.jpg to ZIP\n",
      "Added images/B00FAUEFUQ.jpg to ZIP\n",
      "Added images/B000FOX9XQ.jpg to ZIP\n",
      "Added images/B00SAI4622.jpg to ZIP\n",
      "Added images/B000UU67ZM.jpg to ZIP\n",
      "Added images/B00CHYNH2K.jpg to ZIP\n",
      "Added images/B00MAVHQSG.jpg to ZIP\n",
      "Added images/B00C3EL8AW.jpg to ZIP\n",
      "Added images/B00TEZ8B2G.jpg to ZIP\n",
      "Added images/B00R54W660.jpg to ZIP\n",
      "Added images/B00B4QPAAO.jpg to ZIP\n",
      "Added images/B00CHFYB4C.jpg to ZIP\n",
      "Added images/B00ATUL6J0.jpg to ZIP\n",
      "Added images/B00YV697IK.jpg to ZIP\n",
      "Added images/B00QNF6SFM.jpg to ZIP\n",
      "Added images/B0012DFJ46.jpg to ZIP\n",
      "Added images/B0119NM1GM.jpg to ZIP\n",
      "Added images/B009FJIWB6.jpg to ZIP\n",
      "Added images/B0058ZOD9Q.jpg to ZIP\n",
      "Added images/B018CF8KII.jpg to ZIP\n",
      "Added images/B000K2J4WI.jpg to ZIP\n",
      "Added images/B015W66YME.jpg to ZIP\n",
      "Added images/B007YYYKYM.jpg to ZIP\n",
      "Added images/B0178I1UOQ.jpg to ZIP\n",
      "Added images/B016JYISMC.jpg to ZIP\n",
      "Added images/B005GV9AEU.jpg to ZIP\n",
      "Added images/B000UQ10AS.jpg to ZIP\n",
      "Added images/B001AMPVAG.jpg to ZIP\n",
      "Added images/B00YEUSZBI.jpg to ZIP\n",
      "Added images/B01GWW4HLW.jpg to ZIP\n",
      "Added images/B01FN16TC8.jpg to ZIP\n",
      "Added images/B003Y391DW.jpg to ZIP\n",
      "Added images/B0016O8XB2.jpg to ZIP\n",
      "Added images/B0010EDMKA.jpg to ZIP\n",
      "Added images/B0193YUPYY.jpg to ZIP\n",
      "Added images/B00FC0PVJI.jpg to ZIP\n",
      "Added images/B000XJMBEQ.jpg to ZIP\n",
      "Added images/B001QFYDJW.jpg to ZIP\n",
      "Added images/B00S5VKIJE.jpg to ZIP\n",
      "Added images/B004NBF976.jpg to ZIP\n",
      "Added images/B00WPMN1DY.jpg to ZIP\n",
      "Added images/B01G0WAEP2.jpg to ZIP\n",
      "Added images/B0015MN8KG.jpg to ZIP\n",
      "Added images/B00DV0XJKO.jpg to ZIP\n",
      "Added images/B00ATUFWF4.jpg to ZIP\n",
      "Added images/B0092T0OJ2.jpg to ZIP\n",
      "Added images/B00MTMBT5M.jpg to ZIP\n",
      "Added images/B00AFCLZE8.jpg to ZIP\n",
      "Added images/B000A2KAOO.jpg to ZIP\n",
      "Added images/B0055XDMCU.jpg to ZIP\n",
      "Added images/B007SO3DZU.jpg to ZIP\n",
      "Added images/B000GCOJVI.jpg to ZIP\n",
      "Added images/B003EEHAE8.jpg to ZIP\n",
      "Added images/B00Q4O8D4Q.jpg to ZIP\n",
      "Added images/B013I8UTRY.jpg to ZIP\n",
      "Added images/B005MRD4U4.jpg to ZIP\n",
      "Added images/B000NGJ3F4.jpg to ZIP\n",
      "Added images/B00K3YLC0U.jpg to ZIP\n",
      "Added images/B00K2G04CG.jpg to ZIP\n",
      "Added images/B017HLVVZW.jpg to ZIP\n",
      "Added images/B0023TUVP0.jpg to ZIP\n",
      "Added images/B00HQ7PJYM.jpg to ZIP\n",
      "Added images/B018XWJTN0.jpg to ZIP\n",
      "Added images/B01CDMIXHO.jpg to ZIP\n",
      "Added images/B013ST33BC.jpg to ZIP\n",
      "Added images/B00IZDNHRM.jpg to ZIP\n",
      "Added images/B00LBI6ZRC.jpg to ZIP\n",
      "Added images/B00EOIF8N8.jpg to ZIP\n",
      "Added images/B00YX21RTY.jpg to ZIP\n",
      "Added images/B00FDMM346.jpg to ZIP\n",
      "Added images/B00F9S82WQ.jpg to ZIP\n",
      "Added images/B00VAYBZG8.jpg to ZIP\n",
      "Added images/B00OLEBHZI.jpg to ZIP\n",
      "Added images/B00LEC26HS.jpg to ZIP\n",
      "Added images/B0192O1HIS.jpg to ZIP\n",
      "Added images/B001NW7N4A.jpg to ZIP\n",
      "Added images/B011Y4JN4Y.jpg to ZIP\n",
      "Added images/B0018T0JO4.jpg to ZIP\n",
      "Added images/B00BXF85MG.jpg to ZIP\n",
      "Added images/B00KC5XMAI.jpg to ZIP\n",
      "Added images/B00V5CI81K.jpg to ZIP\n",
      "Added images/B0099L0CPY.jpg to ZIP\n",
      "Added images/B00ITWZ3Y4.jpg to ZIP\n",
      "Added images/B000O55O7A.jpg to ZIP\n",
      "Added images/B000FBYDTS.jpg to ZIP\n",
      "Added images/B016MFEJ9O.jpg to ZIP\n",
      "Added images/B016IO9JLM.jpg to ZIP\n",
      "Added images/B001NCFBWQ.jpg to ZIP\n",
      "Added images/B00LDSTYC8.jpg to ZIP\n",
      "Added images/B01BGW2314.jpg to ZIP\n",
      "Added images/B00JRHKA34.jpg to ZIP\n",
      "Added images/B00M2PD4O0.jpg to ZIP\n",
      "Added images/B013N1XUMC.jpg to ZIP\n",
      "Added images/B017JA9CPW.jpg to ZIP\n",
      "Added images/B003I4I6NS.jpg to ZIP\n",
      "Added images/B006JIXMNE.jpg to ZIP\n",
      "Added images/B00X12CL1A.jpg to ZIP\n",
      "Added images/B0050SB6BE.jpg to ZIP\n",
      "Added images/B00KJ8IWRQ.jpg to ZIP\n",
      "Added images/B00Q3LQAH2.jpg to ZIP\n",
      "Added images/B0019WZI0U.jpg to ZIP\n",
      "Added images/B00QNCYZOQ.jpg to ZIP\n",
      "Added images/B00A76UFK2.jpg to ZIP\n",
      "Added images/B00JKJIHPM.jpg to ZIP\n",
      "Added images/B01C92I3TQ.jpg to ZIP\n",
      "Added images/B006NZ3J8G.jpg to ZIP\n",
      "Added images/B010GH4L6A.jpg to ZIP\n",
      "Added images/B00PCW277K.jpg to ZIP\n",
      "Added images/B01568Z8RK.jpg to ZIP\n",
      "Added images/B0017UAVB0.jpg to ZIP\n",
      "Added images/B0116E3GTU.jpg to ZIP\n",
      "Added images/B00AWMBVTA.jpg to ZIP\n",
      "Added images/B0029KF6FI.jpg to ZIP\n",
      "Added images/B00WTLAL84.jpg to ZIP\n",
      "Added images/B00CS4SPCQ.jpg to ZIP\n",
      "Added images/B003AM7SJ6.jpg to ZIP\n",
      "Added images/B00HFBVL8C.jpg to ZIP\n",
      "Added images/B0043RTQE2.jpg to ZIP\n",
      "Added images/B0015TCEVS.jpg to ZIP\n",
      "Added images/B003AOKPGW.jpg to ZIP\n",
      "Added images/B000FGU3UQ.jpg to ZIP\n",
      "Added images/B00YXC9XUY.jpg to ZIP\n",
      "Added images/B00CB9ZU08.jpg to ZIP\n",
      "Added images/B0073D5VMY.jpg to ZIP\n",
      "Added images/B00XKSIP60.jpg to ZIP\n",
      "Added images/B00HEVGXFO.jpg to ZIP\n",
      "Added images/B014WBBISA.jpg to ZIP\n",
      "Added images/B0052OPAQS.jpg to ZIP\n",
      "Added images/B00CHIYWMK.jpg to ZIP\n",
      "Added images/B00YV5L9MI.jpg to ZIP\n",
      "Added images/B01CZ3VM56.jpg to ZIP\n",
      "Added images/B009G75PY4.jpg to ZIP\n",
      "Added images/B00UCUI0IW.jpg to ZIP\n",
      "Added images/B00CVRZBFY.jpg to ZIP\n",
      "Added images/B01EWU327G.jpg to ZIP\n",
      "Added images/B01B8NG8BM.jpg to ZIP\n",
      "Added images/B00LWBZFJ2.jpg to ZIP\n",
      "Added images/B002WVPM3A.jpg to ZIP\n",
      "Added images/B00XPGEE76.jpg to ZIP\n",
      "Added images/B003R4Z40W.jpg to ZIP\n",
      "Added images/B01971BDA8.jpg to ZIP\n",
      "Added images/B001CWNGMY.jpg to ZIP\n",
      "Added images/B007GB8F3A.jpg to ZIP\n",
      "Added images/B00M1D9PXC.jpg to ZIP\n",
      "Added images/B016JYJ3K8.jpg to ZIP\n",
      "Added images/B00590RGH6.jpg to ZIP\n",
      "Added images/B00H3V6OBS.jpg to ZIP\n",
      "Added images/B0098SF9FG.jpg to ZIP\n",
      "Added images/B0015Y5H0I.jpg to ZIP\n",
      "Added images/B0018FGAN2.jpg to ZIP\n",
      "Added images/B00OLF79JU.jpg to ZIP\n",
      "Added images/B0017UGWHC.jpg to ZIP\n",
      "Added images/B00991VFIM.jpg to ZIP\n",
      "Added images/B01DUC4YFQ.jpg to ZIP\n",
      "Added images/B013I8UKUU.jpg to ZIP\n",
      "Added images/B01CULOG4M.jpg to ZIP\n",
      "Added images/B00ACX062C.jpg to ZIP\n",
      "Added images/B004L63C54.jpg to ZIP\n",
      "Added images/B01BO1GNEA.jpg to ZIP\n",
      "Added images/B00I096NZY.jpg to ZIP\n",
      "Added images/B00P3ASXS8.jpg to ZIP\n",
      "Added images/B00D8YD2HI.jpg to ZIP\n",
      "Added images/B00167ZOBQ.jpg to ZIP\n",
      "Added images/B00F9S8T3S.jpg to ZIP\n",
      "Added images/B00WM4CYHY.jpg to ZIP\n",
      "Added images/B00VJW9A3G.jpg to ZIP\n",
      "Added images/B00186TA3S.jpg to ZIP\n",
      "Added images/B0018J5L7O.jpg to ZIP\n",
      "Added images/B000YD0XJG.jpg to ZIP\n",
      "Added images/B008VT4CQ0.jpg to ZIP\n",
      "Added images/B016NOSX4G.jpg to ZIP\n",
      "Added images/B00YXCR8J2.jpg to ZIP\n",
      "Added images/B00QRHIDRC.jpg to ZIP\n",
      "Added images/B000LJMY68.jpg to ZIP\n",
      "Added images/B00IUYTT14.jpg to ZIP\n",
      "Added images/B01EFR2Y48.jpg to ZIP\n",
      "Added images/B007PSE2ZO.jpg to ZIP\n",
      "Added images/B00EB10XDS.jpg to ZIP\n",
      "Added images/B00AWMC2B6.jpg to ZIP\n",
      "Added images/B01GV4T5N6.jpg to ZIP\n",
      "Added images/B001AFZWIY.jpg to ZIP\n",
      "Added images/B00F2V6DBC.jpg to ZIP\n",
      "Added images/B00KCXGXY2.jpg to ZIP\n",
      "Added images/B00375LTDW.jpg to ZIP\n",
      "Added images/B00FDN9P0A.jpg to ZIP\n",
      "Added images/B005GVKTI6.jpg to ZIP\n",
      "Added images/B01BKV5GFG.jpg to ZIP\n",
      "Added images/B015RAMZLO.jpg to ZIP\n",
      "Added images/B00GFINC2Y.jpg to ZIP\n",
      "Added images/B01DH3TP6G.jpg to ZIP\n",
      "Added images/B009G6XLE6.jpg to ZIP\n",
      "Added images/B00LLKK0K8.jpg to ZIP\n",
      "Added images/B01FSUBTEC.jpg to ZIP\n",
      "Added images/B00NTJO5Q4.jpg to ZIP\n",
      "Added images/B0024660FC.jpg to ZIP\n",
      "Added images/B00ICER7W0.jpg to ZIP\n",
      "Added images/B015HTYZXQ.jpg to ZIP\n",
      "Added images/B00PL44V7S.jpg to ZIP\n",
      "Added images/B0043RTQ74.jpg to ZIP\n",
      "Added images/B005AGRX36.jpg to ZIP\n",
      "Added images/B01H1VHJRW.jpg to ZIP\n",
      "Added images/B000NXYYJW.jpg to ZIP\n",
      "Added images/B003IKOMG2.jpg to ZIP\n",
      "Added images/B00M93KZF6.jpg to ZIP\n",
      "Added images/B00843L6ZI.jpg to ZIP\n",
      "Added images/B00PUW3GZY.jpg to ZIP\n",
      "Added images/B001OW74JI.jpg to ZIP\n",
      "Added images/B003GXE770.jpg to ZIP\n",
      "Added images/B00JULZ88O.jpg to ZIP\n",
      "Added images/B01334VTOK.jpg to ZIP\n",
      "Added images/B000K2MR54.jpg to ZIP\n",
      "Added images/B01H439QI2.jpg to ZIP\n",
      "Added images/B0015ZD7HM.jpg to ZIP\n",
      "Added images/B004UJ5A70.jpg to ZIP\n",
      "Added images/B0108X3QYK.jpg to ZIP\n",
      "Added images/B00MUASMHQ.jpg to ZIP\n",
      "Added images/B00V5RV0ME.jpg to ZIP\n",
      "Added images/B00LDSU6RA.jpg to ZIP\n",
      "Added images/B01H3EALTK.jpg to ZIP\n",
      "Added images/B00JGHNPWI.jpg to ZIP\n",
      "Added images/B016LUVZUQ.jpg to ZIP\n",
      "Added images/B00DO3RXNM.jpg to ZIP\n",
      "Added images/B01BCQMZW6.jpg to ZIP\n",
      "Added images/B000BO88T0.jpg to ZIP\n",
      "Added images/B0036MSYZW.jpg to ZIP\n",
      "Added images/B00453LR9Q.jpg to ZIP\n",
      "Added images/B015A81HZI.jpg to ZIP\n",
      "Added images/B00U1TP136.jpg to ZIP\n",
      "Added images/B00PS2PRDK.jpg to ZIP\n",
      "Added images/B000NID2CC.jpg to ZIP\n",
      "Added images/B0098SFZ5K.jpg to ZIP\n",
      "Added images/B007I34YCM.jpg to ZIP\n",
      "Added images/B000W4KJYG.jpg to ZIP\n",
      "Added images/B00WW6YJG6.jpg to ZIP\n",
      "Added images/B0198WR8GE.jpg to ZIP\n",
      "Added images/B01ADUDNTG.jpg to ZIP\n",
      "Added images/B00LF0YCEY.jpg to ZIP\n",
      "Added images/B01H37E4E0.jpg to ZIP\n",
      "Added images/B0018DWG50.jpg to ZIP\n",
      "Added images/B00YV50ORO.jpg to ZIP\n",
      "Added images/B0017LT9OO.jpg to ZIP\n",
      "Added images/B00KCXDCI2.jpg to ZIP\n",
      "Added images/B01BIO0OUW.jpg to ZIP\n",
      "Added images/B00K6KQGYS.jpg to ZIP\n",
      "Added images/B00WX9LI84.jpg to ZIP\n",
      "Added images/B00188K8R8.jpg to ZIP\n",
      "Added images/B016PJ8E16.jpg to ZIP\n",
      "Added images/B00K8Q4VGK.jpg to ZIP\n",
      "Added images/B000P5BVB2.jpg to ZIP\n",
      "Added images/B0012IP0S6.jpg to ZIP\n",
      "Added images/B001BOBS2I.jpg to ZIP\n",
      "Added images/B00IAVJOQ2.jpg to ZIP\n",
      "Added images/B01BIMDHOY.jpg to ZIP\n",
      "Added images/B00Q02RTVU.jpg to ZIP\n",
      "Added images/B01DH3TP3Y.jpg to ZIP\n",
      "Added images/B003TWD87S.jpg to ZIP\n",
      "Added images/B00QNW0HWU.jpg to ZIP\n",
      "Added images/B0181ENQIO.jpg to ZIP\n",
      "Added images/B00H0RYH6E.jpg to ZIP\n",
      "Added images/B0053ES2IA.jpg to ZIP\n",
      "Added images/B003O2SABW.jpg to ZIP\n",
      "Added images/B005DPNEZA.jpg to ZIP\n",
      "Added images/B000MUX1TA.jpg to ZIP\n",
      "Added images/B002N2XYG0.jpg to ZIP\n",
      "Added images/B00GBEX740.jpg to ZIP\n",
      "Added images/B000TQY7WW.jpg to ZIP\n",
      "Added images/B01BI8Q1XM.jpg to ZIP\n",
      "Added images/B00MWOL7NG.jpg to ZIP\n",
      "Added images/B0018E6XFI.jpg to ZIP\n",
      "Added images/B00CFU72ZO.jpg to ZIP\n",
      "Added images/B00JXMG802.jpg to ZIP\n",
      "Added images/B00DYPUFN0.jpg to ZIP\n",
      "Added images/B013I34SJE.jpg to ZIP\n",
      "Added images/B016V57460.jpg to ZIP\n",
      "Added images/B001J54Q00.jpg to ZIP\n",
      "Added images/B0028K3CDC.jpg to ZIP\n",
      "Added images/B00BWISULU.jpg to ZIP\n",
      "Added images/B0175Z1DNK.jpg to ZIP\n",
      "Added images/B001FA15MG.jpg to ZIP\n",
      "Added images/B01E4KAIG2.jpg to ZIP\n",
      "Added images/B00465G4A0.jpg to ZIP\n",
      "Added images/B00LUMKGTC.jpg to ZIP\n",
      "Added images/B005AKXDR2.jpg to ZIP\n",
      "Added images/B00FJWM1IS.jpg to ZIP\n",
      "Added images/B0017UCRI0.jpg to ZIP\n",
      "Added images/B00144GBS6.jpg to ZIP\n",
      "Added images/B00MFB6BL4.jpg to ZIP\n",
      "Added images/B000ITQKUW.jpg to ZIP\n",
      "Added images/B00OJDFJ6Y.jpg to ZIP\n",
      "Added images/B005N73WNM.jpg to ZIP\n",
      "Added images/B01FR3P9NM.jpg to ZIP\n",
      "Added images/B00JLB9TZQ.jpg to ZIP\n",
      "Added images/B01G0V0XBI.jpg to ZIP\n",
      "Added images/B00V5CJPTO.jpg to ZIP\n",
      "Added images/B00MOEYZCY.jpg to ZIP\n",
      "Added images/B01BGW0BAY.jpg to ZIP\n",
      "Added images/B000A38FNQ.jpg to ZIP\n",
      "Added images/B00791QYMQ.jpg to ZIP\n",
      "Added images/B00ITWYYKS.jpg to ZIP\n",
      "Added images/B00NNEUYLK.jpg to ZIP\n",
      "Added images/B015BKCBXW.jpg to ZIP\n",
      "Added images/B00KA3UW5A.jpg to ZIP\n",
      "Added images/B00DBLHUXA.jpg to ZIP\n",
      "Added images/B00H4W7UXW.jpg to ZIP\n",
      "Added images/B00KJ8IYXS.jpg to ZIP\n",
      "Added images/B000Q5XVFA.jpg to ZIP\n",
      "Added images/B00MSAU596.jpg to ZIP\n",
      "Added images/B000U65DBA.jpg to ZIP\n",
      "Added images/B00TZERUGO.jpg to ZIP\n",
      "Added images/B001CN8EU2.jpg to ZIP\n",
      "Added images/B00OZLJ1IW.jpg to ZIP\n",
      "Added images/B00HI0IIM2.jpg to ZIP\n",
      "Added images/B00NOTFX0G.jpg to ZIP\n",
      "Added images/B01AKMCZ8C.jpg to ZIP\n",
      "Added images/B00IJ73IM8.jpg to ZIP\n",
      "Added images/B00WW7335I.jpg to ZIP\n",
      "Added images/B002QGTF34.jpg to ZIP\n",
      "Added images/B002E9I0ZW.jpg to ZIP\n",
      "Added images/B0108VSWKK.jpg to ZIP\n",
      "Added images/B00188IKMS.jpg to ZIP\n",
      "Added images/B00DHCM98E.jpg to ZIP\n",
      "Added images/B00H4Z8WPE.jpg to ZIP\n",
      "Added images/B0059RGEU4.jpg to ZIP\n",
      "Added images/B00SYDYP06.jpg to ZIP\n",
      "Added images/B000V2OKXU.jpg to ZIP\n",
      "Added images/B00AO2W9LC.jpg to ZIP\n",
      "Added images/B00D1KG8YI.jpg to ZIP\n",
      "Added images/B00E1I5A7A.jpg to ZIP\n",
      "Added images/B00MF9N74K.jpg to ZIP\n",
      "Added images/B000SMPMZI.jpg to ZIP\n",
      "Added images/B00M1Q3XUA.jpg to ZIP\n",
      "Added images/B00IWJHEV4.jpg to ZIP\n",
      "Added images/B00KW2J7GE.jpg to ZIP\n",
      "Added images/B004V7EI5G.jpg to ZIP\n",
      "Added images/B001H0F71E.jpg to ZIP\n",
      "Added images/B00962GV4M.jpg to ZIP\n",
      "Added images/B00C4BP7NI.jpg to ZIP\n",
      "Added images/B00R7AX044.jpg to ZIP\n",
      "Added images/B000ZZSHLY.jpg to ZIP\n",
      "Added images/B0012MG3K6.jpg to ZIP\n",
      "Added images/B009LU56A4.jpg to ZIP\n",
      "Added images/B00A8362VA.jpg to ZIP\n",
      "Added images/B010NX5JXQ.jpg to ZIP\n",
      "Added images/B0014JJ6OC.jpg to ZIP\n",
      "Added images/B004LUK9J2.jpg to ZIP\n",
      "Added images/B007L4YYVO.jpg to ZIP\n",
      "Added images/B0018AMB1W.jpg to ZIP\n",
      "Added images/B001AAWYKI.jpg to ZIP\n",
      "Added images/B00SGPW7U2.jpg to ZIP\n",
      "Added images/B019HYC89U.jpg to ZIP\n",
      "Added images/B00FRVJSWI.jpg to ZIP\n",
      "Added images/B01CZYWJ5C.jpg to ZIP\n",
      "Added images/B01AW287Y6.jpg to ZIP\n",
      "Added images/B000LSL4CY.jpg to ZIP\n",
      "Added images/B0098SFR80.jpg to ZIP\n",
      "Added images/B002WN34SI.jpg to ZIP\n",
      "Added images/B00LE4LEVK.jpg to ZIP\n",
      "Added images/B00FMTJI0W.jpg to ZIP\n",
      "Added images/B0056EI59S.jpg to ZIP\n",
      "Added images/B00AU8U1KG.jpg to ZIP\n",
      "Added images/B00D5YT2N4.jpg to ZIP\n",
      "Added images/B005AHSGGI.jpg to ZIP\n",
      "Added images/B00K3YL7K0.jpg to ZIP\n",
      "Added images/B00CYI5TJ8.jpg to ZIP\n",
      "Added images/B00K3W7PFI.jpg to ZIP\n",
      "Added images/B01568W28S.jpg to ZIP\n",
      "Added images/B00UI9ADKK.jpg to ZIP\n",
      "Added images/B00HQXP43W.jpg to ZIP\n",
      "Added images/B00MUT4AE6.jpg to ZIP\n",
      "Added images/B00JGHMIZI.jpg to ZIP\n",
      "Added images/B014PK7SS2.jpg to ZIP\n",
      "Added images/B00144JSXG.jpg to ZIP\n",
      "Added images/B00OC350KQ.jpg to ZIP\n",
      "Added images/B00FYS80V4.jpg to ZIP\n",
      "Added images/B00LLIYHM2.jpg to ZIP\n",
      "Added images/B001B7TTWQ.jpg to ZIP\n",
      "Added images/B00B9TYQWO.jpg to ZIP\n",
      "Added images/B00SNCRCAI.jpg to ZIP\n",
      "Added images/B00RELVEAI.jpg to ZIP\n",
      "Added images/B017LVOBVY.jpg to ZIP\n",
      "Added images/B001A68KIM.jpg to ZIP\n",
      "Added images/B019DXU8V0.jpg to ZIP\n",
      "Added images/B01FX0V4AG.jpg to ZIP\n",
      "Added images/B008VPS8CI.jpg to ZIP\n",
      "Added images/B00XNC9MTW.jpg to ZIP\n",
      "Added images/B004H6A418.jpg to ZIP\n",
      "Added images/B003X16SYK.jpg to ZIP\n",
      "Added images/B016V57OAG.jpg to ZIP\n",
      "Added images/B008EX3P5M.jpg to ZIP\n",
      "Added images/B00VAYDM78.jpg to ZIP\n",
      "Added images/B01DVWFKCG.jpg to ZIP\n",
      "Added images/B019GS2IK6.jpg to ZIP\n",
      "Added images/B00FXWANSY.jpg to ZIP\n",
      "Added images/B006O00A9G.jpg to ZIP\n",
      "Added images/B014WWYBR4.jpg to ZIP\n",
      "Added images/B01AIUZ75Y.jpg to ZIP\n",
      "Added images/B0050UX1DS.jpg to ZIP\n",
      "Added images/B0050G638C.jpg to ZIP\n",
      "Added images/B00LEBIINK.jpg to ZIP\n",
      "Added images/B00K6KQF3U.jpg to ZIP\n",
      "Added images/B000DT736W.jpg to ZIP\n",
      "Added images/B00FYS84K6.jpg to ZIP\n",
      "Added images/B00LD84HRU.jpg to ZIP\n",
      "Added images/B006OOI3VY.jpg to ZIP\n",
      "Added images/B00O8TB0NU.jpg to ZIP\n",
      "Added images/B003WCC8YE.jpg to ZIP\n",
      "Added images/B002EI07U4.jpg to ZIP\n",
      "Added images/B01E8UF3NG.jpg to ZIP\n",
      "Added images/B01FOU9JQ6.jpg to ZIP\n",
      "Added images/B00WRBJRVI.jpg to ZIP\n",
      "Added images/B0013NWC8G.jpg to ZIP\n",
      "Added images/B00VLR11G8.jpg to ZIP\n",
      "Added images/B00LD84L3A.jpg to ZIP\n",
      "Added images/B001MV7BHG.jpg to ZIP\n",
      "Added images/B00H2BVOFU.jpg to ZIP\n",
      "Added images/B00WM4IJ8C.jpg to ZIP\n",
      "Added images/B00CHDE6A8.jpg to ZIP\n",
      "Added images/B017KODF3C.jpg to ZIP\n",
      "Added images/B00YUAWD06.jpg to ZIP\n",
      "Added images/B019DP8Q7G.jpg to ZIP\n",
      "Added images/B00SW5E77M.jpg to ZIP\n",
      "Added images/B00NOTFPAY.jpg to ZIP\n",
      "Added images/B01AXRPH16.jpg to ZIP\n",
      "Added images/B005I0JPWQ.jpg to ZIP\n",
      "Added images/B00F2V8NKQ.jpg to ZIP\n",
      "Added images/B017Q16GR6.jpg to ZIP\n",
      "Added images/B0018KMD10.jpg to ZIP\n",
      "Added images/B003R0LFY0.jpg to ZIP\n",
      "Added images/B00112CFVS.jpg to ZIP\n",
      "Added images/B0119NLONI.jpg to ZIP\n",
      "Added images/B00PW9RWGY.jpg to ZIP\n",
      "Added images/B00ENRLVI6.jpg to ZIP\n",
      "Added images/B019ZOFS1C.jpg to ZIP\n",
      "Added images/B00D3JK9VA.jpg to ZIP\n",
      "Added images/B0018EHUE6.jpg to ZIP\n",
      "Added images/B00XLU1ADC.jpg to ZIP\n",
      "Added images/B00JE9576A.jpg to ZIP\n",
      "Added images/B004WZSQZU.jpg to ZIP\n",
      "Added images/B01A6L8S2O.jpg to ZIP\n",
      "Added images/B0035EAUXK.jpg to ZIP\n",
      "Added images/B00OAH1OV8.jpg to ZIP\n",
      "Added images/B00SYC6GXG.jpg to ZIP\n",
      "Added images/B01596HGCE.jpg to ZIP\n",
      "Added images/B005H6XQM6.jpg to ZIP\n",
      "Added images/B016V571WW.jpg to ZIP\n",
      "Added images/B00KY5P6ZA.jpg to ZIP\n",
      "Added images/B000YKHJIW.jpg to ZIP\n",
      "Added images/B00BQKJY9Q.jpg to ZIP\n",
      "Added images/B00YV5GB7Q.jpg to ZIP\n",
      "Added images/B00JPNUK12.jpg to ZIP\n",
      "Added images/B001BZ43GK.jpg to ZIP\n",
      "Added images/B0016A3MF8.jpg to ZIP\n",
      "Added images/B0074CUZJI.jpg to ZIP\n",
      "Added images/B00ACX12CK.jpg to ZIP\n",
      "Added images/B000FGVT9K.jpg to ZIP\n",
      "Added images/B001559I16.jpg to ZIP\n",
      "Added images/B00A7G613C.jpg to ZIP\n",
      "Added images/B00WU78CTM.jpg to ZIP\n",
      "Added images/B01COKH55G.jpg to ZIP\n",
      "Added images/B00IVC5SMY.jpg to ZIP\n",
      "Added images/B013ST2LPQ.jpg to ZIP\n",
      "Added images/B01568SN9U.jpg to ZIP\n",
      "Added images/B0001YR54E.jpg to ZIP\n",
      "Added images/B00TGE00SS.jpg to ZIP\n",
      "Added images/B017J2Z89E.jpg to ZIP\n",
      "Added images/B0042INBRK.jpg to ZIP\n",
      "Added images/B000BO14XW.jpg to ZIP\n",
      "Added images/B00APWXR7Q.jpg to ZIP\n",
      "Added images/B01H2BXZQA.jpg to ZIP\n",
      "Added images/B00PJIOAV8.jpg to ZIP\n",
      "Added images/B017A82JKI.jpg to ZIP\n",
      "Added images/B00P399TOQ.jpg to ZIP\n",
      "Added images/B00H3V6Q8E.jpg to ZIP\n",
      "Added images/B018IROQ1K.jpg to ZIP\n",
      "Added images/B019X5BLGO.jpg to ZIP\n",
      "Added images/B00A7LIXT2.jpg to ZIP\n",
      "Added images/B002PHMKC2.jpg to ZIP\n",
      "Added images/B001B7N5I0.jpg to ZIP\n",
      "Added images/B01EYFN6FW.jpg to ZIP\n",
      "Added images/B00BN8L72I.jpg to ZIP\n",
      "Added images/B010NX6282.jpg to ZIP\n",
      "Added images/B01DYDI074.jpg to ZIP\n",
      "Added images/B00S4HBKFA.jpg to ZIP\n",
      "Added images/B001HN5KVS.jpg to ZIP\n",
      "Added images/B00F92CS8G.jpg to ZIP\n",
      "Added images/B0013RJ6AE.jpg to ZIP\n",
      "Added images/B01970ILR2.jpg to ZIP\n",
      "Added images/B011NI1D9E.jpg to ZIP\n",
      "Added images/B00I95NP4G.jpg to ZIP\n",
      "Added images/B00EB0QKVI.jpg to ZIP\n",
      "Added images/B00DY9VRNI.jpg to ZIP\n",
      "Added images/B0047YJQY6.jpg to ZIP\n",
      "Added images/B00U7N9Y84.jpg to ZIP\n",
      "Added images/B00ECV595E.jpg to ZIP\n",
      "Added images/B008999FSW.jpg to ZIP\n",
      "Added images/B019ONXTUG.jpg to ZIP\n",
      "Added images/B0058YZWCE.jpg to ZIP\n",
      "Added images/B000FYXUR6.jpg to ZIP\n",
      "Added images/B00X146BQE.jpg to ZIP\n",
      "Added images/B007HNBD0O.jpg to ZIP\n",
      "Added images/B00DIT7882.jpg to ZIP\n",
      "Added images/B00C4BBNAE.jpg to ZIP\n",
      "Added images/B00DMWQN40.jpg to ZIP\n",
      "Added images/B00DIG70V0.jpg to ZIP\n",
      "Added images/B0010AYBM2.jpg to ZIP\n",
      "Added images/B00FC0R14G.jpg to ZIP\n",
      "Added images/B002HJ1ZGA.jpg to ZIP\n",
      "Added images/B0193XSOA2.jpg to ZIP\n",
      "Added images/B00NT50VJI.jpg to ZIP\n",
      "Added images/B00K7SZ9HE.jpg to ZIP\n",
      "Added images/B00AE09O12.jpg to ZIP\n",
      "Added images/B000H8H918.jpg to ZIP\n",
      "Added images/B001C95JKY.jpg to ZIP\n",
      "Added images/B005HEJGPO.jpg to ZIP\n",
      "Added images/B00RK3THEK.jpg to ZIP\n",
      "Added images/B00MFDQAZY.jpg to ZIP\n",
      "Added images/B01EN3FWAC.jpg to ZIP\n",
      "Added images/B001CE132M.jpg to ZIP\n",
      "Added images/B01H1VHQHU.jpg to ZIP\n",
      "Added images/B00CVT2ZZ6.jpg to ZIP\n",
      "Added images/B00H5I8MKK.jpg to ZIP\n",
      "Added images/B017MEUD1W.jpg to ZIP\n",
      "Added images/B000VCJWHO.jpg to ZIP\n",
      "Added images/B00336EZ0E.jpg to ZIP\n",
      "Added images/B00S4HBGZY.jpg to ZIP\n",
      "Added images/B01AHPC99M.jpg to ZIP\n",
      "Added images/B000TGPTQA.jpg to ZIP\n",
      "Added images/B0079YCD7S.jpg to ZIP\n",
      "Added images/B00NGTHAY6.jpg to ZIP\n",
      "Added images/B00A6G4464.jpg to ZIP\n",
      "Added images/B00FRIJLAK.jpg to ZIP\n",
      "Added images/B01C74M7NY.jpg to ZIP\n",
      "Added images/B0043RTQK6.jpg to ZIP\n",
      "Added images/B0012IRYSA.jpg to ZIP\n",
      "Added images/B003XYJGKA.jpg to ZIP\n",
      "Added images/B00HF64HS8.jpg to ZIP\n",
      "Added images/B005IM8MVO.jpg to ZIP\n",
      "Added images/B011QU9YYU.jpg to ZIP\n",
      "Added images/B005MRD9VI.jpg to ZIP\n",
      "Added images/B015HQKA9M.jpg to ZIP\n",
      "Added images/B006OOI2NI.jpg to ZIP\n",
      "Added images/B0058WKB0Y.jpg to ZIP\n",
      "Added images/B00KW962NI.jpg to ZIP\n",
      "Added images/B00OJDJ4J2.jpg to ZIP\n",
      "Added images/B00DCY2EDC.jpg to ZIP\n",
      "Added images/B000IBKO02.jpg to ZIP\n",
      "Added images/B0035ERDHQ.jpg to ZIP\n",
      "Added images/B0195L3LDC.jpg to ZIP\n",
      "Added images/B003EEWVW4.jpg to ZIP\n",
      "Added images/B0074D2XWE.jpg to ZIP\n",
      "Added images/B00M2U1CGC.jpg to ZIP\n",
      "Added images/B00KYF6N4I.jpg to ZIP\n",
      "Added images/B014XZQVD2.jpg to ZIP\n",
      "Added images/B01AO31XHG.jpg to ZIP\n",
      "Added images/B0009GCQP2.jpg to ZIP\n",
      "Added images/B00OQIQYI4.jpg to ZIP\n",
      "Added images/B004MRWD70.jpg to ZIP\n",
      "Added images/B00PKHUWAQ.jpg to ZIP\n",
      "Added images/B00FMTJ3N4.jpg to ZIP\n",
      "Added images/B00GAS2HUM.jpg to ZIP\n",
      "Added images/B000EMROTO.jpg to ZIP\n",
      "Added images/B00358ED8E.jpg to ZIP\n",
      "Added images/B00132X1VE.jpg to ZIP\n",
      "Added images/B002DQY3FM.jpg to ZIP\n",
      "Added images/B007V1E19W.jpg to ZIP\n",
      "Added images/B00V65H038.jpg to ZIP\n",
      "Added images/B008KLOJD0.jpg to ZIP\n",
      "Added images/B00D5YSVMC.jpg to ZIP\n",
      "Added images/B01F767KGI.jpg to ZIP\n",
      "Added images/B00M1DN7BS.jpg to ZIP\n",
      "Added images/B0015KD7L8.jpg to ZIP\n",
      "Added images/B00BN8L79G.jpg to ZIP\n",
      "Added images/B01FUVMYWK.jpg to ZIP\n",
      "Added images/B01E9Y3GVM.jpg to ZIP\n",
      "Added images/B018BBXMRC.jpg to ZIP\n",
      "Added images/B000OVBI6A.jpg to ZIP\n",
      "Added images/B0017S0CVG.jpg to ZIP\n",
      "Added images/B001P3OWQE.jpg to ZIP\n",
      "Added images/B00D1KG40Q.jpg to ZIP\n",
      "Added images/B0013TP76Y.jpg to ZIP\n",
      "Added images/B01A4C47V6.jpg to ZIP\n",
      "Added images/B00CIPQ1SA.jpg to ZIP\n",
      "Added images/B007CRR7YQ.jpg to ZIP\n",
      "Added images/B006SFSH9C.jpg to ZIP\n",
      "Added images/B00CFDMUMG.jpg to ZIP\n",
      "Added images/B005DM3EHQ.jpg to ZIP\n",
      "Added images/B00ICERG4E.jpg to ZIP\n",
      "Added images/B000GZR9XK.jpg to ZIP\n",
      "Added images/B00LUO06M2.jpg to ZIP\n",
      "Added images/B000MXIN22.jpg to ZIP\n",
      "Added images/B000FXW4KQ.jpg to ZIP\n",
      "Added images/B0000865JR.jpg to ZIP\n",
      "Added images/B00167U876.jpg to ZIP\n",
      "Added images/B00JKI7FMO.jpg to ZIP\n",
      "Added images/B00C2536E8.jpg to ZIP\n",
      "Added images/B00ZOQYNRG.jpg to ZIP\n",
      "Added images/B005OPNJQS.jpg to ZIP\n",
      "Added images/B002C1FCSU.jpg to ZIP\n",
      "Added images/B015YA2Z26.jpg to ZIP\n",
      "Added images/B00CJFJPLE.jpg to ZIP\n",
      "Added images/B0014TSPAI.jpg to ZIP\n",
      "Added images/B00S4TKRDE.jpg to ZIP\n",
      "Added images/B00BWVI13E.jpg to ZIP\n",
      "Added images/B01B7L9ATM.jpg to ZIP\n",
      "Added images/B0019KDQRE.jpg to ZIP\n",
      "Added images/B00AFCMV8M.jpg to ZIP\n",
      "Added images/B00VXT4CCE.jpg to ZIP\n",
      "Added images/B00ATK7P0Y.jpg to ZIP\n",
      "Added images/B01E8ICPRK.jpg to ZIP\n",
      "Added images/B00QTFJYVG.jpg to ZIP\n",
      "Added images/B002CMLNGE.jpg to ZIP\n",
      "Added images/B003XM21TK.jpg to ZIP\n",
      "Added images/B00BBA7QOQ.jpg to ZIP\n",
      "Added images/B001M4IZU0.jpg to ZIP\n",
      "Added images/B00VAY865G.jpg to ZIP\n",
      "Added images/B00FMTJWV2.jpg to ZIP\n",
      "Added images/B012IKGF62.jpg to ZIP\n",
      "Added images/B000O5H6NU.jpg to ZIP\n",
      "Added images/B00YV30Q7Y.jpg to ZIP\n",
      "Added images/B00U7N8002.jpg to ZIP\n",
      "Added images/B0002LT7LU.jpg to ZIP\n",
      "Added images/B00D1QZC7G.jpg to ZIP\n",
      "Added images/B0073PHZQM.jpg to ZIP\n",
      "Added images/B002G9BING.jpg to ZIP\n",
      "Added images/B00R7DZP80.jpg to ZIP\n",
      "Added images/B00XZD3EBQ.jpg to ZIP\n",
      "Added images/B00Q3LWXBY.jpg to ZIP\n",
      "Added images/B000GB1RC8.jpg to ZIP\n",
      "Added images/B009Q8ES5K.jpg to ZIP\n",
      "Added images/B005KP58HA.jpg to ZIP\n",
      "Added images/B00EHA7MUU.jpg to ZIP\n",
      "Added images/B00T5C5G3U.jpg to ZIP\n",
      "Added images/B00BIP76VM.jpg to ZIP\n",
      "Added images/B00H5I8MI2.jpg to ZIP\n",
      "Added images/B00C3ENGRK.jpg to ZIP\n",
      "Added images/B001KZIKMO.jpg to ZIP\n",
      "Added images/B0043ZYMP2.jpg to ZIP\n",
      "Added images/B00EABUR5I.jpg to ZIP\n",
      "Added images/B007CRR82W.jpg to ZIP\n",
      "Added images/B00MF9O1IQ.jpg to ZIP\n",
      "Added images/B01AW6X1OS.jpg to ZIP\n",
      "Added images/B007F34D0S.jpg to ZIP\n",
      "Added images/B00F3YMF92.jpg to ZIP\n",
      "Added images/B000HBYVWK.jpg to ZIP\n",
      "Added images/B004DKL5I4.jpg to ZIP\n",
      "Added images/B0014JBWXK.jpg to ZIP\n",
      "Added images/B00MQDBA4E.jpg to ZIP\n",
      "Added images/B00J2D7QVW.jpg to ZIP\n",
      "Added images/B001767TV4.jpg to ZIP\n",
      "Added images/B00FSJV4HG.jpg to ZIP\n",
      "Added images/B0016OJ03M.jpg to ZIP\n",
      "Added images/B01GNU9TMK.jpg to ZIP\n",
      "Added images/B01BVO6OMQ.jpg to ZIP\n",
      "Added images/B006IMRDTU.jpg to ZIP\n",
      "Added images/B0026KKCG4.jpg to ZIP\n",
      "Added images/B0010KV7YM.jpg to ZIP\n",
      "Added images/B00MUT4DC0.jpg to ZIP\n",
      "Added images/B015WYJQ08.jpg to ZIP\n",
      "Added images/B00JRHKBYC.jpg to ZIP\n",
      "Added images/B000BFNJC0.jpg to ZIP\n",
      "Added images/B000BZ8L28.jpg to ZIP\n",
      "Added images/B01FXPQTY2.jpg to ZIP\n",
      "Added images/B006TOFWPY.jpg to ZIP\n",
      "Added images/B01HFHVFAO.jpg to ZIP\n",
      "Added images/B00WM49X28.jpg to ZIP\n",
      "Added images/B001792NJY.jpg to ZIP\n",
      "Added images/B019ONXCDK.jpg to ZIP\n",
      "Added images/B00FMTK054.jpg to ZIP\n",
      "Added images/B00SW913JI.jpg to ZIP\n",
      "Added images/B000GZGJ4A.jpg to ZIP\n",
      "Added images/B005OA64UG.jpg to ZIP\n",
      "Added images/B00SUMTMR2.jpg to ZIP\n",
      "Added images/B015HTGWC8.jpg to ZIP\n",
      "Added images/B001G0NVN6.jpg to ZIP\n",
      "Added images/B001A40JMO.jpg to ZIP\n",
      "Added images/B00EIRQ6WM.jpg to ZIP\n",
      "Added images/B015HQJXMW.jpg to ZIP\n",
      "Added images/B006OOI4CC.jpg to ZIP\n",
      "Added images/B000P64S0M.jpg to ZIP\n",
      "Added images/B00BAZEZ6E.jpg to ZIP\n",
      "Added images/B00OLEBSFM.jpg to ZIP\n",
      "Added images/B00E0L0VMM.jpg to ZIP\n",
      "Added images/B00008ZD31.jpg to ZIP\n",
      "Added images/B0012C2K1C.jpg to ZIP\n",
      "Added images/B00C9XLERE.jpg to ZIP\n",
      "Added images/B005K2J2H0.jpg to ZIP\n",
      "Added images/B005GV4OMS.jpg to ZIP\n",
      "Added images/B000A2KEAY.jpg to ZIP\n",
      "Added images/B01EJM30EM.jpg to ZIP\n",
      "Added images/B0012QD86E.jpg to ZIP\n",
      "Added images/B0043KZH4W.jpg to ZIP\n",
      "Added images/B0018OLONE.jpg to ZIP\n",
      "Added images/B017MXVKY2.jpg to ZIP\n",
      "Added images/B005M044QO.jpg to ZIP\n",
      "Added images/B00M95TPN2.jpg to ZIP\n",
      "Added images/B014GDY6OW.jpg to ZIP\n",
      "Added images/B00MWOM1CW.jpg to ZIP\n",
      "Added images/B00GQPQ1W4.jpg to ZIP\n",
      "Added images/B01F78VMRE.jpg to ZIP\n",
      "Added images/B00MUAPXIM.jpg to ZIP\n",
      "Added images/B0184HLMYI.jpg to ZIP\n",
      "Added images/B00X12F7AM.jpg to ZIP\n",
      "Added images/B003JJOB0Y.jpg to ZIP\n",
      "Added images/B00CRDKQY8.jpg to ZIP\n",
      "Added images/B00YGXZXSG.jpg to ZIP\n",
      "Added images/B0014EW2WU.jpg to ZIP\n",
      "Added images/B00W773TQQ.jpg to ZIP\n",
      "Added images/B00SGPVRZS.jpg to ZIP\n",
      "Added images/B00LEC4NYM.jpg to ZIP\n",
      "Added images/B000MFF87I.jpg to ZIP\n",
      "Added images/B000SPJI4Q.jpg to ZIP\n",
      "Added images/B00OZ4N4H8.jpg to ZIP\n",
      "Added images/B01F6LIXRO.jpg to ZIP\n",
      "Added images/B000IBH874.jpg to ZIP\n",
      "Added images/B000V4BMN4.jpg to ZIP\n",
      "Added images/B001A4DJXU.jpg to ZIP\n",
      "Added images/B009AS8QL8.jpg to ZIP\n",
      "Added images/B00FMTJ744.jpg to ZIP\n",
      "Added images/B004UF5IRG.jpg to ZIP\n",
      "Added images/B01FT5OTRA.jpg to ZIP\n",
      "Added images/B005KQB01C.jpg to ZIP\n",
      "Added images/B000EDZI4Q.jpg to ZIP\n",
      "Added images/B00MUB0L2O.jpg to ZIP\n",
      "Added images/B010914AOQ.jpg to ZIP\n",
      "Added images/B00QND16EC.jpg to ZIP\n",
      "Added images/B00VIS5HZ6.jpg to ZIP\n",
      "Added images/B0119NLKZK.jpg to ZIP\n",
      "Added images/B01FPCJ39Q.jpg to ZIP\n",
      "Added images/B00KWA49UA.jpg to ZIP\n",
      "Added images/B00BXF836O.jpg to ZIP\n",
      "Added images/B01G0LRPU0.jpg to ZIP\n",
      "Added images/B01AKXH0B8.jpg to ZIP\n",
      "Added images/B00188920C.jpg to ZIP\n",
      "Added images/B00436RCEO.jpg to ZIP\n",
      "Added images/B011VKNDBA.jpg to ZIP\n",
      "Added images/B000S11RXA.jpg to ZIP\n",
      "Added images/B01A6M25N6.jpg to ZIP\n",
      "Added images/B00WG24SQC.jpg to ZIP\n",
      "Added images/B01BIMDQ5O.jpg to ZIP\n",
      "Added images/B000LB6YHQ.jpg to ZIP\n",
      "Added images/B004N5CQKU.jpg to ZIP\n",
      "Added images/B0018KR504.jpg to ZIP\n",
      "Added images/B016IO9QVA.jpg to ZIP\n",
      "Added images/B00MWHFIME.jpg to ZIP\n",
      "Added images/B00M1DP4G4.jpg to ZIP\n",
      "Added images/B00PVUB9HM.jpg to ZIP\n",
      "Added images/B00C9XL3LQ.jpg to ZIP\n",
      "Added images/B005HAIQS6.jpg to ZIP\n",
      "Added images/B00DMWH9YS.jpg to ZIP\n",
      "Added images/B001NOL0A6.jpg to ZIP\n",
      "Added images/B01DU1QD4M.jpg to ZIP\n",
      "Added images/B01AH80IK6.jpg to ZIP\n",
      "Added images/B000TGD2JQ.jpg to ZIP\n",
      "Added images/B005PKP7GW.jpg to ZIP\n",
      "Added images/B0070A2IJ4.jpg to ZIP\n",
      "Added images/B00LITG02O.jpg to ZIP\n",
      "Added images/B007TITYB2.jpg to ZIP\n",
      "Added images/B00M1DIUEM.jpg to ZIP\n",
      "Added images/B0058ZBDHG.jpg to ZIP\n",
      "Added images/B005O4YBJ8.jpg to ZIP\n",
      "Added images/B01BBHXIUY.jpg to ZIP\n",
      "Added images/B00A7Y49Y2.jpg to ZIP\n",
      "Added images/B0026NKBSU.jpg to ZIP\n",
      "Added images/B01CZYWC0O.jpg to ZIP\n",
      "Added images/B01H1KGTRY.jpg to ZIP\n",
      "Added images/B00B9FJHEA.jpg to ZIP\n",
      "Added images/B0019TTTHQ.jpg to ZIP\n",
      "Added images/B00XKUXSD8.jpg to ZIP\n",
      "Added images/B00QRPR4NI.jpg to ZIP\n",
      "Added images/B016JYIU34.jpg to ZIP\n",
      "Added images/B00G54KXIO.jpg to ZIP\n",
      "Added images/B010NX69NU.jpg to ZIP\n",
      "Added images/B00ASFE5Q2.jpg to ZIP\n",
      "Added images/B00MCUYSXQ.jpg to ZIP\n",
      "Added images/B0012QI6XY.jpg to ZIP\n",
      "Added images/B00NIJ8QI8.jpg to ZIP\n",
      "Added images/B00Q5ZN6Z0.jpg to ZIP\n",
      "Added images/B0018DETEQ.jpg to ZIP\n",
      "Added images/B00UXPB9TI.jpg to ZIP\n",
      "Added images/B013JXH3V8.jpg to ZIP\n",
      "Added images/B0017Q58KS.jpg to ZIP\n",
      "Added images/B007M647GS.jpg to ZIP\n",
      "Added images/B003FGKQ8C.jpg to ZIP\n",
      "Added images/B016JYIZBG.jpg to ZIP\n",
      "Added images/B00XKYS2YE.jpg to ZIP\n",
      "Added images/B000FXW2Y4.jpg to ZIP\n",
      "Added images/B0135IG7UK.jpg to ZIP\n",
      "Added images/B00DO3M198.jpg to ZIP\n",
      "Added images/B003D5VHFG.jpg to ZIP\n",
      "Added images/B006Z8XKB2.jpg to ZIP\n",
      "Added images/B0095ZL9OC.jpg to ZIP\n",
      "Added images/B0094MBHNO.jpg to ZIP\n",
      "Added images/B0002RRN4M.jpg to ZIP\n",
      "Added images/B00144GD7K.jpg to ZIP\n",
      "Added images/B00NMFP8PW.jpg to ZIP\n",
      "Added images/B0011N6TXW.jpg to ZIP\n",
      "Added images/B009XFYK2C.jpg to ZIP\n",
      "Added images/B00421MUN8.jpg to ZIP\n",
      "Added images/B00X1466KK.jpg to ZIP\n",
      "Added images/B0073C9ENC.jpg to ZIP\n",
      "Added images/B00OLEBA32.jpg to ZIP\n",
      "Added images/B00WG6KMCW.jpg to ZIP\n",
      "Added images/B00G56BNMM.jpg to ZIP\n",
      "Added images/B00OQIZ8Q8.jpg to ZIP\n",
      "Added images/B00EVPM6MA.jpg to ZIP\n",
      "Added images/B007Y00CRK.jpg to ZIP\n",
      "Added images/B00LXF8RG0.jpg to ZIP\n",
      "Added images/B018FE26TK.jpg to ZIP\n",
      "Added images/B000OB3XVS.jpg to ZIP\n",
      "Added images/B00K352T7O.jpg to ZIP\n",
      "Added images/B0007UWZME.jpg to ZIP\n",
      "Added images/B016QRSX5E.jpg to ZIP\n",
      "Added images/B00MF9OG2M.jpg to ZIP\n",
      "Added images/B00SUMSNMM.jpg to ZIP\n",
      "Added images/B01A1BPKZC.jpg to ZIP\n",
      "Added images/B00FMTJ6UO.jpg to ZIP\n",
      "Added images/B001O913PM.jpg to ZIP\n",
      "Added images/B019EBQAAY.jpg to ZIP\n",
      "Added images/B010WEBZ98.jpg to ZIP\n",
      "Added images/B015RAN3HE.jpg to ZIP\n",
      "Added images/B00843L4UU.jpg to ZIP\n",
      "Added images/B00M1D9LKY.jpg to ZIP\n",
      "Added images/B00YGY2Z5E.jpg to ZIP\n",
      "Added images/B014GDY4OO.jpg to ZIP\n",
      "Added images/B000G35SA8.jpg to ZIP\n",
      "Added images/B0016Q0CDW.jpg to ZIP\n",
      "Added images/B01ABLZR6O.jpg to ZIP\n",
      "Added images/B01A561WVO.jpg to ZIP\n",
      "Added images/B004X55UTE.jpg to ZIP\n",
      "Added images/B00RLD5NXI.jpg to ZIP\n",
      "Added images/B003AM7JAY.jpg to ZIP\n",
      "Added images/B00MARF5X8.jpg to ZIP\n",
      "Added images/B00LX6DBDI.jpg to ZIP\n",
      "Added images/B013ST2IHC.jpg to ZIP\n",
      "Added images/B0195KYLHI.jpg to ZIP\n",
      "Added images/B0099YFMZQ.jpg to ZIP\n",
      "Added images/B00WQG6R80.jpg to ZIP\n",
      "Added images/B006C4BBGA.jpg to ZIP\n",
      "Added images/B00Y2NP736.jpg to ZIP\n",
      "Added images/B00CRDIMNA.jpg to ZIP\n",
      "Added images/B00YGY0G8W.jpg to ZIP\n",
      "Added images/B00SLLMU80.jpg to ZIP\n",
      "Added images/B0017L8364.jpg to ZIP\n",
      "Added images/B011Y4JTKM.jpg to ZIP\n",
      "Added images/B01CT0HK1U.jpg to ZIP\n",
      "Added images/B007PSE8JE.jpg to ZIP\n",
      "Added images/B00SG1NCFK.jpg to ZIP\n",
      "Added images/B0068841EO.jpg to ZIP\n",
      "Added images/B00A4MWZ1Q.jpg to ZIP\n",
      "Added images/B00KTD9J8C.jpg to ZIP\n",
      "Added images/B00Y0DEMS4.jpg to ZIP\n",
      "Added images/B001BBWZ78.jpg to ZIP\n",
      "Added images/B00VNMENHU.jpg to ZIP\n",
      "Added images/B00NM9G7EO.jpg to ZIP\n",
      "Added images/B0052SAK3C.jpg to ZIP\n",
      "Added images/B001CL8JXQ.jpg to ZIP\n",
      "Added images/B00OJDLJWC.jpg to ZIP\n",
      "Added images/B00R54WDHW.jpg to ZIP\n",
      "Added images/B01DZI25OM.jpg to ZIP\n",
      "Added images/B00AHOQBAM.jpg to ZIP\n",
      "Added images/B001MWKBOA.jpg to ZIP\n",
      "Added images/B00N17VMCY.jpg to ZIP\n",
      "Added images/B0196ZMP20.jpg to ZIP\n",
      "Added images/B00CRDMJ9I.jpg to ZIP\n",
      "Added images/B008D18N8O.jpg to ZIP\n",
      "Added images/B00B9FK12W.jpg to ZIP\n",
      "Added images/B001EHHUIS.jpg to ZIP\n",
      "Added images/B008ZYCTU2.jpg to ZIP\n",
      "Added images/B00980LB74.jpg to ZIP\n",
      "Added images/B0161ZC10O.jpg to ZIP\n",
      "Added images/B0049LP74K.jpg to ZIP\n",
      "Added images/B0092SX45Y.jpg to ZIP\n",
      "Added images/B00QJ61LHK.jpg to ZIP\n",
      "Added images/B00MXG31DW.jpg to ZIP\n",
      "Added images/B000J4CN52.jpg to ZIP\n",
      "Added images/B001M5U25A.jpg to ZIP\n",
      "Added images/B001N2NOMA.jpg to ZIP\n",
      "Added images/B008AK66O6.jpg to ZIP\n",
      "Added images/B00LBI6WCA.jpg to ZIP\n",
      "Added images/B01FUZCPF2.jpg to ZIP\n",
      "Added images/B001D1MIHS.jpg to ZIP\n",
      "Added images/B00505DWN2.jpg to ZIP\n",
      "Added images/B00WG2HMPG.jpg to ZIP\n",
      "Added images/B00A9XL85E.jpg to ZIP\n",
      "Added images/B000JJG6I2.jpg to ZIP\n",
      "Added images/B000YQRZ3U.jpg to ZIP\n",
      "Added images/B0012ORK6U.jpg to ZIP\n",
      "Added images/B00Q43DJS2.jpg to ZIP\n",
      "Added images/B00RZ9PO1Y.jpg to ZIP\n",
      "Added images/B0015DX6HA.jpg to ZIP\n",
      "Added images/B0051D9L42.jpg to ZIP\n",
      "Added images/B000GAWQ42.jpg to ZIP\n",
      "Added images/B00403M7LI.jpg to ZIP\n",
      "Added images/B00IZDMVCY.jpg to ZIP\n",
      "Added images/B0002NYQO6.jpg to ZIP\n",
      "Added images/B010E6UIOW.jpg to ZIP\n",
      "Added images/B0012T54TU.jpg to ZIP\n",
      "Added images/B00638CSAI.jpg to ZIP\n",
      "Added images/B005KVI9RU.jpg to ZIP\n",
      "Added images/B00HZWNBFW.jpg to ZIP\n",
      "Added images/B00RLD5FWM.jpg to ZIP\n",
      "Added images/B005GNOE30.jpg to ZIP\n",
      "Added images/B017OVIHWU.jpg to ZIP\n",
      "Added images/B011QU9SQY.jpg to ZIP\n",
      "Added images/B017LTN7YI.jpg to ZIP\n",
      "Added images/B00STX311U.jpg to ZIP\n",
      "Added images/B00127OKQ0.jpg to ZIP\n",
      "Added images/B001ELJGP4.jpg to ZIP\n",
      "Added images/B019F4C07W.jpg to ZIP\n",
      "Added images/B00C1LMV1W.jpg to ZIP\n",
      "Added images/B01DOND4KC.jpg to ZIP\n",
      "Added images/B00VAY9XF8.jpg to ZIP\n",
      "Added images/B00PJIW2F4.jpg to ZIP\n",
      "Added images/B007IFVFFY.jpg to ZIP\n",
      "Added images/B001E96WP8.jpg to ZIP\n",
      "Added images/B01DJ3ZV7G.jpg to ZIP\n",
      "Added images/B01D4LHYX2.jpg to ZIP\n",
      "Added images/B00VWHPKAU.jpg to ZIP\n",
      "Added images/B00S5VKIWG.jpg to ZIP\n",
      "Added images/B001CULZG0.jpg to ZIP\n",
      "Added images/B01BKT7I4U.jpg to ZIP\n",
      "Added images/B00125NZN6.jpg to ZIP\n",
      "Added images/B00FSJV24Q.jpg to ZIP\n",
      "Added images/B000B8J9MG.jpg to ZIP\n",
      "Added images/B018VBAE4G.jpg to ZIP\n",
      "Added images/B00I46CQEK.jpg to ZIP\n",
      "Added images/B00MWOLAVU.jpg to ZIP\n",
      "Added images/B0094QTS5E.jpg to ZIP\n",
      "Added images/B00BQN1RTS.jpg to ZIP\n",
      "Added images/B006NAJIPO.jpg to ZIP\n",
      "Added images/B00NFA4RC4.jpg to ZIP\n",
      "Added images/B01BPWBC08.jpg to ZIP\n",
      "Added images/B0012H5O42.jpg to ZIP\n",
      "Added images/B01ADUDT0Y.jpg to ZIP\n",
      "Added images/B00VIK2842.jpg to ZIP\n",
      "Added images/B006MJJ65S.jpg to ZIP\n",
      "Added images/B01BIMDRBC.jpg to ZIP\n",
      "Added images/B0016OK7TI.jpg to ZIP\n",
      "Added images/B00BTI9WEC.jpg to ZIP\n",
      "Added images/B007UMILW0.jpg to ZIP\n",
      "Added images/B00F9S8QHM.jpg to ZIP\n",
      "Added images/B00CRDISFC.jpg to ZIP\n",
      "Added images/B005EE4L8Y.jpg to ZIP\n",
      "Added images/B01B5QMTVA.jpg to ZIP\n",
      "Added images/B007HN81XQ.jpg to ZIP\n",
      "Added images/B00EQV41JU.jpg to ZIP\n",
      "Added images/B001C8Z450.jpg to ZIP\n",
      "Added images/B001CE259M.jpg to ZIP\n",
      "Added images/B001D4CYLA.jpg to ZIP\n",
      "Added images/B01EUBOBTA.jpg to ZIP\n",
      "Added images/B0013AFX8A.jpg to ZIP\n",
      "Added images/B00T9M27T2.jpg to ZIP\n",
      "Added images/B00K3VYOGW.jpg to ZIP\n",
      "Added images/B00CB9ABI4.jpg to ZIP\n",
      "Added images/B000WP9F3G.jpg to ZIP\n",
      "Added images/B00I3UIG6O.jpg to ZIP\n",
      "Added images/B0195L052C.jpg to ZIP\n",
      "Added images/B00LD84C34.jpg to ZIP\n",
      "Added images/B000J3GKA2.jpg to ZIP\n",
      "Added images/B01EHDC1ES.jpg to ZIP\n",
      "Added images/B01A6LLM2M.jpg to ZIP\n",
      "Added images/B0011Z4CR0.jpg to ZIP\n",
      "Added images/B01FXSY7IE.jpg to ZIP\n",
      "Added images/B005DM79QI.jpg to ZIP\n",
      "Added images/B01H19M2YY.jpg to ZIP\n",
      "Added images/B016LJ4TF0.jpg to ZIP\n",
      "Added images/B00188TIRO.jpg to ZIP\n",
      "Added images/B00ECSK67S.jpg to ZIP\n",
      "Added images/B00LEBENUC.jpg to ZIP\n",
      "Added images/B00J3HEP5W.jpg to ZIP\n",
      "Added images/B00AU8U336.jpg to ZIP\n",
      "Added images/B0002LI9UA.jpg to ZIP\n",
      "Added images/B0018AODEA.jpg to ZIP\n",
      "Added images/B001BZ2JZM.jpg to ZIP\n",
      "Added images/B0012GURFE.jpg to ZIP\n",
      "Added images/B00GFEO45W.jpg to ZIP\n",
      "Added images/B00RL0X5A4.jpg to ZIP\n",
      "Added images/B001CE26BO.jpg to ZIP\n",
      "Added images/B0012S3JIO.jpg to ZIP\n",
      "Added images/B018F4V6MI.jpg to ZIP\n",
      "Added images/B0079J1TDW.jpg to ZIP\n",
      "Added images/B005GV4DJM.jpg to ZIP\n",
      "Added images/B01BLSI4MA.jpg to ZIP\n",
      "Added images/B0014E7RFC.jpg to ZIP\n",
      "Added images/B01CF36AOY.jpg to ZIP\n",
      "Added images/B00Y8DSXTU.jpg to ZIP\n",
      "Added images/B00FDN4ZKA.jpg to ZIP\n",
      "Added images/B0052OP9PA.jpg to ZIP\n",
      "Added images/B00X3OE812.jpg to ZIP\n",
      "Added images/B005BRJ37S.jpg to ZIP\n",
      "Added images/B00HJ1Q6CE.jpg to ZIP\n",
      "Added images/B00IUGRWK2.jpg to ZIP\n",
      "Added images/B00AFCK23S.jpg to ZIP\n",
      "Added images/B00IZ9TYKA.jpg to ZIP\n",
      "Added images/B003EE48UC.jpg to ZIP\n",
      "Added images/B0042IP3YO.jpg to ZIP\n",
      "Added images/B00U0CZFC6.jpg to ZIP\n",
      "Added images/B000MARQFA.jpg to ZIP\n",
      "Added images/B01H420YQ6.jpg to ZIP\n",
      "Added images/B01BME22CG.jpg to ZIP\n",
      "Added images/B00S59VPKC.jpg to ZIP\n",
      "Added images/B016PYUN4C.jpg to ZIP\n",
      "Added images/B00IIYYCOU.jpg to ZIP\n",
      "Added images/B0018AIGHK.jpg to ZIP\n",
      "Added images/B014492TQ0.jpg to ZIP\n",
      "Added images/B005I0JZTY.jpg to ZIP\n",
      "Added images/B01FXPRWMU.jpg to ZIP\n",
      "Added images/B01BE64WN4.jpg to ZIP\n",
      "Added images/B0093X5OM4.jpg to ZIP\n",
      "Added images/B00VHTTGBC.jpg to ZIP\n",
      "Added images/B00AWMC608.jpg to ZIP\n",
      "Added images/B001N0MT1O.jpg to ZIP\n",
      "Added images/B001HNFR3O.jpg to ZIP\n",
      "Added images/B0042FGSKK.jpg to ZIP\n",
      "Added images/B008NKW9DA.jpg to ZIP\n",
      "Added images/B00KT0EMK0.jpg to ZIP\n",
      "Added images/B00ACX1U1I.jpg to ZIP\n",
      "Added images/B00NIQ6ZG6.jpg to ZIP\n",
      "Added images/B006W749Q6.jpg to ZIP\n",
      "Added images/B00NTJOHEY.jpg to ZIP\n",
      "Added images/B0016594CS.jpg to ZIP\n",
      "Added images/B004LUK67M.jpg to ZIP\n",
      "Added images/B0094QTO4Y.jpg to ZIP\n",
      "Added images/B019DXU34M.jpg to ZIP\n",
      "Added images/B00XKXHVYM.jpg to ZIP\n",
      "Added images/B00FMTK4C8.jpg to ZIP\n",
      "Added images/B005OPNRNS.jpg to ZIP\n",
      "Added images/B002ZVPPWK.jpg to ZIP\n",
      "Added images/B01A6LP9VW.jpg to ZIP\n",
      "Added images/B0116KO9GS.jpg to ZIP\n",
      "Added images/B01E4J1XSU.jpg to ZIP\n",
      "Added images/B00UKWX122.jpg to ZIP\n",
      "Added images/B00YV58ASY.jpg to ZIP\n",
      "Added images/B005SOW4AC.jpg to ZIP\n",
      "Added images/B000EDMSEE.jpg to ZIP\n",
      "Added images/B00T5C0Z8G.jpg to ZIP\n",
      "Added images/B00S04QHFU.jpg to ZIP\n",
      "Added images/B0098SFMKI.jpg to ZIP\n",
      "Added images/B00MWQ8ASY.jpg to ZIP\n",
      "Added images/B008M6342A.jpg to ZIP\n",
      "Added images/B001JQLR9W.jpg to ZIP\n",
      "Added images/B00T5C3FO2.jpg to ZIP\n",
      "Added images/B00CBR6C20.jpg to ZIP\n",
      "Added images/B00CHGP56O.jpg to ZIP\n",
      "Added images/B00EB0OS6C.jpg to ZIP\n",
      "Added images/B00W2TG8P8.jpg to ZIP\n",
      "Added images/B00B78USZ6.jpg to ZIP\n",
      "Added images/B005HJBEEA.jpg to ZIP\n",
      "Added images/B0051IX9RW.jpg to ZIP\n",
      "Added images/B000J4294W.jpg to ZIP\n",
      "Added images/B002ATZ6LC.jpg to ZIP\n",
      "Added images/B0012GYIAE.jpg to ZIP\n",
      "Added images/B008KZA778.jpg to ZIP\n",
      "Added images/B00LLJ5LJE.jpg to ZIP\n",
      "Added images/B00V5CSX60.jpg to ZIP\n",
      "Added images/B00KA3SRVG.jpg to ZIP\n",
      "Added images/B0013A4R8M.jpg to ZIP\n",
      "Added images/B00VIK33UA.jpg to ZIP\n",
      "Added images/B00FXW7AX0.jpg to ZIP\n",
      "Added images/B00J6AH0A8.jpg to ZIP\n",
      "Added images/B0046XZN5O.jpg to ZIP\n",
      "Added images/B0196ZRPFM.jpg to ZIP\n",
      "Added images/B002IXFLSI.jpg to ZIP\n",
      "Added images/B013G9BBA4.jpg to ZIP\n",
      "Added images/B0011Z0BNY.jpg to ZIP\n",
      "Added images/B01DSKNACS.jpg to ZIP\n",
      "Added images/B001BZBNBI.jpg to ZIP\n",
      "Added images/B008N6YKBI.jpg to ZIP\n",
      "Added images/B008AK6YIE.jpg to ZIP\n",
      "Added images/B00EOIEHPI.jpg to ZIP\n",
      "Added images/B0141CD6J4.jpg to ZIP\n",
      "Added images/B0098SGP18.jpg to ZIP\n",
      "Added images/B00FYS7Z5G.jpg to ZIP\n",
      "Added images/B000E4C8AW.jpg to ZIP\n",
      "Added images/B00YV50PUA.jpg to ZIP\n",
      "Added images/B01B58OX12.jpg to ZIP\n",
      "Added images/B001483N1A.jpg to ZIP\n",
      "Added images/B0010SNXFK.jpg to ZIP\n",
      "Added images/B000GU4258.jpg to ZIP\n",
      "Added images/B000A38JVY.jpg to ZIP\n",
      "Added images/B016X0FPQE.jpg to ZIP\n",
      "Added images/B01984MHN6.jpg to ZIP\n",
      "Added images/B00PWL7E3S.jpg to ZIP\n",
      "Added images/B003P1OEE4.jpg to ZIP\n",
      "Added images/B00E9XJYG0.jpg to ZIP\n",
      "Added images/B01GPAM17I.jpg to ZIP\n",
      "Added images/B001940QH8.jpg to ZIP\n",
      "Added images/B00WQG6TQ0.jpg to ZIP\n",
      "Added images/B00S5VKDE4.jpg to ZIP\n",
      "Added images/B000YE049Y.jpg to ZIP\n",
      "Added images/B007HNBO30.jpg to ZIP\n",
      "Added images/B00L4FUCTE.jpg to ZIP\n",
      "Added images/B00FMTJWPI.jpg to ZIP\n",
      "Added images/B00RYH0A8E.jpg to ZIP\n",
      "Added images/B0038BQK7U.jpg to ZIP\n",
      "Added images/B0012QYI1S.jpg to ZIP\n",
      "Added images/B003P1OHHS.jpg to ZIP\n",
      "Added images/B00R2T3CQ6.jpg to ZIP\n",
      "Added images/B0074GKXVO.jpg to ZIP\n",
      "Added images/B016W4EXKA.jpg to ZIP\n",
      "Added images/B004RO91DW.jpg to ZIP\n",
      "Added images/B00155FVLC.jpg to ZIP\n",
      "Added images/B00155D2A4.jpg to ZIP\n",
      "Added images/B006TSUO30.jpg to ZIP\n",
      "Added images/B00TEZ86MG.jpg to ZIP\n",
      "Added images/B010NX5WVA.jpg to ZIP\n",
      "Added images/B01H3EBD2O.jpg to ZIP\n",
      "Added images/B000VYKKFK.jpg to ZIP\n",
      "Added images/B00DO3LZM2.jpg to ZIP\n",
      "Added images/B01EFCOB2Q.jpg to ZIP\n",
      "Added images/B00125PBAG.jpg to ZIP\n",
      "Added images/B00FSJZ918.jpg to ZIP\n",
      "Added images/B00F9S7380.jpg to ZIP\n",
      "Added images/B00MUAO32Y.jpg to ZIP\n",
      "Added images/B00SK6CTMI.jpg to ZIP\n",
      "Added images/B019P32NUW.jpg to ZIP\n",
      "Added images/B00CE93LGK.jpg to ZIP\n",
      "Added images/B00J5SLNXQ.jpg to ZIP\n",
      "Added images/B001FA15UI.jpg to ZIP\n",
      "Added images/B017JCE3C2.jpg to ZIP\n",
      "Added images/B00LEXNOZU.jpg to ZIP\n",
      "Added images/B0073P9WTK.jpg to ZIP\n",
      "Added images/B0072DEIEM.jpg to ZIP\n",
      "Added images/B00S7VHWYQ.jpg to ZIP\n",
      "Added images/B006NYOTKO.jpg to ZIP\n",
      "Added images/B0084AINLQ.jpg to ZIP\n",
      "Added images/B0014JDJ4U.jpg to ZIP\n",
      "Added images/B004VRH83K.jpg to ZIP\n",
      "Added images/B00IJ73MV0.jpg to ZIP\n",
      "Added images/B001JQMAWK.jpg to ZIP\n",
      "Added images/B01FYI49BS.jpg to ZIP\n",
      "Added images/B005DM5O0Q.jpg to ZIP\n",
      "Added images/B00LAEX0MK.jpg to ZIP\n",
      "Added images/B009286MFS.jpg to ZIP\n",
      "Added images/B00MCVPP0A.jpg to ZIP\n",
      "Added images/B000L9Z1KY.jpg to ZIP\n",
      "Added images/B00453NIWU.jpg to ZIP\n",
      "Added images/B011RCG20Q.jpg to ZIP\n",
      "Added images/B01EI0QGUA.jpg to ZIP\n",
      "Added images/B013I8PVOA.jpg to ZIP\n",
      "Added images/B00KXBTDSG.jpg to ZIP\n",
      "Added images/B017G0ITRM.jpg to ZIP\n",
      "Added images/B00V0DDAKS.jpg to ZIP\n",
      "Added images/B0053ESYG0.jpg to ZIP\n",
      "Added images/B000RZSIRA.jpg to ZIP\n",
      "Added images/B0018AJRN2.jpg to ZIP\n",
      "Added images/B01AJM4MOS.jpg to ZIP\n",
      "Added images/B00D1IABX4.jpg to ZIP\n",
      "Added images/B005I0JOGI.jpg to ZIP\n",
      "Added images/B003P1OCW8.jpg to ZIP\n",
      "Added images/B01763OY96.jpg to ZIP\n",
      "Added images/B00F3LX2PQ.jpg to ZIP\n",
      "Added images/B000YQS1E2.jpg to ZIP\n",
      "Added images/B00062NPDQ.jpg to ZIP\n",
      "Added images/B000NGJ3O0.jpg to ZIP\n",
      "Added images/B004RTXZTS.jpg to ZIP\n",
      "Added images/B00138X44W.jpg to ZIP\n",
      "Added images/B0078L3IK8.jpg to ZIP\n",
      "Added images/B00AFQ3KZG.jpg to ZIP\n",
      "Added images/B00WM4FI1I.jpg to ZIP\n",
      "Added images/B00HI0IGYW.jpg to ZIP\n",
      "Added images/B00STBRT9M.jpg to ZIP\n",
      "Added images/B00GGBR622.jpg to ZIP\n",
      "Added images/B006ZU1SMI.jpg to ZIP\n",
      "Added images/B001BZ43RY.jpg to ZIP\n",
      "Added images/B0016N2GLQ.jpg to ZIP\n",
      "Added images/B0017TYLU8.jpg to ZIP\n",
      "Added images/B004BDE84Q.jpg to ZIP\n",
      "Added images/B010SEOM9C.jpg to ZIP\n",
      "Added images/B0043RTQ8S.jpg to ZIP\n",
      "Added images/B01B5TGCCO.jpg to ZIP\n",
      "Added images/B00H93VVYU.jpg to ZIP\n",
      "Added images/B0085KHS7U.jpg to ZIP\n",
      "Added images/B007HNBMA0.jpg to ZIP\n",
      "Added images/B001OC5KKS.jpg to ZIP\n",
      "Added images/B005I0JTOA.jpg to ZIP\n",
      "Added images/B018SRR0N6.jpg to ZIP\n",
      "Added images/B002BH4NJ4.jpg to ZIP\n",
      "Added images/B00Z6E9GEG.jpg to ZIP\n",
      "Added images/B00LX6CKYO.jpg to ZIP\n",
      "Added images/B005EP1P82.jpg to ZIP\n",
      "Added images/B00NPLFDB2.jpg to ZIP\n",
      "Added images/B008WTJJRQ.jpg to ZIP\n",
      "Added images/B0016HHUOK.jpg to ZIP\n",
      "Added images/B00D1IANGY.jpg to ZIP\n",
      "Added images/B00ZHJ9J4M.jpg to ZIP\n",
      "Added images/B016R0GT4C.jpg to ZIP\n",
      "Added images/B006D0TU1Q.jpg to ZIP\n",
      "Added images/B00C24Y8ZA.jpg to ZIP\n",
      "Added images/B00CIQL4S6.jpg to ZIP\n",
      "Added images/B00J5QR062.jpg to ZIP\n",
      "Added images/B01B8J8CGA.jpg to ZIP\n",
      "Added images/B00SPNNRTU.jpg to ZIP\n",
      "Added images/B00FQCSMUM.jpg to ZIP\n",
      "Added images/B01831FASY.jpg to ZIP\n",
      "Added images/B000FI4KWG.jpg to ZIP\n",
      "Added images/B00Q02RHSA.jpg to ZIP\n",
      "Added images/B007SY9HX2.jpg to ZIP\n",
      "Added images/B003VJWAFU.jpg to ZIP\n",
      "Added images/B01FWM7D64.jpg to ZIP\n",
      "Added images/B00HF6O5BM.jpg to ZIP\n",
      "Added images/B019ND41HC.jpg to ZIP\n",
      "Added images/B01568QJFA.jpg to ZIP\n",
      "Added images/B001618EAU.jpg to ZIP\n",
      "Added images/B00BLEADVA.jpg to ZIP\n",
      "Added images/B000A2K7WO.jpg to ZIP\n",
      "Added images/B008LT2U46.jpg to ZIP\n",
      "Added images/B001CUM11I.jpg to ZIP\n",
      "Added images/B0015S8M6U.jpg to ZIP\n",
      "Added images/B00DY9Y99W.jpg to ZIP\n",
      "Added images/B01FSGTJ3Y.jpg to ZIP\n",
      "Added images/B005GV4MWK.jpg to ZIP\n",
      "Added images/B00BQHC88I.jpg to ZIP\n",
      "Added images/B000BO9UF6.jpg to ZIP\n",
      "Added images/B00F5UVI92.jpg to ZIP\n",
      "Added images/B00D1QZSZW.jpg to ZIP\n",
      "Added images/B009YJQ9Y4.jpg to ZIP\n",
      "Added images/B00NWSRGN6.jpg to ZIP\n",
      "Added images/B000B8I9RW.jpg to ZIP\n",
      "Added images/B004W1QLVK.jpg to ZIP\n",
      "Added images/B000XDJ7LW.jpg to ZIP\n",
      "Added images/B00TV4BUVY.jpg to ZIP\n",
      "Added images/B0010XYQ6A.jpg to ZIP\n",
      "Added images/B00F2QRW4Y.jpg to ZIP\n",
      "Added images/B00ZXFW8HK.jpg to ZIP\n",
      "Added images/B000X2T0FQ.jpg to ZIP\n",
      "Added images/B0195L5ACW.jpg to ZIP\n",
      "Added images/B01943KIVO.jpg to ZIP\n",
      "Added images/B01CT1URZU.jpg to ZIP\n",
      "Added images/B014X03PK4.jpg to ZIP\n",
      "Added images/B00FRFRCBS.jpg to ZIP\n",
      "Added images/B010M6RGZS.jpg to ZIP\n",
      "Added images/B005FOFWW2.jpg to ZIP\n",
      "Added images/B007ZOHB0G.jpg to ZIP\n",
      "Added images/B00HQXPI56.jpg to ZIP\n",
      "Added images/B00144L7XK.jpg to ZIP\n",
      "Added images/B010X3HSKS.jpg to ZIP\n",
      "Added images/B00YXKIJ1K.jpg to ZIP\n",
      "Added images/B00YV5YBP0.jpg to ZIP\n",
      "Added images/B00K3W9GO6.jpg to ZIP\n",
      "Added images/B00CW65DWA.jpg to ZIP\n",
      "Added images/B00A6G4B3K.jpg to ZIP\n",
      "Added images/B00STNSR5U.jpg to ZIP\n",
      "Added images/B0018CDLKA.jpg to ZIP\n",
      "Added images/B00M0ESO7U.jpg to ZIP\n",
      "Added images/B004J20QD6.jpg to ZIP\n",
      "Added images/B000NCUDSO.jpg to ZIP\n",
      "Added images/B009286L36.jpg to ZIP\n",
      "Added images/B009G75M38.jpg to ZIP\n",
      "Added images/B00Y7OGKOK.jpg to ZIP\n",
      "Added images/B008PDC0IY.jpg to ZIP\n",
      "Added images/B0007CKOMA.jpg to ZIP\n",
      "Added images/B01ACF0FDE.jpg to ZIP\n",
      "Added images/B010I3BAHA.jpg to ZIP\n",
      "Added images/B002P8MBJS.jpg to ZIP\n",
      "Added images/B01CZYWEFW.jpg to ZIP\n",
      "Added images/B00S7VHWYG.jpg to ZIP\n",
      "Added images/B001BFIEC4.jpg to ZIP\n",
      "Added images/B003AIKF54.jpg to ZIP\n",
      "Added images/B001IKKLQE.jpg to ZIP\n",
      "Added images/B007L4ZHRE.jpg to ZIP\n",
      "Added images/B005GPKVFS.jpg to ZIP\n",
      "Added images/B016IO9KJS.jpg to ZIP\n",
      "Added images/B0016O7J2Q.jpg to ZIP\n",
      "Added images/B00FMTJ3WK.jpg to ZIP\n",
      "Added images/B007HY44QI.jpg to ZIP\n",
      "Added images/B000FHDFFK.jpg to ZIP\n",
      "Added images/B00AHXTOOS.jpg to ZIP\n",
      "Added images/B004LUIGG0.jpg to ZIP\n",
      "Added images/B00GDCZHI4.jpg to ZIP\n",
      "Added images/B00112B5K0.jpg to ZIP\n",
      "Added images/B01DMBUHYC.jpg to ZIP\n",
      "Added images/B001L1QQLO.jpg to ZIP\n",
      "Added images/B00CVS3TQ6.jpg to ZIP\n",
      "Added images/B0053EQDT0.jpg to ZIP\n",
      "Added images/B013QLZRGQ.jpg to ZIP\n",
      "Added images/B00AF0BKZE.jpg to ZIP\n",
      "Added images/B0027YVX1M.jpg to ZIP\n",
      "Added images/B00142F684.jpg to ZIP\n",
      "Added images/B00FSL989K.jpg to ZIP\n",
      "Added images/B00MNKZ604.jpg to ZIP\n",
      "Added images/B002AQSAHM.jpg to ZIP\n",
      "Added images/B00VYULLSA.jpg to ZIP\n",
      "Added images/B000YDX9KG.jpg to ZIP\n",
      "Added images/B00ZFLZXC4.jpg to ZIP\n",
      "Added images/B00STO2VWY.jpg to ZIP\n",
      "Added images/B00408978O.jpg to ZIP\n",
      "Added images/B00B6EAY1E.jpg to ZIP\n",
      "Added images/B008RKAPQE.jpg to ZIP\n",
      "Added images/B00DM05AAU.jpg to ZIP\n",
      "Added images/B00176ALNC.jpg to ZIP\n",
      "Added images/B000UPTVPK.jpg to ZIP\n",
      "Added images/B008WTJJOY.jpg to ZIP\n",
      "Added images/B002QYAL2A.jpg to ZIP\n",
      "Added images/B01CTND4GC.jpg to ZIP\n",
      "Added images/B00XKUWANC.jpg to ZIP\n",
      "Added images/B01ET9PEQW.jpg to ZIP\n",
      "Added images/B001A5JKL4.jpg to ZIP\n",
      "Added images/B008H6R3UY.jpg to ZIP\n",
      "Added images/B00F92CV9C.jpg to ZIP\n",
      "Added images/B016R0HL8A.jpg to ZIP\n",
      "Added images/B001M5U29Q.jpg to ZIP\n",
      "Added images/B0002QVA2E.jpg to ZIP\n",
      "Added images/B00G55K446.jpg to ZIP\n",
      "Added images/B00LX6DP3Y.jpg to ZIP\n",
      "Added images/B003184L7Q.jpg to ZIP\n",
      "Added images/B005NGQQO0.jpg to ZIP\n",
      "Added images/B004HVB37W.jpg to ZIP\n",
      "Added images/B00NVEOAW6.jpg to ZIP\n",
      "Added images/B00PUXM76W.jpg to ZIP\n",
      "Added images/B016PXIY9Y.jpg to ZIP\n",
      "Added images/B00SGPVVSG.jpg to ZIP\n",
      "Added images/B009286M3A.jpg to ZIP\n",
      "Added images/B00N45K9IG.jpg to ZIP\n",
      "Added images/B00D1QU3OI.jpg to ZIP\n",
      "Added images/B011N5PRPI.jpg to ZIP\n",
      "Added images/B0009G8HO6.jpg to ZIP\n",
      "Added images/B000HGJOW2.jpg to ZIP\n",
      "Added images/B00OJDEMEY.jpg to ZIP\n",
      "Added images/B00VRHW8N2.jpg to ZIP\n",
      "Added images/B00AYX6HB4.jpg to ZIP\n",
      "Added images/B018IJEVXG.jpg to ZIP\n",
      "Added images/B0119NM5JK.jpg to ZIP\n",
      "Added images/B0016A198K.jpg to ZIP\n",
      "Added images/B01EN2WTD6.jpg to ZIP\n",
      "Added images/B00BVVGVT6.jpg to ZIP\n",
      "Added images/B00LEC29H0.jpg to ZIP\n",
      "Added images/B000F1OT6A.jpg to ZIP\n",
      "Added images/B00BKQT9SC.jpg to ZIP\n",
      "Added images/B0001TST8U.jpg to ZIP\n",
      "Added images/B00LUNYVJC.jpg to ZIP\n",
      "Added images/B00SJT2L4C.jpg to ZIP\n",
      "Added images/B006ZUTGE0.jpg to ZIP\n",
      "Added images/B00J5GD68S.jpg to ZIP\n",
      "Added images/B00JBIDRGQ.jpg to ZIP\n",
      "Added images/B00X146FP6.jpg to ZIP\n",
      "Added images/B00C5KIVHC.jpg to ZIP\n",
      "Added images/B0000A6XS9.jpg to ZIP\n",
      "Added images/B0012QB9ZG.jpg to ZIP\n",
      "Added images/B00SAHP1UO.jpg to ZIP\n",
      "Added images/B01GI1C2T6.jpg to ZIP\n",
      "Added images/B00XQ2X2NQ.jpg to ZIP\n",
      "Added images/B00CHGPCP8.jpg to ZIP\n",
      "Added images/B01FL0VR5K.jpg to ZIP\n",
      "Added images/B0016OIA4M.jpg to ZIP\n",
      "Added images/B004MRXHMA.jpg to ZIP\n",
      "Added images/B001E5CP0S.jpg to ZIP\n",
      "Added images/B001EAZ42O.jpg to ZIP\n",
      "Added images/B001E2IOEM.jpg to ZIP\n",
      "Added images/B00NTJOCS0.jpg to ZIP\n",
      "Added images/B01BUYWUY8.jpg to ZIP\n",
      "Added images/B009FJIYSC.jpg to ZIP\n",
      "Added images/B01B5MGHEE.jpg to ZIP\n",
      "Added images/B019DXU6IK.jpg to ZIP\n",
      "Added images/B00SY5SC8U.jpg to ZIP\n",
      "Added images/B005Y2JCEY.jpg to ZIP\n",
      "Added images/B005PKPMB2.jpg to ZIP\n",
      "Added images/B0042Z1GSY.jpg to ZIP\n",
      "Added images/B00DMSGEAC.jpg to ZIP\n",
      "Added images/B00GCLCO3C.jpg to ZIP\n",
      "Added images/B0017II3G2.jpg to ZIP\n",
      "Added images/B00CTJOE9I.jpg to ZIP\n",
      "Added images/B0018P8N8W.jpg to ZIP\n",
      "Added images/B0128TPM94.jpg to ZIP\n",
      "Added images/B00FQCSMVG.jpg to ZIP\n",
      "Added images/B00LQDZDSE.jpg to ZIP\n",
      "Added images/B014XRU8CA.jpg to ZIP\n",
      "Added images/B00C9XM518.jpg to ZIP\n",
      "Added images/B01B5ZRU2Y.jpg to ZIP\n",
      "Added images/B0051U28OA.jpg to ZIP\n",
      "Added images/B000783PIE.jpg to ZIP\n",
      "Added images/B00IF3QGNY.jpg to ZIP\n",
      "Added images/B00THGC8XU.jpg to ZIP\n",
      "Added images/B001CN4KHI.jpg to ZIP\n",
      "Added images/B002MYK0T8.jpg to ZIP\n",
      "Added images/B0154PN8AE.jpg to ZIP\n",
      "Added images/B01DYDI3IU.jpg to ZIP\n",
      "Added images/B00SAHMTP4.jpg to ZIP\n",
      "Added images/B00YXRFAV0.jpg to ZIP\n",
      "Added images/B00C3ENP6M.jpg to ZIP\n",
      "Added images/B00LGT8R6I.jpg to ZIP\n",
      "Added images/B01A6LGOY8.jpg to ZIP\n",
      "Added images/B00HWULSUM.jpg to ZIP\n",
      "Added images/B00BHIQBDO.jpg to ZIP\n",
      "Added images/B00E1JO9VC.jpg to ZIP\n",
      "Added images/B00YGY0GEQ.jpg to ZIP\n",
      "Added images/B005GQBX9K.jpg to ZIP\n",
      "Added images/B0050U6M52.jpg to ZIP\n",
      "Added images/B00A7Y43Q6.jpg to ZIP\n",
      "Added images/B000E23WYA.jpg to ZIP\n",
      "Added images/B01B5QAS3Q.jpg to ZIP\n",
      "Added images/B003YUNKXW.jpg to ZIP\n",
      "Added images/B0040RYOOM.jpg to ZIP\n",
      "Added images/B00155FZK4.jpg to ZIP\n",
      "Added images/B01AH80MR0.jpg to ZIP\n",
      "Added images/B017RNRFNW.jpg to ZIP\n",
      "Added images/B001AHAUZ2.jpg to ZIP\n",
      "Added images/B001HN5KUE.jpg to ZIP\n",
      "Added images/B013ST2U16.jpg to ZIP\n",
      "Added images/B017WSG1QY.jpg to ZIP\n",
      "Added images/B00TZ004E8.jpg to ZIP\n",
      "Added images/B00K0TI0OO.jpg to ZIP\n",
      "Added images/B01B48O3U4.jpg to ZIP\n",
      "Added images/B00JGHL5FW.jpg to ZIP\n",
      "Added images/B00DMWQK0W.jpg to ZIP\n",
      "Added images/B0012OPC06.jpg to ZIP\n",
      "Added images/B01E9DPVIO.jpg to ZIP\n",
      "Added images/B01DX5MPGA.jpg to ZIP\n",
      "Added images/B01C8GCP4W.jpg to ZIP\n",
      "Added images/B004B59MS6.jpg to ZIP\n",
      "Added images/B0013TLZ42.jpg to ZIP\n",
      "Added images/B00OJDEF96.jpg to ZIP\n",
      "Added images/B00VYK2UKS.jpg to ZIP\n",
      "Added images/B001ABJNLK.jpg to ZIP\n",
      "Added images/B01BME2424.jpg to ZIP\n",
      "Added images/B00HZSJDVW.jpg to ZIP\n",
      "Added images/B00ATYIA72.jpg to ZIP\n",
      "Added images/B003VFB9HO.jpg to ZIP\n",
      "Added images/B01EI0OAZS.jpg to ZIP\n",
      "Added images/B0016J4YM4.jpg to ZIP\n",
      "Added images/B018KC0Y3C.jpg to ZIP\n",
      "Added images/B00KW2KJUM.jpg to ZIP\n",
      "Added images/B00IRW79UM.jpg to ZIP\n",
      "Added images/B00JEB8WV0.jpg to ZIP\n",
      "Added images/B019DXU518.jpg to ZIP\n",
      "Added images/B00B4QOO1K.jpg to ZIP\n",
      "Added images/B018EE1G4M.jpg to ZIP\n",
      "Added images/B00139YBB6.jpg to ZIP\n",
      "Added images/B00LE2KV2K.jpg to ZIP\n",
      "Added images/B000A38F22.jpg to ZIP\n",
      "Added images/B0014TRO00.jpg to ZIP\n",
      "Added images/B001FOR27Y.jpg to ZIP\n",
      "Added images/B001CE0YYA.jpg to ZIP\n",
      "Added images/B00KA3VX62.jpg to ZIP\n",
      "Added images/B0161ZC7OO.jpg to ZIP\n",
      "Added images/B01D3HAMLI.jpg to ZIP\n",
      "Added images/B00C252AVI.jpg to ZIP\n",
      "Added images/B000J6CLO8.jpg to ZIP\n",
      "Added images/B00IABQIX4.jpg to ZIP\n",
      "Added images/B00CE4QMRA.jpg to ZIP\n",
      "Added images/B007C22YU8.jpg to ZIP\n",
      "Added images/B00CIPHYP4.jpg to ZIP\n",
      "Added images/B008CIQZ88.jpg to ZIP\n",
      "Added images/B0195L1KBM.jpg to ZIP\n",
      "Added images/B001LRJX4U.jpg to ZIP\n",
      "Added images/B00JKJ1J9I.jpg to ZIP\n",
      "Added images/B019G2CJFG.jpg to ZIP\n",
      "Added images/B000WHUKDI.jpg to ZIP\n",
      "Added images/B01FPAZRHA.jpg to ZIP\n",
      "Added images/B0043P5RLA.jpg to ZIP\n",
      "Added images/B01ACF0FMA.jpg to ZIP\n",
      "Added images/B007HNETLY.jpg to ZIP\n",
      "Added images/B001C39UV4.jpg to ZIP\n",
      "Added images/B00M1E4D1K.jpg to ZIP\n",
      "Added images/B01FUVCDL2.jpg to ZIP\n",
      "Added images/B000HGC3FW.jpg to ZIP\n",
      "Added images/B00CIJ9UQQ.jpg to ZIP\n",
      "Added images/B00125TUDK.jpg to ZIP\n",
      "Added images/B00VE7VQ74.jpg to ZIP\n",
      "Added images/B00FMTJWSU.jpg to ZIP\n",
      "Added images/B000A6V0YE.jpg to ZIP\n",
      "Added images/B00K3WDC5U.jpg to ZIP\n",
      "Added images/B00W4ICNGK.jpg to ZIP\n",
      "Added images/B0014TN1ES.jpg to ZIP\n",
      "Added images/B002BNM5RK.jpg to ZIP\n",
      "Added images/B00829QX1Q.jpg to ZIP\n",
      "Added images/B0014U0A5A.jpg to ZIP\n",
      "Added images/B00TQT80PS.jpg to ZIP\n",
      "Added images/B000AYGZZK.jpg to ZIP\n",
      "Added images/B001AE6FDQ.jpg to ZIP\n",
      "Added images/B009G6XVSC.jpg to ZIP\n",
      "Added images/B016IO9NBI.jpg to ZIP\n",
      "Added images/B00KRX1OVE.jpg to ZIP\n",
      "Added images/B016R0HHB6.jpg to ZIP\n",
      "Added images/B005F2DF00.jpg to ZIP\n",
      "Added images/B00H4I69P6.jpg to ZIP\n",
      "Added images/B00DMWQVJM.jpg to ZIP\n",
      "Added images/B00DXYO6QO.jpg to ZIP\n",
      "Added images/B017NSVAKA.jpg to ZIP\n",
      "Added images/B002CGSWQ4.jpg to ZIP\n",
      "Added images/B00FYS8C0I.jpg to ZIP\n",
      "Added images/B00BCPCTBU.jpg to ZIP\n",
      "Added images/B017LTPFYS.jpg to ZIP\n",
      "Added images/B010NX6O6C.jpg to ZIP\n",
      "Added images/B000BO4NFS.jpg to ZIP\n",
      "Added images/B01FSITIW4.jpg to ZIP\n",
      "Added images/B0113ZI912.jpg to ZIP\n",
      "Added images/B0073PJCUE.jpg to ZIP\n",
      "Added images/B00SWDIZMC.jpg to ZIP\n",
      "Added images/B00RY2VAYM.jpg to ZIP\n",
      "Added images/B00BFZQ7CE.jpg to ZIP\n",
      "Added images/B00X146JT8.jpg to ZIP\n",
      "Added images/B000YDYY4Q.jpg to ZIP\n",
      "Added images/B001CISJAW.jpg to ZIP\n",
      "Added images/B00P82V55Y.jpg to ZIP\n",
      "Added images/B00EV5K10E.jpg to ZIP\n",
      "Added images/B00IZDLR6K.jpg to ZIP\n",
      "Added images/B0009EU692.jpg to ZIP\n",
      "Added images/B0098IIENK.jpg to ZIP\n",
      "Added images/B01B48NSLO.jpg to ZIP\n",
      "Added images/B001BZ2GS2.jpg to ZIP\n",
      "Added images/B017N3JI1I.jpg to ZIP\n",
      "Added images/B00A6G3ZWI.jpg to ZIP\n",
      "Added images/B006P487Q4.jpg to ZIP\n",
      "Added images/B017JJ6MJW.jpg to ZIP\n",
      "Added images/B00S7VHWWI.jpg to ZIP\n",
      "Added images/B009FJPDRW.jpg to ZIP\n",
      "Added images/B00GXE5KQQ.jpg to ZIP\n",
      "Added images/B001GLGW0O.jpg to ZIP\n",
      "Added images/B002AUDWYY.jpg to ZIP\n",
      "Added images/B01DUBLRAM.jpg to ZIP\n",
      "Added images/B000XUM08W.jpg to ZIP\n",
      "Added images/B010MC6D42.jpg to ZIP\n",
      "Added images/B001AFRNC2.jpg to ZIP\n",
      "Added images/B005FDVW2W.jpg to ZIP\n",
      "Added images/B00EB1557W.jpg to ZIP\n",
      "Added images/B00SUVRGB2.jpg to ZIP\n",
      "Added images/B00J5GD94Y.jpg to ZIP\n",
      "Added images/B00BQJTFRS.jpg to ZIP\n",
      "Added images/B000P0QF68.jpg to ZIP\n",
      "Added images/B000WBCG72.jpg to ZIP\n",
      "Added images/B001MS72AK.jpg to ZIP\n",
      "Added images/B005GV4PQS.jpg to ZIP\n",
      "Added images/B0113VMCKA.jpg to ZIP\n",
      "Added images/B0018CIYA2.jpg to ZIP\n",
      "Added images/B01AS4JFEE.jpg to ZIP\n",
      "Added images/B00XKXHMSM.jpg to ZIP\n",
      "Added images/B0050SBEPM.jpg to ZIP\n",
      "Added images/B01GI1CAHK.jpg to ZIP\n",
      "Added images/B0045F9APW.jpg to ZIP\n",
      "Added images/B00BIKMPOU.jpg to ZIP\n",
      "Added images/B0119NLRW6.jpg to ZIP\n",
      "Added images/B0016MZNIA.jpg to ZIP\n",
      "Added images/B00NMFG0MW.jpg to ZIP\n",
      "Added images/B00CCCRY8K.jpg to ZIP\n",
      "Added images/B019DP8FM2.jpg to ZIP\n",
      "Added images/B01F0WCHTE.jpg to ZIP\n",
      "Added images/B000Q8TZH0.jpg to ZIP\n",
      "Added images/B002P66E48.jpg to ZIP\n",
      "Added images/B005ADS3L0.jpg to ZIP\n",
      "Added images/B0018OOF6M.jpg to ZIP\n",
      "Added images/B003BMCU7K.jpg to ZIP\n",
      "Added images/B013C6262S.jpg to ZIP\n",
      "Added images/B01DRRNSXS.jpg to ZIP\n",
      "Added images/B01H1VHOWW.jpg to ZIP\n",
      "Added images/B00MWOMNB6.jpg to ZIP\n",
      "Added images/B000XRFGD6.jpg to ZIP\n",
      "Added images/B002Q18U3A.jpg to ZIP\n",
      "Added images/B00Y92F92Y.jpg to ZIP\n",
      "Added images/B011NI0LEM.jpg to ZIP\n",
      "Added images/B000MXLYVY.jpg to ZIP\n",
      "Added images/B01EGHZJYE.jpg to ZIP\n",
      "Added images/B00X146GQO.jpg to ZIP\n",
      "Added images/B00DYPUAUI.jpg to ZIP\n",
      "Added images/B01ALC8ZJ4.jpg to ZIP\n",
      "Added images/B018SRR7HU.jpg to ZIP\n",
      "Added images/B005P2RWIG.jpg to ZIP\n",
      "Added images/B0009G4D1W.jpg to ZIP\n",
      "Added images/B001FB60L6.jpg to ZIP\n",
      "Added images/B008JG9GT8.jpg to ZIP\n",
      "Added images/B00CHERRQW.jpg to ZIP\n",
      "Added images/B00LD85D1O.jpg to ZIP\n",
      "Added images/B0098SEP2E.jpg to ZIP\n",
      "Added images/B003HCTUCW.jpg to ZIP\n",
      "Added images/B013JXN7KO.jpg to ZIP\n",
      "Added images/B00AU0MO86.jpg to ZIP\n",
      "Added images/B009325FHE.jpg to ZIP\n",
      "Added images/B000JJMKYQ.jpg to ZIP\n",
      "Added images/B001G0UQHA.jpg to ZIP\n",
      "Added images/B008NBU1QQ.jpg to ZIP\n",
      "Added images/B00VJNUTMG.jpg to ZIP\n",
      "Added images/B006ZH86F8.jpg to ZIP\n",
      "Added images/B013FXEUL8.jpg to ZIP\n",
      "Added images/B00HXAWGXO.jpg to ZIP\n",
      "Added images/B00FVK6UGC.jpg to ZIP\n",
      "Added images/B00CRDPZ9O.jpg to ZIP\n",
      "Added images/B009998FW8.jpg to ZIP\n",
      "Added images/B0058ZS8YC.jpg to ZIP\n",
      "Added images/B0011MUK5G.jpg to ZIP\n",
      "Added images/B000UU4Q5K.jpg to ZIP\n",
      "Added images/B01H3EBD1A.jpg to ZIP\n",
      "Added images/B002G1Z5Q0.jpg to ZIP\n",
      "Added images/B00P27AYES.jpg to ZIP\n",
      "Added images/B00YIGMRJ4.jpg to ZIP\n",
      "Added images/B00VE7VTAS.jpg to ZIP\n",
      "Added images/B00X1467JA.jpg to ZIP\n",
      "Added images/B01A6M3Q2U.jpg to ZIP\n",
      "Added images/B000VK2K9S.jpg to ZIP\n",
      "Added images/B00RLXWWXC.jpg to ZIP\n",
      "Added images/B00IJ73LD4.jpg to ZIP\n",
      "Added images/B00WM3QDZE.jpg to ZIP\n",
      "Added images/B00Q4NS72K.jpg to ZIP\n",
      "Added images/B01CZYW7AE.jpg to ZIP\n",
      "Added images/B0002LI9BO.jpg to ZIP\n",
      "Added images/B00OPEBSPI.jpg to ZIP\n",
      "Added images/B00X146SX0.jpg to ZIP\n",
      "Added images/B004X0OQQM.jpg to ZIP\n",
      "Added images/B000GB0G6G.jpg to ZIP\n",
      "Added images/B00125POPS.jpg to ZIP\n",
      "Added images/B00KAFDSGS.jpg to ZIP\n",
      "Added images/B00CFU6YGM.jpg to ZIP\n",
      "Added images/B000A38III.jpg to ZIP\n",
      "Added images/B00J4JBLZG.jpg to ZIP\n",
      "Added images/B00WM37PXS.jpg to ZIP\n",
      "Added images/B000Z9ORH8.jpg to ZIP\n",
      "Added images/B00EOIF4MI.jpg to ZIP\n",
      "Added images/B00K4WN4UC.jpg to ZIP\n",
      "Added images/B00JGHLUI4.jpg to ZIP\n",
      "Added images/B01CTW2LG2.jpg to ZIP\n",
      "Added images/B00C0COANE.jpg to ZIP\n",
      "Added images/B00O4RJTKC.jpg to ZIP\n",
      "Added images/B00R556M96.jpg to ZIP\n",
      "Added images/B01EFH2JK2.jpg to ZIP\n",
      "Added images/B00CFU7C7C.jpg to ZIP\n",
      "Added images/B00BHOL06G.jpg to ZIP\n",
      "Added images/B016SAWIMS.jpg to ZIP\n",
      "Added images/B01A0GGCJQ.jpg to ZIP\n",
      "Added images/B010NX74QQ.jpg to ZIP\n",
      "Added images/B00WM4YUD0.jpg to ZIP\n",
      "Added images/B0016OC71E.jpg to ZIP\n",
      "Added images/B00XZVK0K6.jpg to ZIP\n",
      "Added images/B0018K6A0K.jpg to ZIP\n",
      "Added images/B000N3Q7B0.jpg to ZIP\n",
      "Added images/B00FYS84HO.jpg to ZIP\n",
      "Added images/B00EHA7KIY.jpg to ZIP\n",
      "Added images/B00CVT4RI4.jpg to ZIP\n",
      "Added images/B01BI8RR5I.jpg to ZIP\n",
      "Added images/B00LTFDOR6.jpg to ZIP\n",
      "Added images/B00KRYNBFK.jpg to ZIP\n",
      "Added images/B00D5YSZBY.jpg to ZIP\n",
      "Added images/B00T5C45HS.jpg to ZIP\n",
      "Added images/B0016PRG64.jpg to ZIP\n",
      "Added images/B0002M8PH6.jpg to ZIP\n",
      "Added images/B00DVJQMRC.jpg to ZIP\n",
      "Added images/B00FYS880W.jpg to ZIP\n",
      "Added images/B006OO3FXU.jpg to ZIP\n",
      "Added images/B01DGVMDE0.jpg to ZIP\n",
      "Added images/B00128NAS8.jpg to ZIP\n",
      "Added images/B00BQMYG6A.jpg to ZIP\n",
      "Added images/B006SRTFGY.jpg to ZIP\n",
      "Added images/B00S7VHX0E.jpg to ZIP\n",
      "Added images/B00LCD4VFO.jpg to ZIP\n",
      "Added images/B00MAVAME6.jpg to ZIP\n",
      "Added images/B00X146CPE.jpg to ZIP\n",
      "Added images/B00700KDR8.jpg to ZIP\n",
      "Added images/B000IBFCHW.jpg to ZIP\n",
      "Added images/B00MV3497E.jpg to ZIP\n",
      "Added images/B01E4K62BW.jpg to ZIP\n",
      "Added images/B00FYS7YN4.jpg to ZIP\n",
      "Added images/B00YXKF1T8.jpg to ZIP\n",
      "Added images/B00JGHM21I.jpg to ZIP\n",
      "Added images/B00CS4SW6U.jpg to ZIP\n",
      "Added images/B017LTNTQO.jpg to ZIP\n",
      "Added images/B0042HLHWW.jpg to ZIP\n",
      "Added images/B0043RTQS8.jpg to ZIP\n",
      "Added images/B002P2R2XO.jpg to ZIP\n",
      "Added images/B01D1H5LZM.jpg to ZIP\n",
      "Added images/B00FMTKK22.jpg to ZIP\n",
      "Added images/B003Y728IS.jpg to ZIP\n",
      "Added images/B0142J5HGQ.jpg to ZIP\n",
      "Added images/B00J29JW5Y.jpg to ZIP\n",
      "Added images/B001KVYGBC.jpg to ZIP\n",
      "Added images/B00MGATI46.jpg to ZIP\n",
      "Added images/B002CYW8L6.jpg to ZIP\n",
      "Added images/B00SIV566Q.jpg to ZIP\n",
      "Added images/B01BGW00FK.jpg to ZIP\n",
      "Added images/B0069I9HQU.jpg to ZIP\n",
      "Added images/B0010AUJBE.jpg to ZIP\n",
      "Added images/B00FXWANZC.jpg to ZIP\n",
      "Added images/B000BF0XWE.jpg to ZIP\n",
      "Added images/B00CB9A1OS.jpg to ZIP\n",
      "Added images/B018R7EL8E.jpg to ZIP\n",
      "Added images/B0116HODQM.jpg to ZIP\n",
      "Added images/B00QTKTWIQ.jpg to ZIP\n",
      "Added images/B000B6J716.jpg to ZIP\n",
      "Added images/B01CZYWC86.jpg to ZIP\n",
      "Added images/B00Y8DRIP0.jpg to ZIP\n",
      "Added images/B01EZEH36K.jpg to ZIP\n",
      "Added images/B00BE61QY8.jpg to ZIP\n",
      "Added images/B0018K0ZUQ.jpg to ZIP\n",
      "Added images/B01EJNFSJQ.jpg to ZIP\n",
      "Added images/B00RZ3L56S.jpg to ZIP\n",
      "Added images/B001BOKNVK.jpg to ZIP\n",
      "Added images/B00YR1NFK0.jpg to ZIP\n",
      "Added images/B001FOQWU2.jpg to ZIP\n",
      "Added images/B000Z4CLSA.jpg to ZIP\n",
      "Added images/B001L5TP0O.jpg to ZIP\n",
      "Added images/B002EI07E0.jpg to ZIP\n",
      "Added images/B006VYXZHO.jpg to ZIP\n",
      "Added images/B00FMTJWRG.jpg to ZIP\n",
      "Added images/B001A6OURW.jpg to ZIP\n",
      "Added images/B00C254U3O.jpg to ZIP\n",
      "Added images/B0073B5R84.jpg to ZIP\n",
      "Added images/B0116K5BUG.jpg to ZIP\n",
      "Added images/B003P1QDL6.jpg to ZIP\n",
      "Added images/B00CHZAQI2.jpg to ZIP\n",
      "Added images/B002WVJ9PW.jpg to ZIP\n",
      "Added images/B00ACX0Q0E.jpg to ZIP\n",
      "Added images/B001GXRGNY.jpg to ZIP\n",
      "Added images/B00SUJPGWK.jpg to ZIP\n",
      "Added images/B003TU17CS.jpg to ZIP\n",
      "Added images/B00DWIVRN6.jpg to ZIP\n",
      "Added images/B005OA64EC.jpg to ZIP\n",
      "Added images/B00M1DAUD6.jpg to ZIP\n",
      "Added images/B0050TJFT8.jpg to ZIP\n",
      "Added images/B0012J44GY.jpg to ZIP\n",
      "Added images/B007CH9U7I.jpg to ZIP\n",
      "Added images/B005UUMB5W.jpg to ZIP\n",
      "Added images/B006IMV7X8.jpg to ZIP\n",
      "Added images/B002G4UJPO.jpg to ZIP\n",
      "Added images/B001A40LFY.jpg to ZIP\n",
      "Added images/B003H9M4UA.jpg to ZIP\n",
      "Added images/B0019CIAG4.jpg to ZIP\n",
      "Added images/B00JZ1RKVC.jpg to ZIP\n",
      "Added images/B000ALAGRG.jpg to ZIP\n",
      "Added images/B01F772968.jpg to ZIP\n",
      "Added images/B001KU66DO.jpg to ZIP\n",
      "Added images/B00EWQQV2Y.jpg to ZIP\n",
      "Added images/B00Z6PSUMY.jpg to ZIP\n",
      "Added images/B0196ZKSLU.jpg to ZIP\n",
      "Added images/B015JSWWBM.jpg to ZIP\n",
      "Added images/B0018CCOOO.jpg to ZIP\n",
      "Added images/B00FN0RX3O.jpg to ZIP\n",
      "Added images/B00TP5MCLQ.jpg to ZIP\n",
      "Added images/B014NCTWKY.jpg to ZIP\n",
      "Added images/B00JEUCJXS.jpg to ZIP\n",
      "Added images/B000BH8VY4.jpg to ZIP\n",
      "Added images/B0018KGQQ8.jpg to ZIP\n",
      "Added images/B00AR2B8DE.jpg to ZIP\n",
      "Added images/B00EBH65HU.jpg to ZIP\n",
      "Added images/B01GUCJ304.jpg to ZIP\n",
      "Added images/B00E0JX70W.jpg to ZIP\n",
      "Added images/B00JUMD4I4.jpg to ZIP\n",
      "Added images/B007NDI8T2.jpg to ZIP\n",
      "Added images/B00SQ4UNIG.jpg to ZIP\n",
      "Added images/B00S7KT6BE.jpg to ZIP\n",
      "Added images/B004RQ4518.jpg to ZIP\n",
      "Added images/B00SQ3JBX0.jpg to ZIP\n",
      "Added images/B0015DIS7I.jpg to ZIP\n",
      "Added images/B00NVF1P3C.jpg to ZIP\n",
      "Added images/B00VM8UZ0O.jpg to ZIP\n",
      "Added images/B00ATUNJW2.jpg to ZIP\n",
      "Added images/B00C3EL1VS.jpg to ZIP\n",
      "Added images/B00R7HR67E.jpg to ZIP\n",
      "Added images/B0182GKIOQ.jpg to ZIP\n",
      "Added images/B0062BD79W.jpg to ZIP\n",
      "Added images/B001G5ZW9C.jpg to ZIP\n",
      "Added images/B01A4C4VQM.jpg to ZIP\n",
      "Added images/B005PZVEGE.jpg to ZIP\n",
      "Added images/B008ODJRJU.jpg to ZIP\n",
      "Added images/B001E2GP02.jpg to ZIP\n",
      "Added images/B00150GQ8Y.jpg to ZIP\n",
      "Added images/B005NFARQE.jpg to ZIP\n",
      "Added images/B00ZJRX7HM.jpg to ZIP\n",
      "Added images/B01CU9CL9Q.jpg to ZIP\n",
      "Added images/B01DDYT1EU.jpg to ZIP\n",
      "Added images/B00A9RGD6O.jpg to ZIP\n",
      "Added images/B0018SW1WI.jpg to ZIP\n",
      "Added images/B00C3EKD1M.jpg to ZIP\n",
      "Added images/B00KCCO1KQ.jpg to ZIP\n",
      "Added images/B0018DL13I.jpg to ZIP\n",
      "Added images/B000A38BNK.jpg to ZIP\n",
      "Added images/B00HF6MOW4.jpg to ZIP\n",
      "Added images/B000XIINXK.jpg to ZIP\n",
      "Added images/B00729OCB0.jpg to ZIP\n",
      "Added images/B019DXTZXM.jpg to ZIP\n",
      "Added images/B00OZW3HTK.jpg to ZIP\n",
      "Added images/B00YEFRFHS.jpg to ZIP\n",
      "Added images/B0013FD3KK.jpg to ZIP\n",
      "Added images/B00MAMBAKA.jpg to ZIP\n",
      "Added images/B00LUFH9LC.jpg to ZIP\n",
      "Added images/B00CBSMUEI.jpg to ZIP\n",
      "Added images/B012P2G8JW.jpg to ZIP\n",
      "Added images/B00K00UN66.jpg to ZIP\n",
      "Added images/B00A34TBPS.jpg to ZIP\n",
      "Added images/B000EWHCQO.jpg to ZIP\n",
      "Added images/B019PYQ8CU.jpg to ZIP\n",
      "Added images/B007P89GQO.jpg to ZIP\n",
      "Added images/B00PL94FRY.jpg to ZIP\n",
      "Added images/B01FN6ERE0.jpg to ZIP\n",
      "Added images/B000XPIW0W.jpg to ZIP\n",
      "Added images/B00V5CJVAC.jpg to ZIP\n",
      "Added images/B002UD5N2K.jpg to ZIP\n",
      "Added images/B0042IL9IS.jpg to ZIP\n",
      "Added images/B00VA166LK.jpg to ZIP\n",
      "Added images/B00NFLVC8A.jpg to ZIP\n",
      "Added images/B010FMRRS0.jpg to ZIP\n",
      "Added images/B004CAN69G.jpg to ZIP\n",
      "Added images/B00S83Y1HO.jpg to ZIP\n",
      "Added images/B00JRD6398.jpg to ZIP\n",
      "Added images/B00LUQ9K40.jpg to ZIP\n",
      "Added images/B007VB95OS.jpg to ZIP\n",
      "Added images/B001940LIC.jpg to ZIP\n",
      "Added images/B00WDVSS26.jpg to ZIP\n",
      "Added images/B000EH0C7K.jpg to ZIP\n",
      "Added images/B00LNF532Q.jpg to ZIP\n",
      "Added images/B003DO2MB0.jpg to ZIP\n",
      "Added images/B00LVRB43I.jpg to ZIP\n",
      "Added images/B00STV837Y.jpg to ZIP\n",
      "Added images/B0002PO16W.jpg to ZIP\n",
      "Added images/B01HH92ZLI.jpg to ZIP\n",
      "Added images/B00CS4RKMW.jpg to ZIP\n",
      "Added images/B00FXW6O8M.jpg to ZIP\n",
      "Added images/B013FFZMWC.jpg to ZIP\n",
      "Added images/B00JZ1RLKW.jpg to ZIP\n",
      "Added images/B00LEBZM4S.jpg to ZIP\n",
      "Added images/B00PL447NG.jpg to ZIP\n",
      "Added images/B015HTZG34.jpg to ZIP\n",
      "Added images/B00KZDYM6U.jpg to ZIP\n",
      "Added images/B0026KWL4A.jpg to ZIP\n",
      "Added images/B00M94TZBU.jpg to ZIP\n",
      "Added images/B001AQTQA8.jpg to ZIP\n",
      "Added images/B005KVHP66.jpg to ZIP\n",
      "Added images/B00PJIWLTG.jpg to ZIP\n",
      "Added images/B00CHGOZGK.jpg to ZIP\n",
      "Added images/B00Y92EZU6.jpg to ZIP\n",
      "Added images/B011S7E7KW.jpg to ZIP\n",
      "Added images/B001L5TQ2G.jpg to ZIP\n",
      "Added images/B008KKQ4GQ.jpg to ZIP\n",
      "Added images/B00S0VTSYA.jpg to ZIP\n",
      "Added images/B0018OULKQ.jpg to ZIP\n",
      "Added images/B00WPMNBJS.jpg to ZIP\n",
      "Added images/B000BO4RH2.jpg to ZIP\n",
      "Added images/B004ACA1LM.jpg to ZIP\n",
      "Added images/B016YY8T1M.jpg to ZIP\n",
      "Added images/B000K2J4RI.jpg to ZIP\n",
      "Added images/B00X407QO6.jpg to ZIP\n",
      "Added images/B01091AE5U.jpg to ZIP\n",
      "Added images/B00GG5VXSQ.jpg to ZIP\n",
      "Added images/B0009P6622.jpg to ZIP\n",
      "Added images/B005GYGGRG.jpg to ZIP\n",
      "Added images/B0015DCN8S.jpg to ZIP\n",
      "Added images/B01EBBPW10.jpg to ZIP\n",
      "Added images/B00GINHNO4.jpg to ZIP\n",
      "Added images/B000YHNHHW.jpg to ZIP\n",
      "Added images/B01BI8RE10.jpg to ZIP\n",
      "Added images/B003P1J9FS.jpg to ZIP\n",
      "Added images/B0186HVEDK.jpg to ZIP\n",
      "Added images/B00BNZZWFE.jpg to ZIP\n",
      "Added images/B0013CYVTK.jpg to ZIP\n",
      "Added images/B015PUZV7G.jpg to ZIP\n",
      "Added images/B003X26SBW.jpg to ZIP\n",
      "Added images/B00J5PYFD4.jpg to ZIP\n",
      "Added images/B0018CCS1S.jpg to ZIP\n",
      "Added images/B00HVKACJG.jpg to ZIP\n",
      "Added images/B01AYJ93NG.jpg to ZIP\n",
      "Added images/B00KO9GRY0.jpg to ZIP\n",
      "Added images/B002G9BJZI.jpg to ZIP\n",
      "Added images/B000P50VWM.jpg to ZIP\n",
      "Added images/B008L5HPLS.jpg to ZIP\n",
      "Added images/B00QBTKKR2.jpg to ZIP\n",
      "Added images/B001M82DC2.jpg to ZIP\n",
      "Added images/B019DXU6FI.jpg to ZIP\n",
      "Added images/B00V83AWNI.jpg to ZIP\n",
      "Added images/B00NMFE3CG.jpg to ZIP\n",
      "Added images/B0108SEYSM.jpg to ZIP\n",
      "Added images/B00AYX6KZC.jpg to ZIP\n",
      "Added images/B00NTJNTIO.jpg to ZIP\n",
      "Added images/B00YBE2W3Y.jpg to ZIP\n",
      "Added images/B006DI0XT6.jpg to ZIP\n",
      "Added images/B00CVT30AK.jpg to ZIP\n",
      "Added images/B019P31NBC.jpg to ZIP\n",
      "Added images/B005BJZPDW.jpg to ZIP\n",
      "Added images/B000PQHWDM.jpg to ZIP\n",
      "Added images/B007I34X3W.jpg to ZIP\n",
      "Added images/B00K1NRSIS.jpg to ZIP\n",
      "Added images/B00X146B96.jpg to ZIP\n",
      "Added images/B01B8FJNKI.jpg to ZIP\n",
      "Added images/B01AOV42SK.jpg to ZIP\n",
      "Added images/B00NMFLSNS.jpg to ZIP\n",
      "Added images/B003ZYDVMC.jpg to ZIP\n",
      "Added images/B00C85HCS8.jpg to ZIP\n",
      "Added images/B000FBMFZW.jpg to ZIP\n",
      "Added images/B01EFDNXQ0.jpg to ZIP\n",
      "Added images/B00WSAOUA6.jpg to ZIP\n",
      "Added images/B01D3JBAJ4.jpg to ZIP\n",
      "Added images/B00A9RXYC0.jpg to ZIP\n",
      "Added images/B00GM4XCHQ.jpg to ZIP\n",
      "Added images/B005HJQY9A.jpg to ZIP\n",
      "Added images/B006ZU6MII.jpg to ZIP\n",
      "Added images/B0072IJX9W.jpg to ZIP\n",
      "Added images/B000TGPTSS.jpg to ZIP\n",
      "Added images/B000XHHOFE.jpg to ZIP\n",
      "Added images/B000HBVRY0.jpg to ZIP\n",
      "Added images/B00XN0UL44.jpg to ZIP\n",
      "Added images/B00F8A21EK.jpg to ZIP\n",
      "Added images/B0041VURRK.jpg to ZIP\n",
      "Added images/B00KA3U890.jpg to ZIP\n",
      "Added images/B00AU8U3TK.jpg to ZIP\n",
      "Added images/B0058YBUY8.jpg to ZIP\n",
      "Added images/B00YO29OIO.jpg to ZIP\n",
      "Added images/B013GJ4H6E.jpg to ZIP\n",
      "Added images/B001L1RLJK.jpg to ZIP\n",
      "Added images/B00J7Y8SNG.jpg to ZIP\n",
      "Added images/B001A4DIKE.jpg to ZIP\n",
      "Added images/B000WEFZ0O.jpg to ZIP\n",
      "Added images/B019EBYZQU.jpg to ZIP\n",
      "Added images/B00UHE7W1Y.jpg to ZIP\n",
      "Added images/B00HYRI76Q.jpg to ZIP\n",
      "Added images/B00IJ73H6U.jpg to ZIP\n",
      "Added images/B00XIR3W8O.jpg to ZIP\n",
      "Added images/B00ZZFLS7E.jpg to ZIP\n",
      "Added images/B00W4252Y6.jpg to ZIP\n",
      "Added images/B01APSXDQE.jpg to ZIP\n",
      "Added images/B00VY2OBX0.jpg to ZIP\n",
      "Added images/B000VHLWP4.jpg to ZIP\n",
      "Added images/B00LWBR03G.jpg to ZIP\n",
      "Added images/B018CF8KHE.jpg to ZIP\n",
      "Added images/B001874G7M.jpg to ZIP\n",
      "Added images/B014FD887Y.jpg to ZIP\n",
      "Added images/B00DMWQT1C.jpg to ZIP\n",
      "Added images/B00AJ32R36.jpg to ZIP\n",
      "Added images/B005A9OFXY.jpg to ZIP\n",
      "Added images/B0178I1528.jpg to ZIP\n",
      "Added images/B00VJL9DKC.jpg to ZIP\n",
      "Added images/B00NVEYQ0M.jpg to ZIP\n",
      "Added images/B01568RX00.jpg to ZIP\n",
      "Added images/B01FS51104.jpg to ZIP\n",
      "Added images/B00E9ON1RW.jpg to ZIP\n",
      "Added images/B01ADUDRUG.jpg to ZIP\n",
      "Added images/B009XGRS0M.jpg to ZIP\n",
      "Added images/B01AWYP2GK.jpg to ZIP\n",
      "Added images/B00Q43DE1E.jpg to ZIP\n",
      "Added images/B00RYT14GO.jpg to ZIP\n",
      "Added images/B00BYV5PMM.jpg to ZIP\n",
      "Added images/B00X146HYA.jpg to ZIP\n",
      "Added images/B019DXTZWI.jpg to ZIP\n",
      "Added images/B00857SSCW.jpg to ZIP\n",
      "Added images/B005V3CDR4.jpg to ZIP\n",
      "Added images/B008L187BO.jpg to ZIP\n",
      "Added images/B00KPU1IK6.jpg to ZIP\n",
      "Added images/B001WAKQGU.jpg to ZIP\n",
      "Added images/B007X79ZD6.jpg to ZIP\n",
      "Added images/B00NM58T8K.jpg to ZIP\n",
      "Added images/B00HCBCYCM.jpg to ZIP\n",
      "Added images/B010NX6WLY.jpg to ZIP\n",
      "Added images/B00MVYLODK.jpg to ZIP\n",
      "Added images/B01FUVMH22.jpg to ZIP\n",
      "Added images/B01FTYB7B2.jpg to ZIP\n",
      "Added images/B000XEALNY.jpg to ZIP\n",
      "Added images/B00DXYP640.jpg to ZIP\n",
      "Added images/B004GWPJ6S.jpg to ZIP\n",
      "Added images/B007HNDJJM.jpg to ZIP\n",
      "Added images/B0015UQ76A.jpg to ZIP\n",
      "Added images/B00MV9YHJ8.jpg to ZIP\n",
      "Added images/B000GB0G5M.jpg to ZIP\n",
      "Added images/B00MV99X56.jpg to ZIP\n",
      "Added images/B00A6G3SAW.jpg to ZIP\n",
      "Added images/B01BIMDKV4.jpg to ZIP\n",
      "Added images/B00Y92F938.jpg to ZIP\n",
      "Added images/B00H93E8E0.jpg to ZIP\n",
      "Added images/B00L9DSFE0.jpg to ZIP\n",
      "Added images/B00C9I3OSQ.jpg to ZIP\n",
      "Added images/B00OLEBE1K.jpg to ZIP\n",
      "Added images/B00TU8XUEQ.jpg to ZIP\n",
      "Added images/B000JGDYKI.jpg to ZIP\n",
      "Added images/B001MS885I.jpg to ZIP\n",
      "Added images/B0042G4RAM.jpg to ZIP\n",
      "Added images/B0018CEP4Q.jpg to ZIP\n",
      "Added images/B0171HZR8Y.jpg to ZIP\n",
      "Added images/B005DN2O30.jpg to ZIP\n",
      "Added images/B0135IGN1S.jpg to ZIP\n",
      "Added images/B01DNXZZVY.jpg to ZIP\n",
      "Added images/B01BEW6MMC.jpg to ZIP\n",
      "Added images/B005AQFBSA.jpg to ZIP\n",
      "Added images/B00MLWTVRI.jpg to ZIP\n",
      "Added images/B01568TXC6.jpg to ZIP\n",
      "Added images/B004U46AS8.jpg to ZIP\n",
      "Added images/B00EHA7MU0.jpg to ZIP\n",
      "Added images/B0011MPO1G.jpg to ZIP\n",
      "Added images/B007L5369E.jpg to ZIP\n",
      "Added images/B003BEDUPO.jpg to ZIP\n",
      "Added images/B009YK9RRE.jpg to ZIP\n",
      "Added images/B000HS1SMY.jpg to ZIP\n",
      "Added images/B00CVT66CE.jpg to ZIP\n",
      "Added images/B005EE2S3O.jpg to ZIP\n",
      "Added images/B000Z8FJW6.jpg to ZIP\n",
      "Added images/B005MI9FV0.jpg to ZIP\n",
      "Added images/B00P3AS5C2.jpg to ZIP\n",
      "Added images/B00WRKBFK0.jpg to ZIP\n",
      "Added images/B019X3USOW.jpg to ZIP\n",
      "Added images/B01C80A29S.jpg to ZIP\n",
      "Added images/B00YGY06KK.jpg to ZIP\n",
      "Added images/B01ER08N6Q.jpg to ZIP\n",
      "Added images/B0002XSWR8.jpg to ZIP\n",
      "Added images/B00KA3SPZ4.jpg to ZIP\n",
      "Added images/B000O51JMY.jpg to ZIP\n",
      "Added images/B00QNF6S7U.jpg to ZIP\n",
      "Added images/B001L9CORG.jpg to ZIP\n",
      "Added images/B00J9A9QYS.jpg to ZIP\n",
      "Added images/B01ATL7JY4.jpg to ZIP\n",
      "Added images/B00T6SNBZ8.jpg to ZIP\n",
      "Added images/B0043P4TVY.jpg to ZIP\n",
      "Added images/B0014Y07BI.jpg to ZIP\n",
      "Added images/B00RLD67UQ.jpg to ZIP\n",
      "Added images/B01EFRMK2E.jpg to ZIP\n",
      "Added images/B00P27CWOI.jpg to ZIP\n",
      "Added images/B0094KRHWQ.jpg to ZIP\n",
      "Added images/B000ZKAZ7I.jpg to ZIP\n",
      "Added images/B001KU6E1S.jpg to ZIP\n",
      "Added images/B010S5Q0A0.jpg to ZIP\n",
      "Added images/B0146BMDZI.jpg to ZIP\n",
      "Added images/B0043RTQN8.jpg to ZIP\n",
      "Added images/B00LFGV58O.jpg to ZIP\n",
      "Added images/B00YDM9SLI.jpg to ZIP\n",
      "Added images/B001A6C3QW.jpg to ZIP\n",
      "Added images/B019DXU9IC.jpg to ZIP\n",
      "Added images/B0181ENPRG.jpg to ZIP\n",
      "Added images/B01ELH0P7A.jpg to ZIP\n",
      "Added images/B0000865II.jpg to ZIP\n",
      "Added images/B000UU715W.jpg to ZIP\n",
      "Added images/B01334297G.jpg to ZIP\n",
      "Added images/B00CALRE92.jpg to ZIP\n",
      "Added images/B00DFU4800.jpg to ZIP\n",
      "Added images/B00NOTFQ9E.jpg to ZIP\n",
      "Added images/B00JLB9KY6.jpg to ZIP\n",
      "Added images/B000HHU8F8.jpg to ZIP\n",
      "Added images/B000Q8SCPQ.jpg to ZIP\n",
      "Added images/B00150B1VQ.jpg to ZIP\n",
      "Added images/B0014CP440.jpg to ZIP\n",
      "Added images/B00B9TYASO.jpg to ZIP\n",
      "Added images/B00ITIZNTS.jpg to ZIP\n",
      "Added images/B006J4H356.jpg to ZIP\n",
      "Added images/B00FXW6PGS.jpg to ZIP\n",
      "Added images/B007VB95C0.jpg to ZIP\n",
      "Added images/B011Y4JMMW.jpg to ZIP\n",
      "Added images/B0154LB1PW.jpg to ZIP\n",
      "Added images/B00B6EDFSS.jpg to ZIP\n",
      "Added images/B0116JQX6S.jpg to ZIP\n",
      "Added images/B000XEEQ5I.jpg to ZIP\n",
      "Added images/B001S3TXFQ.jpg to ZIP\n",
      "Added images/B019MRSK30.jpg to ZIP\n",
      "Added images/B00LEBF4OG.jpg to ZIP\n",
      "Added images/B00MV9AXX2.jpg to ZIP\n",
      "Added images/B00AFCKM1A.jpg to ZIP\n",
      "Added images/B013330KKA.jpg to ZIP\n",
      "Added images/B00129IV5E.jpg to ZIP\n",
      "Added images/B01EM5JAIG.jpg to ZIP\n",
      "Added images/B01BA73MKQ.jpg to ZIP\n",
      "Added images/B001534ZZW.jpg to ZIP\n",
      "Added images/B0029LIBZ4.jpg to ZIP\n",
      "Added images/B003STE4AC.jpg to ZIP\n",
      "Added images/B006D0TNGS.jpg to ZIP\n",
      "Added images/B018A4UHIC.jpg to ZIP\n",
      "Added images/B006ZH7PYQ.jpg to ZIP\n",
      "Added images/B011QUAK7U.jpg to ZIP\n",
      "Added images/B0026KGTQG.jpg to ZIP\n",
      "Added images/B01F4T3922.jpg to ZIP\n",
      "Added images/B00MWOL3C6.jpg to ZIP\n",
      "Added images/B013TCNXEK.jpg to ZIP\n",
      "Added images/B00IX9EMX6.jpg to ZIP\n",
      "Added images/B007C4GJHK.jpg to ZIP\n",
      "Added images/B00JYDW76Y.jpg to ZIP\n",
      "Added images/B01FWC5Y5G.jpg to ZIP\n",
      "Added images/B001HN5KL8.jpg to ZIP\n",
      "Added images/B00375LTG4.jpg to ZIP\n",
      "Added images/B01HFS52D4.jpg to ZIP\n",
      "Added images/B01A6M0WO0.jpg to ZIP\n",
      "Added images/B01ATQG864.jpg to ZIP\n",
      "Added images/B00I45S442.jpg to ZIP\n",
      "Added images/B00MH46D8U.jpg to ZIP\n",
      "Added images/B009996B6U.jpg to ZIP\n",
      "Added images/B00OZ4MHXU.jpg to ZIP\n",
      "Added images/B0195YZBUU.jpg to ZIP\n",
      "Added images/B00MFUULOS.jpg to ZIP\n",
      "Added images/B0014E3LVG.jpg to ZIP\n",
      "Added images/B018M3DKM6.jpg to ZIP\n",
      "Added images/B01ET52RKM.jpg to ZIP\n",
      "Added images/B00T2BCXVC.jpg to ZIP\n",
      "Added images/B000JR73J0.jpg to ZIP\n",
      "Added images/B00914D9RW.jpg to ZIP\n",
      "Added images/B00WGEDNF2.jpg to ZIP\n",
      "Added images/B00WA303Z2.jpg to ZIP\n",
      "Added images/B00LEBF0LS.jpg to ZIP\n",
      "Added images/B00KYCHVDS.jpg to ZIP\n",
      "Added images/B01EKQK92S.jpg to ZIP\n",
      "Added images/B000HE6I3W.jpg to ZIP\n",
      "Added images/B0027GKNE8.jpg to ZIP\n",
      "Added images/B00H5I8F1G.jpg to ZIP\n",
      "Added images/B005KIQU06.jpg to ZIP\n",
      "Added images/B00SYAMFB0.jpg to ZIP\n",
      "Added images/B0155FNNFS.jpg to ZIP\n",
      "Added images/B00AYX6L0Q.jpg to ZIP\n",
      "Added images/B00EVPMFUS.jpg to ZIP\n",
      "Added images/B00KA3UU48.jpg to ZIP\n",
      "Added images/B00LD84VY4.jpg to ZIP\n",
      "Added images/B017M9TIGS.jpg to ZIP\n",
      "Added images/B004YHSUIY.jpg to ZIP\n",
      "Added images/B00WTLBJAS.jpg to ZIP\n",
      "Added images/B00C45HAVQ.jpg to ZIP\n",
      "Added images/B00AF0AFP0.jpg to ZIP\n",
      "Added images/B00KYERNF2.jpg to ZIP\n",
      "Added images/B00DBLI4CG.jpg to ZIP\n",
      "Added images/B00FMTKB12.jpg to ZIP\n",
      "Added images/B01A4C4E3C.jpg to ZIP\n",
      "Added images/B013ST2V74.jpg to ZIP\n",
      "Added images/B00MGAU2O6.jpg to ZIP\n",
      "Added images/B00WY98HD2.jpg to ZIP\n",
      "Added images/B0002TOZ2S.jpg to ZIP\n",
      "Added images/B0017YR6CS.jpg to ZIP\n",
      "Added images/B000OAZLSC.jpg to ZIP\n",
      "Added images/B00F9S8G0E.jpg to ZIP\n",
      "Added images/B00Q02RJJ2.jpg to ZIP\n",
      "Added images/B0096LOLV8.jpg to ZIP\n",
      "Added images/B000WEP46E.jpg to ZIP\n",
      "Added images/B002SC5QBQ.jpg to ZIP\n",
      "Added images/B00UL6RECU.jpg to ZIP\n",
      "Added images/B00245YNA2.jpg to ZIP\n",
      "Added images/B005NIUV7Q.jpg to ZIP\n",
      "Added images/B00PWL7LOK.jpg to ZIP\n",
      "Added images/B01CDD9LPG.jpg to ZIP\n",
      "Added images/B00EOIEUS2.jpg to ZIP\n",
      "Added images/B00LVE2WF0.jpg to ZIP\n",
      "Added images/B00EIRPHGS.jpg to ZIP\n",
      "Added images/B001BZ2K2Y.jpg to ZIP\n",
      "Added images/B005EE4GCA.jpg to ZIP\n",
      "Added images/B019DXU7M0.jpg to ZIP\n",
      "Added images/B0018AHPPO.jpg to ZIP\n",
      "Added images/B01FYQAL8K.jpg to ZIP\n",
      "Added images/B000GAYQKO.jpg to ZIP\n",
      "Added images/B00JVUJAVA.jpg to ZIP\n",
      "Added images/B001DO7EQ0.jpg to ZIP\n",
      "Added images/B001NODU36.jpg to ZIP\n",
      "Added images/B005GVM4XO.jpg to ZIP\n",
      "Added images/B01E5SEYRC.jpg to ZIP\n",
      "Added images/B00D1KGFH8.jpg to ZIP\n",
      "Added images/B00OM3NEEU.jpg to ZIP\n",
      "Added images/B00NVEYFV2.jpg to ZIP\n",
      "Added images/B005HJQYAE.jpg to ZIP\n",
      "Added images/B0195A4VYG.jpg to ZIP\n",
      "Added images/B017JFU18O.jpg to ZIP\n",
      "Added images/B00YV727Q8.jpg to ZIP\n",
      "Added images/B00S5VKGN2.jpg to ZIP\n",
      "Added images/B011NI0UP2.jpg to ZIP\n",
      "Added images/B000J02GVW.jpg to ZIP\n",
      "Added images/B01CZYWJ48.jpg to ZIP\n",
      "Added images/B00M93LS2K.jpg to ZIP\n",
      "Added images/B0073LE8WU.jpg to ZIP\n",
      "Added images/B006SFRJ7S.jpg to ZIP\n",
      "Added images/B00YGY06I2.jpg to ZIP\n",
      "Added images/B00R681LXO.jpg to ZIP\n",
      "Added images/B00DNNW734.jpg to ZIP\n",
      "Added images/B0041VOTW4.jpg to ZIP\n",
      "Added images/B00453GOKI.jpg to ZIP\n",
      "Added images/B00UUBIEMK.jpg to ZIP\n",
      "Added images/B006QLG83A.jpg to ZIP\n",
      "Added images/B00GG5W4SO.jpg to ZIP\n",
      "Added images/B01AKZ4VXG.jpg to ZIP\n",
      "Added images/B000YMBVV6.jpg to ZIP\n",
      "Added images/B01AMACT06.jpg to ZIP\n",
      "Added images/B00008IQ74.jpg to ZIP\n",
      "Added images/B0009G6BN0.jpg to ZIP\n",
      "Added images/B00IWJHEVE.jpg to ZIP\n",
      "Added images/B01CH0ZE74.jpg to ZIP\n",
      "Added images/B00KPU1CDY.jpg to ZIP\n",
      "Added images/B007NNCGHM.jpg to ZIP\n",
      "Added images/B00YV69J92.jpg to ZIP\n",
      "Added images/B00VYK2ULW.jpg to ZIP\n",
      "Added images/B00WU1K0PW.jpg to ZIP\n",
      "Added images/B00LFGOOF0.jpg to ZIP\n",
      "Added images/B006DN9SCO.jpg to ZIP\n",
      "Added images/B00125LFHY.jpg to ZIP\n",
      "Added images/B00FZZPNVQ.jpg to ZIP\n",
      "Added images/B000FBKS9M.jpg to ZIP\n",
      "Added images/B0018AIGZC.jpg to ZIP\n",
      "Added images/B000HBYOGI.jpg to ZIP\n",
      "Added images/B0013VSC3M.jpg to ZIP\n",
      "Added images/B00UKUR558.jpg to ZIP\n",
      "Added images/B01EXOGH2I.jpg to ZIP\n",
      "Added images/B00FL7HSE8.jpg to ZIP\n",
      "Added images/B001AFHDO0.jpg to ZIP\n",
      "Added images/B003PPENJQ.jpg to ZIP\n",
      "Added images/B001411OLI.jpg to ZIP\n",
      "Added images/B0042Z1GWU.jpg to ZIP\n",
      "Added images/B00J9A9RQA.jpg to ZIP\n",
      "Added images/B009H6NPBE.jpg to ZIP\n",
      "Added images/B00J9A9R1K.jpg to ZIP\n",
      "Added images/B004P1GQ2G.jpg to ZIP\n",
      "Added images/B00A7Y4KC8.jpg to ZIP\n",
      "Added images/B00A6G4950.jpg to ZIP\n",
      "Added images/B00AT8E8FG.jpg to ZIP\n",
      "Added images/B01H3STDBS.jpg to ZIP\n",
      "Added images/B017P7MPY4.jpg to ZIP\n",
      "Added images/B004J3BLM0.jpg to ZIP\n",
      "Added images/B00MO85P3S.jpg to ZIP\n",
      "Added images/B00VJOT0CK.jpg to ZIP\n",
      "Added images/B01A6LLML8.jpg to ZIP\n",
      "Added images/B000783NUY.jpg to ZIP\n",
      "Added images/B004APRJH8.jpg to ZIP\n",
      "Added images/B01E5B3BCI.jpg to ZIP\n",
      "Added images/B00S4HBMT4.jpg to ZIP\n",
      "Added images/B01AC9JN1U.jpg to ZIP\n",
      "Added images/B000BRHESS.jpg to ZIP\n",
      "Added images/B00QFKV54Y.jpg to ZIP\n",
      "Added images/B009Z5U9Z2.jpg to ZIP\n",
      "Added images/B001CE11DI.jpg to ZIP\n",
      "Added images/B0116JPVI4.jpg to ZIP\n",
      "Added images/B010EG490Q.jpg to ZIP\n",
      "Added images/B00EZMZW34.jpg to ZIP\n",
      "Added images/B00WVRSRSM.jpg to ZIP\n",
      "Added images/B002N73N02.jpg to ZIP\n",
      "Added images/B00YIGNDH4.jpg to ZIP\n",
      "Added images/B00W3TGF1O.jpg to ZIP\n",
      "Added images/B01F5KWCJG.jpg to ZIP\n",
      "Added images/B019F5ENLC.jpg to ZIP\n",
      "Added images/B0050UX3T0.jpg to ZIP\n",
      "Added images/B00BKQT5RC.jpg to ZIP\n",
      "Added images/B011QUA2GO.jpg to ZIP\n",
      "Added images/B005GV4JJQ.jpg to ZIP\n",
      "Added images/B003VDTG4O.jpg to ZIP\n",
      "Added images/B01FUVMUVK.jpg to ZIP\n",
      "Added images/B006ZU2M5K.jpg to ZIP\n",
      "Added images/B00SSYV11C.jpg to ZIP\n",
      "Added images/B008D17R7M.jpg to ZIP\n",
      "Added images/B002YMUSEU.jpg to ZIP\n",
      "Added images/B003AM7LZ2.jpg to ZIP\n",
      "Added images/B0084C4XU4.jpg to ZIP\n",
      "Added images/B01H1VHLNO.jpg to ZIP\n",
      "Added images/B003DZ6IWS.jpg to ZIP\n",
      "Added images/B000OWGHQK.jpg to ZIP\n",
      "Added images/B000R96V3O.jpg to ZIP\n",
      "Added images/B00ECV5CLA.jpg to ZIP\n",
      "Added images/B016YKHX86.jpg to ZIP\n",
      "Added images/B006IUCZ4U.jpg to ZIP\n",
      "Added images/B00NMFCS96.jpg to ZIP\n",
      "Added images/B0108210NU.jpg to ZIP\n",
      "Added images/B0161ZC50A.jpg to ZIP\n",
      "Added images/B01CU9AMOC.jpg to ZIP\n",
      "Added images/B00J21VEQW.jpg to ZIP\n",
      "Added images/B0046KTLZA.jpg to ZIP\n",
      "Added images/B01F6YLHKG.jpg to ZIP\n",
      "Added images/B00YV6JFLO.jpg to ZIP\n",
      "Added images/B00LD852JW.jpg to ZIP\n",
      "Added images/B00FZZPKNM.jpg to ZIP\n",
      "Added images/B00IF3PA9A.jpg to ZIP\n",
      "Added images/B00UL74O4K.jpg to ZIP\n",
      "Added images/B01568TIC6.jpg to ZIP\n",
      "Added images/B00BKQT9HS.jpg to ZIP\n",
      "Added images/B0008G3BV6.jpg to ZIP\n",
      "Added images/B01AYZP5G4.jpg to ZIP\n",
      "Added images/B0043RTPJS.jpg to ZIP\n",
      "Added images/B0018DK0XU.jpg to ZIP\n",
      "Added images/B00AR2B8MU.jpg to ZIP\n",
      "Added images/B00FRVB808.jpg to ZIP\n",
      "Added images/B00R13KEY6.jpg to ZIP\n",
      "Added images/B013IXCEJU.jpg to ZIP\n",
      "Added images/B00UU42PJ0.jpg to ZIP\n",
      "Added images/B00A7UBO6M.jpg to ZIP\n",
      "Added images/B00178ZK86.jpg to ZIP\n",
      "Added images/B0016G250K.jpg to ZIP\n",
      "Added images/B015QKV95I.jpg to ZIP\n",
      "Added images/B01BVO7GV4.jpg to ZIP\n",
      "Added images/B000OVD4KI.jpg to ZIP\n",
      "Added images/B0094KFN9U.jpg to ZIP\n",
      "Added images/B0046Y6D8E.jpg to ZIP\n",
      "Added images/B017MOW1RG.jpg to ZIP\n",
      "Added images/B001KU6MC4.jpg to ZIP\n",
      "Added images/B00AWMC35G.jpg to ZIP\n",
      "Added images/B000P555MS.jpg to ZIP\n",
      "Added images/B013D9LIN2.jpg to ZIP\n",
      "Added images/B0013FB1C2.jpg to ZIP\n",
      "Added images/B00GMDKOWS.jpg to ZIP\n",
      "Added images/B005V3D1LG.jpg to ZIP\n",
      "Added images/B0014X6VO6.jpg to ZIP\n",
      "Added images/B000N8RYWG.jpg to ZIP\n",
      "Added images/B00WA3A3KC.jpg to ZIP\n",
      "Added images/B005V0KJ1O.jpg to ZIP\n",
      "Added images/B00HF64HWY.jpg to ZIP\n",
      "Added images/B00245BYEU.jpg to ZIP\n",
      "Added images/B006YG78LI.jpg to ZIP\n",
      "Added images/B00KYF4ZRA.jpg to ZIP\n",
      "Added images/B006OOHUH2.jpg to ZIP\n",
      "Added images/B00SUOIHL2.jpg to ZIP\n",
      "Added images/B016PRLXPC.jpg to ZIP\n",
      "Added images/B008DB6GS8.jpg to ZIP\n",
      "Added images/B005HJBEGI.jpg to ZIP\n",
      "Added images/B00CX6BGI4.jpg to ZIP\n",
      "Added images/B019EGV1XA.jpg to ZIP\n",
      "Added images/B00HJ1PY0E.jpg to ZIP\n",
      "Added images/B0002LTJN6.jpg to ZIP\n",
      "Added images/B01H4X802K.jpg to ZIP\n",
      "Added images/B001CHF2S0.jpg to ZIP\n",
      "Added images/B004UD8IRA.jpg to ZIP\n",
      "Added images/B00HEUO35M.jpg to ZIP\n",
      "Added images/B018ES21MO.jpg to ZIP\n",
      "Added images/B00EYPUJXA.jpg to ZIP\n",
      "Added images/B001GXRAVW.jpg to ZIP\n",
      "Added images/B014PK8VLU.jpg to ZIP\n",
      "Added images/B000NXSD4O.jpg to ZIP\n",
      "Added images/B00TKEQWJK.jpg to ZIP\n",
      "Added images/B01GS6SWKE.jpg to ZIP\n",
      "Added images/B00M1E9ESW.jpg to ZIP\n",
      "Added images/B000YKBUFA.jpg to ZIP\n",
      "Added images/B006SFRKP4.jpg to ZIP\n",
      "Added images/B000JQPFPA.jpg to ZIP\n",
      "Added images/B005JBUW0I.jpg to ZIP\n",
      "Added images/B00B9FJYD4.jpg to ZIP\n",
      "Added images/B00160VRTQ.jpg to ZIP\n",
      "Added images/B00CRDLZHK.jpg to ZIP\n",
      "Added images/B002E9HO36.jpg to ZIP\n",
      "Added images/B0043P2WX6.jpg to ZIP\n",
      "Added images/B00PVUBMZ6.jpg to ZIP\n",
      "Added images/B00LDSUUKI.jpg to ZIP\n",
      "Added images/B000FKFUSM.jpg to ZIP\n",
      "Added images/B00OJDDS4E.jpg to ZIP\n",
      "Added images/B00BQJVQXO.jpg to ZIP\n",
      "Added images/B009UJ9BIY.jpg to ZIP\n",
      "Added images/B01C45XY38.jpg to ZIP\n",
      "Added images/B004KQ2JFE.jpg to ZIP\n",
      "Added images/B00SYCB1KO.jpg to ZIP\n",
      "Added images/B00DMZOVM8.jpg to ZIP\n",
      "Added images/B00KW9DLC8.jpg to ZIP\n",
      "Added images/B00NVEOHOC.jpg to ZIP\n",
      "Added images/B01FRLDVI4.jpg to ZIP\n",
      "Added images/B006IMRXRC.jpg to ZIP\n",
      "Added images/B000W4BF0I.jpg to ZIP\n",
      "Added images/B019DXU1XK.jpg to ZIP\n",
      "Added images/B004H46MCU.jpg to ZIP\n",
      "Added images/B00XZD5KOA.jpg to ZIP\n",
      "Added images/B00MV79BQE.jpg to ZIP\n",
      "Added images/B000O9W8H0.jpg to ZIP\n",
      "Added images/B001HN5IW4.jpg to ZIP\n",
      "Added images/B00D4KDCBC.jpg to ZIP\n",
      "Added images/B0178I1K3M.jpg to ZIP\n",
      "Added images/B000TVT2JU.jpg to ZIP\n",
      "Added images/B005OPNBHA.jpg to ZIP\n",
      "Added images/B006ZU1VO8.jpg to ZIP\n",
      "Added images/B008MC0SEG.jpg to ZIP\n",
      "Added images/B000NCVPQS.jpg to ZIP\n",
      "Added images/B0012SJ924.jpg to ZIP\n",
      "Added images/B002MYRLZO.jpg to ZIP\n",
      "Added images/B00FSK8AN6.jpg to ZIP\n",
      "Added images/B000Q7U4BM.jpg to ZIP\n",
      "Added images/B0012XNESE.jpg to ZIP\n",
      "Added images/B0016WU6BE.jpg to ZIP\n",
      "Added images/B001D4S3MO.jpg to ZIP\n",
      "Added images/B00B9TVM08.jpg to ZIP\n",
      "Added images/B004YZMVQI.jpg to ZIP\n",
      "Added images/B01BTGX8NY.jpg to ZIP\n",
      "Added images/B001AWXNPQ.jpg to ZIP\n",
      "Added images/B00G8QIRE6.jpg to ZIP\n",
      "Added images/B00CRDM696.jpg to ZIP\n",
      "Added images/B01C45XV3G.jpg to ZIP\n",
      "Added images/B004LUIJB2.jpg to ZIP\n",
      "Added images/B01F5KWRWS.jpg to ZIP\n",
      "Added images/B01ADUDQL6.jpg to ZIP\n",
      "Added images/B00TS7LLV8.jpg to ZIP\n",
      "Added images/B00700SNKC.jpg to ZIP\n",
      "Added images/B00531UQDC.jpg to ZIP\n",
      "Added images/B0015G3KJ6.jpg to ZIP\n",
      "Added images/B00OV8DW9S.jpg to ZIP\n",
      "Added images/B00I95M556.jpg to ZIP\n",
      "Added images/B003XNTE7G.jpg to ZIP\n",
      "Added images/B00K1AIQDW.jpg to ZIP\n",
      "Added images/B001R14OGW.jpg to ZIP\n",
      "Added images/B01DOOSMY4.jpg to ZIP\n",
      "Added images/B003647ZJG.jpg to ZIP\n",
      "Added images/B0016QB3Q2.jpg to ZIP\n",
      "Added images/B00A7G6ULA.jpg to ZIP\n",
      "Added images/B00W87X8AM.jpg to ZIP\n",
      "Added images/B00YGGV5B2.jpg to ZIP\n",
      "Added images/B00UI91214.jpg to ZIP\n",
      "Added images/B016JYISUY.jpg to ZIP\n",
      "Added images/B00UGSPH4A.jpg to ZIP\n",
      "Added images/B00DYPUE8G.jpg to ZIP\n",
      "Added images/B00AFCLNHC.jpg to ZIP\n",
      "Added images/B002M0MIJ2.jpg to ZIP\n",
      "Added images/B0043RTR7S.jpg to ZIP\n",
      "Added images/B002XK0IL6.jpg to ZIP\n",
      "Added images/B01H0U6OPW.jpg to ZIP\n",
      "Added images/B00457NE8E.jpg to ZIP\n",
      "Added images/B006SRT0FU.jpg to ZIP\n",
      "Added images/B0083GCA2E.jpg to ZIP\n",
      "Added images/B001N0MSI8.jpg to ZIP\n",
      "Added images/B01A6L8VQW.jpg to ZIP\n",
      "Added images/B005JBUVZO.jpg to ZIP\n",
      "Added images/B0015DRY2I.jpg to ZIP\n",
      "Added images/B00LBI6SOW.jpg to ZIP\n",
      "Added images/B00X146OCA.jpg to ZIP\n",
      "Added images/B001F6Z1UC.jpg to ZIP\n",
      "Added images/B003KZKAJS.jpg to ZIP\n",
      "Added images/B00F9S85CS.jpg to ZIP\n",
      "Added images/B00WX9M56S.jpg to ZIP\n",
      "Added images/B00186R32I.jpg to ZIP\n",
      "Added images/B01BKV5DB8.jpg to ZIP\n",
      "Added images/B017Y782KQ.jpg to ZIP\n",
      "Added images/B00J9A9R8S.jpg to ZIP\n",
      "Added images/B00C3ELI7A.jpg to ZIP\n",
      "Added images/B00M1DGH7Y.jpg to ZIP\n",
      "Added images/B0012QE2ZU.jpg to ZIP\n",
      "Added images/B002N8LU9C.jpg to ZIP\n",
      "Added images/B01568RIF0.jpg to ZIP\n",
      "Added images/B006IMSBYQ.jpg to ZIP\n",
      "Added images/B005GVDA00.jpg to ZIP\n",
      "Added images/B009G6YB4K.jpg to ZIP\n",
      "Added images/B000R96NUU.jpg to ZIP\n",
      "Added images/B006Y9BVRM.jpg to ZIP\n",
      "Added images/B0012V19JC.jpg to ZIP\n",
      "Added images/B00CJFJUR8.jpg to ZIP\n",
      "Added images/B0056MN10I.jpg to ZIP\n",
      "Added images/B008CL1Z4Y.jpg to ZIP\n",
      "Added images/B0015AOLKO.jpg to ZIP\n",
      "Added images/B00WPMN986.jpg to ZIP\n",
      "Added images/B004S9OZTQ.jpg to ZIP\n",
      "Added images/B00D1IB3WW.jpg to ZIP\n",
      "Added images/B01HBXYO4G.jpg to ZIP\n",
      "Added images/B00X1469J8.jpg to ZIP\n",
      "Added images/B002HJ2J0G.jpg to ZIP\n",
      "Added images/B01BYCUQ2Y.jpg to ZIP\n",
      "Added images/B005BD9NPY.jpg to ZIP\n",
      "Added images/B000YMBW0Q.jpg to ZIP\n",
      "Added images/B000ARTQGC.jpg to ZIP\n",
      "Added images/B003EELTNG.jpg to ZIP\n",
      "Added images/B00PNHCRTW.jpg to ZIP\n",
      "Added images/B0140DZ2WI.jpg to ZIP\n",
      "Added images/B00176AP06.jpg to ZIP\n",
      "Added images/B00Z6D16CC.jpg to ZIP\n",
      "Added images/B01FUKV4VS.jpg to ZIP\n",
      "Added images/B01BIMDHPI.jpg to ZIP\n",
      "Added images/B01H43I11U.jpg to ZIP\n",
      "Added images/B00P3APBLU.jpg to ZIP\n",
      "Added images/B00PU9R0YA.jpg to ZIP\n",
      "Added images/B001EQKMY8.jpg to ZIP\n",
      "Added images/B010T6Y5EQ.jpg to ZIP\n",
      "Added images/B000J67Z58.jpg to ZIP\n",
      "Added images/B0012OJR2A.jpg to ZIP\n",
      "Added images/B002QRBM2A.jpg to ZIP\n",
      "Added images/B00C3EPQLO.jpg to ZIP\n",
      "Added images/B00JN58AJ6.jpg to ZIP\n",
      "Added images/B01F6L3C5M.jpg to ZIP\n",
      "Added images/B002OEC3NC.jpg to ZIP\n",
      "Added images/B00AAMOKJ0.jpg to ZIP\n",
      "Added images/B013VADVBU.jpg to ZIP\n",
      "Added images/B00GXPC5TU.jpg to ZIP\n",
      "Added images/B016LJ4N92.jpg to ZIP\n",
      "Added images/B01E6C0SNG.jpg to ZIP\n",
      "Added images/B000KF68VU.jpg to ZIP\n",
      "Added images/B000NO88CA.jpg to ZIP\n",
      "Added images/B000HDMRC4.jpg to ZIP\n",
      "Added images/B00QNCO99M.jpg to ZIP\n",
      "Added images/B005V3CJO6.jpg to ZIP\n",
      "Added images/B01AXOSJSW.jpg to ZIP\n",
      "Added images/B0064RL38G.jpg to ZIP\n",
      "Added images/B01FXPPKAG.jpg to ZIP\n",
      "Added images/B00KBXJ3Q8.jpg to ZIP\n",
      "Added images/B0018K6PGY.jpg to ZIP\n",
      "Added images/B00436Y01M.jpg to ZIP\n",
      "Added images/B00C4K3X5S.jpg to ZIP\n",
      "Added images/B0055BMPBQ.jpg to ZIP\n",
      "Added images/B001AX8U3A.jpg to ZIP\n",
      "Added images/B00QNVFJN8.jpg to ZIP\n",
      "Added images/B007L53U6S.jpg to ZIP\n",
      "Added images/B00FYS7YL6.jpg to ZIP\n",
      "Added images/B019188S7I.jpg to ZIP\n",
      "Added images/B004KPG0OG.jpg to ZIP\n",
      "Added images/B00V3NBZXY.jpg to ZIP\n",
      "Added images/B005FYNVY8.jpg to ZIP\n",
      "Added images/B00BKQT73Y.jpg to ZIP\n",
      "Added images/B00FX0I8OW.jpg to ZIP\n",
      "Added images/B0162FTA66.jpg to ZIP\n",
      "Added images/B00QTP4R2C.jpg to ZIP\n",
      "Added images/B00PW884U8.jpg to ZIP\n",
      "Added images/B00XOQZRIW.jpg to ZIP\n",
      "Added images/B00FMTK7RU.jpg to ZIP\n",
      "Added images/B000NW8692.jpg to ZIP\n",
      "Added images/B00CIPHYE0.jpg to ZIP\n",
      "Added images/B00R4XOSXQ.jpg to ZIP\n",
      "Added images/B00HRDFHBK.jpg to ZIP\n",
      "Added images/B001KZI56U.jpg to ZIP\n",
      "Added images/B00S5VKIVC.jpg to ZIP\n",
      "Added images/B00VRGD382.jpg to ZIP\n",
      "Added images/B01B6UU7UU.jpg to ZIP\n",
      "Added images/B000GB0FYE.jpg to ZIP\n",
      "Added images/B00E9ON0Y6.jpg to ZIP\n",
      "Added images/B001AXVHPS.jpg to ZIP\n",
      "Added images/B000WUQG88.jpg to ZIP\n",
      "Added images/B005BT7PTE.jpg to ZIP\n",
      "Added images/B00FYS8AEQ.jpg to ZIP\n",
      "Added images/B01BOTH71K.jpg to ZIP\n",
      "Added images/B00JHVTOOQ.jpg to ZIP\n",
      "Added images/B00VMS32YA.jpg to ZIP\n",
      "Added images/B000G1X1CM.jpg to ZIP\n",
      "Added images/B001ELKMCA.jpg to ZIP\n",
      "Added images/B00AWMBZR8.jpg to ZIP\n",
      "Added images/B010T6IC5O.jpg to ZIP\n",
      "Added images/B01FP1MKNS.jpg to ZIP\n",
      "Added images/B004LL7SSG.jpg to ZIP\n",
      "Added images/B00H4ID8XM.jpg to ZIP\n",
      "Added images/B000MFIFLO.jpg to ZIP\n",
      "Added images/B00WYD7Q3K.jpg to ZIP\n",
      "Added images/B0113VP33I.jpg to ZIP\n",
      "Added images/B00EDX8HQO.jpg to ZIP\n",
      "Added images/B005FW61SS.jpg to ZIP\n",
      "Added images/B01H3EE9R0.jpg to ZIP\n",
      "Added images/B011NI1CM2.jpg to ZIP\n",
      "Added images/B000BMJ43G.jpg to ZIP\n",
      "Added images/B01BYCW51O.jpg to ZIP\n",
      "Added images/B00IASKBQC.jpg to ZIP\n",
      "Added images/B0016OBOUO.jpg to ZIP\n",
      "Added images/B00DYPU41S.jpg to ZIP\n",
      "Added images/B0013E2B1I.jpg to ZIP\n",
      "Added images/B00149PZVK.jpg to ZIP\n",
      "Added images/B00AUBWJ58.jpg to ZIP\n",
      "Added images/B00CBU55TI.jpg to ZIP\n",
      "Added images/B0091DQQCS.jpg to ZIP\n",
      "Added images/B00V5CHPDW.jpg to ZIP\n",
      "Added images/B00M1DIB4Q.jpg to ZIP\n",
      "Added images/B00WPMN3S2.jpg to ZIP\n",
      "Added images/B01FXPPX8A.jpg to ZIP\n",
      "Added images/B0040QNOR6.jpg to ZIP\n",
      "Added images/B00KW2JWFK.jpg to ZIP\n",
      "Added images/B000YQS1EM.jpg to ZIP\n",
      "Added images/B019DXU8WE.jpg to ZIP\n",
      "Added images/B00K6ZSLDM.jpg to ZIP\n",
      "Added images/B0042Z35XI.jpg to ZIP\n",
      "Added images/B004Q8E48G.jpg to ZIP\n",
      "Added images/B001BNEA60.jpg to ZIP\n",
      "Added images/B000V0A4K0.jpg to ZIP\n",
      "Added images/B013I8TA6A.jpg to ZIP\n",
      "Added images/B00C24X5PE.jpg to ZIP\n",
      "Added images/B004UOPK8E.jpg to ZIP\n",
      "Added images/B005LCPBWE.jpg to ZIP\n",
      "Added images/B00J5H86LY.jpg to ZIP\n",
      "Added images/B00I5CRCJ2.jpg to ZIP\n",
      "Added images/B0184HN868.jpg to ZIP\n",
      "Added images/B006ZUSFBK.jpg to ZIP\n",
      "Added images/B00NUDVBTS.jpg to ZIP\n",
      "Added images/B00MRI97ES.jpg to ZIP\n",
      "Added images/B00BQBM3VG.jpg to ZIP\n",
      "Added images/B0013KGG7M.jpg to ZIP\n",
      "Added images/B00FMTK7O8.jpg to ZIP\n",
      "Added images/B00RYMIIDI.jpg to ZIP\n",
      "Added images/B01BLOG4TO.jpg to ZIP\n",
      "Added images/B01CUN6490.jpg to ZIP\n",
      "Added images/B013ST2S36.jpg to ZIP\n",
      "Added images/B00RECQ90W.jpg to ZIP\n",
      "Added images/B01BCCT8HK.jpg to ZIP\n",
      "Added images/B00155AYIM.jpg to ZIP\n",
      "Added images/B010GG7BQS.jpg to ZIP\n",
      "Added images/B007I35T2Q.jpg to ZIP\n",
      "Added images/B00UX68L7U.jpg to ZIP\n",
      "Added images/B00ZKFOGMI.jpg to ZIP\n",
      "Added images/B0016BJ9X6.jpg to ZIP\n",
      "Added images/B006T9XDL4.jpg to ZIP\n",
      "Added images/B019DXU360.jpg to ZIP\n",
      "Added images/B00KW9EPGO.jpg to ZIP\n",
      "Added images/B00EQTR6O4.jpg to ZIP\n",
      "Added images/B007I35J8U.jpg to ZIP\n",
      "Added images/B00170BJWA.jpg to ZIP\n",
      "Added images/B0016OKA5E.jpg to ZIP\n",
      "Added images/B000A2KCAQ.jpg to ZIP\n",
      "Added images/B004HVBNWM.jpg to ZIP\n",
      "Added images/B00IPE281M.jpg to ZIP\n",
      "Added images/B00IPE2GSM.jpg to ZIP\n",
      "Added images/B002XI52B4.jpg to ZIP\n",
      "Added images/B005DO8OJ2.jpg to ZIP\n",
      "Added images/B000NGKLC8.jpg to ZIP\n",
      "Added images/B00ZSIT546.jpg to ZIP\n",
      "Added images/B00RYAJIOS.jpg to ZIP\n",
      "Added images/B00C24Z8GS.jpg to ZIP\n",
      "Added images/B009DH3G9I.jpg to ZIP\n",
      "Added images/B00K3W823C.jpg to ZIP\n",
      "Added images/B00JFIRUC4.jpg to ZIP\n",
      "Added images/B001BZ8DAM.jpg to ZIP\n",
      "Added images/B019DXU01S.jpg to ZIP\n",
      "Added images/B01B5ZVWSM.jpg to ZIP\n",
      "Added images/B00WXFMUKI.jpg to ZIP\n",
      "Added images/B00NGTH76W.jpg to ZIP\n",
      "Added images/B003YNJUHY.jpg to ZIP\n",
      "Added images/B00OQ0CKJ4.jpg to ZIP\n",
      "Added images/B0073D51NI.jpg to ZIP\n",
      "Added images/B01CU79NM6.jpg to ZIP\n",
      "Added images/B00PTYXFL8.jpg to ZIP\n",
      "Added images/B01FOJT3J0.jpg to ZIP\n",
      "Added images/B003ZYDO8I.jpg to ZIP\n",
      "Added images/B0026IBNUA.jpg to ZIP\n",
      "Added images/B00DMWH8LM.jpg to ZIP\n",
      "Added images/B00LEBJH4Y.jpg to ZIP\n",
      "Added images/B00LE3458K.jpg to ZIP\n",
      "Added images/B001O06DWE.jpg to ZIP\n",
      "Added images/B01D1QG9IQ.jpg to ZIP\n",
      "Added images/B00LBI6XT2.jpg to ZIP\n",
      "Added images/B00NQ8X16I.jpg to ZIP\n",
      "Added images/B0011MTN5E.jpg to ZIP\n",
      "Added images/B0016Q5C0K.jpg to ZIP\n",
      "Added images/B01AH00VAG.jpg to ZIP\n",
      "Added images/B00ED7OM2I.jpg to ZIP\n",
      "Added images/B01CDJ1MPW.jpg to ZIP\n",
      "Added images/B00ZHWO480.jpg to ZIP\n",
      "Added images/B0085J8W62.jpg to ZIP\n",
      "Added images/B00NVEOB16.jpg to ZIP\n",
      "Added images/B00RELPREM.jpg to ZIP\n",
      "Added images/B00U2825DK.jpg to ZIP\n",
      "Added images/B00Z6PE5DW.jpg to ZIP\n",
      "Added images/B01COIFKLO.jpg to ZIP\n",
      "Added images/B00FXW6LTE.jpg to ZIP\n",
      "Added images/B00JRD6LTU.jpg to ZIP\n",
      "Added images/B00K8Q33OG.jpg to ZIP\n",
      "Added images/B008LZLNRK.jpg to ZIP\n",
      "Added images/B009YPOCLA.jpg to ZIP\n",
      "Added images/B000Q92KJO.jpg to ZIP\n",
      "Added images/B001LRNGZC.jpg to ZIP\n",
      "Added images/B00BCQP2V8.jpg to ZIP\n",
      "Added images/B00SY5W6DC.jpg to ZIP\n",
      "Added images/B00HVKA4LM.jpg to ZIP\n",
      "Added images/B01BWKINLO.jpg to ZIP\n",
      "Added images/B01C45XJ0Q.jpg to ZIP\n",
      "Added images/B00329VHJ4.jpg to ZIP\n",
      "Added images/B004SAU5L2.jpg to ZIP\n",
      "Added images/B0052OP9BE.jpg to ZIP\n",
      "Added images/B00NLVSW4Q.jpg to ZIP\n",
      "Added images/B00LU2SGI0.jpg to ZIP\n",
      "Added images/B00505DPE8.jpg to ZIP\n",
      "Added images/B00CB9A8VY.jpg to ZIP\n",
      "Added images/B00W2TGN6W.jpg to ZIP\n",
      "Added images/B016PXQBIA.jpg to ZIP\n",
      "Added images/B01BI8ROSS.jpg to ZIP\n",
      "Added images/B007UZ0YI6.jpg to ZIP\n",
      "Added images/B00V3HQZBC.jpg to ZIP\n",
      "Added images/B00SQ3IU9G.jpg to ZIP\n",
      "Added images/B00M1DQ27O.jpg to ZIP\n",
      "Added images/B017KXWUR0.jpg to ZIP\n",
      "Added images/B009G75L8E.jpg to ZIP\n",
      "Added images/B00AWMBYBK.jpg to ZIP\n",
      "Added images/B0013CUCKC.jpg to ZIP\n",
      "Added images/B00EALX38G.jpg to ZIP\n",
      "Added images/B017MEDZ3K.jpg to ZIP\n",
      "Added images/B004MDKRLI.jpg to ZIP\n",
      "Added images/B001LNWCLK.jpg to ZIP\n",
      "Added images/B01E9EWSAM.jpg to ZIP\n",
      "Added images/B004J2FILG.jpg to ZIP\n",
      "Added images/B0094KS1HG.jpg to ZIP\n",
      "Added images/B00RHOEPLC.jpg to ZIP\n",
      "Added images/B000Q8SD8W.jpg to ZIP\n",
      "Added images/B002M0VVQ8.jpg to ZIP\n",
      "Added images/B00B9FKK96.jpg to ZIP\n",
      "Added images/B00V5CIQ7Q.jpg to ZIP\n",
      "Added images/B00MQCPTQK.jpg to ZIP\n",
      "Added images/B000F1CV9M.jpg to ZIP\n",
      "Added images/B0013JMR9E.jpg to ZIP\n",
      "Added images/B000Q8QBO0.jpg to ZIP\n",
      "Added images/B0058ZXJ7I.jpg to ZIP\n",
      "Added images/B0009MH2Q4.jpg to ZIP\n",
      "Added images/B005VG51SO.jpg to ZIP\n",
      "Added images/B00XKSIOI4.jpg to ZIP\n",
      "Added images/B006UYKK14.jpg to ZIP\n",
      "Added images/B0184CNM7S.jpg to ZIP\n",
      "Added images/B000UH7C2W.jpg to ZIP\n",
      "Added images/B001D92HKS.jpg to ZIP\n",
      "Added images/B00DCBPSZ6.jpg to ZIP\n",
      "Added images/B00OJDBQVQ.jpg to ZIP\n",
      "Added images/B00KXBM1P8.jpg to ZIP\n",
      "Added images/B00EUYBTPM.jpg to ZIP\n",
      "Added images/B00CRDK2TW.jpg to ZIP\n",
      "Added images/B00U7N8ZIE.jpg to ZIP\n",
      "Added images/B0199YD4IW.jpg to ZIP\n",
      "Added images/B00UG29KZS.jpg to ZIP\n",
      "Added images/B00G8QLDJC.jpg to ZIP\n",
      "Added images/B005A9VZ5A.jpg to ZIP\n",
      "Added images/B010NX6NYU.jpg to ZIP\n",
      "Added images/B0014TU45C.jpg to ZIP\n",
      "Added images/B005GQH3K8.jpg to ZIP\n",
      "Added images/B007I34PFI.jpg to ZIP\n",
      "Added images/B00506S8KS.jpg to ZIP\n",
      "Added images/B00KA3VW7W.jpg to ZIP\n",
      "Added images/B01BYCW2C6.jpg to ZIP\n",
      "Added images/B00JGHNPHS.jpg to ZIP\n",
      "Added images/B018IIMG6Q.jpg to ZIP\n",
      "Added images/B00YV3F47G.jpg to ZIP\n",
      "Added images/B00843L9VY.jpg to ZIP\n",
      "Added images/B008VPR9DW.jpg to ZIP\n",
      "Added images/B017VCP4N2.jpg to ZIP\n",
      "Added images/B00XKY9SEW.jpg to ZIP\n",
      "Added images/B00VNMMS1S.jpg to ZIP\n",
      "Added images/B000FLTJ1A.jpg to ZIP\n",
      "Added images/B00ATUL49C.jpg to ZIP\n",
      "Added images/B00EFXPG98.jpg to ZIP\n",
      "Added images/B019P32DZW.jpg to ZIP\n",
      "Added images/B00YV6FRRA.jpg to ZIP\n",
      "Added images/B006Y47CV6.jpg to ZIP\n",
      "Added images/B01CDJ1ND8.jpg to ZIP\n",
      "Added images/B00AFCK7CO.jpg to ZIP\n",
      "Added images/B00JUM08LK.jpg to ZIP\n",
      "Added images/B004SAU620.jpg to ZIP\n",
      "Added images/B00CGRLF7W.jpg to ZIP\n",
      "Added images/B004RISUBC.jpg to ZIP\n",
      "Added images/B008ODJVMI.jpg to ZIP\n",
      "Added images/B00MHDXER4.jpg to ZIP\n",
      "Added images/B01H1MJN1Q.jpg to ZIP\n",
      "Added images/B002HMCORG.jpg to ZIP\n",
      "Added images/B001N0MSMY.jpg to ZIP\n",
      "Added images/B0014C4LS0.jpg to ZIP\n",
      "Added images/B00W588IRC.jpg to ZIP\n",
      "Added images/B014YVMQM0.jpg to ZIP\n",
      "Added images/B009S234TU.jpg to ZIP\n",
      "Added images/B017M8JHV0.jpg to ZIP\n",
      "Added images/B00GTNQ7Y0.jpg to ZIP\n",
      "Added images/B00CUX4M40.jpg to ZIP\n",
      "Added images/B007YYZESI.jpg to ZIP\n",
      "Added images/B001EJNIP0.jpg to ZIP\n",
      "Added images/B00CIQL3A0.jpg to ZIP\n",
      "Added images/B015BKC22W.jpg to ZIP\n",
      "Added images/B0154U5Y9M.jpg to ZIP\n",
      "Added images/B007FHWBZI.jpg to ZIP\n",
      "Added images/B00LEXOUI0.jpg to ZIP\n",
      "Added images/B000W94ZU0.jpg to ZIP\n",
      "Added images/B001KZITNO.jpg to ZIP\n",
      "Added images/B01ATTG5Q4.jpg to ZIP\n",
      "Added images/B01B5JMT9Y.jpg to ZIP\n",
      "Added images/B001CWT0OM.jpg to ZIP\n",
      "Added images/B00MQCQN92.jpg to ZIP\n",
      "Added images/B00486TXNW.jpg to ZIP\n",
      "Added images/B006ZVRJ4S.jpg to ZIP\n",
      "Added images/B00LHJZF6C.jpg to ZIP\n",
      "Added images/B0012OTFYK.jpg to ZIP\n",
      "Added images/B0018AD3H8.jpg to ZIP\n",
      "Added images/B001NTV4BG.jpg to ZIP\n",
      "Added images/B01H2BLFEE.jpg to ZIP\n",
      "Added images/B01AH01XDA.jpg to ZIP\n",
      "Added images/B01B8L15VM.jpg to ZIP\n",
      "Added images/B01H4211P4.jpg to ZIP\n",
      "Added images/B0042U44R4.jpg to ZIP\n",
      "Added images/B00J5QIYZS.jpg to ZIP\n",
      "Added images/B00DYPUHA6.jpg to ZIP\n",
      "Added images/B000EDKSEG.jpg to ZIP\n",
      "Added images/B01B58NKAC.jpg to ZIP\n",
      "Added images/B000A38C1G.jpg to ZIP\n",
      "Added images/B000PIQ16E.jpg to ZIP\n",
      "Added images/B00EOIEM2Q.jpg to ZIP\n",
      "Added images/B009YP2SUM.jpg to ZIP\n",
      "Added images/B01G1AI9NC.jpg to ZIP\n",
      "Added images/B00FEDR2EU.jpg to ZIP\n",
      "Added images/B00936Y6XY.jpg to ZIP\n",
      "Added images/B00ANOMKGU.jpg to ZIP\n",
      "Added images/B0018KLSOS.jpg to ZIP\n",
      "Added images/B00DIT7RC4.jpg to ZIP\n",
      "Added images/B003HK2EXG.jpg to ZIP\n",
      "Added images/B017AF0VNS.jpg to ZIP\n",
      "Added images/B005Q853GW.jpg to ZIP\n",
      "Added images/B001BCWEFK.jpg to ZIP\n",
      "Added images/B00JAHFACM.jpg to ZIP\n",
      "Added images/B00JE509AI.jpg to ZIP\n",
      "Added images/B001QFYDKQ.jpg to ZIP\n",
      "Added images/B00BBAC0R4.jpg to ZIP\n",
      "Added images/B00D1HABT4.jpg to ZIP\n",
      "Added images/B004FUM3TM.jpg to ZIP\n",
      "Added images/B00JEB950M.jpg to ZIP\n",
      "Added images/B00WT72AGO.jpg to ZIP\n",
      "Added images/B008KLLSLQ.jpg to ZIP\n",
      "Added images/B00A7ZX2CG.jpg to ZIP\n",
      "Added images/B00BC05JNU.jpg to ZIP\n",
      "Added images/B003P1IYUY.jpg to ZIP\n",
      "Added images/B0013JBLLO.jpg to ZIP\n",
      "Added images/B001866JQO.jpg to ZIP\n",
      "Added images/B00TGVBVFW.jpg to ZIP\n",
      "Added images/B00J4IZYGY.jpg to ZIP\n",
      "Added images/B00KF3C2IK.jpg to ZIP\n",
      "Added images/B01BEW6OES.jpg to ZIP\n",
      "Added images/B00XHLODGQ.jpg to ZIP\n",
      "Added images/B00575ZBQQ.jpg to ZIP\n",
      "Added images/B01EW8PLRC.jpg to ZIP\n",
      "Added images/B01E5SEURG.jpg to ZIP\n",
      "Added images/B0018L821Y.jpg to ZIP\n",
      "Added images/B00E38ZOM4.jpg to ZIP\n",
      "Added images/B01082KA40.jpg to ZIP\n",
      "Added images/B010LUD5D2.jpg to ZIP\n",
      "Added images/B0012S9DL6.jpg to ZIP\n",
      "Added images/B003Y390YW.jpg to ZIP\n",
      "Added images/B00A7Y5KNQ.jpg to ZIP\n",
      "Added images/B000W96UTY.jpg to ZIP\n",
      "Added images/B00L797LS2.jpg to ZIP\n",
      "Added images/B01EL4B4QY.jpg to ZIP\n",
      "Added images/B00962GV4C.jpg to ZIP\n",
      "Added images/B00S7VHWY6.jpg to ZIP\n",
      "Added images/B001FA15QC.jpg to ZIP\n",
      "Added images/B003VXMHI6.jpg to ZIP\n",
      "Added images/B00KLC81O4.jpg to ZIP\n",
      "Added images/B00ACX0E7Y.jpg to ZIP\n",
      "Added images/B00U0O6X2U.jpg to ZIP\n",
      "Added images/B01117PRGW.jpg to ZIP\n",
      "Added images/B00JZSJAP4.jpg to ZIP\n",
      "Added images/B01F5KWCIM.jpg to ZIP\n",
      "Added images/B00VIVG4NW.jpg to ZIP\n",
      "Added images/B00SWHFB8O.jpg to ZIP\n",
      "Added images/B000H43LSM.jpg to ZIP\n",
      "Added images/B01FY9XN00.jpg to ZIP\n",
      "Added images/B008FX8NQM.jpg to ZIP\n",
      "Added images/B000FNK8ZO.jpg to ZIP\n",
      "Added images/B01H43C09Y.jpg to ZIP\n",
      "Added images/B01AWLCU0Y.jpg to ZIP\n",
      "Added images/B00X146EMU.jpg to ZIP\n",
      "Added images/B0194M3PHO.jpg to ZIP\n",
      "Added images/B00X146DJE.jpg to ZIP\n",
      "Added images/B007XK5QS6.jpg to ZIP\n",
      "Added images/B00JQOUJA2.jpg to ZIP\n",
      "Added images/B018TV36RU.jpg to ZIP\n",
      "Added images/B008VPQMNK.jpg to ZIP\n",
      "Added images/B00282NVHC.jpg to ZIP\n",
      "Added images/B017LRFO96.jpg to ZIP\n",
      "Added images/B00129EOZ0.jpg to ZIP\n",
      "Added images/B000FGYV90.jpg to ZIP\n",
      "Added images/B00EOIBCAG.jpg to ZIP\n",
      "Added images/B01B5ZJVDA.jpg to ZIP\n",
      "Added images/B00K3YKSQO.jpg to ZIP\n",
      "Added images/B016JYJ33A.jpg to ZIP\n",
      "Added images/B01A4C42G6.jpg to ZIP\n",
      "Added images/B00VHTUFXK.jpg to ZIP\n",
      "Added images/B000PIIKGI.jpg to ZIP\n",
      "Added images/B009YEM2Z4.jpg to ZIP\n",
      "Added images/B00LEYTNDG.jpg to ZIP\n",
      "Added images/B008OHRKWC.jpg to ZIP\n",
      "Added images/B00LBUI1TA.jpg to ZIP\n",
      "Added images/B005HJQGCA.jpg to ZIP\n",
      "Added images/B01CR9HNNI.jpg to ZIP\n",
      "Added images/B003YUEA3G.jpg to ZIP\n",
      "Added images/B00CHGP6UY.jpg to ZIP\n",
      "Added images/B000ZQCSCC.jpg to ZIP\n",
      "Added images/B000OEZPG6.jpg to ZIP\n",
      "Added images/B00725FCMC.jpg to ZIP\n",
      "Added images/B00VFMEP26.jpg to ZIP\n",
      "Added images/B0181ENR5G.jpg to ZIP\n",
      "Added images/B01AKMKT62.jpg to ZIP\n",
      "Added images/B00BSO9RLU.jpg to ZIP\n",
      "Added images/B00BKQT4JG.jpg to ZIP\n",
      "Added images/B00FBXWU72.jpg to ZIP\n",
      "Added images/B00187Y2TY.jpg to ZIP\n",
      "Added images/B00EQT5S9E.jpg to ZIP\n",
      "Added images/B000RKZQE8.jpg to ZIP\n",
      "Added images/B00LTPROR2.jpg to ZIP\n",
      "Added images/B00PUHNYQU.jpg to ZIP\n",
      "Added images/B01A0GF35K.jpg to ZIP\n",
      "Added images/B01EVRY1DO.jpg to ZIP\n",
      "Added images/B01H3EBIFG.jpg to ZIP\n",
      "Added images/B009VZR4RW.jpg to ZIP\n",
      "Added images/B0019SOVA2.jpg to ZIP\n",
      "Added images/B008CFTQYQ.jpg to ZIP\n",
      "Added images/B00U9Y4JX6.jpg to ZIP\n",
      "Added images/B0000891KM.jpg to ZIP\n",
      "Added images/B01CDQL2WI.jpg to ZIP\n",
      "Added images/B00GBU7ZME.jpg to ZIP\n",
      "Added images/B0043RTPYS.jpg to ZIP\n",
      "Added images/B00GG5VRO6.jpg to ZIP\n",
      "Added images/B002SW2W90.jpg to ZIP\n",
      "Added images/B00WQG6XXY.jpg to ZIP\n",
      "Added images/B00FMTJPBY.jpg to ZIP\n",
      "Added images/B000REYQQI.jpg to ZIP\n",
      "Added images/B00CLX090U.jpg to ZIP\n",
      "Added images/B00J9A9R74.jpg to ZIP\n",
      "Added images/B01CQ07Y2S.jpg to ZIP\n",
      "Added images/B00LO1T8T8.jpg to ZIP\n",
      "Added images/B01C4ME9G2.jpg to ZIP\n",
      "Added images/B01F1U6TB2.jpg to ZIP\n",
      "Added images/B00EO7HSAA.jpg to ZIP\n",
      "Added images/B0018CAB0I.jpg to ZIP\n",
      "Added images/B0041G0MB6.jpg to ZIP\n",
      "Added images/B00FMWAN2Q.jpg to ZIP\n",
      "Added images/B005IM9TW0.jpg to ZIP\n",
      "Added images/B00A9SFJHC.jpg to ZIP\n",
      "Added images/B00KA3UNAO.jpg to ZIP\n",
      "Added images/B007PSE3QM.jpg to ZIP\n",
      "Added images/B0018SX49W.jpg to ZIP\n",
      "Added images/B01BLVG49M.jpg to ZIP\n",
      "Added images/B01A4C4SSI.jpg to ZIP\n",
      "Added images/B00ZHJDJ5W.jpg to ZIP\n",
      "Added images/B007KW9B7E.jpg to ZIP\n",
      "Added images/B00CHSEMTI.jpg to ZIP\n",
      "Added images/B00144GD20.jpg to ZIP\n",
      "Added images/B00P4C26H4.jpg to ZIP\n",
      "Added images/B00JZ1RLLG.jpg to ZIP\n",
      "Added images/B00UZL2WBE.jpg to ZIP\n",
      "Added images/B00WRGPHY4.jpg to ZIP\n",
      "Added images/B015A82JWS.jpg to ZIP\n",
      "Added images/B0044WW9JU.jpg to ZIP\n",
      "Added images/B00M28VHGO.jpg to ZIP\n",
      "Added images/B008K98ITI.jpg to ZIP\n",
      "Added images/B0056EJGTQ.jpg to ZIP\n",
      "Added images/B015K88E68.jpg to ZIP\n",
      "Added images/B00BQHE7XC.jpg to ZIP\n",
      "Added images/B00V3MYAZA.jpg to ZIP\n",
      "Added images/B0027R47SK.jpg to ZIP\n",
      "Added images/B01E9VJ51A.jpg to ZIP\n",
      "Added images/B00KCXFCP8.jpg to ZIP\n",
      "Added images/B001BXMKJO.jpg to ZIP\n",
      "Added images/B0073LED8Y.jpg to ZIP\n",
      "Added images/B008H8Y7BU.jpg to ZIP\n",
      "Added images/B000PR5WZG.jpg to ZIP\n",
      "Added images/B010820LY4.jpg to ZIP\n",
      "Added images/B00178X6KA.jpg to ZIP\n",
      "Added images/B0050UWZ7Q.jpg to ZIP\n",
      "Added images/B0181ENSQ4.jpg to ZIP\n",
      "Added images/B00YP5JVQA.jpg to ZIP\n",
      "Added images/B00I45ZEHM.jpg to ZIP\n",
      "Added images/B00248JHN2.jpg to ZIP\n",
      "Added images/B0019SFY3K.jpg to ZIP\n",
      "Added images/B00GDUQM5I.jpg to ZIP\n",
      "Added images/B00PJ9MDJS.jpg to ZIP\n",
      "Added images/B00W2XBT76.jpg to ZIP\n",
      "Added images/B00PNHRWQA.jpg to ZIP\n",
      "Added images/B00C9XL99M.jpg to ZIP\n",
      "Added images/B00LITFWUU.jpg to ZIP\n",
      "Added images/B005N6YOGC.jpg to ZIP\n",
      "Added images/B01CZYWGCS.jpg to ZIP\n",
      "Added images/B00OLEB8SE.jpg to ZIP\n",
      "Added images/B001A3FY1Q.jpg to ZIP\n",
      "Added images/B00R7B2JJU.jpg to ZIP\n",
      "Added images/B005ARNWDU.jpg to ZIP\n",
      "Added images/B00DMWQKWA.jpg to ZIP\n",
      "Added images/B00SXN6KNM.jpg to ZIP\n",
      "Added images/B001BZ8DVG.jpg to ZIP\n",
      "Added images/B012AUV7DG.jpg to ZIP\n",
      "Added images/B0154UTHI6.jpg to ZIP\n",
      "Added images/B011840J34.jpg to ZIP\n",
      "Added images/B0083GDGO0.jpg to ZIP\n",
      "Added images/B00D5YT3H4.jpg to ZIP\n",
      "Added images/B0044WHPNA.jpg to ZIP\n",
      "Added images/B013IXD58Y.jpg to ZIP\n",
      "Added images/B00F0WE2D4.jpg to ZIP\n",
      "Added images/B010X19EYI.jpg to ZIP\n",
      "Added images/B0143UH09Q.jpg to ZIP\n",
      "Added images/B006Z8VVYU.jpg to ZIP\n",
      "Added images/B000WHSAJE.jpg to ZIP\n",
      "Added images/B008ODJUMY.jpg to ZIP\n",
      "Added images/B00NM9FZ2E.jpg to ZIP\n",
      "Added images/B00RW5EMXM.jpg to ZIP\n",
      "Added images/B0014ELOL0.jpg to ZIP\n",
      "Added images/B01DYG6QTU.jpg to ZIP\n",
      "Added images/B00UFJS0I0.jpg to ZIP\n",
      "Added images/B00G8QFXJ8.jpg to ZIP\n",
      "Added images/B00H409PD2.jpg to ZIP\n",
      "Added images/B00X146AK6.jpg to ZIP\n",
      "Added images/B0011YS4E8.jpg to ZIP\n",
      "Added images/B00UT6RU0S.jpg to ZIP\n",
      "Added images/B00VMS331W.jpg to ZIP\n",
      "Added images/B0182GL76E.jpg to ZIP\n",
      "Added images/B0002M8QHK.jpg to ZIP\n",
      "Added images/B0018P51RI.jpg to ZIP\n",
      "Added images/B01EIFUJM6.jpg to ZIP\n",
      "Added images/B00GG5VZIY.jpg to ZIP\n",
      "Added images/B00PNDJEL0.jpg to ZIP\n",
      "Added images/B0012VISU0.jpg to ZIP\n",
      "Added images/B00AFCMKW4.jpg to ZIP\n",
      "Added images/B00LEXOR6U.jpg to ZIP\n",
      "Added images/B00WW64TXE.jpg to ZIP\n",
      "Added images/B0043RTQ4W.jpg to ZIP\n",
      "Added images/B00J29JUHY.jpg to ZIP\n",
      "Added images/B00C4ALR88.jpg to ZIP\n",
      "Added images/B001G8XOA8.jpg to ZIP\n",
      "Added images/B000YT225S.jpg to ZIP\n",
      "Added images/B00F9S8NO8.jpg to ZIP\n",
      "Added images/B00BEZTNQ2.jpg to ZIP\n",
      "Added images/B00PLU7TWG.jpg to ZIP\n",
      "Added images/B0019TP79A.jpg to ZIP\n",
      "Added images/B01BJ4RR1K.jpg to ZIP\n",
      "Added images/B00X146A0Q.jpg to ZIP\n",
      "Added images/B0019FLT28.jpg to ZIP\n",
      "Added images/B00HIO1ETC.jpg to ZIP\n",
      "Added images/B00M94V5UO.jpg to ZIP\n",
      "Added images/B00A9K6NIO.jpg to ZIP\n",
      "Added images/B001ECS4JM.jpg to ZIP\n",
      "Added images/B00I3U5C3Y.jpg to ZIP\n",
      "Added images/B00C9XLBSQ.jpg to ZIP\n",
      "Added images/B0058YT0YA.jpg to ZIP\n",
      "Added images/B00807HOF4.jpg to ZIP\n",
      "Added images/B00YV599MK.jpg to ZIP\n",
      "Added images/B00Z6DNMDI.jpg to ZIP\n",
      "Added images/B01716Y3JO.jpg to ZIP\n",
      "Added images/B003JFJC9I.jpg to ZIP\n",
      "Added images/B01H2BL3F0.jpg to ZIP\n",
      "Added images/B0019GF2XO.jpg to ZIP\n",
      "Added images/B00S59VFGG.jpg to ZIP\n",
      "Added images/B004H51IDM.jpg to ZIP\n",
      "Added images/B00J9TBBTC.jpg to ZIP\n",
      "Added images/B01AOV3V1E.jpg to ZIP\n",
      "Added images/B0045DFTB8.jpg to ZIP\n",
      "Added images/B00VJYS4HC.jpg to ZIP\n",
      "Added images/B00GR1T8UE.jpg to ZIP\n",
      "Added images/B00FMTJ3XO.jpg to ZIP\n",
      "Added images/B008GPVCSA.jpg to ZIP\n",
      "Added images/B016JYIVJ2.jpg to ZIP\n",
      "Added images/B000EQS1JW.jpg to ZIP\n",
      "Added images/B00EDSQ8GA.jpg to ZIP\n",
      "Added images/B003N6G6G0.jpg to ZIP\n",
      "Added images/B001F51OFO.jpg to ZIP\n",
      "Added images/B01FXPSCMO.jpg to ZIP\n",
      "Added images/B00P3AS66C.jpg to ZIP\n",
      "Added images/B0018OFQS8.jpg to ZIP\n",
      "Added images/B014GDY2IW.jpg to ZIP\n",
      "Added images/B0002TOZ1Y.jpg to ZIP\n",
      "Added images/B004URIM5Y.jpg to ZIP\n",
      "Added images/B00MRRG9FY.jpg to ZIP\n",
      "Added images/B006ZH7SY8.jpg to ZIP\n",
      "Added images/B00KFN2H94.jpg to ZIP\n",
      "Added images/B005IMCYSQ.jpg to ZIP\n",
      "Added images/B00YV36NRQ.jpg to ZIP\n",
      "Added images/B00A9RWW1O.jpg to ZIP\n",
      "Added images/B0186FMCGK.jpg to ZIP\n",
      "Added images/B001JQLO5E.jpg to ZIP\n",
      "Added images/B001BEIRFE.jpg to ZIP\n",
      "Added images/B005EE57LY.jpg to ZIP\n",
      "Added images/B01BVO8M2Q.jpg to ZIP\n",
      "Added images/B00Z5XTW60.jpg to ZIP\n",
      "Added images/B018UI5DHI.jpg to ZIP\n",
      "Added images/B00LITFFVQ.jpg to ZIP\n",
      "Added images/B002AVU8I6.jpg to ZIP\n",
      "Added images/B00G56QKCA.jpg to ZIP\n",
      "Added images/B00YCQ54AO.jpg to ZIP\n",
      "Added images/B000MXIMKK.jpg to ZIP\n",
      "Added images/B000V5QMII.jpg to ZIP\n",
      "Added images/B006IMRXYU.jpg to ZIP\n",
      "Added images/B0012IRYTE.jpg to ZIP\n",
      "Added images/B00CDLDY8Y.jpg to ZIP\n",
      "Added images/B013QLZGUI.jpg to ZIP\n",
      "Added images/B001AE6FI6.jpg to ZIP\n",
      "Added images/B00BG0EI6A.jpg to ZIP\n",
      "Added images/B00YEFST0K.jpg to ZIP\n",
      "Added images/B00J4UEFXU.jpg to ZIP\n",
      "Added images/B00HEPDGNW.jpg to ZIP\n",
      "Added images/B01FYRGB7E.jpg to ZIP\n",
      "Added images/B01EHY1RA6.jpg to ZIP\n",
      "Added images/B01BIMDOPG.jpg to ZIP\n",
      "Added images/B00LO1SKQU.jpg to ZIP\n",
      "Added images/B00CRDJ01S.jpg to ZIP\n",
      "Added images/B000PQHWPK.jpg to ZIP\n",
      "Added images/B00KW997A8.jpg to ZIP\n",
      "Added images/B00W76ZYM4.jpg to ZIP\n",
      "Added images/B00UUGJJ0G.jpg to ZIP\n",
      "Added images/B010T6VSL4.jpg to ZIP\n",
      "Added images/B01E4K5826.jpg to ZIP\n",
      "Added images/B00BKQT6B2.jpg to ZIP\n",
      "Added images/B005OPNFOE.jpg to ZIP\n",
      "Added images/B003YBUCVE.jpg to ZIP\n",
      "Added images/B00IRW8C26.jpg to ZIP\n",
      "Added images/B01BG03B9Y.jpg to ZIP\n",
      "Added images/B00W02BJSS.jpg to ZIP\n",
      "Added images/B0042Z35ZQ.jpg to ZIP\n",
      "Added images/B00188TZ0Y.jpg to ZIP\n",
      "Added images/B007I34JO0.jpg to ZIP\n",
      "Added images/B00FRGK6EW.jpg to ZIP\n",
      "Added images/B009ABL4IM.jpg to ZIP\n",
      "Added images/B000O310WU.jpg to ZIP\n",
      "Added images/B01ADUDKVW.jpg to ZIP\n",
      "Added images/B00E0L2FAI.jpg to ZIP\n",
      "Added images/B005D6TD2M.jpg to ZIP\n",
      "Added images/B00C3EQ9HO.jpg to ZIP\n",
      "Added images/B00XKXZVF8.jpg to ZIP\n",
      "Added images/B00FYS7YQQ.jpg to ZIP\n",
      "Added images/B01DYDI09W.jpg to ZIP\n",
      "Added images/B019DXU8VU.jpg to ZIP\n",
      "Added images/B01FJ8NVCQ.jpg to ZIP\n",
      "Added images/B017BQ2904.jpg to ZIP\n",
      "Added images/B00CRDK2JM.jpg to ZIP\n",
      "Added images/B008EMLBFO.jpg to ZIP\n",
      "Added images/B001D0DPM6.jpg to ZIP\n",
      "Added images/B000NID312.jpg to ZIP\n",
      "Added images/B001MV7996.jpg to ZIP\n",
      "Added images/B00AWMC1OO.jpg to ZIP\n",
      "Added images/B00YGY18Q6.jpg to ZIP\n",
      "Added images/B0087CWI6W.jpg to ZIP\n",
      "Added images/B00LIT2M3U.jpg to ZIP\n",
      "Added images/B00E1JP3CG.jpg to ZIP\n",
      "Added images/B00MW7UJTQ.jpg to ZIP\n",
      "Added images/B000BO9X3A.jpg to ZIP\n",
      "Added images/B00XQ2XDRQ.jpg to ZIP\n",
      "Added images/B000A38HG6.jpg to ZIP\n",
      "Added images/B00XKY84C4.jpg to ZIP\n",
      "Added images/B002QXL2OC.jpg to ZIP\n",
      "Added images/B000YQVY4G.jpg to ZIP\n",
      "Added images/B000J15UGE.jpg to ZIP\n",
      "Added images/B01CZ3VXIW.jpg to ZIP\n",
      "Added images/B0018OHL5E.jpg to ZIP\n",
      "Added images/B018M3COBY.jpg to ZIP\n",
      "Added images/B00FMTJ6RC.jpg to ZIP\n",
      "Added images/B00IF3PAE0.jpg to ZIP\n",
      "Added images/B001AGIP6Y.jpg to ZIP\n",
      "Added images/B007U1UKUC.jpg to ZIP\n",
      "Added images/B00KSFJ81Y.jpg to ZIP\n",
      "Added images/B00TBY116S.jpg to ZIP\n",
      "Added images/B00K034PL2.jpg to ZIP\n",
      "Added images/B00MUAXYHO.jpg to ZIP\n",
      "Added images/B00UM3358Y.jpg to ZIP\n",
      "Added images/B0182GLYKI.jpg to ZIP\n",
      "Added images/B006SFRLOE.jpg to ZIP\n",
      "Added images/B018Y2KGVI.jpg to ZIP\n",
      "Added images/B004JF5J9O.jpg to ZIP\n",
      "Added images/B01EJLV6QW.jpg to ZIP\n",
      "Added images/B0152RFJAG.jpg to ZIP\n",
      "Added images/B00FXWARJE.jpg to ZIP\n",
      "Added images/B00BRZ9BY8.jpg to ZIP\n",
      "Added images/B00E68KPCU.jpg to ZIP\n",
      "Added images/B00U3XV166.jpg to ZIP\n",
      "Added images/B00Y2SIXTQ.jpg to ZIP\n",
      "Added images/B000MN6BX0.jpg to ZIP\n",
      "Added images/B0010ZA3A6.jpg to ZIP\n",
      "Added images/B00JQORHQ6.jpg to ZIP\n",
      "Added images/B0015YQW3O.jpg to ZIP\n",
      "Added images/B00GGRW8WE.jpg to ZIP\n",
      "Added images/B0012VLZD2.jpg to ZIP\n",
      "Added images/B00NVESFHM.jpg to ZIP\n",
      "Added images/B00K6PQZWG.jpg to ZIP\n",
      "Added images/B002R0E958.jpg to ZIP\n",
      "Added images/B00SWE05LK.jpg to ZIP\n",
      "Added images/B019DP8FS6.jpg to ZIP\n",
      "Added images/B0010XZTZC.jpg to ZIP\n",
      "Added images/B00TLP749U.jpg to ZIP\n",
      "Added images/B005V2TNW8.jpg to ZIP\n",
      "Added images/B00LD84OK0.jpg to ZIP\n",
      "Added images/B00U6AYQ72.jpg to ZIP\n",
      "Added images/B00GBCTX0O.jpg to ZIP\n",
      "Added images/B001GLGV7I.jpg to ZIP\n",
      "Added images/B003XUJ2EY.jpg to ZIP\n",
      "Added images/B00SEIXYD0.jpg to ZIP\n",
      "Added images/B0011RL2OY.jpg to ZIP\n",
      "Added images/B007F33LEM.jpg to ZIP\n",
      "Added images/B00K3DM6SS.jpg to ZIP\n",
      "Added images/B00S5VKSDU.jpg to ZIP\n",
      "Added images/B001B3JJDE.jpg to ZIP\n",
      "Added images/B001CN4J0G.jpg to ZIP\n",
      "Added images/B01E5B32W2.jpg to ZIP\n",
      "Added images/B006BDBLZI.jpg to ZIP\n",
      "Added images/B005Y2ITXO.jpg to ZIP\n",
      "Added images/B00XNSN00I.jpg to ZIP\n",
      "Added images/B01H3RJBKW.jpg to ZIP\n",
      "Added images/B011GONCG2.jpg to ZIP\n",
      "Added images/B01AVQVWCM.jpg to ZIP\n",
      "Added images/B00FMTKFRW.jpg to ZIP\n",
      "Added images/B00W029X22.jpg to ZIP\n",
      "Added images/B01FT5PH44.jpg to ZIP\n",
      "Added images/B00KA3UA0C.jpg to ZIP\n",
      "Added images/B0161ZC6WC.jpg to ZIP\n",
      "Added images/B019O1MLAC.jpg to ZIP\n",
      "Added images/B004CYFSIO.jpg to ZIP\n",
      "Added images/B004YUIYKU.jpg to ZIP\n",
      "Added images/B01D2V2PI8.jpg to ZIP\n",
      "Added images/B01CVBBA2W.jpg to ZIP\n",
      "Added images/B000XPU01G.jpg to ZIP\n",
      "Added images/B000GZV2CO.jpg to ZIP\n",
      "Added images/B00KYESGBC.jpg to ZIP\n",
      "Added images/B006IMRBEW.jpg to ZIP\n",
      "Added images/B01EXOGPKM.jpg to ZIP\n",
      "Added images/B00A9K6MBM.jpg to ZIP\n",
      "Added images/B00E9G6DF2.jpg to ZIP\n",
      "Added images/B00J21VC1Y.jpg to ZIP\n",
      "Added images/B00H4XEBH4.jpg to ZIP\n",
      "Added images/B01BCQNBME.jpg to ZIP\n",
      "Added images/B01EL4B1HG.jpg to ZIP\n",
      "Added images/B0119NLL4A.jpg to ZIP\n",
      "Added images/B01GV4UPTO.jpg to ZIP\n",
      "Added images/B009YSLNHS.jpg to ZIP\n",
      "Added images/B01H3EB71G.jpg to ZIP\n",
      "Added images/B00TQL8JEI.jpg to ZIP\n",
      "Added images/B001FA15EY.jpg to ZIP\n",
      "Added images/B00BIP4M4G.jpg to ZIP\n",
      "Added images/B000IQ9JQM.jpg to ZIP\n",
      "Added images/B0016OM85E.jpg to ZIP\n",
      "Added images/B00155CQH4.jpg to ZIP\n",
      "Added images/B0015UHILS.jpg to ZIP\n",
      "Added images/B00CVRZG8G.jpg to ZIP\n",
      "Added images/B00QBU3QEA.jpg to ZIP\n",
      "Added images/B004VRH7J0.jpg to ZIP\n",
      "Added images/B00KA3VZFQ.jpg to ZIP\n",
      "Added images/B01FXRINQC.jpg to ZIP\n",
      "Added images/B00JZYJBMU.jpg to ZIP\n",
      "Added images/B003O55E86.jpg to ZIP\n",
      "Added images/B001OQBV7K.jpg to ZIP\n",
      "Added images/B01H3OO2AO.jpg to ZIP\n",
      "Added images/B00DXYNH6Y.jpg to ZIP\n",
      "Added images/B010FER5RQ.jpg to ZIP\n",
      "Added images/B01932GJV4.jpg to ZIP\n",
      "Added images/B015A81J3I.jpg to ZIP\n",
      "Added images/B000V21ARO.jpg to ZIP\n",
      "Added images/B00D4KCMYU.jpg to ZIP\n",
      "Added images/B00YEFSS8S.jpg to ZIP\n",
      "Added images/B000K2OFKO.jpg to ZIP\n",
      "Added images/B00YV3YY5E.jpg to ZIP\n",
      "Added images/B005BTCCBA.jpg to ZIP\n",
      "Added images/B008EIXO76.jpg to ZIP\n",
      "Added images/B00DMWQKIY.jpg to ZIP\n",
      "Added images/B00ENRTZT8.jpg to ZIP\n",
      "Added images/B00GXFPU5G.jpg to ZIP\n",
      "Added images/B019DXU3EW.jpg to ZIP\n",
      "Added images/B0040YA4N0.jpg to ZIP\n",
      "Added images/B00426FFS0.jpg to ZIP\n",
      "Added images/B000BHIEVO.jpg to ZIP\n",
      "Added images/B019ETSD8S.jpg to ZIP\n",
      "Added images/B001ELKLNA.jpg to ZIP\n",
      "Added images/B00HXD657Y.jpg to ZIP\n",
      "Added images/B01E4K7X2E.jpg to ZIP\n",
      "Added images/B002EBF6E8.jpg to ZIP\n",
      "Added images/B00GD2LB16.jpg to ZIP\n",
      "Added images/B00FMTJT3S.jpg to ZIP\n",
      "Added images/B008LXSKEQ.jpg to ZIP\n",
      "Added images/B003TWOWNC.jpg to ZIP\n",
      "Added images/B0012ISLKA.jpg to ZIP\n",
      "Added images/B00YV444DK.jpg to ZIP\n",
      "Added images/B00PKOCZXQ.jpg to ZIP\n",
      "Added images/B01BI8QFWE.jpg to ZIP\n",
      "Added images/B00322QJEY.jpg to ZIP\n",
      "Added images/B00V6RV0Y6.jpg to ZIP\n",
      "Added images/B00T2SPJ84.jpg to ZIP\n",
      "Added images/B00C3EKNVC.jpg to ZIP\n",
      "Added images/B00PVUBFTE.jpg to ZIP\n",
      "Added images/B00491UQDM.jpg to ZIP\n",
      "Added images/B00IT3GSSI.jpg to ZIP\n",
      "Added images/B007H6GMQG.jpg to ZIP\n",
      "Added images/B00J5GDBQA.jpg to ZIP\n",
      "Added images/B00VW2P53C.jpg to ZIP\n",
      "Added images/B0056EWE5Y.jpg to ZIP\n",
      "Added images/B016JPID58.jpg to ZIP\n",
      "Added images/B0018CIXBM.jpg to ZIP\n",
      "Added images/B0147FZ4ZY.jpg to ZIP\n",
      "Added images/B001H9MYXE.jpg to ZIP\n",
      "Added images/B017OAB944.jpg to ZIP\n",
      "Added images/B0018DE8BK.jpg to ZIP\n",
      "Added images/B00NERDW92.jpg to ZIP\n",
      "Added images/B01D214N60.jpg to ZIP\n",
      "Added images/B00JYIHPUM.jpg to ZIP\n",
      "Added images/B00UXBNGP2.jpg to ZIP\n",
      "Added images/B0017GUEKC.jpg to ZIP\n",
      "Added images/B00EI58KN2.jpg to ZIP\n",
      "Added images/B00LPQVGNI.jpg to ZIP\n",
      "Added images/B001CWL5WM.jpg to ZIP\n",
      "Added images/B004DHGMEO.jpg to ZIP\n",
      "Added images/B016ISXF6S.jpg to ZIP\n",
      "Added images/B0091GQPY4.jpg to ZIP\n",
      "Added images/B000GB0FZ8.jpg to ZIP\n",
      "Added images/B01DYQFW54.jpg to ZIP\n",
      "Added images/B001G0NVJK.jpg to ZIP\n",
      "Added images/B000Z8A2D2.jpg to ZIP\n",
      "Added images/B00ZJO6GRS.jpg to ZIP\n",
      "Added images/B00TOA9RRY.jpg to ZIP\n",
      "Added images/B016LJ4TDM.jpg to ZIP\n",
      "Added images/B005DM63KQ.jpg to ZIP\n",
      "Added images/B0018CD0VK.jpg to ZIP\n",
      "Added images/B00MAMAX1M.jpg to ZIP\n",
      "Added images/B00FMTJDTI.jpg to ZIP\n",
      "Added images/B00KC47A8E.jpg to ZIP\n",
      "Added images/B0002QVH9U.jpg to ZIP\n",
      "Added images/B017HM43I8.jpg to ZIP\n",
      "Added images/B0006U695E.jpg to ZIP\n",
      "Added images/B0018B5ONI.jpg to ZIP\n",
      "Added images/B01DB01A7W.jpg to ZIP\n",
      "Added images/B00GKOMC3S.jpg to ZIP\n",
      "Added images/B00CKXTPP6.jpg to ZIP\n",
      "Added images/B00WDVXPX8.jpg to ZIP\n",
      "Added images/B000WPYYBY.jpg to ZIP\n",
      "Added images/B00UI9AU6C.jpg to ZIP\n",
      "Added images/B006Y47MKM.jpg to ZIP\n",
      "Added images/B002WVNMZ0.jpg to ZIP\n",
      "Added images/B000W8L81A.jpg to ZIP\n",
      "Added images/B016FSRBMU.jpg to ZIP\n",
      "Added images/B00G8PQ38O.jpg to ZIP\n",
      "Added images/B004B95JPC.jpg to ZIP\n",
      "Added images/B017JFWXOE.jpg to ZIP\n",
      "Added images/B00VY73N8Y.jpg to ZIP\n",
      "Added images/B00EDTLQH0.jpg to ZIP\n",
      "Added images/B00L9V2HAK.jpg to ZIP\n",
      "Added images/B0035JK260.jpg to ZIP\n",
      "Added images/B01H1VHKFS.jpg to ZIP\n",
      "Added images/B00NMFTTB6.jpg to ZIP\n",
      "Added images/B001GIP1HM.jpg to ZIP\n",
      "Added images/B000A2KE90.jpg to ZIP\n",
      "Added images/B001D4CX5C.jpg to ZIP\n",
      "Added images/B0147FZ8M8.jpg to ZIP\n",
      "Added images/B01CC9HAUO.jpg to ZIP\n",
      "Added images/B00X146IUS.jpg to ZIP\n",
      "Added images/B00FYS80UA.jpg to ZIP\n",
      "Added images/B005LC7T7E.jpg to ZIP\n",
      "Added images/B001VNBU5E.jpg to ZIP\n",
      "Added images/B007GO7DEO.jpg to ZIP\n",
      "Added images/B00G56QTTO.jpg to ZIP\n",
      "Added images/B005F2DH76.jpg to ZIP\n",
      "Added images/B00J9A9MP6.jpg to ZIP\n",
      "Added images/B00HXD62OU.jpg to ZIP\n",
      "Added images/B00F3VV2W6.jpg to ZIP\n",
      "Added images/B00QLXF1PO.jpg to ZIP\n",
      "Added images/B00XJ9KZEK.jpg to ZIP\n",
      "Added images/B0010EF87K.jpg to ZIP\n",
      "Added images/B00RL0WZOG.jpg to ZIP\n",
      "Added images/B00KOH6VK2.jpg to ZIP\n",
      "Added images/B00TGVC3KY.jpg to ZIP\n",
      "Added images/B005GPKTXM.jpg to ZIP\n",
      "Added images/B00TEZ85L8.jpg to ZIP\n",
      "Added images/B00CS4QZT6.jpg to ZIP\n",
      "Added images/B002KANRDA.jpg to ZIP\n",
      "Added images/B015JT0FW4.jpg to ZIP\n",
      "Added images/B0011RL29E.jpg to ZIP\n",
      "Added images/B000N8FASQ.jpg to ZIP\n",
      "Added images/B019EG3E30.jpg to ZIP\n",
      "Added images/B000IK01R4.jpg to ZIP\n",
      "Added images/B01CZYH02O.jpg to ZIP\n",
      "Added images/B0058YPREM.jpg to ZIP\n",
      "Added images/B00DMBW192.jpg to ZIP\n",
      "Added images/B001A9TKWY.jpg to ZIP\n",
      "Added images/B00C5KFKUS.jpg to ZIP\n",
      "Added images/B0050SBMQ8.jpg to ZIP\n",
      "Added images/B003ZYDS0M.jpg to ZIP\n",
      "Added images/B004YV5Q5A.jpg to ZIP\n",
      "Added images/B00OJDE9A6.jpg to ZIP\n",
      "Added images/B01GONBDAC.jpg to ZIP\n",
      "Added images/B00VR99KJ0.jpg to ZIP\n",
      "Added images/B001D0DPL2.jpg to ZIP\n",
      "Added images/B00ACX1LNU.jpg to ZIP\n",
      "Added images/B00VNMENOI.jpg to ZIP\n",
      "Added images/B0017GTLJ2.jpg to ZIP\n",
      "Added images/B004ZC9BR2.jpg to ZIP\n",
      "Added images/B001E5CNBO.jpg to ZIP\n",
      "Added images/B007T8O2Z0.jpg to ZIP\n",
      "Added images/B007ED8Q0C.jpg to ZIP\n",
      "Added images/B01AMON6M2.jpg to ZIP\n",
      "Added images/B000783NRW.jpg to ZIP\n",
      "Added images/B004RAWD86.jpg to ZIP\n",
      "Added images/B00MV75014.jpg to ZIP\n",
      "Added images/B00SNEQJ0U.jpg to ZIP\n",
      "Added images/B007H4P3PE.jpg to ZIP\n",
      "Added images/B0018TLW68.jpg to ZIP\n",
      "Added images/B0058ZQP88.jpg to ZIP\n",
      "Added images/B01FP0FMF2.jpg to ZIP\n",
      "Added images/B018GVW93U.jpg to ZIP\n",
      "Added images/B00U0H7010.jpg to ZIP\n",
      "Added images/B00KQ64XAQ.jpg to ZIP\n",
      "Added images/B0050UX7NC.jpg to ZIP\n",
      "Added images/B001OTYZKM.jpg to ZIP\n",
      "Added images/B0017INHGS.jpg to ZIP\n",
      "Added images/B007T7G7K4.jpg to ZIP\n",
      "Added images/B00DCDEDXW.jpg to ZIP\n",
      "Added images/B00PJIQSVS.jpg to ZIP\n",
      "Added images/B00FXW7OJA.jpg to ZIP\n",
      "Added images/B016IJ6KKU.jpg to ZIP\n",
      "Added images/B0015Z1FQW.jpg to ZIP\n",
      "Added images/B0160VVI5S.jpg to ZIP\n",
      "Added images/B018KC00QS.jpg to ZIP\n",
      "Added images/B00STWM9TQ.jpg to ZIP\n",
      "Added images/B005BKIV50.jpg to ZIP\n",
      "Added images/B002FGV3SU.jpg to ZIP\n",
      "Added images/B00BB9WDHM.jpg to ZIP\n",
      "Added images/B00U0ON6A2.jpg to ZIP\n",
      "Added images/B0171HFYDW.jpg to ZIP\n",
      "Added images/B00ZY0CA36.jpg to ZIP\n",
      "Added images/B00MUANWXK.jpg to ZIP\n",
      "Added images/B00GTNQ4KM.jpg to ZIP\n",
      "Added images/B019B4XYY4.jpg to ZIP\n",
      "Added images/B00DMWQOYY.jpg to ZIP\n",
      "Added images/B005OHR0C0.jpg to ZIP\n",
      "Added images/B001879C9Y.jpg to ZIP\n",
      "Added images/B00RKZM6A0.jpg to ZIP\n",
      "Added images/B016V56ZEC.jpg to ZIP\n",
      "Added images/B0099RDSPE.jpg to ZIP\n",
      "Added images/B00962GUEI.jpg to ZIP\n",
      "Added images/B00FMTJ6UE.jpg to ZIP\n",
      "Added images/B005DM7BM0.jpg to ZIP\n",
      "Added images/B001QFJAD6.jpg to ZIP\n",
      "Added images/B00J29JS7Q.jpg to ZIP\n",
      "Added images/B00VHTU52Q.jpg to ZIP\n",
      "Added images/B00IAOA5IK.jpg to ZIP\n",
      "Added images/B00LEBRNZY.jpg to ZIP\n",
      "Added images/B00AWMBX1Q.jpg to ZIP\n",
      "Added images/B00KW9IN44.jpg to ZIP\n",
      "Added images/B00KB8EK4S.jpg to ZIP\n",
      "Added images/B01DT2DJCQ.jpg to ZIP\n",
      "Added images/B00LEBI6F0.jpg to ZIP\n",
      "Added images/B000UO64MO.jpg to ZIP\n",
      "Added images/B000H0RLLY.jpg to ZIP\n",
      "Added images/B01CSUWPSO.jpg to ZIP\n",
      "Added images/B00LUMJQN4.jpg to ZIP\n",
      "Added images/B007I34VN4.jpg to ZIP\n",
      "Added images/B001BZ2J7K.jpg to ZIP\n",
      "Added images/B00193WG9A.jpg to ZIP\n",
      "Added images/B01D4LI7I8.jpg to ZIP\n",
      "Added images/B00C3EMWE8.jpg to ZIP\n",
      "Added images/B00VR99ILK.jpg to ZIP\n",
      "Added images/B0016MXD00.jpg to ZIP\n",
      "Added images/B00V3QSMQE.jpg to ZIP\n",
      "Added images/B0015U5K7M.jpg to ZIP\n",
      "Added images/B006SVY790.jpg to ZIP\n",
      "Added images/B01EFR2VDC.jpg to ZIP\n",
      "Added images/B01AV0MJ6Q.jpg to ZIP\n",
      "Added images/B00167S48G.jpg to ZIP\n",
      "Added images/B01AMAC9GA.jpg to ZIP\n",
      "Added images/B01DDK55QW.jpg to ZIP\n",
      "Added images/B00WTIF42A.jpg to ZIP\n",
      "Added images/B00DYPU7J2.jpg to ZIP\n",
      "Added images/B00KZI38Z6.jpg to ZIP\n",
      "Added images/B000VC4I50.jpg to ZIP\n",
      "Added images/B004I2JU02.jpg to ZIP\n",
      "Added images/B0090854QS.jpg to ZIP\n",
      "Added images/B014FD7INE.jpg to ZIP\n",
      "Added images/B0010AY7FI.jpg to ZIP\n",
      "Added images/B00ATMYYLA.jpg to ZIP\n",
      "Added images/B00V3ML4MW.jpg to ZIP\n",
      "Added images/B00PBYYYUC.jpg to ZIP\n",
      "Added images/B001I914D4.jpg to ZIP\n",
      "Added images/B00KA3SMEI.jpg to ZIP\n",
      "Added images/B01H19NE6E.jpg to ZIP\n",
      "Added images/B00TXQDUYK.jpg to ZIP\n",
      "Added images/B0155BGWSW.jpg to ZIP\n",
      "Added images/B00ATULZBO.jpg to ZIP\n",
      "Added images/B00YGY0ZLA.jpg to ZIP\n",
      "Added images/B00BROAA0S.jpg to ZIP\n",
      "Added images/B00DUYUCQU.jpg to ZIP\n",
      "Added images/B00PR9XVZA.jpg to ZIP\n",
      "Added images/B005ADPMGE.jpg to ZIP\n",
      "Added images/B007TJFGWM.jpg to ZIP\n",
      "Added images/B00FRIJMVI.jpg to ZIP\n",
      "Added images/B00NMFI4AS.jpg to ZIP\n",
      "Added images/B004NB48JQ.jpg to ZIP\n",
      "Added images/B014FKQHJS.jpg to ZIP\n",
      "Added images/B00GF69ZOK.jpg to ZIP\n",
      "Added images/B01FUV5KGW.jpg to ZIP\n",
      "Added images/B01BIMDN8E.jpg to ZIP\n",
      "Added images/B00EVPM5ZI.jpg to ZIP\n",
      "Added images/B005OA5ZIS.jpg to ZIP\n",
      "Added images/B00SMNZN7W.jpg to ZIP\n",
      "Added images/B000UVWRPA.jpg to ZIP\n",
      "Added images/B01A6L91DO.jpg to ZIP\n",
      "Added images/B01BQY9JXM.jpg to ZIP\n",
      "Added images/B01GUCIYOA.jpg to ZIP\n",
      "Added images/B005AZVITW.jpg to ZIP\n",
      "Added images/B01568SX9K.jpg to ZIP\n",
      "Added images/B00FYS7WWM.jpg to ZIP\n",
      "Added images/B00G8QB96Y.jpg to ZIP\n",
      "Added images/B019DXU8W4.jpg to ZIP\n",
      "Added images/B001760K6K.jpg to ZIP\n",
      "Added images/B00V5CNY5A.jpg to ZIP\n",
      "Added images/B00NOTFXQK.jpg to ZIP\n",
      "Added images/B0045DBUBQ.jpg to ZIP\n",
      "Added images/B007C2PVVW.jpg to ZIP\n",
      "Added images/B00YV32QR2.jpg to ZIP\n",
      "Added images/B00SUMS26Y.jpg to ZIP\n",
      "Added images/B00GMERY66.jpg to ZIP\n",
      "Added images/B00OR2AF5C.jpg to ZIP\n",
      "Added images/B005D6EI40.jpg to ZIP\n",
      "Added images/B00XC5V3ZQ.jpg to ZIP\n",
      "Added images/B001CUL5FQ.jpg to ZIP\n",
      "Added images/B00HEPDGP0.jpg to ZIP\n",
      "Added images/B0012IVVDO.jpg to ZIP\n",
      "Added images/B0073PHPCQ.jpg to ZIP\n",
      "Added images/B00LD852MO.jpg to ZIP\n",
      "Added images/B01FO6GO9U.jpg to ZIP\n",
      "Added images/B00LEBFHLQ.jpg to ZIP\n",
      "Added images/B00QR2511I.jpg to ZIP\n",
      "Added images/B00VTEWJ50.jpg to ZIP\n",
      "Added images/B01A66UEJ4.jpg to ZIP\n",
      "Added images/B00KA3S7Q6.jpg to ZIP\n",
      "Added images/B00C3ENIUK.jpg to ZIP\n",
      "Added images/B00155E7SA.jpg to ZIP\n",
      "Added images/B00371BUVW.jpg to ZIP\n",
      "Added images/B007C2PYKA.jpg to ZIP\n",
      "Added images/B00T9C8O1W.jpg to ZIP\n",
      "Added images/B001W6R06I.jpg to ZIP\n",
      "Added images/B0149DK9BS.jpg to ZIP\n",
      "Added images/B001CCO55Q.jpg to ZIP\n",
      "Added images/B010120I26.jpg to ZIP\n",
      "Added images/B003YBY58A.jpg to ZIP\n",
      "Added images/B0090ONPOA.jpg to ZIP\n",
      "Added images/B01FRCZZ1E.jpg to ZIP\n",
      "Added images/B00TP0AVMS.jpg to ZIP\n",
      "Added images/B0181ENT7W.jpg to ZIP\n",
      "Added images/B007ED8RD8.jpg to ZIP\n",
      "Added images/B00YUUKIQW.jpg to ZIP\n",
      "Added images/B00C0CNBIO.jpg to ZIP\n",
      "Added images/B000GJXYQM.jpg to ZIP\n",
      "Added images/B005XRWOFE.jpg to ZIP\n",
      "Added images/B000798IAI.jpg to ZIP\n",
      "Added images/B000O3NEYM.jpg to ZIP\n",
      "Added images/B00FRIJLCI.jpg to ZIP\n",
      "Added images/B0017IJSV6.jpg to ZIP\n",
      "Added images/B001U88GSE.jpg to ZIP\n",
      "Added images/B000GAYQM2.jpg to ZIP\n",
      "Added images/B00LFGZLDE.jpg to ZIP\n",
      "Added images/B00X146M0E.jpg to ZIP\n",
      "Added images/B0181ENS82.jpg to ZIP\n",
      "Added images/B00GINHGRS.jpg to ZIP\n",
      "Added images/B004LUOGB4.jpg to ZIP\n",
      "Added images/B000NBJAGG.jpg to ZIP\n",
      "Added images/B010DVHIQO.jpg to ZIP\n",
      "Added images/B00W027SXI.jpg to ZIP\n",
      "Added images/B00F3VV3IY.jpg to ZIP\n",
      "Added images/B00HXD60FG.jpg to ZIP\n",
      "Added images/B01H3EB126.jpg to ZIP\n",
      "Added images/B015U3WRW0.jpg to ZIP\n",
      "Added images/B009NQOWGA.jpg to ZIP\n",
      "Added images/B00P27BK50.jpg to ZIP\n",
      "Added images/B001GIP1D6.jpg to ZIP\n",
      "Added images/B00BQOZKCM.jpg to ZIP\n",
      "Added images/B01AWYP2DI.jpg to ZIP\n",
      "Added images/B00F92CSA4.jpg to ZIP\n",
      "Added images/B005D6BB18.jpg to ZIP\n",
      "Added images/B00SUMRSH8.jpg to ZIP\n",
      "Added images/B00LL2I7WO.jpg to ZIP\n",
      "Added images/B012AWA30M.jpg to ZIP\n",
      "Added images/B006ZU1TQS.jpg to ZIP\n",
      "Added images/B001535J6Q.jpg to ZIP\n",
      "Added images/B00D1QWA58.jpg to ZIP\n",
      "Added images/B00YEFSAHW.jpg to ZIP\n",
      "Added images/B014PK8K02.jpg to ZIP\n",
      "Added images/B00MNAVWES.jpg to ZIP\n",
      "Added images/B000Z8FJFS.jpg to ZIP\n",
      "Added images/B009ERWVIY.jpg to ZIP\n",
      "Added images/B000Z7RUEC.jpg to ZIP\n",
      "Added images/B019P3O8J6.jpg to ZIP\n",
      "Added images/B007XP89LW.jpg to ZIP\n",
      "Added images/B00A6G4FDQ.jpg to ZIP\n",
      "Added images/B00EOIEK82.jpg to ZIP\n",
      "Added images/B003MAJJY8.jpg to ZIP\n",
      "Added images/B0155BC222.jpg to ZIP\n",
      "Added images/B00328GXH6.jpg to ZIP\n",
      "Added images/B00WG2B522.jpg to ZIP\n",
      "Added images/B001FSK52E.jpg to ZIP\n",
      "Added images/B00C4ALPEY.jpg to ZIP\n",
      "Added images/B0013V8VM4.jpg to ZIP\n",
      "Added images/B00A9S1BDI.jpg to ZIP\n",
      "Added images/B01BUOYOOW.jpg to ZIP\n",
      "Added images/B00WA3BTK0.jpg to ZIP\n",
      "Added images/B00DMWQV38.jpg to ZIP\n",
      "Added images/B006Z8XKDA.jpg to ZIP\n",
      "Added images/B00DYPU7GU.jpg to ZIP\n",
      "Added images/B00B9TUPYM.jpg to ZIP\n",
      "Added images/B0012H3HSM.jpg to ZIP\n",
      "Added images/B00O8TAYSM.jpg to ZIP\n",
      "Added images/B00AYX6I5O.jpg to ZIP\n",
      "Added images/B000R4C3QS.jpg to ZIP\n",
      "Added images/B008H9448A.jpg to ZIP\n",
      "Added images/B0046S8S60.jpg to ZIP\n",
      "Added images/B00FYS82ZS.jpg to ZIP\n",
      "Added images/B01H4WLXB6.jpg to ZIP\n",
      "Added images/B00ASKPYR6.jpg to ZIP\n",
      "Added images/B008VPQR12.jpg to ZIP\n",
      "Added images/B0114M7DHK.jpg to ZIP\n",
      "Added images/B00G5INMIS.jpg to ZIP\n",
      "Added images/B019F3NOR8.jpg to ZIP\n",
      "Added images/B00RXWCQZA.jpg to ZIP\n",
      "Added images/B002DMTHEI.jpg to ZIP\n",
      "Added images/B000VSEW8M.jpg to ZIP\n",
      "Added images/B0051EQO5A.jpg to ZIP\n",
      "Added images/B001A42CMO.jpg to ZIP\n",
      "Added images/B01F8NN2MG.jpg to ZIP\n",
      "Added images/B01568PN9I.jpg to ZIP\n",
      "Added images/B00188AYVS.jpg to ZIP\n",
      "Added images/B00QRHJ31M.jpg to ZIP\n",
      "Added images/B000JGJPZ6.jpg to ZIP\n",
      "Added images/B00K1KQBW0.jpg to ZIP\n",
      "Added images/B000PYJZZW.jpg to ZIP\n",
      "Added images/B00GDT1Z7E.jpg to ZIP\n",
      "Added images/B0100U4FV4.jpg to ZIP\n",
      "Added images/B0135IG02K.jpg to ZIP\n",
      "Added images/B003CFARHQ.jpg to ZIP\n",
      "Added images/B00FH9I0FQ.jpg to ZIP\n",
      "Added images/B00AB0QXIM.jpg to ZIP\n",
      "Added images/B00F89YB58.jpg to ZIP\n",
      "Added images/B01F5APJ1O.jpg to ZIP\n",
      "Added images/B00YH9BYVE.jpg to ZIP\n",
      "Added images/B00G3LW6PW.jpg to ZIP\n",
      "Added images/B0055BXELG.jpg to ZIP\n",
      "Added images/B0091EI2PG.jpg to ZIP\n",
      "Added images/B000EIA0LW.jpg to ZIP\n",
      "Added images/B001COUSEG.jpg to ZIP\n",
      "Added images/B00VE7VOIU.jpg to ZIP\n",
      "Added images/B00BZSE7TG.jpg to ZIP\n",
      "Added images/B01FXKYV2O.jpg to ZIP\n",
      "Added images/B01DXY03OW.jpg to ZIP\n",
      "Added images/B00J2SSIOG.jpg to ZIP\n",
      "Added images/B001A33JVI.jpg to ZIP\n",
      "Added images/B017L0311G.jpg to ZIP\n",
      "Added images/B00A9K6O24.jpg to ZIP\n",
      "Added images/B013H0OGOU.jpg to ZIP\n",
      "Added images/B017LTOYKE.jpg to ZIP\n",
      "Added images/B005GPIE8O.jpg to ZIP\n",
      "Added images/B004ML53R8.jpg to ZIP\n",
      "Added images/B00LEBQYRM.jpg to ZIP\n",
      "Added images/B00HFC2UVI.jpg to ZIP\n",
      "Added images/B0018ATFUM.jpg to ZIP\n",
      "Added images/B00WM4O17K.jpg to ZIP\n",
      "Added images/B008N6YTV4.jpg to ZIP\n",
      "Added images/B00DYPU5P8.jpg to ZIP\n",
      "Added images/B00LI0EEEO.jpg to ZIP\n",
      "Added images/B00BTZB1RQ.jpg to ZIP\n",
      "Added images/B00JFS1RM8.jpg to ZIP\n",
      "Added images/B015ZSB398.jpg to ZIP\n",
      "Added images/B00155EG2C.jpg to ZIP\n",
      "Added images/B00JKIT6IU.jpg to ZIP\n",
      "Added images/B01AH00BOW.jpg to ZIP\n",
      "Added images/B0013M0ZZY.jpg to ZIP\n",
      "Added images/B00E9G8OKY.jpg to ZIP\n",
      "Added images/B00U286SIS.jpg to ZIP\n",
      "Added images/B0077BZ550.jpg to ZIP\n",
      "Added images/B00MAMBZ9Q.jpg to ZIP\n",
      "Added images/B000KAWMHO.jpg to ZIP\n",
      "Added images/B007NLOMEY.jpg to ZIP\n",
      "Added images/B001AGNSEI.jpg to ZIP\n",
      "Added images/B00GG5FOVS.jpg to ZIP\n",
      "Added images/B000YDZA26.jpg to ZIP\n",
      "Added images/B01ADUDXDC.jpg to ZIP\n",
      "Added images/B0050VUG8K.jpg to ZIP\n",
      "Added images/B00YP6BU4A.jpg to ZIP\n",
      "Added images/B0017TYLRQ.jpg to ZIP\n",
      "Added images/B00DM0587K.jpg to ZIP\n",
      "Added images/B00N6T3OQ4.jpg to ZIP\n",
      "Added images/B009ELLXRU.jpg to ZIP\n",
      "Added images/B017U4O27K.jpg to ZIP\n",
      "Added images/B00VXOA48U.jpg to ZIP\n",
      "Added images/B00SNIEEKI.jpg to ZIP\n",
      "Added images/B002NNQKOW.jpg to ZIP\n",
      "Added images/B003O86DO2.jpg to ZIP\n",
      "Added images/B005N6WFZY.jpg to ZIP\n",
      "Added images/B001ABOA1S.jpg to ZIP\n",
      "Added images/B003UU90MG.jpg to ZIP\n",
      "Added images/B005DFK6OW.jpg to ZIP\n",
      "Added images/B00M92WRR6.jpg to ZIP\n",
      "Added images/B003P88WJK.jpg to ZIP\n",
      "Added images/B0015DESGI.jpg to ZIP\n",
      "Added images/B00E0L23D2.jpg to ZIP\n",
      "Added images/B01DOND3QC.jpg to ZIP\n",
      "Added images/B00YGXZXV8.jpg to ZIP\n",
      "Added images/B00YX2AHUO.jpg to ZIP\n",
      "Added images/B00KA3V3E4.jpg to ZIP\n",
      "Added images/B01FN87DE4.jpg to ZIP\n",
      "Added images/B00GK5L51M.jpg to ZIP\n",
      "Added images/B007V1DRAG.jpg to ZIP\n",
      "Added images/B00MH451KQ.jpg to ZIP\n",
      "Added images/B007HN84BU.jpg to ZIP\n",
      "Added images/B010MC69MS.jpg to ZIP\n",
      "Added images/B00TG8AHNC.jpg to ZIP\n",
      "Added images/B0029NYMO6.jpg to ZIP\n",
      "Added images/B000VRRK2S.jpg to ZIP\n",
      "Added images/B00FMTJ3PM.jpg to ZIP\n",
      "Added images/B00C40SWU4.jpg to ZIP\n",
      "Added images/B0018CK60S.jpg to ZIP\n",
      "Added images/B004089JY6.jpg to ZIP\n",
      "Added images/B004SAUQ2A.jpg to ZIP\n",
      "Added images/B00SUMTGSW.jpg to ZIP\n",
      "Added images/B0119NLCLW.jpg to ZIP\n",
      "Added images/B001884WCA.jpg to ZIP\n",
      "Added images/B00EDTMJUI.jpg to ZIP\n",
      "Added images/B00HSEJHTQ.jpg to ZIP\n",
      "Added images/B001H559QM.jpg to ZIP\n",
      "Added images/B00BFZTY8I.jpg to ZIP\n",
      "Added images/B00IXZDTUW.jpg to ZIP\n",
      "Added images/B000P50W9Y.jpg to ZIP\n",
      "Added images/B0094QTNQI.jpg to ZIP\n",
      "Added images/B0012OTMZM.jpg to ZIP\n",
      "Added images/B0002XSXWW.jpg to ZIP\n",
      "Added images/B00YGGV42W.jpg to ZIP\n",
      "Added images/B005GPHJSK.jpg to ZIP\n",
      "Added images/B00TGEEDW2.jpg to ZIP\n",
      "Added images/B01DDNQWCA.jpg to ZIP\n",
      "Added images/B008FGR21G.jpg to ZIP\n",
      "Added images/B015PUGX78.jpg to ZIP\n",
      "Added images/B00N19RY2O.jpg to ZIP\n",
      "Added images/B00XKTZ08A.jpg to ZIP\n",
      "Added images/B000YDS6MM.jpg to ZIP\n",
      "Added images/B00R0X1YVO.jpg to ZIP\n",
      "Added images/B01AJ767UA.jpg to ZIP\n",
      "Added images/B004S0SDF2.jpg to ZIP\n",
      "Added images/B00CRDL2NW.jpg to ZIP\n",
      "Added images/B005FN0LZQ.jpg to ZIP\n",
      "Added images/B00B23NIOY.jpg to ZIP\n",
      "Added images/B00L797LSM.jpg to ZIP\n",
      "Added images/B005HJBEIG.jpg to ZIP\n",
      "Added images/B017ACMZ5I.jpg to ZIP\n",
      "Added images/B005GV9I7Y.jpg to ZIP\n",
      "Added images/B00PCNWBZ2.jpg to ZIP\n",
      "Added images/B016V57BL8.jpg to ZIP\n",
      "Added images/B00KN19UKW.jpg to ZIP\n",
      "Added images/B006SRT0V4.jpg to ZIP\n",
      "Added images/B000MKBM7S.jpg to ZIP\n",
      "Added images/B0085J910I.jpg to ZIP\n",
      "Added images/B000783UXO.jpg to ZIP\n",
      "Added images/B00N17RHXW.jpg to ZIP\n",
      "Added images/B0113VN8KI.jpg to ZIP\n",
      "Added images/B00UTMTUM8.jpg to ZIP\n",
      "Added images/B00DQYSGEY.jpg to ZIP\n",
      "Added images/B017KYKEC2.jpg to ZIP\n",
      "Added images/B001B7VH2G.jpg to ZIP\n",
      "Added images/B0043D0OHE.jpg to ZIP\n",
      "Added images/B007CRR7WS.jpg to ZIP\n",
      "Added images/B00F9S8CCG.jpg to ZIP\n",
      "Added images/B00CS4T20U.jpg to ZIP\n",
      "Added images/B007I4HIF6.jpg to ZIP\n",
      "Added images/B0149DYG76.jpg to ZIP\n",
      "Added images/B0119NLSDY.jpg to ZIP\n",
      "Added images/B00FYS8A7I.jpg to ZIP\n",
      "Added images/B00VNSSMTO.jpg to ZIP\n",
      "Added images/B003GA70JA.jpg to ZIP\n",
      "Added images/B00T5C2P8Y.jpg to ZIP\n",
      "Added images/B00G3LPMEO.jpg to ZIP\n",
      "Added images/B000BRPA2A.jpg to ZIP\n",
      "Added images/B00S9XAHD0.jpg to ZIP\n",
      "Added images/B000ETVLL4.jpg to ZIP\n",
      "Added images/B00P3AQZCO.jpg to ZIP\n",
      "Added images/B00HFF6SXQ.jpg to ZIP\n",
      "Added images/B01A4C454A.jpg to ZIP\n",
      "Added images/B004UEM86Q.jpg to ZIP\n",
      "Added images/B00WQG6VLS.jpg to ZIP\n",
      "Added images/B000YJKKWU.jpg to ZIP\n",
      "Added images/B00ID6Y6EY.jpg to ZIP\n",
      "Added images/B018FGRQPW.jpg to ZIP\n",
      "Added images/B01DYU9116.jpg to ZIP\n",
      "Added images/B00GXXKHLU.jpg to ZIP\n",
      "Added images/B000E0Q5UU.jpg to ZIP\n",
      "Added images/B00YV62JDA.jpg to ZIP\n",
      "Added images/B00STUNZ2I.jpg to ZIP\n",
      "Added images/B00YEFRZNM.jpg to ZIP\n",
      "Added images/B00CB9A47W.jpg to ZIP\n",
      "Added images/B0074D2Y7S.jpg to ZIP\n",
      "Added images/B01AOV1M2E.jpg to ZIP\n",
      "Added images/B01CZYW7L8.jpg to ZIP\n",
      "Added images/B00DY8R1A2.jpg to ZIP\n",
      "Added images/B00LDSUBU2.jpg to ZIP\n",
      "Added images/B00SUMSP34.jpg to ZIP\n",
      "Added images/B000LZGV0M.jpg to ZIP\n",
      "Added images/B008RWJH52.jpg to ZIP\n",
      "Added images/B0187KJH08.jpg to ZIP\n",
      "Added images/B00WPMNBO8.jpg to ZIP\n",
      "Added images/B00M1DCYTO.jpg to ZIP\n",
      "Added images/B009YLKE5M.jpg to ZIP\n",
      "Added images/B00HJ1Q0GQ.jpg to ZIP\n",
      "Added images/B01547TRKC.jpg to ZIP\n",
      "Added images/B0015KLIJQ.jpg to ZIP\n",
      "Added images/B00XKUWRQW.jpg to ZIP\n",
      "Added images/B001CUJ10C.jpg to ZIP\n",
      "Added images/B0011YPZPE.jpg to ZIP\n",
      "Added images/B004VCFU08.jpg to ZIP\n",
      "Added images/B0000E1VWG.jpg to ZIP\n",
      "Added images/B01BIMDN3Y.jpg to ZIP\n",
      "Added images/B01GK5SV54.jpg to ZIP\n",
      "Added images/B00GTTF2L8.jpg to ZIP\n",
      "Added images/B0017LT9PS.jpg to ZIP\n",
      "Added images/B00EB0YACY.jpg to ZIP\n",
      "Added images/B005AOTWKK.jpg to ZIP\n",
      "Added images/B005GVPCOW.jpg to ZIP\n",
      "Added images/B00MAVJI3M.jpg to ZIP\n",
      "Added images/B00D872MJ4.jpg to ZIP\n",
      "Added images/B00GINI31G.jpg to ZIP\n",
      "Added images/B0098SH986.jpg to ZIP\n",
      "Added images/B00AOI7YI4.jpg to ZIP\n",
      "Added images/B00DBLFBGS.jpg to ZIP\n",
      "Added images/B01FSPND96.jpg to ZIP\n",
      "Added images/B00Q02S7MK.jpg to ZIP\n",
      "Added images/B00WE5Z2VQ.jpg to ZIP\n",
      "Added images/B0015Y7QI4.jpg to ZIP\n",
      "Added images/B001AMKXRW.jpg to ZIP\n",
      "Added images/B00G55HO44.jpg to ZIP\n",
      "Added images/B00CHGP6AE.jpg to ZIP\n",
      "Added images/B01D5Q5GEK.jpg to ZIP\n",
      "Added images/B0018CNLZA.jpg to ZIP\n",
      "Added images/B01EJICPH4.jpg to ZIP\n",
      "Added images/B0090SGXEU.jpg to ZIP\n",
      "Added images/B00K3DE884.jpg to ZIP\n",
      "Added images/B0043RTQZ6.jpg to ZIP\n",
      "Added images/B00EDSP81Q.jpg to ZIP\n",
      "Added images/B0015TLP90.jpg to ZIP\n",
      "Added images/B00MAMBDPC.jpg to ZIP\n",
      "Added images/B01BCQMJYK.jpg to ZIP\n",
      "Added images/B01BCCWLZ6.jpg to ZIP\n",
      "Added images/B004401RRC.jpg to ZIP\n",
      "Added images/B00SWDOEUO.jpg to ZIP\n",
      "Added images/B00RKPFGEI.jpg to ZIP\n",
      "Added images/B007C7KTJ6.jpg to ZIP\n",
      "Added images/B000BU5JSC.jpg to ZIP\n",
      "Added images/B00G8QQBM6.jpg to ZIP\n",
      "Added images/B00M1DV4JK.jpg to ZIP\n",
      "Added images/B01GHKSTH2.jpg to ZIP\n",
      "Added images/B00RW5BI8Y.jpg to ZIP\n",
      "Added images/B00B4QP0L8.jpg to ZIP\n",
      "Added images/B00F9S8UDC.jpg to ZIP\n",
      "Added images/B01BG0759Q.jpg to ZIP\n",
      "Added images/B007A569LW.jpg to ZIP\n",
      "Added images/B00YIWVGTK.jpg to ZIP\n",
      "Added images/B0056E63UQ.jpg to ZIP\n",
      "Added images/B00AE09NZY.jpg to ZIP\n",
      "Added images/B003TV52WI.jpg to ZIP\n",
      "Added images/B0071NFO5U.jpg to ZIP\n",
      "Added images/B0040RWJ4O.jpg to ZIP\n",
      "Added images/B00J5GD97G.jpg to ZIP\n",
      "Added images/B00ISI3DLE.jpg to ZIP\n",
      "Added images/B00843L9TG.jpg to ZIP\n",
      "Added images/B001A3FHCM.jpg to ZIP\n",
      "Added images/B00KCXG9AU.jpg to ZIP\n",
      "Added images/B009ALFTB0.jpg to ZIP\n",
      "Added images/B000W0CAJM.jpg to ZIP\n",
      "Added images/B0012J44I2.jpg to ZIP\n",
      "Added images/B000GD5B82.jpg to ZIP\n",
      "Added images/B018T298VM.jpg to ZIP\n",
      "Added images/B00V0DDG9S.jpg to ZIP\n",
      "Added images/B00436UDYU.jpg to ZIP\n",
      "Added images/B0018KAEXY.jpg to ZIP\n",
      "Added images/B014GDYBGU.jpg to ZIP\n",
      "Added images/B009YJE3AG.jpg to ZIP\n",
      "Added images/B00M93LLFY.jpg to ZIP\n",
      "Added images/B0010TH3F0.jpg to ZIP\n",
      "Added images/B000V2MY8I.jpg to ZIP\n",
      "Added images/B00FBPIVHI.jpg to ZIP\n",
      "Added images/B00H8OB7G2.jpg to ZIP\n",
      "Added images/B010RKYEMC.jpg to ZIP\n",
      "Added images/B002HHMCB4.jpg to ZIP\n",
      "Added images/B00EOIEWQC.jpg to ZIP\n",
      "Added images/B005EE3AF4.jpg to ZIP\n",
      "Added images/B0043RTOR6.jpg to ZIP\n",
      "Added images/B001HN5J3W.jpg to ZIP\n",
      "Added images/B00NMFYM8G.jpg to ZIP\n",
      "Added images/B001ECS14A.jpg to ZIP\n",
      "Added images/B008ZAYOJU.jpg to ZIP\n",
      "Added images/B003ZTXPJ6.jpg to ZIP\n",
      "Added images/B00PJIVBFQ.jpg to ZIP\n",
      "Added images/B000R9422Q.jpg to ZIP\n",
      "Added images/B0016PKA1W.jpg to ZIP\n",
      "Added images/B01F7DJ9LA.jpg to ZIP\n",
      "Added images/B000ZZSDFE.jpg to ZIP\n",
      "Added images/B00GINHOR0.jpg to ZIP\n",
      "Added images/B00126BEME.jpg to ZIP\n",
      "Added images/B007FY12L0.jpg to ZIP\n",
      "Added images/B00KW2K10K.jpg to ZIP\n",
      "Added images/B016V57VTU.jpg to ZIP\n",
      "Added images/B001A6L1M4.jpg to ZIP\n",
      "Added images/B00008MORX.jpg to ZIP\n",
      "Added images/B000KI9HL0.jpg to ZIP\n",
      "Added images/B000HGONQE.jpg to ZIP\n",
      "Added images/B002DD3VDU.jpg to ZIP\n",
      "Added images/B00MV6VIFW.jpg to ZIP\n",
      "Added images/B00NTJNXW6.jpg to ZIP\n",
      "Added images/B00EQV3TYI.jpg to ZIP\n",
      "Added images/B001GXRA1M.jpg to ZIP\n",
      "Added images/B003FSUH0C.jpg to ZIP\n",
      "Added images/B00IUA14PC.jpg to ZIP\n",
      "Added images/B000VW0K4S.jpg to ZIP\n",
      "Added images/B016PRLXOS.jpg to ZIP\n",
      "Added images/B0097A390C.jpg to ZIP\n",
      "Added images/B00SUMVTEG.jpg to ZIP\n",
      "Added images/B0012SY096.jpg to ZIP\n",
      "Added images/B00NOB1PQA.jpg to ZIP\n",
      "Added images/B004HVE01I.jpg to ZIP\n",
      "Added images/B0013CP7MA.jpg to ZIP\n",
      "Added images/B00Y8DS4DK.jpg to ZIP\n",
      "Added images/B00980KXQ4.jpg to ZIP\n",
      "Added images/B003AM7NUK.jpg to ZIP\n",
      "Added images/B000783XAE.jpg to ZIP\n",
      "Added images/B00HPQI1N0.jpg to ZIP\n",
      "Added images/B005015TH8.jpg to ZIP\n",
      "Added images/B0018CI77M.jpg to ZIP\n",
      "Added images/B002L178I8.jpg to ZIP\n",
      "Added images/B007V1DVFC.jpg to ZIP\n",
      "Added images/B0171I027O.jpg to ZIP\n",
      "Added images/B00WPMMXBA.jpg to ZIP\n",
      "Added images/B000WEFCDO.jpg to ZIP\n",
      "Added images/B01568S94E.jpg to ZIP\n",
      "Added images/B003H9M5J0.jpg to ZIP\n",
      "Added images/B00X1465JC.jpg to ZIP\n",
      "Added images/B00HYRI78E.jpg to ZIP\n",
      "Added images/B01B58O78G.jpg to ZIP\n",
      "Added images/B00U1TCSVE.jpg to ZIP\n",
      "Added images/B00AWMBYM4.jpg to ZIP\n",
      "Added images/B00BKQT6WQ.jpg to ZIP\n",
      "Added images/B01H1V6BUI.jpg to ZIP\n",
      "Added images/B01A6LORWE.jpg to ZIP\n",
      "Added images/B00X12E1MW.jpg to ZIP\n",
      "Added images/B01FQT1DJG.jpg to ZIP\n",
      "Added images/B00CHYNB5I.jpg to ZIP\n",
      "Added images/B00WM55QSM.jpg to ZIP\n",
      "Added images/B005GPI8GC.jpg to ZIP\n",
      "Added images/B0012DDJ52.jpg to ZIP\n",
      "Added images/B016IO9N6I.jpg to ZIP\n",
      "Added images/B00U934572.jpg to ZIP\n",
      "Added images/B003FSSF5Q.jpg to ZIP\n",
      "Added images/B00AWMC3VU.jpg to ZIP\n",
      "Added images/B001FARML4.jpg to ZIP\n",
      "Added images/B01DP22MF0.jpg to ZIP\n",
      "Added images/B00W02F26I.jpg to ZIP\n",
      "Added images/B003NVEP72.jpg to ZIP\n",
      "Added images/B005GNO0YS.jpg to ZIP\n",
      "Added images/B01BDX6CVI.jpg to ZIP\n",
      "Added images/B00M51R8RK.jpg to ZIP\n",
      "Added images/B00142GBKG.jpg to ZIP\n",
      "Added images/B0074GKXWI.jpg to ZIP\n",
      "Added images/B01CZYWKWE.jpg to ZIP\n",
      "Added images/B01FXPPLTQ.jpg to ZIP\n",
      "Added images/B0018DIBHW.jpg to ZIP\n",
      "Added images/B001FB60LG.jpg to ZIP\n",
      "Added images/B00RELPHUG.jpg to ZIP\n",
      "Added images/B016NOWAKO.jpg to ZIP\n",
      "Added images/B000YKLK78.jpg to ZIP\n",
      "Added images/B00ST6JTP4.jpg to ZIP\n",
      "Added images/B016IO9O9O.jpg to ZIP\n",
      "Added images/B0161ZDUGI.jpg to ZIP\n",
      "Added images/B009FV88PY.jpg to ZIP\n",
      "Added images/B005M0EIRE.jpg to ZIP\n",
      "Added images/B01AMABWB8.jpg to ZIP\n",
      "Added images/B003EEP9QY.jpg to ZIP\n",
      "Added images/B005F2DDW0.jpg to ZIP\n",
      "Added images/B017J8XCB4.jpg to ZIP\n",
      "Added images/B001A41DR4.jpg to ZIP\n",
      "Added images/B00OLEBHXK.jpg to ZIP\n",
      "Added images/B0093K7DB2.jpg to ZIP\n",
      "Added images/B00OLEBBIQ.jpg to ZIP\n",
      "Added images/B00K8AW5QY.jpg to ZIP\n",
      "Added images/B006JWQXR2.jpg to ZIP\n",
      "Added images/B0042G6HLE.jpg to ZIP\n",
      "Added images/B00R54YN70.jpg to ZIP\n",
      "Added images/B000BO4TWU.jpg to ZIP\n",
      "Added images/B000XUSGJO.jpg to ZIP\n",
      "Added images/B00GV8I1BA.jpg to ZIP\n",
      "Added images/B00GG5W4U2.jpg to ZIP\n",
      "Added images/B00C251PFK.jpg to ZIP\n",
      "Added images/B000HC0FWE.jpg to ZIP\n",
      "Added images/B00YM57ULQ.jpg to ZIP\n",
      "Added images/B00A7G725I.jpg to ZIP\n",
      "Added images/B000NBEM6Y.jpg to ZIP\n",
      "Added images/B006ZH7RQM.jpg to ZIP\n",
      "Added images/B00QKNQJGK.jpg to ZIP\n",
      "Added images/B001C8Y5TG.jpg to ZIP\n",
      "Added images/B01H37DL26.jpg to ZIP\n",
      "Added images/B00KXBVJ4M.jpg to ZIP\n",
      "Added images/B00T5C26WO.jpg to ZIP\n",
      "Added images/B00AYYHSIO.jpg to ZIP\n",
      "Added images/B00CVT3C1C.jpg to ZIP\n",
      "Added images/B0041LOQ54.jpg to ZIP\n",
      "Added images/B00BKQT590.jpg to ZIP\n",
      "Added images/B00R54XWCM.jpg to ZIP\n",
      "Added images/B00BLQJXH8.jpg to ZIP\n",
      "Added images/B01BKT7HZK.jpg to ZIP\n",
      "Added images/B00AFUMPJE.jpg to ZIP\n",
      "Added images/B001L960WG.jpg to ZIP\n",
      "Added images/B00PRVTM6A.jpg to ZIP\n",
      "Added images/B005GQCE0W.jpg to ZIP\n",
      "Added images/B00JBJAHTK.jpg to ZIP\n",
      "Added images/B00I3WYSGO.jpg to ZIP\n",
      "Added images/B0058XUD3S.jpg to ZIP\n",
      "Added images/B000WJTNVG.jpg to ZIP\n",
      "Added images/B00FRIJJCA.jpg to ZIP\n",
      "Added images/B001PUFKOK.jpg to ZIP\n",
      "Added images/B004T8Y67W.jpg to ZIP\n",
      "Added images/B00WPMN8ZA.jpg to ZIP\n",
      "Added images/B000Z813CQ.jpg to ZIP\n",
      "Added images/B01FDKAX62.jpg to ZIP\n",
      "Added images/B003ZYDZXW.jpg to ZIP\n",
      "Added images/B004U4GB4G.jpg to ZIP\n",
      "Added images/B00GINHC1I.jpg to ZIP\n",
      "Added images/B004T73HW8.jpg to ZIP\n",
      "Added images/B000GB0G2A.jpg to ZIP\n",
      "Added images/B00J5RNSCG.jpg to ZIP\n",
      "Added images/B004V26NU4.jpg to ZIP\n",
      "Added images/B000WQ6VIC.jpg to ZIP\n",
      "Added images/B00B1P2GQO.jpg to ZIP\n",
      "Added images/B00D9QX0SQ.jpg to ZIP\n",
      "Added images/B001B4OLTU.jpg to ZIP\n",
      "Added images/B00PLU96UY.jpg to ZIP\n",
      "Added images/B00DYPU5YE.jpg to ZIP\n",
      "Added images/B00843L9Y6.jpg to ZIP\n",
      "Added images/B000WYNLKU.jpg to ZIP\n",
      "Added images/B00M7IWBG4.jpg to ZIP\n",
      "Added images/B00E4U93FU.jpg to ZIP\n",
      "Added images/B000A2BIRW.jpg to ZIP\n",
      "Added images/B006IMRA8Y.jpg to ZIP\n",
      "Added images/B005GVBI9U.jpg to ZIP\n",
      "Added images/B00F2V897S.jpg to ZIP\n",
      "Added images/B000XHSVEC.jpg to ZIP\n",
      "Added images/B00E1JOC4Q.jpg to ZIP\n",
      "Added images/B00IEVW7JO.jpg to ZIP\n",
      "Added images/B0018DXUKA.jpg to ZIP\n",
      "Added images/B00KHB0GQK.jpg to ZIP\n",
      "Added images/B001ELKHCA.jpg to ZIP\n",
      "Added images/B00DMWH8LC.jpg to ZIP\n",
      "Added images/B008LSIYDI.jpg to ZIP\n",
      "Added images/B01H3EFGA4.jpg to ZIP\n",
      "Added images/B00167ZPF6.jpg to ZIP\n",
      "Added images/B000YR18HS.jpg to ZIP\n",
      "Added images/B0045535QM.jpg to ZIP\n",
      "Added images/B00YEFTAZI.jpg to ZIP\n",
      "Added images/B001200Y3U.jpg to ZIP\n",
      "Added images/B0016LPH4G.jpg to ZIP\n",
      "Added images/B000HQOUJO.jpg to ZIP\n",
      "Added images/B018SRRNQU.jpg to ZIP\n",
      "Added images/B01FYI5G42.jpg to ZIP\n",
      "Added images/B005GV95SG.jpg to ZIP\n",
      "Added images/B00NFLV6KO.jpg to ZIP\n",
      "Added images/B004YWSFD4.jpg to ZIP\n",
      "Added images/B0015R3Y4G.jpg to ZIP\n",
      "Added images/B01E4JJ4I6.jpg to ZIP\n",
      "Added images/B000GAWSA4.jpg to ZIP\n",
      "Added images/B00M91NEY2.jpg to ZIP\n",
      "Added images/B00AFCI5TG.jpg to ZIP\n",
      "Added images/B0011FSLGI.jpg to ZIP\n",
      "Added images/B001D09IQ8.jpg to ZIP\n",
      "Added images/B001AU1FNA.jpg to ZIP\n",
      "Added images/B00KA3S4FK.jpg to ZIP\n",
      "Added images/B017J8X6FG.jpg to ZIP\n",
      "Added images/B0009EQU1U.jpg to ZIP\n",
      "Added images/B001FATAHS.jpg to ZIP\n",
      "Added images/B002DPRYOA.jpg to ZIP\n",
      "Added images/B0161ZB6IM.jpg to ZIP\n",
      "Added images/B008OI1HJ8.jpg to ZIP\n",
      "Added images/B001IV57E4.jpg to ZIP\n",
      "Added images/B0000891JE.jpg to ZIP\n",
      "Added images/B00436XXGU.jpg to ZIP\n",
      "Added images/B01H4ME04I.jpg to ZIP\n",
      "Added images/B00FXW7KFS.jpg to ZIP\n",
      "Added images/B0077CLHGK.jpg to ZIP\n",
      "Added images/B01DH8B186.jpg to ZIP\n",
      "Added images/B016QRSIEU.jpg to ZIP\n",
      "Added images/B00NVF1SJS.jpg to ZIP\n",
      "Added images/B01690OHCQ.jpg to ZIP\n",
      "Added images/B00ITWZ5TM.jpg to ZIP\n",
      "Added images/B0009G6AX6.jpg to ZIP\n",
      "Added images/B01B20CZHM.jpg to ZIP\n",
      "Added images/B003WJ5HKO.jpg to ZIP\n",
      "Added images/B00PL45258.jpg to ZIP\n",
      "Added images/B0147L2K50.jpg to ZIP\n",
      "Added images/B00YV6MPBG.jpg to ZIP\n",
      "Added images/B01EUTRDO2.jpg to ZIP\n",
      "Added images/B0098SFO1A.jpg to ZIP\n",
      "Added images/B00153EDBS.jpg to ZIP\n",
      "Added images/B00LABIJRE.jpg to ZIP\n",
      "Added images/B00DMWQO58.jpg to ZIP\n",
      "Added images/B00E0JUJX0.jpg to ZIP\n",
      "Added images/B012636GDI.jpg to ZIP\n",
      "Added images/B013ST2NKE.jpg to ZIP\n",
      "Added images/B0009WXSI0.jpg to ZIP\n",
      "Added images/B003N6EARM.jpg to ZIP\n",
      "Added images/B000FEP7BS.jpg to ZIP\n",
      "Added images/B000J407NW.jpg to ZIP\n",
      "Added images/B0009GAXC0.jpg to ZIP\n",
      "Added images/B00C2537HY.jpg to ZIP\n",
      "Added images/B005GV9AV8.jpg to ZIP\n",
      "Added images/B00EEZV5NI.jpg to ZIP\n",
      "Added images/B00CRDKS5U.jpg to ZIP\n",
      "Added images/B00MQCQHKW.jpg to ZIP\n",
      "Added images/B00HDQ390M.jpg to ZIP\n",
      "Added images/B00ATUL78K.jpg to ZIP\n",
      "Added images/B007G31FN0.jpg to ZIP\n",
      "Added images/B0062BD5F8.jpg to ZIP\n",
      "Added images/B019X5DW7A.jpg to ZIP\n",
      "Added images/B0056EHQYS.jpg to ZIP\n",
      "Added images/B013W3INCI.jpg to ZIP\n",
      "Added images/B00N19MUVO.jpg to ZIP\n",
      "Added images/B00H4W7SLG.jpg to ZIP\n",
      "Added images/B01DVZZIRA.jpg to ZIP\n",
      "Added images/B00503PNUE.jpg to ZIP\n",
      "Added images/B00FWKVI7C.jpg to ZIP\n",
      "Added images/B00X146KVK.jpg to ZIP\n",
      "Added images/B00GG3L1XK.jpg to ZIP\n",
      "Added images/B00KLC87J8.jpg to ZIP\n",
      "Added images/B000HHUU42.jpg to ZIP\n",
      "Added images/B00QPA7P2A.jpg to ZIP\n",
      "Added images/B00H3KBFCC.jpg to ZIP\n",
      "Added images/B00KLTKQS6.jpg to ZIP\n",
      "Added images/B019X3V134.jpg to ZIP\n",
      "Added images/B019ZGW5AW.jpg to ZIP\n",
      "Added images/B007RH6RVA.jpg to ZIP\n",
      "Added images/B01BRISJBK.jpg to ZIP\n",
      "Added images/B00ITWZMP4.jpg to ZIP\n",
      "Added images/B0094S5P0Y.jpg to ZIP\n",
      "Added images/B0077BYRH2.jpg to ZIP\n",
      "Added images/B00942YF3S.jpg to ZIP\n",
      "Added images/B01CGWUVJE.jpg to ZIP\n",
      "Added images/B00J0B0DHK.jpg to ZIP\n",
      "Added images/B00Y92EQBO.jpg to ZIP\n",
      "Added images/B006Z8XKBW.jpg to ZIP\n",
      "Added images/B00R551E26.jpg to ZIP\n",
      "Added images/B018H2R9JC.jpg to ZIP\n",
      "Added images/B011NI0JPI.jpg to ZIP\n",
      "Added images/B0051TMZ2G.jpg to ZIP\n",
      "Added images/B000GC7A64.jpg to ZIP\n",
      "Added images/B003BYRFAK.jpg to ZIP\n",
      "Added images/B00NPLG98I.jpg to ZIP\n",
      "Added images/B00P27F9SE.jpg to ZIP\n",
      "Added images/B0147QFEBM.jpg to ZIP\n",
      "Added images/B01CZYWE0W.jpg to ZIP\n",
      "Added images/B00K1WAJLW.jpg to ZIP\n",
      "Added images/B00CVT5SAU.jpg to ZIP\n",
      "Added images/B00LX0J5EI.jpg to ZIP\n",
      "Added images/B012HZX656.jpg to ZIP\n",
      "Added images/B00KZHMKT2.jpg to ZIP\n",
      "Added images/B013I8T2H2.jpg to ZIP\n",
      "Added images/B00K8PUN9U.jpg to ZIP\n",
      "Added images/B00U1TB3AG.jpg to ZIP\n",
      "Added images/B00FAMRWCC.jpg to ZIP\n",
      "Added images/B01FYRWEBG.jpg to ZIP\n",
      "Added images/B01BDA13N8.jpg to ZIP\n",
      "Added images/B00P27J804.jpg to ZIP\n",
      "Added images/B00QPA85SI.jpg to ZIP\n",
      "Added images/B00144AQWI.jpg to ZIP\n",
      "Added images/B01C8PLLSO.jpg to ZIP\n",
      "Added images/B00M0ZFLY8.jpg to ZIP\n",
      "Added images/B0019FXNF4.jpg to ZIP\n",
      "Added images/B00R35J36W.jpg to ZIP\n",
      "Added images/B00E0L0JBA.jpg to ZIP\n",
      "Added images/B01BWAR1QC.jpg to ZIP\n",
      "Added images/B013CA13K0.jpg to ZIP\n",
      "Added images/B00MFX7BPC.jpg to ZIP\n",
      "Added images/B00KZHN456.jpg to ZIP\n",
      "Added images/B007U1UL6A.jpg to ZIP\n",
      "Added images/B01AJMB77I.jpg to ZIP\n",
      "Added images/B001LRM6OO.jpg to ZIP\n",
      "Added images/B00F92DF2Y.jpg to ZIP\n",
      "Added images/B019CE90NW.jpg to ZIP\n",
      "Added images/B00FMTJ0PA.jpg to ZIP\n",
      "Added images/B00IJ73LBG.jpg to ZIP\n",
      "Added images/B00OQ066LC.jpg to ZIP\n",
      "Added images/B00EB1390W.jpg to ZIP\n",
      "Added images/B00HZSJUEM.jpg to ZIP\n",
      "Added images/B00FMTK414.jpg to ZIP\n",
      "Added images/B005H3PULY.jpg to ZIP\n",
      "Added images/B00OJDLO9K.jpg to ZIP\n",
      "Added images/B0181ENPXA.jpg to ZIP\n",
      "Added images/B00FXW6U1S.jpg to ZIP\n",
      "Added images/B00MUBA0DY.jpg to ZIP\n",
      "Added images/B00AAMON0Q.jpg to ZIP\n",
      "Added images/B0191FYZL4.jpg to ZIP\n",
      "Added images/B00245G4CC.jpg to ZIP\n",
      "Added images/B001CXWYYE.jpg to ZIP\n",
      "Added images/B003XDVUDM.jpg to ZIP\n",
      "Added images/B000EWARWU.jpg to ZIP\n",
      "Added images/B01EGOKMI0.jpg to ZIP\n",
      "Added images/B00ZJTFQOW.jpg to ZIP\n",
      "Added images/B0046XIJW8.jpg to ZIP\n",
      "Added images/B00APWXAWS.jpg to ZIP\n",
      "Added images/B0006U68Z0.jpg to ZIP\n",
      "Added images/B00B6E8X9E.jpg to ZIP\n",
      "Added images/B00143ZBN8.jpg to ZIP\n",
      "Added images/B0015DESF4.jpg to ZIP\n",
      "Added images/B007HNBOXK.jpg to ZIP\n",
      "Added images/B01568VID8.jpg to ZIP\n",
      "Added images/B00I6AXPS0.jpg to ZIP\n",
      "Added images/B00YEFTQ5M.jpg to ZIP\n",
      "Added images/B00RNQ3HNG.jpg to ZIP\n",
      "Added images/B008F0656A.jpg to ZIP\n",
      "Added images/B00Q474R9I.jpg to ZIP\n",
      "Added images/B00QFKV0GW.jpg to ZIP\n",
      "Added images/B00X12ATAU.jpg to ZIP\n",
      "Added images/B001539TWQ.jpg to ZIP\n",
      "Added images/B00V69MGQK.jpg to ZIP\n",
      "Added images/B000K6KY8M.jpg to ZIP\n",
      "Added images/B003I65RBU.jpg to ZIP\n",
      "Added images/B00AF5IR3M.jpg to ZIP\n",
      "Added images/B002HK3G3Y.jpg to ZIP\n",
      "Added images/B00V629HJG.jpg to ZIP\n",
      "Added images/B008MWITFG.jpg to ZIP\n",
      "Added images/B00X146IJ4.jpg to ZIP\n",
      "Added images/B01C8GDJO2.jpg to ZIP\n",
      "Added images/B0019FXKKW.jpg to ZIP\n",
      "Added images/B007L4YY8M.jpg to ZIP\n",
      "Added images/B00IPKN5MM.jpg to ZIP\n",
      "Added images/B00NVEYYTA.jpg to ZIP\n",
      "Added images/B001MV7ASQ.jpg to ZIP\n",
      "Added images/B0017UCRDK.jpg to ZIP\n",
      "Added images/B000YALVFY.jpg to ZIP\n",
      "Added images/B00TGVBPUS.jpg to ZIP\n",
      "Added images/B01H94A4DC.jpg to ZIP\n",
      "Added images/B0002PNJWE.jpg to ZIP\n",
      "Added images/B00QRHJWB8.jpg to ZIP\n",
      "Added images/B000783Q4M.jpg to ZIP\n",
      "Added images/B001UHN2CA.jpg to ZIP\n",
      "Added images/B00LEBTG4A.jpg to ZIP\n",
      "Added images/B00KZ3X3A6.jpg to ZIP\n",
      "Added images/B0065LCN44.jpg to ZIP\n",
      "Added images/B00JGHLSEA.jpg to ZIP\n",
      "Added images/B00F9S8CEY.jpg to ZIP\n",
      "Added images/B00MNKTBJ6.jpg to ZIP\n",
      "Added images/B00FXW6V9E.jpg to ZIP\n",
      "Added images/B01FRG92VO.jpg to ZIP\n",
      "Added images/B01724KXW6.jpg to ZIP\n",
      "Added images/B005N7443O.jpg to ZIP\n",
      "Added images/B018VO28Z6.jpg to ZIP\n",
      "Added images/B00LEC40V8.jpg to ZIP\n",
      "Added images/B005GV45A4.jpg to ZIP\n",
      "Added images/B001L5TLXK.jpg to ZIP\n",
      "Added images/B00MF9NV4Q.jpg to ZIP\n",
      "Added images/B00W45WEJY.jpg to ZIP\n",
      "Added images/B002YMX94G.jpg to ZIP\n",
      "Added images/B00M54C98A.jpg to ZIP\n",
      "Added images/B00MQDBEBS.jpg to ZIP\n",
      "Added images/B00OABNITU.jpg to ZIP\n",
      "Added images/B019S7L81A.jpg to ZIP\n",
      "Added images/B0195J8LD4.jpg to ZIP\n",
      "Added images/B01FRKC3I4.jpg to ZIP\n",
      "Added images/B004SG521O.jpg to ZIP\n",
      "Added images/B001GXRANU.jpg to ZIP\n",
      "Added images/B000WUKKAI.jpg to ZIP\n",
      "Added images/B00TEZ84PK.jpg to ZIP\n",
      "Added images/B005HBGYT8.jpg to ZIP\n",
      "Added images/B0015VHODE.jpg to ZIP\n",
      "Added images/B00CE8XRSI.jpg to ZIP\n",
      "Added images/B000XW46ZK.jpg to ZIP\n",
      "Added images/B006OO3DJQ.jpg to ZIP\n",
      "Added images/B00C3ENQT8.jpg to ZIP\n",
      "Added images/B01550G2CY.jpg to ZIP\n",
      "Added images/B00ACX0O5Q.jpg to ZIP\n",
      "Added images/B008JGZ6NI.jpg to ZIP\n",
      "Added images/B00H7XU396.jpg to ZIP\n",
      "Added images/B006ZH84G4.jpg to ZIP\n",
      "Added images/B00KCXGYIW.jpg to ZIP\n",
      "Added images/B00MGAQXRG.jpg to ZIP\n",
      "Added images/B000XBM1L2.jpg to ZIP\n",
      "Added images/B00T5C5U5E.jpg to ZIP\n",
      "Added images/B00XN0ZI9M.jpg to ZIP\n",
      "Added images/B00D1IAZXU.jpg to ZIP\n",
      "Added images/B01DVZZN9I.jpg to ZIP\n",
      "Added images/B003TV3O0A.jpg to ZIP\n",
      "Added images/B00PKHHFJ2.jpg to ZIP\n",
      "Added images/B0016MXDDC.jpg to ZIP\n",
      "Added images/B002WHUDU6.jpg to ZIP\n",
      "Added images/B00JGHMZEW.jpg to ZIP\n",
      "Added images/B000J3GKBQ.jpg to ZIP\n",
      "Added images/B00C516GBE.jpg to ZIP\n",
      "Added images/B00AOIBET4.jpg to ZIP\n",
      "Added images/B011Y4JMT0.jpg to ZIP\n",
      "Added images/B00R9BL4KS.jpg to ZIP\n",
      "Added images/B00W028N82.jpg to ZIP\n",
      "Added images/B000M7QDEI.jpg to ZIP\n",
      "Added images/B016MCAD8S.jpg to ZIP\n",
      "Added images/B010FEQT28.jpg to ZIP\n",
      "Added images/B0009GGZRC.jpg to ZIP\n",
      "Added images/B000NZKD18.jpg to ZIP\n",
      "Added images/B00X7BOB36.jpg to ZIP\n",
      "Added images/B00OJDIBAA.jpg to ZIP\n",
      "Added images/B00147VXC2.jpg to ZIP\n",
      "Added images/B0184COAOC.jpg to ZIP\n",
      "Added images/B00OJDEINO.jpg to ZIP\n",
      "Added images/B0161ZBORK.jpg to ZIP\n",
      "Added images/B005GNNZ1C.jpg to ZIP\n",
      "Added images/B0074COG16.jpg to ZIP\n",
      "Added images/B00KDG1AT6.jpg to ZIP\n",
      "Added images/B00TEZ8AW2.jpg to ZIP\n",
      "Added images/B006ZU6PVM.jpg to ZIP\n",
      "Added images/B00SLMO64K.jpg to ZIP\n",
      "Added images/B01FN1QSXI.jpg to ZIP\n",
      "Added images/B003VPAA1A.jpg to ZIP\n",
      "Added images/B00DXYNGUQ.jpg to ZIP\n",
      "Added images/B01F8J6COA.jpg to ZIP\n",
      "Added images/B0159S94R2.jpg to ZIP\n",
      "Added images/B0033WTFNA.jpg to ZIP\n",
      "Added images/B00CIOOAX4.jpg to ZIP\n",
      "Added images/B0013WHOIK.jpg to ZIP\n",
      "Added images/B00CHYNTMI.jpg to ZIP\n",
      "Added images/B00BKQT6I0.jpg to ZIP\n",
      "Added images/B016MFDPU8.jpg to ZIP\n",
      "Added images/B00178T77Q.jpg to ZIP\n",
      "Added images/B000GAYQJ0.jpg to ZIP\n",
      "Added images/B0096HMXB2.jpg to ZIP\n",
      "Added images/B00EMNNTV8.jpg to ZIP\n",
      "Added images/B001426D9K.jpg to ZIP\n",
      "Added images/B00PL44X0S.jpg to ZIP\n",
      "Added images/B000NIB7M4.jpg to ZIP\n",
      "Added images/B01B40BLPW.jpg to ZIP\n",
      "Added images/B00110K04O.jpg to ZIP\n",
      "Added images/B002DGC69C.jpg to ZIP\n",
      "Added images/B01DPJL1ZK.jpg to ZIP\n",
      "Added images/B00FYS7WUE.jpg to ZIP\n",
      "Added images/B00WM369QM.jpg to ZIP\n",
      "Added images/B00YV2R8Y4.jpg to ZIP\n",
      "Added images/B00WPMMX4M.jpg to ZIP\n",
      "Added images/B00YXE3LC8.jpg to ZIP\n",
      "Added images/B00HXD65XS.jpg to ZIP\n",
      "Added images/B0013M20PM.jpg to ZIP\n",
      "Added images/B01554ZTQU.jpg to ZIP\n",
      "Added images/B01ERGJ9HW.jpg to ZIP\n",
      "Added images/B01D10GFZE.jpg to ZIP\n",
      "Added images/B004EDFNBA.jpg to ZIP\n",
      "Added images/B001MTEY6Y.jpg to ZIP\n",
      "Added images/B0011MW6RG.jpg to ZIP\n",
      "Added images/B00843L9T6.jpg to ZIP\n",
      "Added images/B00KC8KBO0.jpg to ZIP\n",
      "Added images/B00VLNWN7I.jpg to ZIP\n",
      "Added images/B01B48NSOG.jpg to ZIP\n",
      "Added images/B000R96NLO.jpg to ZIP\n",
      "Added images/B0119NLJVU.jpg to ZIP\n",
      "Added images/B00W6ANNTM.jpg to ZIP\n",
      "Added images/B00ITIZEMY.jpg to ZIP\n",
      "Added images/B005F2DI7U.jpg to ZIP\n",
      "Added images/B01C9CGM26.jpg to ZIP\n",
      "Added images/B003YUJ3HY.jpg to ZIP\n",
      "Added images/B00YGY2QT4.jpg to ZIP\n",
      "Added images/B00165970W.jpg to ZIP\n",
      "Added images/B01H4645TO.jpg to ZIP\n",
      "Added images/B01E5PV5I6.jpg to ZIP\n",
      "Added images/B01AMABSCG.jpg to ZIP\n",
      "Added images/B0012IR0U2.jpg to ZIP\n",
      "Added images/B002Q8I5XS.jpg to ZIP\n",
      "Added images/B0182G3RB2.jpg to ZIP\n",
      "Added images/B006ZH7ZLO.jpg to ZIP\n",
      "Added images/B0081ET6M0.jpg to ZIP\n",
      "Added images/B010X19L6E.jpg to ZIP\n",
      "Added images/B005KVIACO.jpg to ZIP\n",
      "Added images/B00S1OP06G.jpg to ZIP\n",
      "Added images/B00TATJQTI.jpg to ZIP\n",
      "Added images/B003EPEOIM.jpg to ZIP\n",
      "Added images/B01971OA80.jpg to ZIP\n",
      "Added images/B00474A4MY.jpg to ZIP\n",
      "Added images/B000M4OGGS.jpg to ZIP\n",
      "Added images/B01FNUPOF2.jpg to ZIP\n",
      "Added images/B00AODW1Q4.jpg to ZIP\n",
      "Added images/B00K1W34IC.jpg to ZIP\n",
      "Added images/B00A9R2P7A.jpg to ZIP\n",
      "Added images/B001H55IEK.jpg to ZIP\n",
      "Added images/B002BYY5QI.jpg to ZIP\n",
      "Added images/B00142D92Y.jpg to ZIP\n",
      "Added images/B016JYIX68.jpg to ZIP\n",
      "Added images/B00P0KRRLU.jpg to ZIP\n",
      "Added images/B007MC9WOO.jpg to ZIP\n",
      "Added images/B0017UAXA4.jpg to ZIP\n",
      "Added images/B000NIB81E.jpg to ZIP\n",
      "Added images/B01FP2SXHE.jpg to ZIP\n",
      "Added images/B00FSJWMKE.jpg to ZIP\n",
      "Added images/B00KAPQ7A2.jpg to ZIP\n",
      "Added images/B01H3R3XWY.jpg to ZIP\n",
      "Added images/B0043ZT04K.jpg to ZIP\n",
      "Added images/B01568TW3G.jpg to ZIP\n",
      "Added images/B0059VI462.jpg to ZIP\n",
      "Added images/B00436VX2G.jpg to ZIP\n",
      "Added images/B00RL0XAKO.jpg to ZIP\n",
      "Added images/B00BN8L78W.jpg to ZIP\n",
      "Added images/B00NPLAZ7O.jpg to ZIP\n",
      "Added images/B003I4FFDW.jpg to ZIP\n",
      "Added images/B00WA3AFGY.jpg to ZIP\n",
      "Added images/B019DXU1B2.jpg to ZIP\n",
      "Added images/B01H3RJBRA.jpg to ZIP\n",
      "Added images/B00505DTHQ.jpg to ZIP\n",
      "Added images/B00162CDE2.jpg to ZIP\n",
      "Added images/B00VRLQDX4.jpg to ZIP\n",
      "Added images/B00127SM32.jpg to ZIP\n",
      "Added images/B005GVM5AQ.jpg to ZIP\n",
      "Added images/B0072GWBUW.jpg to ZIP\n",
      "Added images/B000P3G3JO.jpg to ZIP\n",
      "Added images/B01AC9JRHA.jpg to ZIP\n",
      "Added images/B017LVNIAY.jpg to ZIP\n",
      "Added images/B01BA731T8.jpg to ZIP\n",
      "Added images/B009FX067K.jpg to ZIP\n",
      "Added images/B0002TU158.jpg to ZIP\n",
      "Added images/B00WU25DMG.jpg to ZIP\n",
      "Added images/B00AYX6H8W.jpg to ZIP\n",
      "Added images/B00PVUBO9U.jpg to ZIP\n",
      "Added images/B005N6XIKK.jpg to ZIP\n",
      "Added images/B013I8V4T6.jpg to ZIP\n",
      "Added images/B01FIX67UK.jpg to ZIP\n",
      "Added images/B0078L61H0.jpg to ZIP\n",
      "Added images/B014WBBIOE.jpg to ZIP\n",
      "Added images/B003XMXDEC.jpg to ZIP\n",
      "Added images/B0027JJG84.jpg to ZIP\n",
      "Added images/B000FW7NEE.jpg to ZIP\n",
      "Added images/B00729OCYC.jpg to ZIP\n",
      "Added images/B003MUAHQW.jpg to ZIP\n",
      "Added images/B005P0329G.jpg to ZIP\n",
      "Added images/B0077BZ6GI.jpg to ZIP\n",
      "Added images/B00PW9RCRS.jpg to ZIP\n",
      "Added images/B00FYS8EL0.jpg to ZIP\n",
      "Added images/B00303F306.jpg to ZIP\n",
      "Added images/B00DO3TYBG.jpg to ZIP\n",
      "Added images/B0096LOS34.jpg to ZIP\n",
      "Added images/B0018KA9PM.jpg to ZIP\n",
      "Added images/B0018K74QY.jpg to ZIP\n",
      "Added images/B00VIK286U.jpg to ZIP\n",
      "Added images/B006T8SM3E.jpg to ZIP\n",
      "Added images/B00JVLOK7S.jpg to ZIP\n",
      "Added images/B01H1UHV5S.jpg to ZIP\n",
      "Added images/B00T5C0N9W.jpg to ZIP\n",
      "Added images/B01BG06BQE.jpg to ZIP\n",
      "Added images/B007L4YL4Y.jpg to ZIP\n",
      "Added images/B001CL8JCM.jpg to ZIP\n",
      "Added images/B003XDX5NA.jpg to ZIP\n",
      "Added images/B00JRD6O5Q.jpg to ZIP\n",
      "Added images/B0002MCQZS.jpg to ZIP\n",
      "Added images/B0097ZNH7M.jpg to ZIP\n",
      "Added images/B008VO5UES.jpg to ZIP\n",
      "Added images/B005ARJQFS.jpg to ZIP\n",
      "Added images/B014TE9HCY.jpg to ZIP\n",
      "Added images/B00A9ZHENC.jpg to ZIP\n",
      "Added images/B008JG9OZO.jpg to ZIP\n",
      "Added images/B013Q782DU.jpg to ZIP\n",
      "Added images/B005F2DD70.jpg to ZIP\n",
      "Added images/B00CFQIL30.jpg to ZIP\n",
      "Added images/B000JGE1EQ.jpg to ZIP\n",
      "Added images/B01DI5J1XU.jpg to ZIP\n",
      "Added images/B00HF64G7K.jpg to ZIP\n",
      "Added images/B001AMHLC2.jpg to ZIP\n",
      "Added images/B00KRTR5CU.jpg to ZIP\n",
      "Added images/B003DZIVRS.jpg to ZIP\n",
      "Added images/B01H3EC6WU.jpg to ZIP\n",
      "Added images/B00YO8R5I4.jpg to ZIP\n",
      "Added images/B001LNR14S.jpg to ZIP\n",
      "Added images/B000MFIFOQ.jpg to ZIP\n",
      "Added images/B002AVVIGM.jpg to ZIP\n",
      "Added images/B016YKHX1S.jpg to ZIP\n",
      "Added images/B0036SFD28.jpg to ZIP\n",
      "Added images/B00KJ8IXUW.jpg to ZIP\n",
      "Added images/B00AF0AW30.jpg to ZIP\n",
      "Added images/B00M0TSX7Q.jpg to ZIP\n",
      "Added images/B005EH8S3A.jpg to ZIP\n",
      "Added images/B00JQRSFDW.jpg to ZIP\n",
      "Added images/B000VHR4Q0.jpg to ZIP\n",
      "Added images/B005JBUVFY.jpg to ZIP\n",
      "Added images/B00GYVXZMO.jpg to ZIP\n",
      "Added images/B019DXU9M8.jpg to ZIP\n",
      "Added images/B000WEGAGM.jpg to ZIP\n",
      "Added images/B00843L4OG.jpg to ZIP\n",
      "Added images/B00BGVPZJI.jpg to ZIP\n",
      "Added images/B018KC1FKS.jpg to ZIP\n",
      "Added images/B00IRW89RO.jpg to ZIP\n",
      "Added images/B0018KOD7M.jpg to ZIP\n",
      "Added images/B008PE3VMW.jpg to ZIP\n",
      "Added images/B00QRHGDBA.jpg to ZIP\n",
      "Added images/B01A6L8S60.jpg to ZIP\n",
      "Added images/B01FP87S2O.jpg to ZIP\n",
      "Added images/B00119SIPS.jpg to ZIP\n",
      "Added images/B00GFLLRQE.jpg to ZIP\n",
      "Added images/B0012ON18Q.jpg to ZIP\n",
      "Added images/B00NERFY3E.jpg to ZIP\n",
      "Added images/B0182G3YBK.jpg to ZIP\n",
      "Added images/B00K6PHMIW.jpg to ZIP\n",
      "Added images/B00690G9DW.jpg to ZIP\n",
      "Added images/B00GIZ4AX4.jpg to ZIP\n",
      "Added images/B001GXRAOE.jpg to ZIP\n",
      "Added images/B00Y1QZ93C.jpg to ZIP\n",
      "Added images/B0141GFOAE.jpg to ZIP\n",
      "Added images/B00M1E6MTG.jpg to ZIP\n",
      "Added images/B001MS74RQ.jpg to ZIP\n",
      "Added images/B0196ZDF38.jpg to ZIP\n",
      "Added images/B00IAOBHYQ.jpg to ZIP\n",
      "Added images/B00UL7BL96.jpg to ZIP\n",
      "Added images/B001A62OYI.jpg to ZIP\n",
      "Added images/B00425JYME.jpg to ZIP\n",
      "Added images/B00IWJGKY6.jpg to ZIP\n",
      "Added images/B000FLTJ1U.jpg to ZIP\n",
      "Added images/B01BGW01YA.jpg to ZIP\n",
      "Added images/B00M28VG92.jpg to ZIP\n",
      "Added images/B0015MSD2O.jpg to ZIP\n",
      "Added images/B001HN5KOK.jpg to ZIP\n",
      "Added images/B00X146Q6E.jpg to ZIP\n",
      "Added images/B0043ZV7VE.jpg to ZIP\n",
      "Added images/B006ZH7V2C.jpg to ZIP\n",
      "Added images/B00CULSGPI.jpg to ZIP\n",
      "Added images/B0044XC0EI.jpg to ZIP\n",
      "Added images/B00178IO16.jpg to ZIP\n",
      "Added images/B003US44B0.jpg to ZIP\n",
      "Added images/B00F9S84AQ.jpg to ZIP\n",
      "Added images/B017Q16432.jpg to ZIP\n",
      "Added images/B00FZZPVI6.jpg to ZIP\n",
      "Added images/B001NVYDJO.jpg to ZIP\n",
      "Added images/B00F9S819U.jpg to ZIP\n",
      "Added images/B004528WC2.jpg to ZIP\n",
      "Added images/B0012S1X46.jpg to ZIP\n",
      "Added images/B0056EGNX8.jpg to ZIP\n",
      "Added images/B00X146FHE.jpg to ZIP\n",
      "Added images/B01EN3FH6Q.jpg to ZIP\n",
      "Added images/B0094KCBBS.jpg to ZIP\n",
      "Added images/B008KGSTRM.jpg to ZIP\n",
      "Added images/B00S5EOTVY.jpg to ZIP\n",
      "Added images/B00A6G3YJW.jpg to ZIP\n",
      "Added images/B001BZ8EF6.jpg to ZIP\n",
      "Added images/B00FYS82WG.jpg to ZIP\n",
      "Added images/B00K5M4RJI.jpg to ZIP\n",
      "Added images/B004GB194K.jpg to ZIP\n",
      "Added images/B00SG1PIUC.jpg to ZIP\n",
      "Added images/B01GHX1Y3U.jpg to ZIP\n",
      "Added images/B00D8YE7JA.jpg to ZIP\n",
      "Added images/B00GMSHF48.jpg to ZIP\n",
      "Added images/B004MROLS4.jpg to ZIP\n",
      "Added images/B009YKO0AI.jpg to ZIP\n",
      "Added images/B01FANCWO8.jpg to ZIP\n",
      "Added images/B00XKY84LK.jpg to ZIP\n",
      "Added images/B00LPASKDS.jpg to ZIP\n",
      "Added images/B00YGY2XSI.jpg to ZIP\n",
      "Added images/B014FD6R2M.jpg to ZIP\n",
      "Added images/B00YGGVCWE.jpg to ZIP\n",
      "Added images/B001GLMTRY.jpg to ZIP\n",
      "Added images/B00WIOP5KG.jpg to ZIP\n",
      "Added images/B00IWJGCZS.jpg to ZIP\n",
      "Added images/B00186T7FO.jpg to ZIP\n",
      "Added images/B01CZYW77W.jpg to ZIP\n",
      "Added images/B001609TLO.jpg to ZIP\n",
      "Added images/B00K3JFXI2.jpg to ZIP\n",
      "Added images/B009YK9WRE.jpg to ZIP\n",
      "Added images/B0018Q7FYE.jpg to ZIP\n",
      "Added images/B007I35PPC.jpg to ZIP\n",
      "Added images/B01C42GCIU.jpg to ZIP\n",
      "Added images/B00P2A8E88.jpg to ZIP\n",
      "Added images/B017KACJO2.jpg to ZIP\n",
      "Added images/B00FYS8AA0.jpg to ZIP\n",
      "Added images/B000YHRAWA.jpg to ZIP\n",
      "Added images/B00DM05EHO.jpg to ZIP\n",
      "Added images/B00KLC6UCO.jpg to ZIP\n",
      "Added images/B0009GCTLS.jpg to ZIP\n",
      "Added images/B00FGQJTHS.jpg to ZIP\n",
      "Added images/B000BFHEAI.jpg to ZIP\n",
      "Added images/B007QV4NEU.jpg to ZIP\n",
      "Added images/B005033D0Q.jpg to ZIP\n",
      "Added images/B00BKQTA4A.jpg to ZIP\n",
      "Added images/B00UH9ZBDK.jpg to ZIP\n",
      "Added images/B001EACUGM.jpg to ZIP\n",
      "Added images/B00167U1Y6.jpg to ZIP\n",
      "Added images/B006ZU6HSI.jpg to ZIP\n",
      "Added images/B003P0XO0A.jpg to ZIP\n",
      "Added images/B005GPGMY2.jpg to ZIP\n",
      "Added images/B001F79LS4.jpg to ZIP\n",
      "Added images/B00MGAN4MS.jpg to ZIP\n",
      "Added images/B00WPMMURM.jpg to ZIP\n",
      "Added images/B000MD3X2C.jpg to ZIP\n",
      "Added images/B004SB23MK.jpg to ZIP\n",
      "Added images/B013Y5Y0HQ.jpg to ZIP\n",
      "Added images/B01AKX3D3M.jpg to ZIP\n",
      "Added images/B0002RZPRY.jpg to ZIP\n",
      "Added images/B00DIYMB20.jpg to ZIP\n",
      "Added images/B01GHF6ROY.jpg to ZIP\n",
      "Added images/B00LFH50PM.jpg to ZIP\n",
      "Added images/B00NPLFMWC.jpg to ZIP\n",
      "Added images/B01CZYWGBO.jpg to ZIP\n",
      "Added images/B000NGJ3QS.jpg to ZIP\n",
      "Added images/B00PS1YX9A.jpg to ZIP\n",
      "Added images/B0013XWDGC.jpg to ZIP\n",
      "Added images/B00142M3Z8.jpg to ZIP\n",
      "Added images/B0010B0062.jpg to ZIP\n",
      "Added images/B00KAL6M9M.jpg to ZIP\n",
      "Added images/B010MC6BYO.jpg to ZIP\n",
      "Added images/B00FMTJ0IC.jpg to ZIP\n",
      "Added images/B00XNSN7OC.jpg to ZIP\n",
      "Added images/B006QLFEDU.jpg to ZIP\n",
      "Added images/B01BDA13GA.jpg to ZIP\n",
      "Added images/B00MG3GMC4.jpg to ZIP\n",
      "Added images/B0018ADDX2.jpg to ZIP\n",
      "Added images/B004W7R30W.jpg to ZIP\n",
      "Added images/B007I358DQ.jpg to ZIP\n",
      "Added images/B0155FTLL8.jpg to ZIP\n",
      "Added images/B005M0HNRG.jpg to ZIP\n",
      "Added images/B011NI0SVS.jpg to ZIP\n",
      "Added images/B002PK8RJ4.jpg to ZIP\n",
      "Added images/B008PQB7HQ.jpg to ZIP\n",
      "Added images/B00AXW0O4C.jpg to ZIP\n",
      "Added images/B0016OBFYE.jpg to ZIP\n",
      "Added images/B001N3NGCM.jpg to ZIP\n",
      "Added images/B00LEBMGIS.jpg to ZIP\n",
      "Added images/B0077BXZJI.jpg to ZIP\n",
      "Added images/B001AXRI9M.jpg to ZIP\n",
      "Added images/B010165CA0.jpg to ZIP\n",
      "Added images/B001ABN5CI.jpg to ZIP\n",
      "Added images/B00RECOV9S.jpg to ZIP\n",
      "Added images/B00BKQT5JU.jpg to ZIP\n",
      "Added images/B00LGKYMC0.jpg to ZIP\n",
      "Added images/B00BG01X5Y.jpg to ZIP\n",
      "Added images/B00AF0ALF4.jpg to ZIP\n",
      "Added images/B000IZZ29G.jpg to ZIP\n",
      "Added images/B0018AOERG.jpg to ZIP\n",
      "Added images/B01B6Z6EZC.jpg to ZIP\n",
      "Added images/B009EAGVG4.jpg to ZIP\n",
      "Added images/B010NX6SZ4.jpg to ZIP\n",
      "Added images/B0015Z34DY.jpg to ZIP\n",
      "Added images/B0098IIOJY.jpg to ZIP\n",
      "Added images/B003BLPPAA.jpg to ZIP\n",
      "Added images/B00PXSBGOI.jpg to ZIP\n",
      "Added images/B00X3OKTG0.jpg to ZIP\n",
      "Added images/B0002QV9VG.jpg to ZIP\n",
      "Added images/B013IXDXQ8.jpg to ZIP\n",
      "Added images/B001A9PJW4.jpg to ZIP\n",
      "Added images/B0114MX180.jpg to ZIP\n",
      "Added images/B00H4XEDN6.jpg to ZIP\n",
      "Added images/B00MEZYQ68.jpg to ZIP\n",
      "Added images/B01084KLYC.jpg to ZIP\n",
      "Added images/B003SG0EC2.jpg to ZIP\n",
      "Added images/B0016ORGH4.jpg to ZIP\n",
      "Added images/B003HCN8JS.jpg to ZIP\n",
      "Added images/B01AJ3YG9I.jpg to ZIP\n",
      "Added images/B009Q85EC6.jpg to ZIP\n",
      "Added images/B0009MM34U.jpg to ZIP\n",
      "Added images/B00AYCO5ZU.jpg to ZIP\n",
      "Added images/B00JP6KG40.jpg to ZIP\n",
      "Added images/B0176UFNOO.jpg to ZIP\n",
      "Added images/B000AL8IV2.jpg to ZIP\n",
      "Added images/B01FYCYNQU.jpg to ZIP\n",
      "Added images/B000SBKP7Y.jpg to ZIP\n",
      "Added images/B000P50WSK.jpg to ZIP\n",
      "Added images/B0030CGSHY.jpg to ZIP\n",
      "Added images/B00G54KPQE.jpg to ZIP\n",
      "Added images/B00D5YT49Q.jpg to ZIP\n",
      "Added images/B000VK9VAE.jpg to ZIP\n",
      "Added images/B00D68PWOW.jpg to ZIP\n",
      "Added images/B00OLEBCS0.jpg to ZIP\n",
      "Added images/B00ECV5OL8.jpg to ZIP\n",
      "Added images/B00KA3VXYO.jpg to ZIP\n",
      "Added images/B00QWTFWB0.jpg to ZIP\n",
      "Added images/B019ZGW58O.jpg to ZIP\n",
      "Added images/B00H5I8LWY.jpg to ZIP\n",
      "Added images/B019HGKT9E.jpg to ZIP\n",
      "Added images/B01FHB2A90.jpg to ZIP\n",
      "Added images/B01FN6FYYW.jpg to ZIP\n",
      "Added images/B010FRGRRW.jpg to ZIP\n",
      "Added images/B001E2IOFQ.jpg to ZIP\n",
      "Added images/B00WRJ194I.jpg to ZIP\n",
      "Added images/B00MG0P0VG.jpg to ZIP\n",
      "Added images/B004H4WI96.jpg to ZIP\n",
      "Added images/B00M0ESOAM.jpg to ZIP\n",
      "Added images/B0195EWFAE.jpg to ZIP\n",
      "Added images/B0192RDK7G.jpg to ZIP\n",
      "Added images/B00962GUDE.jpg to ZIP\n",
      "Added images/B00DMWQJJY.jpg to ZIP\n",
      "Added images/B006M5LFK6.jpg to ZIP\n",
      "Added images/B00T6SKIQI.jpg to ZIP\n",
      "Added images/B000XB2LXA.jpg to ZIP\n",
      "Added images/B00FMTK022.jpg to ZIP\n",
      "Added images/B00YV6FL9E.jpg to ZIP\n",
      "Added images/B01CGYV0C4.jpg to ZIP\n",
      "Added images/B00RELPMVA.jpg to ZIP\n",
      "Added images/B00GID2YW0.jpg to ZIP\n",
      "Added images/B00GYVYAHI.jpg to ZIP\n",
      "Added images/B00CRDL1BA.jpg to ZIP\n",
      "Added images/B00K3W9XPI.jpg to ZIP\n",
      "Added images/B013ST30OM.jpg to ZIP\n",
      "Added images/B007E9Z8AC.jpg to ZIP\n",
      "Added images/B00AWMBZAA.jpg to ZIP\n",
      "Added images/B002E9HGJI.jpg to ZIP\n",
      "Added images/B0018DM39O.jpg to ZIP\n",
      "Added images/B00EOIEHS0.jpg to ZIP\n",
      "Added images/B01B6Z6FB0.jpg to ZIP\n",
      "Added images/B016MFF8EE.jpg to ZIP\n",
      "Added images/B0089MWM70.jpg to ZIP\n",
      "Added images/B004X4L3XC.jpg to ZIP\n",
      "Added images/B00R54YXFW.jpg to ZIP\n",
      "Added images/B008J0QHHI.jpg to ZIP\n",
      "Added images/B00AWMBXNY.jpg to ZIP\n",
      "Added images/B00T5C1SIC.jpg to ZIP\n",
      "Added images/B004NND1GK.jpg to ZIP\n",
      "Added images/B0026KF9PI.jpg to ZIP\n",
      "Added images/B00CRDJBTE.jpg to ZIP\n",
      "Added images/B000Q6QB92.jpg to ZIP\n",
      "Added images/B00IABSCHO.jpg to ZIP\n",
      "Added images/B002K2SPDA.jpg to ZIP\n",
      "Added images/B013QYCJUA.jpg to ZIP\n",
      "Added images/B002IX24JM.jpg to ZIP\n",
      "Added images/B01CKS3FLK.jpg to ZIP\n",
      "Added images/B00E084TH8.jpg to ZIP\n",
      "Added images/B0171HZSFG.jpg to ZIP\n",
      "Added images/B001BDJY5W.jpg to ZIP\n",
      "Added images/B01BIKX624.jpg to ZIP\n",
      "Added images/B0013J3TGY.jpg to ZIP\n",
      "Added images/B01AAUD7DG.jpg to ZIP\n",
      "Added images/B00H0RYFFM.jpg to ZIP\n",
      "Added images/B00OJAAJCQ.jpg to ZIP\n",
      "Added images/B00MF9M5Y8.jpg to ZIP\n",
      "Added images/B0012OFU2Q.jpg to ZIP\n",
      "Added images/B00VJL8NCG.jpg to ZIP\n",
      "Added images/B00AKKHBFC.jpg to ZIP\n",
      "Added images/B0089U89TC.jpg to ZIP\n",
      "Added images/B00BKQT8RE.jpg to ZIP\n",
      "Added images/B0009WXSHG.jpg to ZIP\n",
      "Added images/B01CTR1U3C.jpg to ZIP\n",
      "Added images/B00563BQVI.jpg to ZIP\n",
      "Added images/B00GBD527G.jpg to ZIP\n",
      "Added images/B00KLC7QKE.jpg to ZIP\n",
      "Added images/B00YUULXBG.jpg to ZIP\n",
      "Added images/B0058BI6PM.jpg to ZIP\n",
      "Added images/B000OEDN1A.jpg to ZIP\n",
      "Added images/B00F40AKR4.jpg to ZIP\n",
      "Added images/B00ATUFX4Y.jpg to ZIP\n",
      "Added images/B001539FR0.jpg to ZIP\n",
      "Added images/B00YXDO1PU.jpg to ZIP\n",
      "Added images/B00G55KVJO.jpg to ZIP\n",
      "Added images/B00164VD28.jpg to ZIP\n",
      "Added images/B00X8AMIDG.jpg to ZIP\n",
      "Added images/B00EJHNNMW.jpg to ZIP\n",
      "Added images/B00700B3TU.jpg to ZIP\n",
      "Added images/B00BEZT2KE.jpg to ZIP\n",
      "Added images/B0036SG5HA.jpg to ZIP\n",
      "Added images/B010NX65CU.jpg to ZIP\n",
      "Added images/B010E6X9KC.jpg to ZIP\n",
      "Added images/B00D8YEVPU.jpg to ZIP\n",
      "Added images/B000JGHU4O.jpg to ZIP\n",
      "Added images/B0032FNYJE.jpg to ZIP\n",
      "Added images/B00WPMMSMO.jpg to ZIP\n",
      "Added images/B00JB1LU26.jpg to ZIP\n",
      "Added images/B00BIKMKUO.jpg to ZIP\n",
      "Added images/B00AFCLM1Y.jpg to ZIP\n",
      "Added images/B003EOA6RG.jpg to ZIP\n",
      "Added images/B00NVBRBX4.jpg to ZIP\n",
      "Added images/B008VPS55S.jpg to ZIP\n",
      "Added images/B01CU9BBCO.jpg to ZIP\n",
      "Added images/B00BEZP76C.jpg to ZIP\n",
      "Added images/B000W0IZL4.jpg to ZIP\n",
      "Added images/B01F75DM3Y.jpg to ZIP\n",
      "Added images/B013IXCREW.jpg to ZIP\n",
      "Added images/B000VK11DY.jpg to ZIP\n",
      "Added images/B000WOWXWW.jpg to ZIP\n",
      "Added images/B00C4BP7GA.jpg to ZIP\n",
      "Added images/B00AB0QY40.jpg to ZIP\n",
      "Added images/B00CIJ82J2.jpg to ZIP\n",
      "Added images/B00BCQOSCW.jpg to ZIP\n",
      "Added images/B00G3J58XG.jpg to ZIP\n",
      "Added images/B0016HH77U.jpg to ZIP\n",
      "Added images/B00BQJVZQM.jpg to ZIP\n",
      "Added images/B00KDFA7EG.jpg to ZIP\n",
      "Added images/B001V6KEUS.jpg to ZIP\n",
      "Added images/B000XW2TQS.jpg to ZIP\n",
      "Added images/B0015U090A.jpg to ZIP\n",
      "Added images/B001NFQ1K4.jpg to ZIP\n",
      "Added images/B013G9AYPC.jpg to ZIP\n",
      "Added images/B000M9APH2.jpg to ZIP\n",
      "Added images/B00M93PD8U.jpg to ZIP\n",
      "Added images/B00C3EO98U.jpg to ZIP\n",
      "Added images/B005LCOAGC.jpg to ZIP\n",
      "Added images/B00SAHKH4Y.jpg to ZIP\n",
      "Added images/B0016OURKM.jpg to ZIP\n",
      "Added images/B001CE0ZU8.jpg to ZIP\n",
      "Added images/B01GQG9EQ2.jpg to ZIP\n",
      "Added images/B00M1DPZEU.jpg to ZIP\n",
      "Added images/B00V29PYFE.jpg to ZIP\n",
      "Added images/B00D4KTELO.jpg to ZIP\n",
      "Added images/B006B1R3PW.jpg to ZIP\n",
      "Added images/B008JGBHLI.jpg to ZIP\n",
      "Added images/B01E5B1BWK.jpg to ZIP\n",
      "Added images/B001BBSK5E.jpg to ZIP\n",
      "Added images/B001ELKKTK.jpg to ZIP\n",
      "Added images/B01ACB8MLU.jpg to ZIP\n",
      "Added images/B003SMAURU.jpg to ZIP\n",
      "Added images/B001KY4EO8.jpg to ZIP\n",
      "Added images/B00X1466G4.jpg to ZIP\n",
      "Added images/B00C251SSO.jpg to ZIP\n",
      "Added images/B00O8XPNZC.jpg to ZIP\n",
      "Added images/B00K3W0E9M.jpg to ZIP\n",
      "Added images/B00028B4XW.jpg to ZIP\n",
      "Added images/B00OJAA5SE.jpg to ZIP\n",
      "Added images/B01CZYWE1G.jpg to ZIP\n",
      "Added images/B0182CPS4U.jpg to ZIP\n",
      "Added images/B016JYIYEO.jpg to ZIP\n",
      "Added images/B00KTMH97Q.jpg to ZIP\n",
      "Added images/B000V24KKI.jpg to ZIP\n",
      "Added images/B00155AZK4.jpg to ZIP\n",
      "Added images/B0034724HI.jpg to ZIP\n",
      "Added images/B000P50WY4.jpg to ZIP\n",
      "Added images/B005HEJDEI.jpg to ZIP\n",
      "Added images/B0151T22W8.jpg to ZIP\n",
      "Added images/B0013A936I.jpg to ZIP\n",
      "Added images/B009286KVO.jpg to ZIP\n",
      "Added images/B00HZWNBNE.jpg to ZIP\n",
      "Added images/B01FTXPTMG.jpg to ZIP\n",
      "Added images/B017LVPZUK.jpg to ZIP\n",
      "Added images/B000K2J4VY.jpg to ZIP\n",
      "Added images/B0056JZS4I.jpg to ZIP\n",
      "Added images/B00CBV4872.jpg to ZIP\n",
      "Added images/B00PL44P24.jpg to ZIP\n",
      "Added images/B0011V5NCM.jpg to ZIP\n",
      "Added images/B0085QX3XW.jpg to ZIP\n",
      "Added images/B017Q17BMK.jpg to ZIP\n",
      "Added images/B001HN5KO0.jpg to ZIP\n",
      "Added images/B009YK6ZBU.jpg to ZIP\n",
      "Added images/B01FRKC5BO.jpg to ZIP\n",
      "Added images/B002P4R7L4.jpg to ZIP\n",
      "Added images/B0024A98XO.jpg to ZIP\n",
      "Added images/B003CYL9ZQ.jpg to ZIP\n",
      "Added images/B001B3JJFW.jpg to ZIP\n",
      "Added images/B00X12GVG6.jpg to ZIP\n",
      "Added images/B01FWTCRSG.jpg to ZIP\n",
      "Added images/B005KP4772.jpg to ZIP\n",
      "Added images/B00M1E1PXE.jpg to ZIP\n",
      "Added images/B000WBO0SA.jpg to ZIP\n",
      "Added images/B01DYQHJ5U.jpg to ZIP\n",
      "Added images/B00NYLUESU.jpg to ZIP\n",
      "Added images/B01EB1EN06.jpg to ZIP\n",
      "Added images/B0047F940G.jpg to ZIP\n",
      "Added images/B00X5ILUO4.jpg to ZIP\n",
      "Added images/B005FDWQ0E.jpg to ZIP\n",
      "Added images/B00MRI9216.jpg to ZIP\n",
      "Added images/B001PKTMBW.jpg to ZIP\n",
      "Added images/B00H5I8MZ0.jpg to ZIP\n",
      "Added images/B001V9LS3M.jpg to ZIP\n",
      "Added images/B00KA3TVAM.jpg to ZIP\n",
      "Added images/B00962GUF2.jpg to ZIP\n",
      "Added images/B00GBCW2ES.jpg to ZIP\n",
      "Added images/B00H5I8HCI.jpg to ZIP\n",
      "Added images/B001CS8E2A.jpg to ZIP\n",
      "Added images/B004XV2U00.jpg to ZIP\n",
      "Added images/B00K0TZDAS.jpg to ZIP\n",
      "Added images/B00SU52460.jpg to ZIP\n",
      "Added images/B01CH3FZNO.jpg to ZIP\n",
      "Added images/B00EABUYFQ.jpg to ZIP\n",
      "Added images/B00FDMZTVA.jpg to ZIP\n",
      "Added images/B017AF0VCO.jpg to ZIP\n",
      "Added images/B000LUTFY6.jpg to ZIP\n",
      "Added images/B00GCL7B94.jpg to ZIP\n",
      "Added images/B00CB99Z18.jpg to ZIP\n",
      "Added images/B000WHU33U.jpg to ZIP\n",
      "Added images/B00P27JEEO.jpg to ZIP\n",
      "Added images/B00LDSURHE.jpg to ZIP\n",
      "Added images/B00XKXI380.jpg to ZIP\n",
      "Added images/B00SSW1D26.jpg to ZIP\n",
      "Added images/B00DYPU422.jpg to ZIP\n",
      "Added images/B0030XN3VW.jpg to ZIP\n",
      "Added images/B00YKYE8DW.jpg to ZIP\n",
      "Added images/B000P3J06M.jpg to ZIP\n",
      "Added images/B00CVT3FKK.jpg to ZIP\n",
      "Added images/B00JXN6N1U.jpg to ZIP\n",
      "Added images/B017XVP20G.jpg to ZIP\n",
      "Added images/B00IRW86BS.jpg to ZIP\n",
      "Added images/B00X146E1G.jpg to ZIP\n",
      "Added images/B00UXBPMKY.jpg to ZIP\n",
      "Added images/B00HXD63OO.jpg to ZIP\n",
      "Added images/B003SL8J7Y.jpg to ZIP\n",
      "Added images/B00CHSERPW.jpg to ZIP\n",
      "Added images/B013F1KJPG.jpg to ZIP\n",
      "Added images/B0042ZAGSK.jpg to ZIP\n",
      "Added images/B001BZAFXU.jpg to ZIP\n",
      "Added images/B00AYYHI70.jpg to ZIP\n",
      "Added images/B00G3JTYJK.jpg to ZIP\n",
      "Added images/B016V58U9A.jpg to ZIP\n",
      "Added images/B00371KQ9Y.jpg to ZIP\n",
      "Added images/B018H6WJNY.jpg to ZIP\n",
      "Added images/B01EYJXMOI.jpg to ZIP\n",
      "Added images/B00F92CVBA.jpg to ZIP\n",
      "Added images/B00Q43FSPO.jpg to ZIP\n",
      "Added images/B0034HL78K.jpg to ZIP\n",
      "Added images/B005IM8J94.jpg to ZIP\n",
      "Added images/B00GTNQ80I.jpg to ZIP\n",
      "Added images/B0098SG1SU.jpg to ZIP\n",
      "Added images/B01BIMDKVY.jpg to ZIP\n",
      "Added images/B00J9A9R6A.jpg to ZIP\n",
      "Added images/B01BKT8RI6.jpg to ZIP\n",
      "Added images/B013ST2S86.jpg to ZIP\n",
      "Added images/B0130XM9RA.jpg to ZIP\n",
      "Added images/B0014EAX8U.jpg to ZIP\n",
      "Added images/B00B4WK8HS.jpg to ZIP\n",
      "Added images/B00D5V42JG.jpg to ZIP\n",
      "Added images/B005MNH11Q.jpg to ZIP\n",
      "Added images/B009EREA6U.jpg to ZIP\n",
      "Added images/B00J29JTLG.jpg to ZIP\n",
      "Added images/B00X12IZCY.jpg to ZIP\n",
      "Added images/B007SEI94A.jpg to ZIP\n",
      "Added images/B00S5ZMAH8.jpg to ZIP\n",
      "Added images/B0018D9D9C.jpg to ZIP\n",
      "Added images/B007FHWGX0.jpg to ZIP\n",
      "Added images/B005FW5YX6.jpg to ZIP\n",
      "Added images/B00HEXSZOY.jpg to ZIP\n",
      "Added images/B00XKSICDQ.jpg to ZIP\n",
      "Added images/B005JBUVW2.jpg to ZIP\n",
      "Added images/B000HGUUHK.jpg to ZIP\n",
      "Added images/B00WGVFD7Q.jpg to ZIP\n",
      "Added images/B001MTEZIQ.jpg to ZIP\n",
      "Added images/B00YGY2NRE.jpg to ZIP\n",
      "Added images/B00164T8S4.jpg to ZIP\n",
      "Added images/B005GV6VC4.jpg to ZIP\n",
      "Added images/B00HPQI9C8.jpg to ZIP\n",
      "Added images/B0012U47K6.jpg to ZIP\n",
      "Added images/B00MUAN0EQ.jpg to ZIP\n",
      "Added images/B017LTPXL8.jpg to ZIP\n",
      "Added images/B01BKV6E70.jpg to ZIP\n",
      "Added images/B00A6G44R8.jpg to ZIP\n",
      "Added images/B000YJW5FU.jpg to ZIP\n",
      "Added images/B00C253PAI.jpg to ZIP\n",
      "Added images/B009TB0DUI.jpg to ZIP\n",
      "Added images/B01BO2RGZO.jpg to ZIP\n",
      "Added images/B00RJUPGG2.jpg to ZIP\n",
      "Added images/B005HJBENQ.jpg to ZIP\n",
      "Added images/B00FN5PHG4.jpg to ZIP\n",
      "Added images/B00BKQT54A.jpg to ZIP\n",
      "Added images/B003N691V2.jpg to ZIP\n",
      "Added images/B001KU6DJG.jpg to ZIP\n",
      "Added images/B01H1V6DTC.jpg to ZIP\n",
      "Added images/B00MAVF38Q.jpg to ZIP\n",
      "Added images/B0084YY4PG.jpg to ZIP\n",
      "Added images/B00C3ENEFO.jpg to ZIP\n",
      "Added images/B01CNKZH16.jpg to ZIP\n",
      "Added images/B003JZB75A.jpg to ZIP\n",
      "Added images/B005E4CU7I.jpg to ZIP\n",
      "Added images/B00LEC3A0A.jpg to ZIP\n",
      "Added images/B0081SH1WS.jpg to ZIP\n",
      "Added images/B01AP1A9Z4.jpg to ZIP\n",
      "Added images/B0014UYG1E.jpg to ZIP\n",
      "Added images/B00SO03GAE.jpg to ZIP\n",
      "Added images/B00120070A.jpg to ZIP\n",
      "Added images/B01B16CZCW.jpg to ZIP\n",
      "Added images/B00PKHI9DI.jpg to ZIP\n",
      "Added images/B005GVDDU2.jpg to ZIP\n",
      "Added images/B00C3ELGAY.jpg to ZIP\n",
      "Added images/B01EXYQ6YW.jpg to ZIP\n",
      "Added images/B00M1DECUI.jpg to ZIP\n",
      "Added images/B004WIZGD2.jpg to ZIP\n",
      "Added images/B000A2K71A.jpg to ZIP\n",
      "Added images/B01EHIVA6S.jpg to ZIP\n",
      "Added images/B0012VKC68.jpg to ZIP\n",
      "Added images/B017MR8QXG.jpg to ZIP\n",
      "Added images/B00Y870XFS.jpg to ZIP\n",
      "Added images/B00062NFGI.jpg to ZIP\n",
      "Added images/B009XGQ1HS.jpg to ZIP\n",
      "Added images/B000K2J4R8.jpg to ZIP\n",
      "Added images/B00KC7PKZQ.jpg to ZIP\n",
      "Added images/B00FRRA1FK.jpg to ZIP\n",
      "Added images/B001CIVVT8.jpg to ZIP\n",
      "Added images/B00P3ASWQQ.jpg to ZIP\n",
      "Added images/B008CL1AJY.jpg to ZIP\n",
      "Added images/B00H8O97C8.jpg to ZIP\n",
      "Added images/B000MFF88M.jpg to ZIP\n",
      "Added images/B000798IGC.jpg to ZIP\n",
      "Added images/B004JYAMOW.jpg to ZIP\n",
      "Added images/B00FRVMA0K.jpg to ZIP\n",
      "Added images/B00VEFKZ6Y.jpg to ZIP\n",
      "Added images/B006ZH89FK.jpg to ZIP\n",
      "Added images/B00505DW2I.jpg to ZIP\n",
      "Added images/B003291VX6.jpg to ZIP\n",
      "Added images/B001A8XBNE.jpg to ZIP\n",
      "Added images/B006NZ5FRY.jpg to ZIP\n",
      "Added images/B00JM7P034.jpg to ZIP\n",
      "Added images/B0052OPAM2.jpg to ZIP\n",
      "Added images/B01BGW1BEE.jpg to ZIP\n",
      "Added images/B008EQ9J1I.jpg to ZIP\n",
      "Added images/B00J5GD9AS.jpg to ZIP\n",
      "Added images/B006DI0NH8.jpg to ZIP\n",
      "Added images/B0097AX96G.jpg to ZIP\n",
      "Added images/B00K3VZS4E.jpg to ZIP\n",
      "Added images/B009E5QYE8.jpg to ZIP\n",
      "Added images/B001MWS3HC.jpg to ZIP\n",
      "Added images/B001330KGM.jpg to ZIP\n",
      "Added images/B00I50A7RS.jpg to ZIP\n",
      "Added images/B016M9GLSC.jpg to ZIP\n",
      "Added images/B00M1DBWI8.jpg to ZIP\n",
      "Added images/B000GAWSGI.jpg to ZIP\n",
      "Added images/B0014TJV38.jpg to ZIP\n",
      "Added images/B01CUN60T4.jpg to ZIP\n",
      "Added images/B0026KMF2S.jpg to ZIP\n",
      "Added images/B00GG3OWEK.jpg to ZIP\n",
      "Added images/B000A2K576.jpg to ZIP\n",
      "Added images/B000XHW0HQ.jpg to ZIP\n",
      "Added images/B0015DCMBQ.jpg to ZIP\n",
      "Added images/B009EK3NG0.jpg to ZIP\n",
      "Added images/B01DNSVF3G.jpg to ZIP\n",
      "Added images/B00PXSBGR0.jpg to ZIP\n",
      "Added images/B005KQAZPO.jpg to ZIP\n",
      "Added images/B00EHA7KLQ.jpg to ZIP\n",
      "Added images/B00D9JSKU6.jpg to ZIP\n",
      "Added images/B019FA99OS.jpg to ZIP\n",
      "Added images/B00BEYQHK8.jpg to ZIP\n",
      "Added images/B01H7NPCVY.jpg to ZIP\n",
      "Added images/B00YXCWQTO.jpg to ZIP\n",
      "Added images/B0186FTWGI.jpg to ZIP\n",
      "Added images/B00S5VKIJO.jpg to ZIP\n",
      "Added images/B00PL6JKUE.jpg to ZIP\n",
      "Added images/B00X146PQK.jpg to ZIP\n",
      "Added images/B008JYCEO4.jpg to ZIP\n",
      "Added images/B00I0AB5HE.jpg to ZIP\n",
      "Added images/B0023UIHKU.jpg to ZIP\n",
      "Added images/B00CXN01J2.jpg to ZIP\n",
      "Added images/B012NOWKAS.jpg to ZIP\n",
      "Added images/B01H3RJBO8.jpg to ZIP\n",
      "Added images/B008EYPQFI.jpg to ZIP\n",
      "Added images/B00CW7M93A.jpg to ZIP\n",
      "Added images/B000FGL814.jpg to ZIP\n",
      "Added images/B013UVK2U8.jpg to ZIP\n",
      "Added images/B00HEVAZBW.jpg to ZIP\n",
      "Added images/B011836NL2.jpg to ZIP\n",
      "Added images/B019D9OCFM.jpg to ZIP\n",
      "Added images/B0058ZZJJE.jpg to ZIP\n",
      "Added images/B00OQ06CTI.jpg to ZIP\n",
      "Added images/B00CRDKBSY.jpg to ZIP\n",
      "Added images/B00ECV5BY8.jpg to ZIP\n",
      "Added images/B00JGHMFK6.jpg to ZIP\n",
      "Added images/B00016QPCU.jpg to ZIP\n",
      "Added images/B003BT58PE.jpg to ZIP\n",
      "Added images/B00KCXGOLE.jpg to ZIP\n",
      "Added images/B019FWGXBS.jpg to ZIP\n",
      "Added images/B00J9A9QYI.jpg to ZIP\n",
      "Added images/B00P3ATUKS.jpg to ZIP\n",
      "Added images/B0019WY522.jpg to ZIP\n",
      "Added images/B0028QFTNC.jpg to ZIP\n",
      "Added images/B00X146RYU.jpg to ZIP\n",
      "Added images/B000R91NFA.jpg to ZIP\n",
      "Added images/B0085OJNVA.jpg to ZIP\n",
      "Added images/B001MV7A4K.jpg to ZIP\n",
      "Added images/B004SB1UQA.jpg to ZIP\n",
      "Added images/B01BKGA9YO.jpg to ZIP\n",
      "Added images/B010S608KW.jpg to ZIP\n",
      "Added images/B00HNMI1WC.jpg to ZIP\n",
      "Added images/B00DXYP21M.jpg to ZIP\n",
      "Added images/B00XKXIAAG.jpg to ZIP\n",
      "Added images/B0011YQ41S.jpg to ZIP\n",
      "Added images/B00DM05BU4.jpg to ZIP\n",
      "Added images/B007XDE7NI.jpg to ZIP\n",
      "Added images/B00VURP3O0.jpg to ZIP\n",
      "Added images/B0011YXIUI.jpg to ZIP\n",
      "Added images/B0027SF62U.jpg to ZIP\n",
      "Added images/B002DPVCB6.jpg to ZIP\n",
      "Added images/B00IT3G1Y4.jpg to ZIP\n",
      "Added images/B0080BFM9U.jpg to ZIP\n",
      "Added images/B00LLJ6IN2.jpg to ZIP\n",
      "Added images/B004PEHYPG.jpg to ZIP\n",
      "Added images/B01DOOT6EE.jpg to ZIP\n",
      "Added images/B0047645Q8.jpg to ZIP\n",
      "Added images/B01GQ3OUZU.jpg to ZIP\n",
      "Added images/B0055BFV30.jpg to ZIP\n",
      "Added images/B00VO201J8.jpg to ZIP\n",
      "Added images/B00K3YKLD4.jpg to ZIP\n",
      "Added images/B01EZFV7VQ.jpg to ZIP\n",
      "Added images/B00LMEK5TO.jpg to ZIP\n",
      "Added images/B01FXQ6GBM.jpg to ZIP\n",
      "Added images/B008VPQLTK.jpg to ZIP\n",
      "Added images/B00NMFNWMS.jpg to ZIP\n",
      "Added images/B00WRGAT60.jpg to ZIP\n",
      "Added images/B00NVES7MA.jpg to ZIP\n",
      "Added images/B019PYQE3S.jpg to ZIP\n",
      "Added images/B007MYWVJU.jpg to ZIP\n",
      "Added images/B00I9TOC80.jpg to ZIP\n",
      "Added images/B01E4K9RQO.jpg to ZIP\n",
      "Added images/B003YUNEYC.jpg to ZIP\n",
      "Added images/B001BZ411C.jpg to ZIP\n",
      "Added images/B01F76J0D4.jpg to ZIP\n",
      "Added images/B010HWVUNQ.jpg to ZIP\n",
      "Added images/B001AG9YGO.jpg to ZIP\n",
      "Added images/B0016162M2.jpg to ZIP\n",
      "Added images/B00M96TRLQ.jpg to ZIP\n",
      "Added images/B006NAIU2G.jpg to ZIP\n",
      "Added images/B013ST2OTO.jpg to ZIP\n",
      "Added images/B00J9W4UTW.jpg to ZIP\n",
      "Added images/B00LBI6V8K.jpg to ZIP\n",
      "Added images/B001020KRA.jpg to ZIP\n",
      "Added images/B004H36ZZA.jpg to ZIP\n",
      "Added images/B0016LGWZE.jpg to ZIP\n",
      "Added images/B0094KSDP6.jpg to ZIP\n",
      "Added images/B016PRI8HI.jpg to ZIP\n",
      "Added images/B005LC9NNW.jpg to ZIP\n",
      "Added images/B00246B11A.jpg to ZIP\n",
      "Added images/B017HM04P4.jpg to ZIP\n",
      "Added images/B017QIRUDS.jpg to ZIP\n",
      "Added images/B0152OQUX4.jpg to ZIP\n",
      "Added images/B01GID00NE.jpg to ZIP\n",
      "Added images/B003VPA66Y.jpg to ZIP\n",
      "Added images/B003YUOBM6.jpg to ZIP\n",
      "Added images/B00MWOLAYC.jpg to ZIP\n",
      "Added images/B006DN9O1E.jpg to ZIP\n",
      "Added images/B004CYFGGI.jpg to ZIP\n",
      "Added images/B000P55RPI.jpg to ZIP\n",
      "Added images/B00C251KZA.jpg to ZIP\n",
      "Added images/B00RCKOKMK.jpg to ZIP\n",
      "Added images/B004IA3GAE.jpg to ZIP\n",
      "Added images/B013QLZPKE.jpg to ZIP\n",
      "Added images/B016WAR86A.jpg to ZIP\n",
      "Added images/B00KCXBYZA.jpg to ZIP\n",
      "Added images/B003O2LCYY.jpg to ZIP\n",
      "Added images/B00DQ6QQVC.jpg to ZIP\n",
      "Added images/B000YDW2HC.jpg to ZIP\n",
      "Added images/B0015MSDDS.jpg to ZIP\n",
      "Added images/B00JKB3NNQ.jpg to ZIP\n",
      "Added images/B0011MXXJQ.jpg to ZIP\n",
      "Added images/B00HZTAU04.jpg to ZIP\n",
      "Added images/B000J498PA.jpg to ZIP\n",
      "Added images/B00X3FZVOE.jpg to ZIP\n",
      "Added images/B00YBFI8MC.jpg to ZIP\n",
      "Added images/B005KVHYV2.jpg to ZIP\n",
      "Added images/B008F066HS.jpg to ZIP\n",
      "Added images/B00LEC1D90.jpg to ZIP\n",
      "Added images/B00UHAC5L0.jpg to ZIP\n",
      "Added images/B0081KKWOA.jpg to ZIP\n",
      "Added images/B00873FYN0.jpg to ZIP\n",
      "Added images/B000BFHE9O.jpg to ZIP\n",
      "Added images/B000P50W6M.jpg to ZIP\n",
      "Added images/B00SXKUCKC.jpg to ZIP\n",
      "Added images/B005Y2JACS.jpg to ZIP\n",
      "Added images/B016IO9GSS.jpg to ZIP\n",
      "Added images/B00H8NQM4A.jpg to ZIP\n",
      "Added images/B000HJDKII.jpg to ZIP\n",
      "Added images/B00M408PL0.jpg to ZIP\n",
      "Added images/B0001YRFS0.jpg to ZIP\n",
      "Added images/B01ADUDMGK.jpg to ZIP\n",
      "Added images/B00J954OSG.jpg to ZIP\n",
      "Added images/B01EL35M22.jpg to ZIP\n",
      "Added images/B00J9A9R24.jpg to ZIP\n",
      "Added images/B003VINALO.jpg to ZIP\n",
      "Added images/B01DGNME5G.jpg to ZIP\n",
      "Added images/B0098L9Q7A.jpg to ZIP\n",
      "Added images/B010UMOQPW.jpg to ZIP\n",
      "Added images/B001BAUK5I.jpg to ZIP\n",
      "Added images/B005GV9VH6.jpg to ZIP\n",
      "Added images/B00D1IBMB4.jpg to ZIP\n",
      "Added images/B00GZLBOBM.jpg to ZIP\n",
      "Added images/B01H1V6CZC.jpg to ZIP\n",
      "Added images/B001M82I7W.jpg to ZIP\n",
      "Added images/B000FH97WU.jpg to ZIP\n",
      "Added images/B000N8Q28S.jpg to ZIP\n",
      "Added images/B013QM0742.jpg to ZIP\n",
      "Added images/B00C3EP1GE.jpg to ZIP\n",
      "Added images/B01EJF1GEU.jpg to ZIP\n",
      "Added images/B009YK6SEY.jpg to ZIP\n",
      "Added images/B004EHIKUC.jpg to ZIP\n",
      "Added images/B001NCDVSM.jpg to ZIP\n",
      "Added images/B009GTOK8O.jpg to ZIP\n",
      "Added images/B00GG5VZI4.jpg to ZIP\n",
      "Added images/B005IM5DUW.jpg to ZIP\n",
      "Added images/B000YDUVW0.jpg to ZIP\n",
      "Added images/B00D1VGBQ2.jpg to ZIP\n",
      "Added images/B000GHIP5O.jpg to ZIP\n",
      "Added images/B00D5YSU2I.jpg to ZIP\n",
      "Added images/B00I50A52K.jpg to ZIP\n",
      "Added images/B00PNHH116.jpg to ZIP\n",
      "Added images/B00KZI4W88.jpg to ZIP\n",
      "Added images/B01082L2AG.jpg to ZIP\n",
      "Added images/B000A38CZC.jpg to ZIP\n",
      "Added images/B01CZ3VK0S.jpg to ZIP\n",
      "Added images/B00UXBU1SM.jpg to ZIP\n",
      "Added images/B00IEKSHGC.jpg to ZIP\n",
      "Added images/B000EQS0WK.jpg to ZIP\n",
      "Added images/B00J4UFQTC.jpg to ZIP\n",
      "Added images/B0161ZDY9Q.jpg to ZIP\n",
      "Added images/B000EQS1RO.jpg to ZIP\n",
      "Added images/B00D5YSS0C.jpg to ZIP\n",
      "Added images/B01CU9CRPY.jpg to ZIP\n",
      "Added images/B002IFTEF2.jpg to ZIP\n",
      "Added images/B01ETAW89C.jpg to ZIP\n",
      "Added images/B00BTZ83Z4.jpg to ZIP\n",
      "Added images/B0014C665G.jpg to ZIP\n",
      "Added images/B00AF0BLEO.jpg to ZIP\n",
      "Added images/B009FENEX2.jpg to ZIP\n",
      "Added images/B00X3OXSYK.jpg to ZIP\n",
      "Added images/B0009G6BIA.jpg to ZIP\n",
      "Added images/B00ONL2H5S.jpg to ZIP\n",
      "Added images/B0013KDS96.jpg to ZIP\n",
      "Added images/B003FRA9YC.jpg to ZIP\n",
      "Added images/B017K4WKVA.jpg to ZIP\n",
      "Added images/B0018K7TTG.jpg to ZIP\n",
      "Added images/B00OQ06L58.jpg to ZIP\n",
      "Added images/B0161ZCPBY.jpg to ZIP\n",
      "Added images/B001MS74KS.jpg to ZIP\n",
      "Added images/B003VMB68O.jpg to ZIP\n",
      "Added images/B00CMBJYOI.jpg to ZIP\n",
      "Added images/B01FIFNDLE.jpg to ZIP\n",
      "Added images/B0043FYW20.jpg to ZIP\n",
      "Added images/B00HCXHUTM.jpg to ZIP\n",
      "Added images/B00RK3TH36.jpg to ZIP\n",
      "Added images/B00E9X6C4C.jpg to ZIP\n",
      "Added images/B005GV9B7Q.jpg to ZIP\n",
      "Added images/B0013BLV2Q.jpg to ZIP\n",
      "Added images/B0018OUOB2.jpg to ZIP\n",
      "Added images/B00QNQMTKO.jpg to ZIP\n",
      "Added images/B000F73ZAK.jpg to ZIP\n",
      "Added images/B001MWS3KY.jpg to ZIP\n",
      "Added images/B00439U4JG.jpg to ZIP\n",
      "Added images/B00GGRX1CK.jpg to ZIP\n",
      "Added images/B00V62FI58.jpg to ZIP\n",
      "Added images/B01H3EDQZQ.jpg to ZIP\n",
      "Added images/B019DXU6CQ.jpg to ZIP\n",
      "Added images/B001CWW0L2.jpg to ZIP\n",
      "Added images/B005KQB3MS.jpg to ZIP\n",
      "Added images/B00NM738E8.jpg to ZIP\n",
      "Added images/B01DOND44S.jpg to ZIP\n",
      "Added images/B01H3EFDDO.jpg to ZIP\n",
      "Added images/B00XKSI06U.jpg to ZIP\n",
      "Added images/B000UU41L4.jpg to ZIP\n",
      "Added images/B00LBI6QIA.jpg to ZIP\n",
      "Added images/B01FN8763M.jpg to ZIP\n",
      "Added images/B005Y2JP1E.jpg to ZIP\n",
      "Added images/B001AX75SG.jpg to ZIP\n",
      "Added images/B016YKJHZI.jpg to ZIP\n",
      "Added images/B00KXBSY5Y.jpg to ZIP\n",
      "Added images/B001A3ZEOS.jpg to ZIP\n",
      "Added images/B01CZYWNMQ.jpg to ZIP\n",
      "Added images/B00M0XSCH8.jpg to ZIP\n",
      "Added images/B003D3NVDY.jpg to ZIP\n",
      "Added images/B000FEKN12.jpg to ZIP\n",
      "Added images/B00LCJMK06.jpg to ZIP\n",
      "Added images/B0067OTKY0.jpg to ZIP\n",
      "Added images/B00T9JPY6S.jpg to ZIP\n",
      "Added images/B013JXMVHY.jpg to ZIP\n",
      "Added images/B01FN6F4N8.jpg to ZIP\n",
      "Added images/B003ZDOB2C.jpg to ZIP\n",
      "Added images/B00LD84CMK.jpg to ZIP\n",
      "Added images/B0116K694I.jpg to ZIP\n",
      "Added images/B002LH4A6A.jpg to ZIP\n",
      "Added images/B00CB9D57I.jpg to ZIP\n",
      "Added images/B00WWN0J54.jpg to ZIP\n",
      "Added images/B0015J0PTG.jpg to ZIP\n",
      "Added images/B001940P7O.jpg to ZIP\n",
      "Added images/B00F4OIUXQ.jpg to ZIP\n",
      "Added images/B00OLEBEZG.jpg to ZIP\n",
      "Added images/B001F7BAWY.jpg to ZIP\n",
      "Added images/B0017QP9PW.jpg to ZIP\n",
      "Added images/B01DVIPKPW.jpg to ZIP\n",
      "Added images/B002MXXEEM.jpg to ZIP\n",
      "Added images/B00CB99ZEA.jpg to ZIP\n",
      "Added images/B00LUP65WQ.jpg to ZIP\n",
      "Added images/B000VYMAP8.jpg to ZIP\n",
      "Added images/B0035GTQU6.jpg to ZIP\n",
      "Added images/B00THGCKCE.jpg to ZIP\n",
      "Added images/B00AWMC7TI.jpg to ZIP\n",
      "Added images/B005OPN7FG.jpg to ZIP\n",
      "Added images/B000MXQ2CU.jpg to ZIP\n",
      "Added images/B00BFZSIJY.jpg to ZIP\n",
      "Added images/B000Y3HBNC.jpg to ZIP\n",
      "Added images/B00ZFMKXWS.jpg to ZIP\n",
      "Added images/B003INBXG6.jpg to ZIP\n",
      "Added images/B0181ENQL6.jpg to ZIP\n",
      "Added images/B004CAL968.jpg to ZIP\n",
      "Added images/B00IT6HWTE.jpg to ZIP\n",
      "Added images/B01695ICX6.jpg to ZIP\n",
      "Added images/B00CFQITXC.jpg to ZIP\n",
      "Added images/B004CAGDCI.jpg to ZIP\n",
      "Added images/B00CK5FC5G.jpg to ZIP\n",
      "Added images/B009CUKLF8.jpg to ZIP\n",
      "Added images/B00K6KZ81U.jpg to ZIP\n",
      "Added images/B002P4PFRW.jpg to ZIP\n",
      "Added images/B00O855Q7K.jpg to ZIP\n",
      "Added images/B00EE6MR3O.jpg to ZIP\n",
      "Added images/B0018A97F0.jpg to ZIP\n",
      "Added images/B00BKQT80Q.jpg to ZIP\n",
      "Added images/B00XMQA62Q.jpg to ZIP\n",
      "Added images/B0161ZCH76.jpg to ZIP\n",
      "Added images/B01FWVOR1Y.jpg to ZIP\n",
      "Added images/B017HMAHO2.jpg to ZIP\n",
      "Added images/B00JQRQDSQ.jpg to ZIP\n",
      "Added images/B00FRIJKNI.jpg to ZIP\n",
      "Added images/B010121H7G.jpg to ZIP\n",
      "Added images/B000M96QJI.jpg to ZIP\n",
      "Added images/B0009G8CUK.jpg to ZIP\n",
      "Added images/B0161ZBS7G.jpg to ZIP\n",
      "Added images/B002WHS2V8.jpg to ZIP\n",
      "Added images/B017JFWRG8.jpg to ZIP\n",
      "Added images/B0018SPBZW.jpg to ZIP\n",
      "Added images/B00MPNC5WQ.jpg to ZIP\n",
      "Added images/B000GB0FZS.jpg to ZIP\n",
      "Added images/B005MRCVG2.jpg to ZIP\n",
      "Added images/B000W5ULRK.jpg to ZIP\n",
      "Added images/B011CFDGZW.jpg to ZIP\n",
      "Added images/B00H5I8L7O.jpg to ZIP\n",
      "Added images/B016V57LEA.jpg to ZIP\n",
      "Added images/B019DXU7PM.jpg to ZIP\n",
      "Added images/B00I94V6WU.jpg to ZIP\n",
      "Added images/B010R066LY.jpg to ZIP\n",
      "Added images/B012GCH99O.jpg to ZIP\n",
      "Added images/B009GNIW0W.jpg to ZIP\n",
      "Added images/B00OLEBGQI.jpg to ZIP\n",
      "Added images/B000WZHWVS.jpg to ZIP\n",
      "Added images/B00ZZ9IU0S.jpg to ZIP\n",
      "Added images/B00SN8K092.jpg to ZIP\n",
      "Added images/B00BFZREW6.jpg to ZIP\n",
      "Added images/B01A6LZQCY.jpg to ZIP\n",
      "Added images/B018D05V1G.jpg to ZIP\n",
      "Added images/B004GB0VPS.jpg to ZIP\n",
      "Added images/B00X12GVHU.jpg to ZIP\n",
      "Added images/B000YBCJQI.jpg to ZIP\n",
      "Added images/B00DBLFY4W.jpg to ZIP\n",
      "Added images/B000PQKYRI.jpg to ZIP\n",
      "Added images/B00H4XEA9I.jpg to ZIP\n",
      "Added images/B000F3Q2ZO.jpg to ZIP\n",
      "Added images/B00064USEI.jpg to ZIP\n",
      "Added images/B001A5PW3E.jpg to ZIP\n",
      "Added images/B00QFJCCL0.jpg to ZIP\n",
      "Added images/B002VM0F0K.jpg to ZIP\n",
      "Added images/B0018A98HM.jpg to ZIP\n",
      "Added images/B0014JVIA2.jpg to ZIP\n",
      "Added images/B00TEZ8900.jpg to ZIP\n",
      "Added images/B005OPNR5Q.jpg to ZIP\n",
      "Added images/B00Y2MZ408.jpg to ZIP\n",
      "Added images/B00O4RKKFA.jpg to ZIP\n",
      "Added images/B0015356Q4.jpg to ZIP\n",
      "Added images/B00LX6F12W.jpg to ZIP\n",
      "Added images/B00169DYWK.jpg to ZIP\n",
      "Added images/B00A6G3WXA.jpg to ZIP\n",
      "Added images/B004HVHARO.jpg to ZIP\n",
      "Added images/B002459NI4.jpg to ZIP\n",
      "Added images/B00NBGYXL2.jpg to ZIP\n",
      "Added images/B00RJUP45A.jpg to ZIP\n",
      "Added images/B001NTZAQG.jpg to ZIP\n",
      "Added images/B00SSW18M6.jpg to ZIP\n",
      "Added images/B007P0Q2FK.jpg to ZIP\n",
      "Added images/B000OMIWMW.jpg to ZIP\n",
      "Added images/B0094REXPS.jpg to ZIP\n",
      "Added images/B000P50X2U.jpg to ZIP\n",
      "Added images/B00CB9A1NO.jpg to ZIP\n",
      "Added images/B00ZHND9ZI.jpg to ZIP\n",
      "Added images/B00700R7ZE.jpg to ZIP\n",
      "Added images/B005GPI2AE.jpg to ZIP\n",
      "Added images/B0015MN91O.jpg to ZIP\n",
      "Added images/B00FSY03E6.jpg to ZIP\n",
      "Added images/B000LX1BOU.jpg to ZIP\n",
      "Added images/B000H7LBD6.jpg to ZIP\n",
      "Added images/B001K3JHUK.jpg to ZIP\n",
      "Added images/B0049OJ8U6.jpg to ZIP\n",
      "Added images/B00FSJWA74.jpg to ZIP\n",
      "Added images/B017K8FVP8.jpg to ZIP\n",
      "Added images/B0161ZD6BM.jpg to ZIP\n",
      "Added images/B00X1468H6.jpg to ZIP\n",
      "Added images/B010GH4476.jpg to ZIP\n",
      "Added images/B00I95MO9S.jpg to ZIP\n",
      "Added images/B00H4Y3P02.jpg to ZIP\n",
      "Added images/B007I350AC.jpg to ZIP\n",
      "Added images/B00EQT5MFE.jpg to ZIP\n",
      "Added images/B01D4LRI42.jpg to ZIP\n",
      "Added images/B00WYD06C8.jpg to ZIP\n",
      "Added images/B00KA3TUNA.jpg to ZIP\n",
      "Added images/B005DZS7HA.jpg to ZIP\n",
      "Added images/B0176RUV0S.jpg to ZIP\n",
      "Added images/B00EYYSIH0.jpg to ZIP\n",
      "Added images/B013WUEXFC.jpg to ZIP\n",
      "Added images/B00MF9O1RC.jpg to ZIP\n",
      "Added images/B005AMVGEM.jpg to ZIP\n",
      "Added images/B0016POZ2W.jpg to ZIP\n",
      "Added images/B00JTR1X6A.jpg to ZIP\n",
      "Added images/B00SU5244M.jpg to ZIP\n",
      "Added images/B01H3ECSP0.jpg to ZIP\n",
      "Added images/B00JUM7IGS.jpg to ZIP\n",
      "Added images/B001HT7QLO.jpg to ZIP\n",
      "Added images/B00YBE1RJO.jpg to ZIP\n",
      "Added images/B00UL7ER3I.jpg to ZIP\n",
      "Added images/B0019FE2M2.jpg to ZIP\n",
      "Added images/B000GB0G02.jpg to ZIP\n",
      "Added images/B01E9T6WFO.jpg to ZIP\n",
      "Added images/B009ABL428.jpg to ZIP\n",
      "Added images/B00EDTNV4G.jpg to ZIP\n",
      "Added images/B006CQI9DG.jpg to ZIP\n",
      "Added images/B013CZSN5S.jpg to ZIP\n",
      "Added images/B003P1MX3I.jpg to ZIP\n",
      "Added images/B00BQJUL62.jpg to ZIP\n",
      "Added images/B01C93D6FQ.jpg to ZIP\n",
      "Added images/B01AKXGOM4.jpg to ZIP\n",
      "Added images/B00X12ILN2.jpg to ZIP\n",
      "Added images/B005G1WNTE.jpg to ZIP\n",
      "Added images/B00FRIJKMO.jpg to ZIP\n",
      "Added images/B01081V7JS.jpg to ZIP\n",
      "Added images/B01EWOM3HC.jpg to ZIP\n",
      "Added images/B001AE4A38.jpg to ZIP\n",
      "Added images/B01BI8PXMC.jpg to ZIP\n",
      "Added images/B001862O5O.jpg to ZIP\n",
      "Added images/B00HYUSH0O.jpg to ZIP\n",
      "Added images/B01DW3PILM.jpg to ZIP\n",
      "Added images/B00VNSS6QS.jpg to ZIP\n",
      "Added images/B01FXSY2S4.jpg to ZIP\n",
      "Added images/B013ST36MI.jpg to ZIP\n",
      "Added images/B0000ZE6AK.jpg to ZIP\n",
      "Added images/B018IW6BSQ.jpg to ZIP\n",
      "Added images/B00WG6FV1Y.jpg to ZIP\n",
      "Added images/B00NVF1M44.jpg to ZIP\n",
      "Added images/B00PUYETT4.jpg to ZIP\n",
      "Added images/B0099L0KOW.jpg to ZIP\n",
      "Added images/B00N11XD5Y.jpg to ZIP\n",
      "Added images/B017JJ5VJY.jpg to ZIP\n",
      "Added images/B00MQCPRH6.jpg to ZIP\n",
      "Added images/B00W6X35GU.jpg to ZIP\n",
      "Added images/B0018CCJTE.jpg to ZIP\n",
      "Added images/B00NVEUW8C.jpg to ZIP\n",
      "Added images/B00QRHJARO.jpg to ZIP\n",
      "Added images/B000FBWCKA.jpg to ZIP\n",
      "Added images/B0098SHGXE.jpg to ZIP\n",
      "Added images/B01E3TP9W2.jpg to ZIP\n",
      "Added images/B008K98V6S.jpg to ZIP\n",
      "Added images/B000PHDWNA.jpg to ZIP\n",
      "Added images/B00NPLGDO8.jpg to ZIP\n",
      "Added images/B01CZYWECU.jpg to ZIP\n",
      "Added images/B008DB6XL8.jpg to ZIP\n",
      "Added images/B00PXSBBJI.jpg to ZIP\n",
      "Added images/B003P1QF2I.jpg to ZIP\n",
      "Added images/B00791QYF8.jpg to ZIP\n",
      "Added images/B003EYUD6K.jpg to ZIP\n",
      "Added images/B0085OJ17G.jpg to ZIP\n",
      "Added images/B009LU716G.jpg to ZIP\n",
      "Added images/B00QNV4ZII.jpg to ZIP\n",
      "Added images/B00EZ8ANVO.jpg to ZIP\n",
      "Added images/B005552H8S.jpg to ZIP\n",
      "Added images/B005BJ43D0.jpg to ZIP\n",
      "Added images/B00DXYO1BO.jpg to ZIP\n",
      "Added images/B0087OT8ZE.jpg to ZIP\n",
      "Added images/B0012UUNUE.jpg to ZIP\n",
      "Added images/B00EB0II18.jpg to ZIP\n",
      "Added images/B01FS5HXHO.jpg to ZIP\n",
      "Added images/B01BKV67J0.jpg to ZIP\n",
      "Added images/B01BOTFY3S.jpg to ZIP\n",
      "Added images/B0098SHE7C.jpg to ZIP\n",
      "Added images/B00AX3W8EU.jpg to ZIP\n",
      "Added images/B003XVYMBQ.jpg to ZIP\n",
      "Added images/B004ZIYGHQ.jpg to ZIP\n",
      "Added images/B006TPLIE2.jpg to ZIP\n",
      "Added images/B001H9MZ56.jpg to ZIP\n",
      "Added images/B0171HZXN8.jpg to ZIP\n",
      "Added images/B00ANOMLZK.jpg to ZIP\n",
      "Added images/B001AXRNRY.jpg to ZIP\n",
      "Added images/B001AMQCUY.jpg to ZIP\n",
      "Added images/B01CTVPKDY.jpg to ZIP\n",
      "Added images/B00M1D9CV2.jpg to ZIP\n",
      "Added images/B00D1R03EM.jpg to ZIP\n",
      "Added images/B00246C7X6.jpg to ZIP\n",
      "Added images/B0031SB728.jpg to ZIP\n",
      "Added images/B0012J5FXK.jpg to ZIP\n",
      "Added images/B00OYT9K04.jpg to ZIP\n",
      "Added images/B008PDBYFO.jpg to ZIP\n",
      "Added images/B00505DW0A.jpg to ZIP\n",
      "Added images/B01GSEOWB4.jpg to ZIP\n",
      "Added images/B007VFHOQ0.jpg to ZIP\n",
      "Added images/B0053EPV3Y.jpg to ZIP\n",
      "Added images/B003JFJ4V4.jpg to ZIP\n",
      "Added images/B00FMTJT5G.jpg to ZIP\n",
      "Added images/B004HVHISA.jpg to ZIP\n",
      "Added images/B00WYAYK96.jpg to ZIP\n",
      "Added images/B005GQAMLK.jpg to ZIP\n",
      "Added images/B00X146PC4.jpg to ZIP\n",
      "Added images/B01CZ4KLHA.jpg to ZIP\n",
      "Added images/B00W3M40BS.jpg to ZIP\n",
      "Added images/B00BUI9P5W.jpg to ZIP\n",
      "Added images/B00BV25TQ6.jpg to ZIP\n",
      "Added images/B009F56AZU.jpg to ZIP\n",
      "Added images/B00BGBVNFS.jpg to ZIP\n",
      "Added images/B00VRLQFLY.jpg to ZIP\n",
      "Added images/B002P2NK4E.jpg to ZIP\n",
      "Added images/B005GV96NU.jpg to ZIP\n",
      "Added images/B018SRRC0C.jpg to ZIP\n",
      "Added images/B00C24WNOS.jpg to ZIP\n",
      "Added images/B00K8Q3OE0.jpg to ZIP\n",
      "Added images/B00028AZ6E.jpg to ZIP\n",
      "Added images/B00ZFLMKNE.jpg to ZIP\n",
      "Added images/B00UY0EPGG.jpg to ZIP\n",
      "Added images/B0116K5TVM.jpg to ZIP\n",
      "Added images/B00FYS84KQ.jpg to ZIP\n",
      "Added images/B00FRFR5HO.jpg to ZIP\n",
      "Added images/B00LIV7AGM.jpg to ZIP\n",
      "Added images/B00G54K8W0.jpg to ZIP\n",
      "Added images/B00VAYAIMK.jpg to ZIP\n",
      "Added images/B001N43UQ8.jpg to ZIP\n",
      "Added images/B00ZJNDK78.jpg to ZIP\n",
      "Added images/B00WC1OPD8.jpg to ZIP\n",
      "Added images/B01931O77S.jpg to ZIP\n",
      "Added images/B014CTL08U.jpg to ZIP\n",
      "Added images/B0152HNXKE.jpg to ZIP\n",
      "Added images/B00AFQR7CS.jpg to ZIP\n",
      "Added images/B00VIK3TE0.jpg to ZIP\n",
      "Added images/B00RL0X4B4.jpg to ZIP\n",
      "Added images/B001A35PHY.jpg to ZIP\n",
      "Added images/B00843LASQ.jpg to ZIP\n",
      "Added images/B009G6XXCG.jpg to ZIP\n",
      "Added images/B00L797LU0.jpg to ZIP\n",
      "Added images/B0030N3NS0.jpg to ZIP\n",
      "Added images/B003IN4OO4.jpg to ZIP\n",
      "Added images/B01BJ49H8G.jpg to ZIP\n",
      "Added images/B0013M4S6Q.jpg to ZIP\n",
      "Added images/B00RE30IMQ.jpg to ZIP\n",
      "Added images/B00NIGTJUU.jpg to ZIP\n",
      "Added images/B000GAWS7W.jpg to ZIP\n",
      "Added images/B00X12DLLY.jpg to ZIP\n",
      "Added images/B003DSGRVW.jpg to ZIP\n",
      "Added images/B00M1E0J8Q.jpg to ZIP\n",
      "Added images/B001AXRMMK.jpg to ZIP\n",
      "Added images/B00CIJ9YCG.jpg to ZIP\n",
      "Added images/B00178UYQE.jpg to ZIP\n",
      "Added images/B00006XXGO.jpg to ZIP\n",
      "Added images/B01A6L8ZHC.jpg to ZIP\n",
      "Added images/B009VZR3NW.jpg to ZIP\n",
      "Added images/B00155B5BW.jpg to ZIP\n",
      "Added images/B00LX6G6YE.jpg to ZIP\n",
      "Added images/B00QPA7M8M.jpg to ZIP\n",
      "Added images/B000B2PE6M.jpg to ZIP\n",
      "Added images/B0161ZB2LI.jpg to ZIP\n",
      "Added images/B00CRDLAS4.jpg to ZIP\n",
      "Added images/B00IIYT6EQ.jpg to ZIP\n",
      "Added images/B00KCXDDRC.jpg to ZIP\n",
      "Added images/B013ST2HT6.jpg to ZIP\n",
      "Added images/B0017L98A4.jpg to ZIP\n",
      "Added images/B00XKXKGCQ.jpg to ZIP\n",
      "Added images/B008401TDU.jpg to ZIP\n",
      "Added images/B01FPF344S.jpg to ZIP\n",
      "Added images/B00949J0P4.jpg to ZIP\n",
      "Added images/B018M3C8OW.jpg to ZIP\n",
      "Added images/B00I0M7SZU.jpg to ZIP\n",
      "Added images/B001BC32H4.jpg to ZIP\n",
      "Added images/B000YQYQDC.jpg to ZIP\n",
      "Added images/B00EB0T2NQ.jpg to ZIP\n",
      "Added images/B00ATUGU8C.jpg to ZIP\n",
      "Added images/B00A81L6YK.jpg to ZIP\n",
      "Added images/B005HPJZWC.jpg to ZIP\n",
      "Added images/B0002PNK9Q.jpg to ZIP\n",
      "Added images/B001F51UV2.jpg to ZIP\n",
      "Added images/B008VPQKQY.jpg to ZIP\n",
      "Added images/B004ZIMWJ0.jpg to ZIP\n",
      "Added images/B001CPGR9A.jpg to ZIP\n",
      "Added images/B0155C9HWE.jpg to ZIP\n",
      "Added images/B00FQCSGPS.jpg to ZIP\n",
      "Added images/B000PB8XCQ.jpg to ZIP\n",
      "Added images/B000VZXWW2.jpg to ZIP\n",
      "Added images/B017XVPXJG.jpg to ZIP\n",
      "Added images/B010H4XG1S.jpg to ZIP\n",
      "Added images/B00BQ2AUS8.jpg to ZIP\n",
      "Added images/B00NQK1TPG.jpg to ZIP\n",
      "Added images/B00155E5SC.jpg to ZIP\n",
      "Added images/B01B1CWLZC.jpg to ZIP\n",
      "Added images/B00X146CDG.jpg to ZIP\n",
      "Added images/B0039UUVPC.jpg to ZIP\n",
      "Added images/B003VOL7FO.jpg to ZIP\n",
      "Added images/B00LUP64D6.jpg to ZIP\n",
      "Added images/B01B6UTVTS.jpg to ZIP\n",
      "Added images/B00CVT2WK4.jpg to ZIP\n",
      "Added images/B00MRI8WT4.jpg to ZIP\n",
      "Added images/B002UKPVFW.jpg to ZIP\n",
      "Added images/B013QLZELY.jpg to ZIP\n",
      "Added images/B011NVCWA0.jpg to ZIP\n",
      "Added images/B00S9X9RAO.jpg to ZIP\n",
      "Added images/B00KZI0YMQ.jpg to ZIP\n",
      "Added images/B007P89DEO.jpg to ZIP\n",
      "Added images/B01B4D8U9E.jpg to ZIP\n",
      "Added images/B00S59VSYK.jpg to ZIP\n",
      "Added images/B005JTWQWC.jpg to ZIP\n",
      "Added images/B00SU9GWWI.jpg to ZIP\n",
      "Added images/B005GQBJ2G.jpg to ZIP\n",
      "Added images/B00JB7JLMG.jpg to ZIP\n",
      "Added images/B0149JOJJU.jpg to ZIP\n",
      "Added images/B001G8XOIA.jpg to ZIP\n",
      "Added images/B01DGJTEAI.jpg to ZIP\n",
      "Added images/B000IBJ3WW.jpg to ZIP\n",
      "Added images/B00JKII3K2.jpg to ZIP\n",
      "Added images/B00BCZ2GZY.jpg to ZIP\n",
      "Added images/B00ZFLKWWK.jpg to ZIP\n",
      "Added images/B00XEUOQ8K.jpg to ZIP\n",
      "Added images/B00M2U18Q6.jpg to ZIP\n",
      "Added images/B01ALIO4GG.jpg to ZIP\n",
      "Added images/B00ICESC56.jpg to ZIP\n",
      "Added images/B00Q78ZCLQ.jpg to ZIP\n",
      "Added images/B013JXJBWM.jpg to ZIP\n",
      "Added images/B00VMS4D5C.jpg to ZIP\n",
      "Added images/B000HZEVUI.jpg to ZIP\n",
      "Added images/B00CB9ZFZ8.jpg to ZIP\n",
      "Added images/B001BANQXG.jpg to ZIP\n",
      "Added images/B000PHN23A.jpg to ZIP\n",
      "Added images/B009HMOK8U.jpg to ZIP\n",
      "Added images/B00TQD2Y88.jpg to ZIP\n",
      "Added images/B01B7YTL2A.jpg to ZIP\n",
      "Added images/B015K87WCA.jpg to ZIP\n",
      "Added images/B0074D2XJM.jpg to ZIP\n",
      "Added images/B000PCXT38.jpg to ZIP\n",
      "Added images/B00M1E7QNM.jpg to ZIP\n",
      "Added images/B00ASHV22A.jpg to ZIP\n",
      "Added images/B00EZ7MTSA.jpg to ZIP\n",
      "Added images/B000JN5RDS.jpg to ZIP\n",
      "Added images/B00V62PHTK.jpg to ZIP\n",
      "Added images/B00C251DDE.jpg to ZIP\n",
      "Added images/B00P27EADE.jpg to ZIP\n",
      "Added images/B00AREOXZM.jpg to ZIP\n",
      "Added images/B000SMPMYY.jpg to ZIP\n",
      "Added images/B019OCPY78.jpg to ZIP\n",
      "Added images/B000W8DPU2.jpg to ZIP\n",
      "Added images/B007F50VD4.jpg to ZIP\n",
      "Added images/B003NCWYIS.jpg to ZIP\n",
      "Added images/B00JGHLOUS.jpg to ZIP\n",
      "Added images/B01BDX6QTG.jpg to ZIP\n",
      "Added images/B00CW5NS9G.jpg to ZIP\n",
      "Added images/B019XN4H12.jpg to ZIP\n",
      "Added images/B016IJ6F5A.jpg to ZIP\n",
      "Added images/B0018K7I2O.jpg to ZIP\n",
      "Added images/B002C1RWW4.jpg to ZIP\n",
      "Added images/B001HN5KWC.jpg to ZIP\n",
      "Added images/B00X146TZ2.jpg to ZIP\n",
      "Added images/B001BBYF62.jpg to ZIP\n",
      "Added images/B00J5PIFO4.jpg to ZIP\n",
      "Added images/B005OPNS6Y.jpg to ZIP\n",
      "Added images/B003DZ0JZ0.jpg to ZIP\n",
      "Added images/B00QBTHZFW.jpg to ZIP\n",
      "Added images/B0061TNN4O.jpg to ZIP\n",
      "Added images/B00GJQXD6W.jpg to ZIP\n",
      "Added images/B00O8TB486.jpg to ZIP\n",
      "Added images/B00VXYHLPO.jpg to ZIP\n",
      "Added images/B00192ZZG2.jpg to ZIP\n",
      "Added images/B01EN8FHRU.jpg to ZIP\n",
      "Added images/B00GD0AEFC.jpg to ZIP\n",
      "Added images/B007XYLUPU.jpg to ZIP\n",
      "Added images/B01GUCJGN8.jpg to ZIP\n",
      "Added images/B00K3YLL7E.jpg to ZIP\n",
      "Added images/B01DTXN66O.jpg to ZIP\n",
      "Added images/B00BNPIAJY.jpg to ZIP\n",
      "Added images/B0016LDR4S.jpg to ZIP\n",
      "Added images/B005GVDQKE.jpg to ZIP\n",
      "Added images/B00EI68QGC.jpg to ZIP\n",
      "Added images/B00428UYQ6.jpg to ZIP\n",
      "Added images/B01ETUOFE8.jpg to ZIP\n",
      "Added images/B01D4LRI88.jpg to ZIP\n",
      "Added images/B01DTUIOZK.jpg to ZIP\n",
      "Added images/B007T4AU1Y.jpg to ZIP\n",
      "Added images/B00BFXEW50.jpg to ZIP\n",
      "Added images/B01GOJAG3Q.jpg to ZIP\n",
      "Added images/B00AJ34IIS.jpg to ZIP\n",
      "Added images/B0019SLCCC.jpg to ZIP\n",
      "Added images/B00SAHVE46.jpg to ZIP\n",
      "Added images/B008DOOBQE.jpg to ZIP\n",
      "Added images/B0029PO2PI.jpg to ZIP\n",
      "Added images/B00ATUNGRU.jpg to ZIP\n",
      "Added images/B00JGHM8YY.jpg to ZIP\n",
      "Added images/B0012S9EZG.jpg to ZIP\n",
      "Added images/B009T3SH7M.jpg to ZIP\n",
      "Added images/B00HEUPHIO.jpg to ZIP\n",
      "Added images/B001AQBN7C.jpg to ZIP\n",
      "Added images/B00J47LO2S.jpg to ZIP\n",
      "Added images/B000Q7ILKS.jpg to ZIP\n",
      "Added images/B00TGDC0BO.jpg to ZIP\n",
      "Added images/B01D4LI02G.jpg to ZIP\n",
      "Added images/B0014X6W22.jpg to ZIP\n",
      "Added images/B0018AJX4U.jpg to ZIP\n",
      "Added images/B001BZAHNI.jpg to ZIP\n",
      "Added images/B00AFCHT6G.jpg to ZIP\n",
      "Added images/B00H90CIKE.jpg to ZIP\n",
      "Added images/B00D5YSYF6.jpg to ZIP\n",
      "Added images/B01DYQGV4A.jpg to ZIP\n",
      "Added images/B008X0ZZ72.jpg to ZIP\n",
      "Added images/B008R722R2.jpg to ZIP\n",
      "Added images/B00SUMVC34.jpg to ZIP\n",
      "Added images/B00CB9A1B6.jpg to ZIP\n",
      "Added images/B00DMWH2KY.jpg to ZIP\n",
      "Added images/B016LJ5PIU.jpg to ZIP\n",
      "Added images/B00JGHMY0W.jpg to ZIP\n",
      "Added images/B01FXPQ89I.jpg to ZIP\n",
      "Added images/B00LPLXNPW.jpg to ZIP\n",
      "Added images/B00YGY06K0.jpg to ZIP\n",
      "Added images/B01CZYWL14.jpg to ZIP\n",
      "Added images/B005X0GE6Q.jpg to ZIP\n",
      "Added images/B00H5I8KJS.jpg to ZIP\n",
      "Added images/B005PKPS0W.jpg to ZIP\n",
      "Added images/B006NB54Q0.jpg to ZIP\n",
      "Added images/B00WGE5SB4.jpg to ZIP\n",
      "Added images/B0085TYBMQ.jpg to ZIP\n",
      "Added images/B019LQQKVG.jpg to ZIP\n",
      "Added images/B00HX0CPWQ.jpg to ZIP\n",
      "Added images/B0000891IO.jpg to ZIP\n",
      "Added images/B00MT8FTSO.jpg to ZIP\n",
      "Added images/B010X3HG7S.jpg to ZIP\n",
      "Added images/B00JQOQKXW.jpg to ZIP\n",
      "Added images/B003YBHH1W.jpg to ZIP\n",
      "Added images/B010NX6DWC.jpg to ZIP\n",
      "Added images/B01DZ36O26.jpg to ZIP\n",
      "Added images/B0094QTPYI.jpg to ZIP\n",
      "Added images/B000KF4Z60.jpg to ZIP\n",
      "Added images/B00ICB99VK.jpg to ZIP\n",
      "Added images/B016LJ4GBM.jpg to ZIP\n",
      "Added images/B00SSW1AB0.jpg to ZIP\n",
      "Added images/B01DKIVCMS.jpg to ZIP\n",
      "Added images/B010EE75GS.jpg to ZIP\n",
      "Added images/B006SRTE2Y.jpg to ZIP\n",
      "Added images/B003WJD9X6.jpg to ZIP\n",
      "Added images/B00H5I8GNS.jpg to ZIP\n",
      "Added images/B00K8PVDDK.jpg to ZIP\n",
      "Added images/B00KJDO3KQ.jpg to ZIP\n",
      "Added images/B00SG1NSRM.jpg to ZIP\n",
      "Added images/B000YQWB20.jpg to ZIP\n",
      "Added images/B010NX6HEG.jpg to ZIP\n",
      "Added images/B006UD8XUU.jpg to ZIP\n",
      "Added images/B001559KUK.jpg to ZIP\n",
      "Added images/B01FPBFZF8.jpg to ZIP\n",
      "Added images/B0050GCQCY.jpg to ZIP\n",
      "Added images/B00K6ZNR8Q.jpg to ZIP\n",
      "Added images/B0147FYVH6.jpg to ZIP\n",
      "Added images/B001N44A7Q.jpg to ZIP\n",
      "Added images/B00BEZU370.jpg to ZIP\n",
      "Added images/B001F0QMZG.jpg to ZIP\n",
      "Added images/B00YEFSKPY.jpg to ZIP\n",
      "Added images/B00VM8UWK2.jpg to ZIP\n",
      "Added images/B0017QDN0K.jpg to ZIP\n",
      "Added images/B00T9M35IY.jpg to ZIP\n",
      "Added images/B008WUVW3Y.jpg to ZIP\n",
      "Added images/B000A2K55I.jpg to ZIP\n",
      "Added images/B01CZ3WJ4E.jpg to ZIP\n",
      "Added images/B00IPDXG1Y.jpg to ZIP\n",
      "Added images/B001N2NQA0.jpg to ZIP\n",
      "Added images/B009YGJ5RU.jpg to ZIP\n",
      "Added images/B0018K371A.jpg to ZIP\n",
      "Added images/B0094QTR96.jpg to ZIP\n",
      "Added images/B003BVJTGQ.jpg to ZIP\n",
      "Added images/B00EJHPY38.jpg to ZIP\n",
      "Added images/B00CF2L9YC.jpg to ZIP\n",
      "Added images/B00CZ9K49G.jpg to ZIP\n",
      "Added images/B004HF79KS.jpg to ZIP\n",
      "Added images/B00D9925SO.jpg to ZIP\n",
      "Added images/B01FWEQ9SU.jpg to ZIP\n",
      "Added images/B00125OSJQ.jpg to ZIP\n",
      "Added images/B0197R3MI8.jpg to ZIP\n",
      "Added images/B003ZYDSNY.jpg to ZIP\n",
      "Added images/B006ZH82MU.jpg to ZIP\n",
      "Added images/B00M93P5JM.jpg to ZIP\n",
      "Added images/B0017LEQWE.jpg to ZIP\n",
      "Added images/B00TGFW5TO.jpg to ZIP\n",
      "Added images/B00OLEBPTG.jpg to ZIP\n",
      "Added images/B004U4KEAS.jpg to ZIP\n",
      "Added images/B0181ENTUE.jpg to ZIP\n",
      "Added images/B001HN5J0U.jpg to ZIP\n",
      "Added images/B00E9ON79E.jpg to ZIP\n",
      "Added images/B00MWOL3EY.jpg to ZIP\n",
      "Added images/B014FD74I8.jpg to ZIP\n",
      "Added images/B006IMS2IG.jpg to ZIP\n",
      "Added images/B0097M6JU2.jpg to ZIP\n",
      "Added images/B005Y2IZ60.jpg to ZIP\n",
      "Added images/B01EXOGNW2.jpg to ZIP\n",
      "Added images/B00COH4DQ4.jpg to ZIP\n",
      "Added images/B01D9OSKU0.jpg to ZIP\n",
      "Added images/B00Y8DKE1A.jpg to ZIP\n",
      "Added images/B013EB7ANG.jpg to ZIP\n",
      "Added images/B005I6RDAG.jpg to ZIP\n",
      "Added images/B00P3ASAGS.jpg to ZIP\n",
      "Added images/B01COIF46K.jpg to ZIP\n",
      "Added images/B00KA3UB9C.jpg to ZIP\n",
      "Added images/B00CEW7EOC.jpg to ZIP\n",
      "Added images/B00YGY1JTC.jpg to ZIP\n",
      "Added images/B00JC3L05U.jpg to ZIP\n",
      "Added images/B003FSSCUO.jpg to ZIP\n",
      "Added images/B0026KKI22.jpg to ZIP\n",
      "Added images/B00V0DD0QM.jpg to ZIP\n",
      "Added images/B00XKXI41Q.jpg to ZIP\n",
      "Added images/B00PXSJ5TQ.jpg to ZIP\n",
      "Added images/B005I0JMU6.jpg to ZIP\n",
      "Added images/B004CAKEBY.jpg to ZIP\n",
      "Added images/B00V3N8KQO.jpg to ZIP\n",
      "Added images/B00P3ASJ8W.jpg to ZIP\n",
      "Added images/B01H1V6GP8.jpg to ZIP\n",
      "Added images/B00TGVBXN2.jpg to ZIP\n",
      "Added images/B004QM85BE.jpg to ZIP\n",
      "Added images/B005KVHYBM.jpg to ZIP\n",
      "Added images/B01F6766U4.jpg to ZIP\n",
      "Added images/B00SG1PTPG.jpg to ZIP\n",
      "Added images/B00HEVAMSI.jpg to ZIP\n",
      "Added images/B01FQS7RSS.jpg to ZIP\n",
      "Added images/B007I352CI.jpg to ZIP\n",
      "Added images/B001A6H30S.jpg to ZIP\n",
      "Added images/B0014Y06NW.jpg to ZIP\n",
      "Added images/B0016OVHE2.jpg to ZIP\n",
      "Added images/B00FYLAJBU.jpg to ZIP\n",
      "Added images/B000UWE7RK.jpg to ZIP\n",
      "Added images/B00DMWQSIG.jpg to ZIP\n",
      "Added images/B007L53R7A.jpg to ZIP\n",
      "Added images/B00F9S89YC.jpg to ZIP\n",
      "Added images/B00UFXJMVK.jpg to ZIP\n",
      "Added images/B00GYS3ESM.jpg to ZIP\n",
      "Added images/B0043QRDLQ.jpg to ZIP\n",
      "Added images/B00Q02RJ4M.jpg to ZIP\n",
      "Added images/B00EIRPOTS.jpg to ZIP\n",
      "Added images/B00171U6KA.jpg to ZIP\n",
      "Added images/B00MNGLKD0.jpg to ZIP\n",
      "Added images/B00X146HNG.jpg to ZIP\n",
      "Added images/B00YUUNIT6.jpg to ZIP\n",
      "Added images/B00CRHG6SE.jpg to ZIP\n",
      "Added images/B00S4HBH76.jpg to ZIP\n",
      "Added images/B0013IFQSE.jpg to ZIP\n",
      "Added images/B00FSL7KOK.jpg to ZIP\n",
      "Added images/B0009EU6BA.jpg to ZIP\n",
      "Added images/B005MW76S0.jpg to ZIP\n",
      "Added images/B017HMELGM.jpg to ZIP\n",
      "Added images/B01EIC7MT2.jpg to ZIP\n",
      "Added images/B000EWD4U2.jpg to ZIP\n",
      "Added images/B001B6GEKC.jpg to ZIP\n",
      "Added images/B01H4VOHNS.jpg to ZIP\n",
      "Added images/B00CB9ABQQ.jpg to ZIP\n",
      "Added images/B000ODZW9W.jpg to ZIP\n",
      "Added images/B006DYCIOS.jpg to ZIP\n",
      "Added images/B002MPQYJ2.jpg to ZIP\n",
      "Added images/B00BPI8FU8.jpg to ZIP\n",
      "Added images/B008FI69FO.jpg to ZIP\n",
      "Added images/B0096LOSUM.jpg to ZIP\n",
      "Added images/B01BLVGEWY.jpg to ZIP\n",
      "Added images/B015JSY4ZY.jpg to ZIP\n",
      "Added images/B0050SBLPA.jpg to ZIP\n",
      "Added images/B0006Q4ERI.jpg to ZIP\n",
      "Added images/B00A76JBVQ.jpg to ZIP\n",
      "Added images/B00REM2TME.jpg to ZIP\n",
      "Added images/B00H7XTT2S.jpg to ZIP\n",
      "Added images/B011NVCXPO.jpg to ZIP\n",
      "Added images/B003TVOERC.jpg to ZIP\n",
      "Added images/B019EJACSC.jpg to ZIP\n",
      "Added images/B000A2K9S6.jpg to ZIP\n",
      "Added images/B0175Z1OVG.jpg to ZIP\n",
      "Added images/B00JYE1JPS.jpg to ZIP\n",
      "Added images/B019EGV0BS.jpg to ZIP\n",
      "Added images/B00F92CSCW.jpg to ZIP\n",
      "Added images/B005M5PKGC.jpg to ZIP\n",
      "Added images/B00KSBXPCG.jpg to ZIP\n",
      "Added images/B01E5B3HE0.jpg to ZIP\n",
      "Added images/B00M1DVT5Y.jpg to ZIP\n",
      "Added images/B003XMXCM0.jpg to ZIP\n",
      "Added images/B008PQGDVQ.jpg to ZIP\n",
      "Added images/B00O2EBM5C.jpg to ZIP\n",
      "Added images/B014GDY1BU.jpg to ZIP\n",
      "Added images/B00M2GUB3Q.jpg to ZIP\n",
      "Added images/B00KCXC31E.jpg to ZIP\n",
      "Added images/B00CBU5LTC.jpg to ZIP\n",
      "Added images/B019X5CL8Q.jpg to ZIP\n",
      "Added images/B00X146GGY.jpg to ZIP\n",
      "Added images/B01C4478J0.jpg to ZIP\n",
      "Added images/B00A6G3TCO.jpg to ZIP\n",
      "Added images/B003XTK68Q.jpg to ZIP\n",
      "Added images/B01ASYHM44.jpg to ZIP\n",
      "Added images/B005DMA4YW.jpg to ZIP\n",
      "Added images/B013I8UL6S.jpg to ZIP\n",
      "Added images/B01FV3XVKG.jpg to ZIP\n",
      "Added images/B00RYLABZM.jpg to ZIP\n",
      "Added images/B00YO4991O.jpg to ZIP\n",
      "Added images/B0002QVHK4.jpg to ZIP\n",
      "Added images/B003JQKN1I.jpg to ZIP\n",
      "Added images/B00OJOVCGE.jpg to ZIP\n",
      "Added images/B00EDTKUAY.jpg to ZIP\n",
      "Added images/B00UKVRKIE.jpg to ZIP\n",
      "Added images/B00M1DG4O0.jpg to ZIP\n",
      "Added images/B00LE5666M.jpg to ZIP\n",
      "Added images/B006Z8XKDK.jpg to ZIP\n",
      "Added images/B00OA1V7O8.jpg to ZIP\n",
      "Added images/B00GFXHXLK.jpg to ZIP\n",
      "Added images/B00178WWAK.jpg to ZIP\n",
      "Added images/B002IKM82S.jpg to ZIP\n",
      "Added images/B00QGRURAO.jpg to ZIP\n",
      "Added images/B005GV4K6I.jpg to ZIP\n",
      "Added images/B00YV6785O.jpg to ZIP\n",
      "Added images/B00S5VKGC8.jpg to ZIP\n",
      "Added images/B00BKQT85G.jpg to ZIP\n",
      "Added images/B00W7B8UQQ.jpg to ZIP\n",
      "Added images/B00LUP2LGA.jpg to ZIP\n",
      "Added images/B01DMZJK5K.jpg to ZIP\n",
      "Added images/B00UXBU5SI.jpg to ZIP\n",
      "Added images/B00CB9AB6G.jpg to ZIP\n",
      "Added images/B00CIQL34Q.jpg to ZIP\n",
      "Added images/B00XKXIQ82.jpg to ZIP\n",
      "Added images/B018GBXM8G.jpg to ZIP\n",
      "Added images/B00EABUV9A.jpg to ZIP\n",
      "Added images/B0155BAQIE.jpg to ZIP\n",
      "Added images/B001L994OM.jpg to ZIP\n",
      "Added images/B018D068E0.jpg to ZIP\n",
      "Added images/B00O3YS4XE.jpg to ZIP\n",
      "Added images/B007I35SBS.jpg to ZIP\n",
      "Added images/B01AS49A6C.jpg to ZIP\n",
      "Added images/B007HNDS0C.jpg to ZIP\n",
      "Added images/B00BKQT7LG.jpg to ZIP\n",
      "Added images/B00M2U1HCG.jpg to ZIP\n",
      "Added images/B00Y2NPSJY.jpg to ZIP\n",
      "Added images/B001GIP190.jpg to ZIP\n",
      "Added images/B0013CZFTU.jpg to ZIP\n",
      "Added images/B00093FZ26.jpg to ZIP\n",
      "Added images/B019E8XC1W.jpg to ZIP\n",
      "Added images/B014F3ELY8.jpg to ZIP\n",
      "Added images/B001DQ5YZ6.jpg to ZIP\n",
      "Added images/B008YRWTAA.jpg to ZIP\n",
      "Added images/B0013LZFI2.jpg to ZIP\n",
      "Added images/B0195EWU2C.jpg to ZIP\n",
      "Added images/B00A7Y53WE.jpg to ZIP\n",
      "Added images/B005VEEJSY.jpg to ZIP\n",
      "Added images/B01H3EB13K.jpg to ZIP\n",
      "Added images/B0019FRJ4U.jpg to ZIP\n",
      "Added images/B00EEZV0YM.jpg to ZIP\n",
      "Added images/B00SO3JOZW.jpg to ZIP\n",
      "Added images/B00OB2GCPK.jpg to ZIP\n",
      "Added images/B018F5BA8C.jpg to ZIP\n",
      "Added images/B007RG7D7I.jpg to ZIP\n",
      "Added images/B003MUAHLC.jpg to ZIP\n",
      "Added images/B008FG6YYM.jpg to ZIP\n",
      "Added images/B01EEA46X8.jpg to ZIP\n",
      "Added images/B016IO9N3Q.jpg to ZIP\n",
      "Added images/B0016O8X2G.jpg to ZIP\n",
      "Added images/B00K5ZGGTY.jpg to ZIP\n",
      "Added images/B00NERHVIU.jpg to ZIP\n",
      "Added images/B00CRDLYPS.jpg to ZIP\n",
      "Added images/B006OQIU9W.jpg to ZIP\n",
      "Added images/B0078L61MA.jpg to ZIP\n",
      "Added images/B0017IIN1C.jpg to ZIP\n",
      "Added images/B00JUXGWHS.jpg to ZIP\n",
      "Added images/B01AH008EA.jpg to ZIP\n",
      "Added images/B00178T7KS.jpg to ZIP\n",
      "Added images/B00K3W69DM.jpg to ZIP\n",
      "Added images/B00M1D90E6.jpg to ZIP\n",
      "Added images/B008DB6L7Y.jpg to ZIP\n",
      "Added images/B00J29JP8I.jpg to ZIP\n",
      "Added images/B01BPWEUFW.jpg to ZIP\n",
      "Added images/B000VJH4T0.jpg to ZIP\n",
      "Added images/B00ATULZ0U.jpg to ZIP\n",
      "Added images/B005DMA6O0.jpg to ZIP\n",
      "Added images/B00CLYQDQS.jpg to ZIP\n",
      "Added images/B0015RWXH0.jpg to ZIP\n",
      "Added images/B015HQHT0U.jpg to ZIP\n",
      "Added images/B001MTEZPE.jpg to ZIP\n",
      "Added images/B006C4BHX2.jpg to ZIP\n",
      "Added images/B00XKXI3WG.jpg to ZIP\n",
      "Added images/B00132X466.jpg to ZIP\n",
      "Added images/B007FXIDC2.jpg to ZIP\n",
      "Added images/B008PVBDT8.jpg to ZIP\n",
      "Added images/B0041I6U1K.jpg to ZIP\n",
      "Added images/B001IV588E.jpg to ZIP\n",
      "Added images/B00K8Q5VGE.jpg to ZIP\n",
      "Added images/B00AFCM0YM.jpg to ZIP\n",
      "Added images/B01BCQMTN6.jpg to ZIP\n",
      "Added images/B003DKJNWA.jpg to ZIP\n",
      "Added images/B01FRS341Q.jpg to ZIP\n",
      "Added images/B005A3VZS8.jpg to ZIP\n",
      "Added images/B01FXPPKAQ.jpg to ZIP\n",
      "Added images/B005DXOVPY.jpg to ZIP\n",
      "Added images/B00GIPGDQQ.jpg to ZIP\n",
      "Added images/B00FBIPXSA.jpg to ZIP\n",
      "Added images/B001SASJUE.jpg to ZIP\n",
      "Added images/B004C052SE.jpg to ZIP\n",
      "Added images/B000V9H7NI.jpg to ZIP\n",
      "Added images/B00M94Y6FA.jpg to ZIP\n",
      "Added images/B00YV3TKQC.jpg to ZIP\n",
      "Added images/B000E1RB4I.jpg to ZIP\n",
      "Added images/B001L1S5Z4.jpg to ZIP\n",
      "Added images/B017WHAB7A.jpg to ZIP\n",
      "Added images/B000VNOGCE.jpg to ZIP\n",
      "Added images/B000OVDAFW.jpg to ZIP\n",
      "Added images/B00XKXYLYK.jpg to ZIP\n",
      "Added images/B003D3TBJC.jpg to ZIP\n",
      "Added images/B009286M6W.jpg to ZIP\n",
      "Added images/B0171HZO7I.jpg to ZIP\n",
      "Added images/B00HQYCSC6.jpg to ZIP\n",
      "Added images/B00D8YEEUW.jpg to ZIP\n",
      "Added images/B00Y9ZTRP6.jpg to ZIP\n",
      "Added images/B00S59VRSM.jpg to ZIP\n",
      "Added images/B017BMYBAY.jpg to ZIP\n",
      "Added images/B00GJVMRBE.jpg to ZIP\n",
      "Added images/B00B9TYQEM.jpg to ZIP\n",
      "Added images/B01CZ3VYXQ.jpg to ZIP\n",
      "Added images/B01CZ3VYSG.jpg to ZIP\n",
      "Added images/B00ZOQYKY2.jpg to ZIP\n",
      "Added images/B00K3JHBAA.jpg to ZIP\n",
      "Added images/B01ALIO48Y.jpg to ZIP\n",
      "Added images/B018I9M9XU.jpg to ZIP\n",
      "Added images/B0016MZG82.jpg to ZIP\n",
      "Added images/B0043ZWQWI.jpg to ZIP\n",
      "Added images/B016J8JP16.jpg to ZIP\n",
      "Added images/B00LUK0E0U.jpg to ZIP\n",
      "Added images/B00RL0WYSI.jpg to ZIP\n",
      "Added images/B001LNR1XO.jpg to ZIP\n",
      "Added images/B0113VN1DW.jpg to ZIP\n",
      "Added images/B005GPKRJ8.jpg to ZIP\n",
      "Added images/B005UXJ6PW.jpg to ZIP\n",
      "Added images/B00AOI14LC.jpg to ZIP\n",
      "Added images/B00T9HQLQW.jpg to ZIP\n",
      "Added images/B00KCXISNG.jpg to ZIP\n",
      "Added images/B00POM9HC6.jpg to ZIP\n",
      "Added images/B00O4SS66Y.jpg to ZIP\n",
      "Added images/B0171HZO78.jpg to ZIP\n",
      "Added images/B0043P2Z60.jpg to ZIP\n",
      "Added images/B00A7Y45QY.jpg to ZIP\n",
      "Added images/B00VWJIGYU.jpg to ZIP\n",
      "Added images/B0017RNK34.jpg to ZIP\n",
      "Added images/B013I8UCDA.jpg to ZIP\n",
      "Added images/B001CE12UA.jpg to ZIP\n",
      "Added images/B00VW2EZQA.jpg to ZIP\n",
      "Added images/B00188TOUU.jpg to ZIP\n",
      "Added images/B008CITRH4.jpg to ZIP\n",
      "Added images/B002DUCSVY.jpg to ZIP\n",
      "Added images/B001668CKC.jpg to ZIP\n",
      "Added images/B01AVGQEPW.jpg to ZIP\n",
      "Added images/B001889Z6S.jpg to ZIP\n",
      "Added images/B001AGHVN2.jpg to ZIP\n",
      "Added images/B00DY7PCQ8.jpg to ZIP\n",
      "Added images/B00LPASKRO.jpg to ZIP\n",
      "Added images/B002DD5ZO8.jpg to ZIP\n",
      "Added images/B00WU0LFZC.jpg to ZIP\n",
      "Added images/B012DZSKLA.jpg to ZIP\n",
      "Added images/B000WQ3NY2.jpg to ZIP\n",
      "Added images/B002Z8FIRA.jpg to ZIP\n",
      "Added images/B00PNHKRE4.jpg to ZIP\n",
      "Added images/B00HXAWCFG.jpg to ZIP\n",
      "Added images/B0011MPVBY.jpg to ZIP\n",
      "Added images/B001BZ8A9G.jpg to ZIP\n",
      "Added images/B00WM4KXQI.jpg to ZIP\n",
      "Added images/B00NVEVKEW.jpg to ZIP\n",
      "Added images/B002WMJ7KS.jpg to ZIP\n",
      "Added images/B00K3W0LAY.jpg to ZIP\n",
      "Added images/B00KAOZRSG.jpg to ZIP\n",
      "Added images/B019PEN1X4.jpg to ZIP\n",
      "Added images/B00FAMRW9K.jpg to ZIP\n",
      "Added images/B001K3J7DM.jpg to ZIP\n",
      "Added images/B0073PJNU8.jpg to ZIP\n",
      "Added images/B010HJAREW.jpg to ZIP\n",
      "Added images/B00UX9OOPA.jpg to ZIP\n",
      "Added images/B019HML3H0.jpg to ZIP\n",
      "Added images/B001LRR8MY.jpg to ZIP\n",
      "Added images/B009YSJC3K.jpg to ZIP\n",
      "Added images/B018ULPG1S.jpg to ZIP\n",
      "Added images/B01A6L8U22.jpg to ZIP\n",
      "Added images/B006D0UB0A.jpg to ZIP\n",
      "Added images/B00GDSVZN4.jpg to ZIP\n",
      "Added images/B00FQCSN0Q.jpg to ZIP\n",
      "Added images/B005GV8O9M.jpg to ZIP\n",
      "Added images/B005UUZ8HK.jpg to ZIP\n",
      "Added images/B002QV0K6U.jpg to ZIP\n",
      "Added images/B0002M14CY.jpg to ZIP\n",
      "Added images/B00IYRNUJE.jpg to ZIP\n",
      "Added images/B00AM3V5B8.jpg to ZIP\n",
      "Added images/B00LDSVGT2.jpg to ZIP\n",
      "Added images/B016IO9QOC.jpg to ZIP\n",
      "Added images/B005IHDLYC.jpg to ZIP\n",
      "Added images/B00V6K7P0G.jpg to ZIP\n",
      "Added images/B004D2BEPQ.jpg to ZIP\n",
      "Added images/B018SRR2DY.jpg to ZIP\n",
      "Added images/B00AG41Y78.jpg to ZIP\n",
      "Added images/B0011SIWZU.jpg to ZIP\n",
      "Added images/B00N178N2Q.jpg to ZIP\n",
      "Added images/B003CNO9BI.jpg to ZIP\n",
      "Added images/B016OJE3LM.jpg to ZIP\n",
      "Added images/B000J39T2S.jpg to ZIP\n",
      "Added images/B00KA3U9FS.jpg to ZIP\n",
      "Added images/B0068YUCB4.jpg to ZIP\n",
      "Added images/B0027VJHO0.jpg to ZIP\n",
      "Added images/B01ALH9TJ4.jpg to ZIP\n",
      "Added images/B00KRYPMUM.jpg to ZIP\n",
      "Added images/B00AFCJ3B0.jpg to ZIP\n",
      "Added images/B00CRDJ6K8.jpg to ZIP\n",
      "Added images/B00FMTK7DO.jpg to ZIP\n",
      "Added images/B007HNF12U.jpg to ZIP\n",
      "Added images/B00ICETQIS.jpg to ZIP\n",
      "Added images/B007I34MAQ.jpg to ZIP\n",
      "Added images/B00SJ5HL9G.jpg to ZIP\n",
      "Added images/B005TKIKGM.jpg to ZIP\n",
      "Added images/B00AF0AKDM.jpg to ZIP\n",
      "Added images/B00C9KKAUO.jpg to ZIP\n",
      "Added images/B00852J8X0.jpg to ZIP\n",
      "Added images/B007L53NHO.jpg to ZIP\n",
      "Added images/B01DKXU0XA.jpg to ZIP\n",
      "Added images/B01BXPDKE8.jpg to ZIP\n",
      "Added images/B001M4IZG4.jpg to ZIP\n",
      "Added images/B00F9S8VNG.jpg to ZIP\n",
      "Added images/B001BIL3MY.jpg to ZIP\n",
      "Added images/B000OAXNBY.jpg to ZIP\n",
      "Added images/B001HN5J1Y.jpg to ZIP\n",
      "Added images/B01H4XABHW.jpg to ZIP\n",
      "Added images/B013ST2L3I.jpg to ZIP\n",
      "Added images/B0050UX4MG.jpg to ZIP\n",
      "Added images/B0058XEAIW.jpg to ZIP\n",
      "Added images/B00AKUBVFS.jpg to ZIP\n",
      "Added images/B00FXW75KS.jpg to ZIP\n",
      "Added images/B00YEFTRE2.jpg to ZIP\n",
      "Added images/B00J9GK66Y.jpg to ZIP\n",
      "Added images/B004WMD09U.jpg to ZIP\n",
      "Added images/B00G5JKSKW.jpg to ZIP\n",
      "Added images/B004HV9Q1M.jpg to ZIP\n",
      "Added images/B00X146QYG.jpg to ZIP\n",
      "Added images/B00CBU5ILI.jpg to ZIP\n",
      "Added images/B00QH5W5LE.jpg to ZIP\n",
      "Added images/B01AZDOZR0.jpg to ZIP\n",
      "Added images/B00ZJVBR1G.jpg to ZIP\n",
      "Added images/B01A6L8TTQ.jpg to ZIP\n",
      "Added images/B000O7UAF4.jpg to ZIP\n",
      "Added images/B01H2BL0YY.jpg to ZIP\n",
      "Added images/B013ST2ZXE.jpg to ZIP\n",
      "Added images/B000072US4.jpg to ZIP\n",
      "Added images/B00B23OWO4.jpg to ZIP\n",
      "Added images/B000A3I3PQ.jpg to ZIP\n",
      "Added images/B0070A2D7G.jpg to ZIP\n",
      "Added images/B002P66CXQ.jpg to ZIP\n",
      "Added images/B01E9T2XSE.jpg to ZIP\n",
      "Added images/B00KNTURZ6.jpg to ZIP\n",
      "Added images/B00NMFBRKW.jpg to ZIP\n",
      "Added images/B013JXI5CY.jpg to ZIP\n",
      "Added images/B0026RJ8BW.jpg to ZIP\n",
      "Added images/B000PIGJUM.jpg to ZIP\n",
      "Added images/B004GGU626.jpg to ZIP\n",
      "Added images/B00JVVF2XO.jpg to ZIP\n",
      "Added images/B01H3G9FT0.jpg to ZIP\n",
      "Added images/B004VRH73Q.jpg to ZIP\n",
      "Added images/B00TSX0F82.jpg to ZIP\n",
      "Added images/B00WIX00IO.jpg to ZIP\n",
      "Added images/B00T7S38R8.jpg to ZIP\n",
      "Added preprocessed_fashion_data.pkl to ZIP\n",
      "Added user_item_interactions.pkl to ZIP\n",
      "ZIP file created: /kaggle/working/amazon_fashion_data.zip (Size: 0.17 GiB)\n",
      "You can now download the ZIP file from the Output tab in Kaggle.\n",
      "✅ Done! Final dataset size: 14486 samples, 2564 users\n"
     ]
    }
   ],
   "source": [
    "import json\n",
    "import pandas as pd\n",
    "import requests\n",
    "import os\n",
    "import io\n",
    "from PIL import Image\n",
    "from tqdm import tqdm\n",
    "import pickle\n",
    "from collections import defaultdict\n",
    "import gc\n",
    "import psutil\n",
    "import shutil\n",
    "import zipfile\n",
    "\n",
    "# Paths\n",
    "metadata_path = r\"/kaggle/input/amazon-dataset/meta_Clothing_Shoes_and_Jewelry.json\"\n",
    "reviews_path = r\"/kaggle/input/amazon-dataset/Clothing_Shoes_and_Jewelry.json\"\n",
    "output_pickle = r\"/kaggle/working/preprocessed_fashion_data.pkl\"\n",
    "output_interactions = r\"/kaggle/working/user_item_interactions.pkl\"\n",
    "image_folder = \"/kaggle/working/images\"\n",
    "output_zip = \"/kaggle/working/amazon_fashion_data.zip\"\n",
    "\n",
    "# Clean image folder to free disk space\n",
    "if os.path.exists(image_folder):\n",
    "    shutil.rmtree(image_folder)\n",
    "os.makedirs(image_folder, exist_ok=True)\n",
    "\n",
    "# Helper: Print memory usage\n",
    "def print_memory_usage(step=\"\"):\n",
    "    process = psutil.Process()\n",
    "    mem_info = process.memory_info()\n",
    "    print(f\"Memory usage after {step}: {mem_info.rss / 1024 ** 2:.2f} MB\")\n",
    "\n",
    "# Helper: Download and save one image per item\n",
    "def download_first_image(urls, asin):\n",
    "    for i, url in enumerate(urls):\n",
    "        try:\n",
    "            response = requests.get(url, timeout=5)\n",
    "            if response.status_code == 200:\n",
    "                img = Image.open(io.BytesIO(response.content))\n",
    "                img.verify()  # Verify image integrity\n",
    "                img_path = os.path.join(image_folder, f\"{asin}.jpg\")\n",
    "                with open(img_path, 'wb') as f:\n",
    "                    f.write(response.content)\n",
    "                return img_path, url\n",
    "        except Exception:\n",
    "            continue\n",
    "    return None, None\n",
    "\n",
    "# Step 1: Load and filter metadata\n",
    "print(\"Loading metadata...\")\n",
    "meta_asin_to_data = {}\n",
    "valid_asins = set()\n",
    "with open(metadata_path, 'r', encoding='utf-8') as f:\n",
    "    for line in tqdm(f, desc=\"Reading metadata\"):\n",
    "        data = json.loads(line)\n",
    "        asin = data.get('asin')\n",
    "        if not asin:\n",
    "            continue\n",
    "        title = data.get('title', '')\n",
    "        description = data.get('description', '')\n",
    "        if isinstance(description, list):\n",
    "            description = ' '.join([str(item) for item in description if item])\n",
    "        elif not isinstance(description, str):\n",
    "            description = ''\n",
    "        brand = data.get('brand', '')\n",
    "        categories = data.get('categories', [])\n",
    "        if isinstance(categories, list):\n",
    "            categories = ' '.join([str(cat) for sublist in categories for cat in sublist if cat])\n",
    "        else:\n",
    "            categories = ''\n",
    "        image_urls = data.get('imageURLHighRes', [])\n",
    "        textual_features = ' '.join([title, description, brand, categories]).strip()\n",
    "        if textual_features and image_urls:\n",
    "            meta_asin_to_data[asin] = {\n",
    "                'textual_features': textual_features,\n",
    "                'imageURLs': image_urls,\n",
    "            }\n",
    "            valid_asins.add(asin)\n",
    "print(f\"Found {len(valid_asins)} items with textual features and image URLs\")\n",
    "print_memory_usage(\"metadata loading\")\n",
    "del data, line\n",
    "gc.collect()\n",
    "\n",
    "# Step 2: Load reviews and include overall rating\n",
    "print(\"Loading reviews...\")\n",
    "chunk_size = 50000\n",
    "all_reviews = []\n",
    "with open(reviews_path, 'r', encoding='utf-8') as f:\n",
    "    reviews_chunk = []\n",
    "    for line in tqdm(f, desc=\"Reading reviews\"):\n",
    "        data = json.loads(line)\n",
    "        asin = data.get('asin')\n",
    "        if asin in valid_asins:\n",
    "            reviews_chunk.append({\n",
    "                'reviewerID': data.get('reviewerID'),\n",
    "                'asin': asin,\n",
    "                'overall': data.get('overall', 0.0),\n",
    "            })\n",
    "        if len(reviews_chunk) >= chunk_size:\n",
    "            df_chunk = pd.DataFrame(reviews_chunk)\n",
    "            reviews_chunk = []  # Clear chunk\n",
    "            # Step 3: Filter users and items with >=5 interactions\n",
    "            user_counts = df_chunk['reviewerID'].value_counts()\n",
    "            item_counts = df_chunk['asin'].value_counts()\n",
    "            df_chunk = df_chunk[\n",
    "                (df_chunk['reviewerID'].isin(user_counts[user_counts >= 5].index)) &\n",
    "                (df_chunk['asin'].isin(item_counts[item_counts >= 5].index))\n",
    "            ]\n",
    "            if not df_chunk.empty:\n",
    "                # Step 4: Merge metadata\n",
    "                df_chunk['textual_features'] = df_chunk['asin'].map(lambda x: meta_asin_to_data[x]['textual_features'])\n",
    "                df_chunk['imageURLs'] = df_chunk['asin'].map(lambda x: meta_asin_to_data[x]['imageURLs'])\n",
    "                all_reviews.extend(df_chunk.to_dict('records'))\n",
    "            del df_chunk, user_counts, item_counts\n",
    "            print_memory_usage(\"processing review chunk\")\n",
    "            gc.collect()\n",
    "    if reviews_chunk:\n",
    "        df_chunk = pd.DataFrame(reviews_chunk)\n",
    "        user_counts = df_chunk['reviewerID'].value_counts()\n",
    "        item_counts = df_chunk['asin'].value_counts()\n",
    "        df_chunk = df_chunk[\n",
    "            (df_chunk['reviewerID'].isin(user_counts[user_counts >= 5].index)) &\n",
    "            (df_chunk['asin'].isin(item_counts[item_counts >= 5].index))\n",
    "        ]\n",
    "        if not df_chunk.empty:\n",
    "            df_chunk['textual_features'] = df_chunk['asin'].map(lambda x: meta_asin_to_data[x]['textual_features'])\n",
    "            df_chunk['imageURLs'] = df_chunk['asin'].map(lambda x: meta_asin_to_data[x]['imageURLs'])\n",
    "            all_reviews.extend(df_chunk.to_dict('records'))\n",
    "        del df_chunk, user_counts, item_counts, reviews_chunk\n",
    "        print_memory_usage(\"processing final review chunk\")\n",
    "        gc.collect()\n",
    "\n",
    "# Build DataFrame\n",
    "print(\"Building DataFrame...\")\n",
    "df = pd.DataFrame(all_reviews)\n",
    "print_memory_usage(\"building DataFrame\")\n",
    "del all_reviews\n",
    "gc.collect()\n",
    "\n",
    "# Step 5: Download one image per item\n",
    "print(\"Downloading one image per item...\")\n",
    "asin_to_image = {}\n",
    "unique_asins = df['asin'].unique()\n",
    "for asin in tqdm(unique_asins, desc=\"Downloading images\"):\n",
    "    urls = meta_asin_to_data[asin]['imageURLs']\n",
    "    image_path, image_url = download_first_image(urls, asin)\n",
    "    if image_path and image_url:\n",
    "        asin_to_image[asin] = {'image_path': image_path, 'image_url': image_url}\n",
    "\n",
    "# Filter DataFrame to keep only items with downloadable images\n",
    "print(\"Filtering items without downloadable images...\")\n",
    "df = df[df['asin'].isin(asin_to_image.keys())].reset_index(drop=True)\n",
    "df['image_path'] = df['asin'].map(lambda x: asin_to_image[x]['image_path'])\n",
    "df['image_url'] = df['asin'].map(lambda x: asin_to_image[x]['image_url'])\n",
    "print(f\"Dataset size after image filtering: {len(df)} samples\")\n",
    "print_memory_usage(\"image downloading and filtering\")\n",
    "del asin_to_image\n",
    "gc.collect()\n",
    "\n",
    "# Verify image storage\n",
    "print(\"Verifying image storage...\")\n",
    "image_count = len([f for f in os.listdir(image_folder) if f.endswith('.jpg')])\n",
    "print(f\"Total images stored: {image_count}\")\n",
    "if image_count == 0:\n",
    "    print(\"Warning: No images were stored. Check image URLs or network connectivity.\")\n",
    "\n",
    "# Step 6: Build user-item interaction dictionary\n",
    "print(\"Building user-item interaction dictionary...\")\n",
    "user_item_dict = defaultdict(list)\n",
    "for idx, row in df.iterrows():\n",
    "    user_item_dict[row['reviewerID']].append(\n",
    "        (row['asin'], row['overall'], row['textual_features'], row['image_path'])\n",
    "    )\n",
    "print_memory_usage(\"building interactions\")\n",
    "gc.collect()\n",
    "\n",
    "# Save processed DataFrame\n",
    "print(f\"Saving processed DataFrame to {output_pickle}...\")\n",
    "df.to_pickle(output_pickle)\n",
    "print_memory_usage(\"saving DataFrame\")\n",
    "gc.collect()\n",
    "\n",
    "# Save user-item interactions\n",
    "print(f\"Saving user-item interactions to {output_interactions}...\")\n",
    "with open(output_interactions, 'wb') as f:\n",
    "    pickle.dump(user_item_dict, f)\n",
    "print_memory_usage(\"saving interactions\")\n",
    "gc.collect()\n",
    "\n",
    "# Create ZIP file of all outputs\n",
    "print(f\"Creating ZIP file: {output_zip}...\")\n",
    "with zipfile.ZipFile(output_zip, 'w', zipfile.ZIP_DEFLATED) as zipf:\n",
    "    for root, _, files in os.walk(image_folder):\n",
    "        for file in files:\n",
    "            file_path = os.path.join(root, file)\n",
    "            arcname = os.path.relpath(file_path, \"/kaggle/working\")\n",
    "            zipf.write(file_path, arcname)\n",
    "            print(f\"Added {arcname} to ZIP\")\n",
    "    \n",
    "    for file in [\"preprocessed_fashion_data.pkl\", \"user_item_interactions.pkl\"]:\n",
    "        file_path = os.path.join(\"/kaggle/working\", file)\n",
    "        arcname = os.path.relpath(file_path, \"/kaggle/working\")\n",
    "        zipf.write(file_path, arcname)\n",
    "        print(f\"Added {arcname} to ZIP\")\n",
    "\n",
    "# Verify ZIP file size\n",
    "zip_size = os.path.getsize(output_zip) / (1024 ** 3)  # Size in GiB\n",
    "print(f\"ZIP file created: {output_zip} (Size: {zip_size:.2f} GiB)\")\n",
    "print(\"You can now download the ZIP file from the Output tab in Kaggle.\")\n",
    "\n",
    "print(f\"✅ Done! Final dataset size: {len(df)} samples, {len(user_item_dict)} users\")"
   ]
  },
  {
   "cell_type": "code",
   "execution_count": null,
   "metadata": {
    "trusted": true
   },
   "outputs": [],
   "source": [
    "import json\n",
    "import pandas as pd\n",
    "import requests\n",
    "import os\n",
    "import io\n",
    "from PIL import Image\n",
    "from tqdm import tqdm\n",
    "import pickle\n",
    "from collections import defaultdict\n",
    "import gc\n",
    "import psutil\n",
    "import random\n",
    "import shutil\n",
    "import zipfile\n",
    "\n",
    "# Paths\n",
    "metadata_path = r\"/kaggle/input/amazon-dataset/meta_Clothing_Shoes_and_Jewelry.json\"\n",
    "reviews_path = r\"/kaggle/input/amazon-dataset/Clothing_Shoes_and_Jewelry.json\"\n",
    "output_pickle = r\"/kaggle/working/preprocessed_fashion_data.pkl\"\n",
    "output_interactions = r\"/kaggle/working/user_item_interactions.pkl\"\n",
    "image_folder = \"/kaggle/working/images\"\n",
    "output_zip = \"/kaggle/working/amazon_fashion_data.zip\"\n",
    "\n",
    "# Clean image folder to free disk space\n",
    "if os.path.exists(image_folder):\n",
    "    shutil.rmtree(image_folder)\n",
    "os.makedirs(image_folder, exist_ok=True)\n",
    "\n",
    "# Helper: Print memory usage\n",
    "def print_memory_usage(step=\"\"):\n",
    "    process = psutil.Process()\n",
    "    mem_info = process.memory_info()\n",
    "    print(f\"Memory usage after {step}: {mem_info.rss / 1024 ** 2:.2f} MB\")\n",
    "\n",
    "# Helper: Download and save image to disk\n",
    "def download_and_save_images(urls, asin, idx):\n",
    "    paths = []\n",
    "    for i, url in enumerate(urls):\n",
    "        try:\n",
    "            response = requests.get(url, timeout=5)\n",
    "            if response.status_code == 200:\n",
    "                img = Image.open(io.BytesIO(response.content))\n",
    "                img.verify()  # Verify image integrity\n",
    "                img_path = os.path.join(image_folder, f\"{asin}_{idx}_{i}.jpg\")\n",
    "                with open(img_path, 'wb') as f:\n",
    "                    f.write(response.content)\n",
    "                paths.append(img_path)\n",
    "        except Exception:\n",
    "            continue\n",
    "    return paths\n",
    "\n",
    "# Load metadata with image and description filtering\n",
    "print(\"Loading metadata...\")\n",
    "meta_asin_to_data = {}\n",
    "valid_asins = set()\n",
    "with open(metadata_path, 'r', encoding='utf-8') as f:\n",
    "    for line in tqdm(f, desc=\"Reading metadata\"):\n",
    "        data = json.loads(line)\n",
    "        asin = data.get('asin')\n",
    "        if not asin:\n",
    "            continue\n",
    "        description = data.get('description', '')\n",
    "        if isinstance(description, list):\n",
    "            description = ' '.join([str(item) for item in description if item])\n",
    "        elif not isinstance(description, str):\n",
    "            description = ''\n",
    "        image_urls = data.get('imageURLHighRes', [])\n",
    "        # Keep items with non-empty description and at least one image URL\n",
    "        if description.strip() and image_urls:\n",
    "            meta_asin_to_data[asin] = {\n",
    "                'title': data.get('title', ''),\n",
    "                'description': description,\n",
    "                'feature': ' '.join(data.get('feature', [])),\n",
    "                'imageURLs': image_urls,\n",
    "            }\n",
    "            valid_asins.add(asin)\n",
    "print(f\"Found {len(valid_asins)} items with description and image URLs\")\n",
    "print_memory_usage(\"metadata loading\")\n",
    "del data, line\n",
    "gc.collect()\n",
    "\n",
    "# Load reviews in chunks, keeping only valid ASINs\n",
    "print(\"Loading reviews...\")\n",
    "chunk_size = 50000\n",
    "all_reviews = []  # Renamed to avoid confusion\n",
    "with open(reviews_path, 'r', encoding='utf-8') as f:\n",
    "    reviews_chunk = []\n",
    "    for line in tqdm(f, desc=\"Reading reviews\"):\n",
    "        data = json.loads(line)\n",
    "        asin = data.get('asin')\n",
    "        if asin in valid_asins:\n",
    "            reviews_chunk.append({\n",
    "                'reviewerID': data.get('reviewerID'),\n",
    "                'asin': asin,\n",
    "                'reviewText': data.get('reviewText', ''),\n",
    "                'summary': data.get('summary', ''),\n",
    "            })\n",
    "        if len(reviews_chunk) >= chunk_size:\n",
    "            df_chunk = pd.DataFrame(reviews_chunk)\n",
    "            reviews_chunk = []  # Clear chunk\n",
    "            # Filter users and items with >=5 interactions\n",
    "            user_counts = df_chunk['reviewerID'].value_counts()\n",
    "            item_counts = df_chunk['asin'].value_counts()\n",
    "            df_chunk = df_chunk[\n",
    "                (df_chunk['reviewerID'].isin(user_counts[user_counts >= 5].index)) &\n",
    "                (df_chunk['asin'].isin(item_counts[item_counts >= 5].index))\n",
    "            ]\n",
    "            if not df_chunk.empty:\n",
    "                # Merge metadata\n",
    "                df_chunk['title'] = df_chunk['asin'].map(lambda x: meta_asin_to_data[x]['title'])\n",
    "                df_chunk['description'] = df_chunk['asin'].map(lambda x: meta_asin_to_data[x]['description'])\n",
    "                df_chunk['feature'] = df_chunk['asin'].map(lambda x: meta_asin_to_data[x]['feature'])\n",
    "                df_chunk['imageURLs'] = df_chunk['asin'].map(lambda x: meta_asin_to_data[x]['imageURLs'])\n",
    "                # Concatenate text\n",
    "                df_chunk['concatenated_text'] = [\n",
    "                    ' '.join([\n",
    "                        row['title'] or '',\n",
    "                        row['description'] or '',\n",
    "                        row['feature'] or '',\n",
    "                        row['summary'] or '',\n",
    "                        row['reviewText'] or ''\n",
    "                    ]) for _, row in df_chunk.iterrows()\n",
    "                ]\n",
    "                all_reviews.extend(df_chunk.to_dict('records'))\n",
    "            del df_chunk, user_counts, item_counts\n",
    "            print_memory_usage(\"processing review chunk\")\n",
    "            gc.collect()\n",
    "    # Process remaining reviews\n",
    "    if reviews_chunk:\n",
    "        df_chunk = pd.DataFrame(reviews_chunk)\n",
    "        user_counts = df_chunk['reviewerID'].value_counts()\n",
    "        item_counts = df_chunk['asin'].value_counts()\n",
    "        df_chunk = df_chunk[\n",
    "            (df_chunk['reviewerID'].isin(user_counts[user_counts >= 5].index)) &\n",
    "            (df_chunk['asin'].isin(item_counts[item_counts >= 5].index))\n",
    "        ]\n",
    "        if not df_chunk.empty:\n",
    "            df_chunk['title'] = df_chunk['asin'].map(lambda x: meta_asin_to_data[x]['title'])\n",
    "            df_chunk['description'] = df_chunk['asin'].map(lambda x: meta_asin_to_data[x]['description'])\n",
    "            df_chunk['feature'] = df_chunk['asin'].map(lambda x: meta_asin_to_data[x]['feature'])\n",
    "            df_chunk['imageURLs'] = df_chunk['asin'].map(lambda x: meta_asin_to_data[x]['imageURLs'])\n",
    "            df_chunk['concatenated_text'] = [\n",
    "                ' '.join([\n",
    "                    row['title'] or '',\n",
    "                    row['description'] or '',\n",
    "                    row['feature'] or '',\n",
    "                    row['summary'] or '',\n",
    "                    row['reviewText'] or ''\n",
    "                ]) for _, row in df_chunk.iterrows()\n",
    "            ]\n",
    "            all_reviews.extend(df_chunk.to_dict('records'))\n",
    "        del df_chunk, user_counts, item_counts, reviews_chunk\n",
    "        print_memory_usage(\"processing final review chunk\")\n",
    "        gc.collect()\n",
    "\n",
    "# Build dataframe\n",
    "print(\"Building dataframe...\")\n",
    "df = pd.DataFrame(all_reviews)\n",
    "print_memory_usage(\"building dataframe\")\n",
    "del all_reviews\n",
    "gc.collect()\n",
    "\n",
    "# Filter to 5000 users and 4000 items\n",
    "print(\"Selecting 5000 users and 4000 items...\")\n",
    "user_counts = df['reviewerID'].value_counts()\n",
    "item_counts = df['asin'].value_counts()\n",
    "valid_users = user_counts[user_counts >= 5].index\n",
    "valid_items = item_counts[item_counts >= 5].index\n",
    "\n",
    "# Randomly sample 5000 users and 4000 items\n",
    "random.seed(42)  # For reproducibility\n",
    "selected_users = random.sample(list(valid_users), min(5000, len(valid_users)))\n",
    "selected_items = random.sample(list(valid_items), min(4000, len(valid_items)))\n",
    "\n",
    "df = df[\n",
    "    (df['reviewerID'].isin(selected_users)) &\n",
    "    (df['asin'].isin(selected_items))\n",
    "].reset_index(drop=True)\n",
    "print_memory_usage(\"user/item filtering\")\n",
    "del user_counts, item_counts, valid_users, valid_items, selected_users, selected_items\n",
    "gc.collect()\n",
    "\n",
    "# Download and save images\n",
    "print(\"Downloading and saving images...\")\n",
    "image_paths = []\n",
    "for idx, (urls, asin) in tqdm(enumerate(zip(df['imageURLs'], df['asin'])), total=len(df)):\n",
    "    paths = download_and_save_images(urls, asin, idx)\n",
    "    image_paths.append(paths)\n",
    "df['image_paths'] = image_paths\n",
    "print_memory_usage(\"image downloading\")\n",
    "gc.collect()\n",
    "\n",
    "# Verify image storage\n",
    "print(\"Verifying image storage...\")\n",
    "image_count = len([f for f in os.listdir(image_folder) if f.endswith('.jpg')])\n",
    "print(f\"Total images stored: {image_count}\")\n",
    "if image_count == 0:\n",
    "    print(\"Warning: No images were stored. Check image URLs or network connectivity.\")\n",
    "\n",
    "# Filter samples with at least one image\n",
    "print(\"Filtering samples without images...\")\n",
    "df = df[df['image_paths'].apply(lambda x: len(x) > 0)].reset_index(drop=True)\n",
    "print(f\"Dataset size after image filtering: {len(df)} samples\")\n",
    "print_memory_usage(\"filtering images\")\n",
    "gc.collect()\n",
    "\n",
    "# Build user-item interaction dictionary\n",
    "print(\"Building user-item interaction dictionary...\")\n",
    "user_item_dict = defaultdict(list)\n",
    "for idx, row in df.iterrows():\n",
    "    user_item_dict[row['reviewerID']].append(\n",
    "        (row['asin'], row['concatenated_text'], row['image_paths'])\n",
    "    )\n",
    "print_memory_usage(\"building interactions\")\n",
    "gc.collect()\n",
    "\n",
    "# Save processed dataframe\n",
    "print(f\"Saving processed dataframe to {output_pickle}...\")\n",
    "df.to_pickle(output_pickle)\n",
    "print_memory_usage(\"saving dataframe\")\n",
    "gc.collect()\n",
    "\n",
    "# Save user-item interactions\n",
    "print(f\"Saving user-item interactions to {output_interactions}...\")\n",
    "with open(output_interactions, 'wb') as f:\n",
    "    pickle.dump(user_item_dict, f)\n",
    "print_memory_usage(\"saving interactions\")\n",
    "gc.collect()\n",
    "\n",
    "# Create ZIP file of all outputs in /kaggle/working\n",
    "print(f\"Creating ZIP file: {output_zip}...\")\n",
    "with zipfile.ZipFile(output_zip, 'w', zipfile.ZIP_DEFLATED) as zipf:\n",
    "    # Add the images folder\n",
    "    for root, _, files in os.walk(image_folder):\n",
    "        for file in files:\n",
    "            file_path = os.path.join(root, file)\n",
    "            arcname = os.path.relpath(file_path, \"/kaggle/working\")\n",
    "            zipf.write(file_path, arcname)\n",
    "            print(f\"Added {arcname} to ZIP\")\n",
    "    \n",
    "    # Add the pickle files\n",
    "    for file in [\"preprocessed_fashion_data.pkl\", \"user_item_interactions.pkl\"]:\n",
    "        file_path = os.path.join(\"/kaggle/working\", file)\n",
    "        arcname = os.path.relpath(file_path, \"/kaggle/working\")\n",
    "        zipf.write(file_path, arcname)\n",
    "        print(f\"Added {arcname} to ZIP\")\n",
    "\n",
    "# Verify ZIP file size\n",
    "zip_size = os.path.getsize(output_zip) / (1024 ** 3)  # Size in GiB\n",
    "print(f\"ZIP file created: {output_zip} (Size: {zip_size:.2f} GiB)\")\n",
    "print(\"You can now download the ZIP file from the Output tab in Kaggle.\")\n",
    "\n",
    "# Optional: Free disk space by deleting images folder\n",
    "# shutil.rmtree(image_folder)\n",
    "# print(\"Deleted images folder to free disk space.\")\n",
    "\n",
    "print(f\"✅ Done! Final dataset size: {len(df)} samples, {len(user_item_dict)} users\")"
   ]
  }
 ],
 "metadata": {
  "kaggle": {
   "accelerator": "none",
   "dataSources": [
    {
     "datasetId": 7246020,
     "sourceId": 11556160,
     "sourceType": "datasetVersion"
    }
   ],
   "dockerImageVersionId": 31011,
   "isGpuEnabled": false,
   "isInternetEnabled": true,
   "language": "python",
   "sourceType": "notebook"
  },
  "kernelspec": {
   "display_name": "Python 3",
   "language": "python",
   "name": "python3"
  },
  "language_info": {
   "codemirror_mode": {
    "name": "ipython",
    "version": 3
   },
   "file_extension": ".py",
   "mimetype": "text/x-python",
   "name": "python",
   "nbconvert_exporter": "python",
   "pygments_lexer": "ipython3",
   "version": "3.11.11"
  }
 },
 "nbformat": 4,
 "nbformat_minor": 4
}
